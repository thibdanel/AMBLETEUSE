{
 "cells": [
  {
   "cell_type": "markdown",
   "metadata": {},
   "source": [
    "## Indexing et Slicing"
   ]
  },
  {
   "cell_type": "markdown",
   "metadata": {},
   "source": [
    "Nous en avons déjà fait, mais formalisons cette méthode et apprenons ensemble quelques astuces !\\\n",
    "<br>\n",
    "Pour accéder à un élément d'une structure ordonnée (liste, tuple, str) selon sa position, on utilise les 'square brackets' `[]` : c'est le slicing.\n",
    "\n",
    "C'est l'une des fonctionnalités les plus puissantes de Python : accéder facilement aux éléments.\n",
    "\n",
    "Pour tout comprendre au slicing : https://www.learnbyexample.org/python-list-slicing/"
   ]
  },
  {
   "cell_type": "code",
   "execution_count": 1,
   "metadata": {
    "ExecuteTime": {
     "end_time": "2022-05-11T07:52:27.741060Z",
     "start_time": "2022-05-11T07:52:27.701898Z"
    }
   },
   "outputs": [
    {
     "data": {
      "text/plain": [
       "[9, 10, 10, 13, 15, 18, 20]"
      ]
     },
     "execution_count": 1,
     "metadata": {},
     "output_type": "execute_result"
    }
   ],
   "source": [
    "sales_per_year = [9, 10, 10, 13, 15, 18, 20]\n",
    "sales_per_year"
   ]
  },
  {
   "cell_type": "code",
   "execution_count": 2,
   "metadata": {
    "ExecuteTime": {
     "end_time": "2022-05-11T07:52:30.444327Z",
     "start_time": "2022-05-11T07:52:30.436979Z"
    }
   },
   "outputs": [
    {
     "data": {
      "text/plain": [
       "9"
      ]
     },
     "execution_count": 2,
     "metadata": {},
     "output_type": "execute_result"
    }
   ],
   "source": [
    "sales_per_year[0]"
   ]
  },
  {
   "cell_type": "markdown",
   "metadata": {},
   "source": [
    "Le slicing peut être plus complexe que simplement choisir un élément. Il est possible d'accéder à certaines parties de sa liste. On utilise la notation `:` pour indiquer un **intervalle** à obtenir : "
   ]
  },
  {
   "cell_type": "code",
   "execution_count": 3,
   "metadata": {
    "ExecuteTime": {
     "end_time": "2022-05-11T07:52:38.558345Z",
     "start_time": "2022-05-11T07:52:38.552635Z"
    }
   },
   "outputs": [
    {
     "data": {
      "text/plain": [
       "[9, 10, 10]"
      ]
     },
     "execution_count": 3,
     "metadata": {},
     "output_type": "execute_result"
    }
   ],
   "source": [
    "sales_per_year[0:3]"
   ]
  },
  {
   "cell_type": "code",
   "execution_count": 4,
   "metadata": {
    "ExecuteTime": {
     "end_time": "2022-05-11T07:52:50.460549Z",
     "start_time": "2022-05-11T07:52:50.453833Z"
    },
    "scrolled": true
   },
   "outputs": [
    {
     "data": {
      "text/plain": [
       "[9, 10, 10]"
      ]
     },
     "execution_count": 4,
     "metadata": {},
     "output_type": "execute_result"
    }
   ],
   "source": [
    "sales_per_year[:3]"
   ]
  },
  {
   "cell_type": "markdown",
   "metadata": {
    "ExecuteTime": {
     "end_time": "2021-01-13T18:20:28.037034Z",
     "start_time": "2021-01-13T18:20:28.033248Z"
    }
   },
   "source": [
    "Attention au décalage : l'indexing commence à 0 en Python, et 'exclut' le dernier élément (quand on demande l'intervalle `[0:3]`, on obtient les valeurs de positions `0`, `1` et `2`)."
   ]
  },
  {
   "cell_type": "markdown",
   "metadata": {},
   "source": [
    "On peut spéficier un troisième nombre, la taille du pas : "
   ]
  },
  {
   "cell_type": "code",
   "execution_count": 5,
   "metadata": {
    "ExecuteTime": {
     "end_time": "2022-05-11T07:53:12.258052Z",
     "start_time": "2022-05-11T07:53:12.252753Z"
    },
    "scrolled": true
   },
   "outputs": [
    {
     "data": {
      "text/plain": [
       "[9, 10, 15]"
      ]
     },
     "execution_count": 5,
     "metadata": {},
     "output_type": "execute_result"
    }
   ],
   "source": [
    "sales_per_year[0:5:2] # La liste originale est [9, 10, 10, 13, 15, 18, 20]"
   ]
  },
  {
   "cell_type": "markdown",
   "metadata": {},
   "source": [
    "On peut également compter et afficher les éléments d'une liste _en partant de la fin_ avec le signe `-` :"
   ]
  },
  {
   "cell_type": "code",
   "execution_count": 6,
   "metadata": {
    "ExecuteTime": {
     "end_time": "2022-05-11T07:53:16.543027Z",
     "start_time": "2022-05-11T07:53:16.533988Z"
    }
   },
   "outputs": [
    {
     "data": {
      "text/plain": [
       "[9, 10, 10, 13, 15, 18, 20]"
      ]
     },
     "execution_count": 6,
     "metadata": {},
     "output_type": "execute_result"
    }
   ],
   "source": [
    "sales_per_year"
   ]
  },
  {
   "cell_type": "code",
   "execution_count": 7,
   "metadata": {
    "ExecuteTime": {
     "end_time": "2022-05-11T07:53:20.312455Z",
     "start_time": "2022-05-11T07:53:20.293734Z"
    }
   },
   "outputs": [
    {
     "data": {
      "text/plain": [
       "20"
      ]
     },
     "execution_count": 7,
     "metadata": {},
     "output_type": "execute_result"
    }
   ],
   "source": [
    "sales_per_year[-1]"
   ]
  },
  {
   "cell_type": "code",
   "execution_count": 8,
   "metadata": {
    "ExecuteTime": {
     "end_time": "2022-05-11T07:53:27.270447Z",
     "start_time": "2022-05-11T07:53:27.263610Z"
    },
    "scrolled": true
   },
   "outputs": [
    {
     "data": {
      "text/plain": [
       "[9, 10, 10, 13]"
      ]
     },
     "execution_count": 8,
     "metadata": {},
     "output_type": "execute_result"
    }
   ],
   "source": [
    "sales_per_year[:-3]"
   ]
  },
  {
   "cell_type": "code",
   "execution_count": 9,
   "metadata": {
    "ExecuteTime": {
     "end_time": "2022-05-11T07:53:37.580548Z",
     "start_time": "2022-05-11T07:53:37.575231Z"
    }
   },
   "outputs": [
    {
     "data": {
      "text/plain": [
       "[15, 18, 20]"
      ]
     },
     "execution_count": 9,
     "metadata": {},
     "output_type": "execute_result"
    }
   ],
   "source": [
    "sales_per_year[-3:]"
   ]
  },
  {
   "cell_type": "markdown",
   "metadata": {},
   "source": [
    "Enfin, quelques astuces : prendre un élément sur 2 et inverser l'ordre d'une liste."
   ]
  },
  {
   "cell_type": "code",
   "execution_count": 10,
   "metadata": {
    "ExecuteTime": {
     "end_time": "2022-05-11T07:53:59.667857Z",
     "start_time": "2022-05-11T07:53:59.662969Z"
    }
   },
   "outputs": [
    {
     "data": {
      "text/plain": [
       "[9, 10, 15, 20]"
      ]
     },
     "execution_count": 10,
     "metadata": {},
     "output_type": "execute_result"
    }
   ],
   "source": [
    "sales_per_year[::2] # Affiche toutes les valeurs avec un pas de 2"
   ]
  },
  {
   "cell_type": "code",
   "execution_count": 11,
   "metadata": {
    "ExecuteTime": {
     "end_time": "2022-05-11T07:54:05.307039Z",
     "start_time": "2022-05-11T07:54:05.300819Z"
    }
   },
   "outputs": [
    {
     "data": {
      "text/plain": [
       "[20, 18, 15, 13, 10, 10, 9]"
      ]
     },
     "execution_count": 11,
     "metadata": {},
     "output_type": "execute_result"
    }
   ],
   "source": [
    "sales_per_year[::-1] # Renverse l'ordre de la liste"
   ]
  },
  {
   "cell_type": "code",
   "execution_count": 12,
   "metadata": {
    "ExecuteTime": {
     "end_time": "2022-05-11T07:54:13.329177Z",
     "start_time": "2022-05-11T07:54:13.323068Z"
    }
   },
   "outputs": [
    {
     "data": {
      "text/plain": [
       "'olleh'"
      ]
     },
     "execution_count": 12,
     "metadata": {},
     "output_type": "execute_result"
    }
   ],
   "source": [
    "word = 'hello'\n",
    "word[::-1]"
   ]
  },
  {
   "cell_type": "markdown",
   "metadata": {},
   "source": [
    "Pour finir, note bonus : la fonction `set()` permet de supprimer les doublons d'une liste."
   ]
  },
  {
   "cell_type": "code",
   "execution_count": 13,
   "metadata": {
    "ExecuteTime": {
     "end_time": "2022-05-11T07:54:19.948202Z",
     "start_time": "2022-05-11T07:54:19.943042Z"
    }
   },
   "outputs": [
    {
     "data": {
      "text/plain": [
       "{9, 10, 13, 15, 18, 20}"
      ]
     },
     "execution_count": 13,
     "metadata": {},
     "output_type": "execute_result"
    }
   ],
   "source": [
    "set(sales_per_year)"
   ]
  },
  {
   "cell_type": "code",
   "execution_count": null,
   "metadata": {},
   "outputs": [],
   "source": []
  }
 ],
 "metadata": {
  "hide_input": false,
  "kernelspec": {
   "display_name": "Python 3 (ipykernel)",
   "language": "python",
   "name": "python3"
  },
  "language_info": {
   "codemirror_mode": {
    "name": "ipython",
    "version": 3
   },
   "file_extension": ".py",
   "mimetype": "text/x-python",
   "name": "python",
   "nbconvert_exporter": "python",
   "pygments_lexer": "ipython3",
   "version": "3.9.7"
  },
  "toc": {
   "base_numbering": 1,
   "nav_menu": {},
   "number_sections": true,
   "sideBar": true,
   "skip_h1_title": false,
   "title_cell": "Table of Contents",
   "title_sidebar": "Contents",
   "toc_cell": false,
   "toc_position": {},
   "toc_section_display": true,
   "toc_window_display": false
  }
 },
 "nbformat": 4,
 "nbformat_minor": 4
}
