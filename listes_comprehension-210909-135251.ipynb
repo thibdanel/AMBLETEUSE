{
 "cells": [
  {
   "cell_type": "markdown",
   "metadata": {},
   "source": [
    "## Listes en compréhension"
   ]
  },
  {
   "cell_type": "markdown",
   "metadata": {},
   "source": [
    "Le moyen le plus utilisé en pratique pour éviter les fréquentes boucles `for` est la \"liste en compréhension\". Cette méthode permet d'alléger la syntaxe des boucles lorsqu'elles restent relativement simples :"
   ]
  },
  {
   "cell_type": "code",
   "execution_count": 7,
   "metadata": {
    "ExecuteTime": {
     "end_time": "2022-05-11T08:00:55.601025Z",
     "start_time": "2022-05-11T08:00:55.597654Z"
    }
   },
   "outputs": [],
   "source": [
    "sales_per_year = [10, -10, 9, 13, 15]"
   ]
  },
  {
   "cell_type": "code",
   "execution_count": 8,
   "metadata": {
    "ExecuteTime": {
     "end_time": "2022-05-11T08:00:56.843166Z",
     "start_time": "2022-05-11T08:00:56.839552Z"
    }
   },
   "outputs": [],
   "source": [
    "def double(x):\n",
    "    return 2 * x"
   ]
  },
  {
   "cell_type": "code",
   "execution_count": 3,
   "metadata": {
    "ExecuteTime": {
     "end_time": "2022-05-11T07:57:18.060197Z",
     "start_time": "2022-05-11T07:57:18.040619Z"
    }
   },
   "outputs": [
    {
     "data": {
      "text/plain": [
       "[20, -20, 18, 26, 30]"
      ]
     },
     "execution_count": 3,
     "metadata": {},
     "output_type": "execute_result"
    }
   ],
   "source": [
    "doubled_list = []\n",
    "for x in sales_per_year:\n",
    "    doubled_list.append( double(x) )\n",
    "doubled_list"
   ]
  },
  {
   "cell_type": "code",
   "execution_count": 4,
   "metadata": {
    "ExecuteTime": {
     "end_time": "2022-05-11T07:57:20.921848Z",
     "start_time": "2022-05-11T07:57:20.915180Z"
    }
   },
   "outputs": [
    {
     "data": {
      "text/plain": [
       "[20, -20, 18, 26, 30]"
      ]
     },
     "execution_count": 4,
     "metadata": {},
     "output_type": "execute_result"
    }
   ],
   "source": [
    "doubled_list = [ double(x) for x in sales_per_year ]\n",
    "doubled_list"
   ]
  },
  {
   "cell_type": "markdown",
   "metadata": {},
   "source": [
    "La syntaxe tient en une ligne !"
   ]
  },
  {
   "cell_type": "markdown",
   "metadata": {},
   "source": [
    "La liste en compréhension peut même inclure une condition. Dans ce cas là, elle joue un rôle de filtre (n'applique l'opération que si la condition est validée)."
   ]
  },
  {
   "cell_type": "code",
   "execution_count": 11,
   "metadata": {
    "ExecuteTime": {
     "end_time": "2022-05-11T08:01:16.652661Z",
     "start_time": "2022-05-11T08:01:16.646355Z"
    }
   },
   "outputs": [
    {
     "data": {
      "text/plain": [
       "True"
      ]
     },
     "execution_count": 11,
     "metadata": {},
     "output_type": "execute_result"
    }
   ],
   "source": [
    "def is_valid_sales(x):\n",
    "    if x >= 0:\n",
    "        return True\n",
    "    else:\n",
    "        return False\n",
    "is_valid_sales(20)"
   ]
  },
  {
   "cell_type": "code",
   "execution_count": 12,
   "metadata": {
    "ExecuteTime": {
     "end_time": "2022-05-11T08:01:18.600615Z",
     "start_time": "2022-05-11T08:01:18.593976Z"
    }
   },
   "outputs": [
    {
     "data": {
      "text/plain": [
       "[20, 18, 26, 30]"
      ]
     },
     "execution_count": 12,
     "metadata": {},
     "output_type": "execute_result"
    }
   ],
   "source": [
    "new = []\n",
    "for x in sales_per_year:\n",
    "    if is_valid_sales(x):\n",
    "        new.append( double(x) )\n",
    "new"
   ]
  },
  {
   "cell_type": "code",
   "execution_count": 13,
   "metadata": {
    "ExecuteTime": {
     "end_time": "2022-05-11T08:01:19.826127Z",
     "start_time": "2022-05-11T08:01:19.818933Z"
    }
   },
   "outputs": [
    {
     "data": {
      "text/plain": [
       "[20, 18, 26, 30]"
      ]
     },
     "execution_count": 13,
     "metadata": {},
     "output_type": "execute_result"
    }
   ],
   "source": [
    "new = [double(x) for x in sales_per_year if is_valid_sales(x)]\n",
    "new"
   ]
  },
  {
   "cell_type": "markdown",
   "metadata": {},
   "source": [
    "Une bonne pratique consiste à utiliser la liste en compréhension dès que possible - sauf pour des boucles trop complexes pour tenir en une ligne. Nous verrons plus tard comment appliquer des fonctions avec cette syntaxe, pour la rendre encore plus puissante !"
   ]
  },
  {
   "cell_type": "code",
   "execution_count": null,
   "metadata": {},
   "outputs": [],
   "source": []
  }
 ],
 "metadata": {
  "hide_input": false,
  "kernelspec": {
   "display_name": "Python 3 (ipykernel)",
   "language": "python",
   "name": "python3"
  },
  "language_info": {
   "codemirror_mode": {
    "name": "ipython",
    "version": 3
   },
   "file_extension": ".py",
   "mimetype": "text/x-python",
   "name": "python",
   "nbconvert_exporter": "python",
   "pygments_lexer": "ipython3",
   "version": "3.9.7"
  },
  "toc": {
   "base_numbering": 1,
   "nav_menu": {},
   "number_sections": true,
   "sideBar": true,
   "skip_h1_title": false,
   "title_cell": "Table of Contents",
   "title_sidebar": "Contents",
   "toc_cell": false,
   "toc_position": {},
   "toc_section_display": true,
   "toc_window_display": false
  }
 },
 "nbformat": 4,
 "nbformat_minor": 4
}
