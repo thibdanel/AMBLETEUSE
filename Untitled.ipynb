{
 "cells": [
  {
   "cell_type": "code",
   "execution_count": 24,
   "id": "bd76ef47",
   "metadata": {},
   "outputs": [
    {
     "name": "stdout",
     "output_type": "stream",
     "text": [
      "4.5\n",
      "-46.0\n",
      "y = -46.0 + 4.5x\n"
     ]
    }
   ],
   "source": [
    ">>> from scipy.stats import linregress\n",
    ">>> x = [34, 35, 39, 42, 43, 47]\n",
    ">>> y = [102, 109, 137, 148, 150, 158]\n",
    ">>> slope = round(linregress(x,y).slope,1)\n",
    "print(slope)\n",
    ">>> intercept = round(linregress(x,y).intercept,1)\n",
    "print(intercept)\n",
    ">>> print(f'y = {intercept} + {slope}x')\n"
   ]
  },
  {
   "cell_type": "code",
   "execution_count": 21,
   "id": "4429b90a",
   "metadata": {},
   "outputs": [
    {
     "name": "stdout",
     "output_type": "stream",
     "text": [
      "LinearRegression()\n",
      "5.0\n",
      "8.0\n",
      "y = 8.0 + 5.0x1 + 2.0x2\n"
     ]
    }
   ],
   "source": [
    ">>> from sklearn.linear_model import LinearRegression\n",
    ">>> x1,x2 = [1,3,2,3,1], [8,4,9,6,3]\n",
    ">>> y = [29,31,36,35,19]\n",
    ">>> reg = LinearRegression()\n",
    "print(reg)\n",
    ">>> reg.fit(list(zip(x1,x2)), y)\n",
    ">>> b1,b2 = reg.coef_[0], reg.coef_[1]\n",
    "print(reg.coef_[0])\n",
    ">>> b0 = reg.intercept_\n",
    "print(b0)\n",
    ">>> print(f\"y = {b0:.{3}} + {b1:.{3}}x1 + {b2:.{3}}x2\")"
   ]
  },
  {
   "cell_type": "code",
   "execution_count": 32,
   "id": "22d67cd1",
   "metadata": {},
   "outputs": [],
   "source": [
    "def find_x(y):\n",
    "    x = (y +46 )/4.5\n",
    "    return(x)\n",
    " "
   ]
  },
  {
   "cell_type": "code",
   "execution_count": 34,
   "id": "a6843d68",
   "metadata": {},
   "outputs": [
    {
     "name": "stdout",
     "output_type": "stream",
     "text": [
      "15.777777777777779\n"
     ]
    }
   ],
   "source": [
    "print(find_x(25))"
   ]
  },
  {
   "cell_type": "code",
   "execution_count": 35,
   "id": "13bcd2cf",
   "metadata": {},
   "outputs": [
    {
     "data": {
      "text/plain": [
       "15.78"
      ]
     },
     "execution_count": 35,
     "metadata": {},
     "output_type": "execute_result"
    }
   ],
   "source": [
    "round(find_x(25), 2)"
   ]
  },
  {
   "cell_type": "code",
   "execution_count": 36,
   "id": "abfa305b",
   "metadata": {},
   "outputs": [
    {
     "name": "stdout",
     "output_type": "stream",
     "text": [
      "1.2195121951219512\n"
     ]
    }
   ],
   "source": [
    "x = 50000/41000\n",
    "print(x)"
   ]
  },
  {
   "cell_type": "code",
   "execution_count": 37,
   "id": "562f7de4",
   "metadata": {},
   "outputs": [
    {
     "data": {
      "text/plain": [
       "50000.0"
      ]
     },
     "execution_count": 37,
     "metadata": {},
     "output_type": "execute_result"
    }
   ],
   "source": [
    "41000 * x\n"
   ]
  },
  {
   "cell_type": "code",
   "execution_count": 38,
   "id": "fabea1ab",
   "metadata": {},
   "outputs": [
    {
     "data": {
      "text/plain": [
       "3231.7073170731705"
      ]
     },
     "execution_count": 38,
     "metadata": {},
     "output_type": "execute_result"
    }
   ],
   "source": [
    "2650 * x"
   ]
  },
  {
   "cell_type": "code",
   "execution_count": 39,
   "id": "bb0d4cb3",
   "metadata": {},
   "outputs": [],
   "source": [
    "text = \"Arnie,est,fantastique\"\n"
   ]
  },
  {
   "cell_type": "code",
   "execution_count": 40,
   "id": "c5819e24",
   "metadata": {},
   "outputs": [
    {
     "name": "stdout",
     "output_type": "stream",
     "text": [
      "Arnie,est,fantastique\n"
     ]
    }
   ],
   "source": [
    "text.replace(',', ' ')\n",
    "print(text)"
   ]
  },
  {
   "cell_type": "code",
   "execution_count": 41,
   "id": "312f459e",
   "metadata": {},
   "outputs": [],
   "source": [
    "text = text.replace(',', ' ')"
   ]
  },
  {
   "cell_type": "code",
   "execution_count": 42,
   "id": "3be60d9e",
   "metadata": {},
   "outputs": [
    {
     "name": "stdout",
     "output_type": "stream",
     "text": [
      "Arnie est fantastique\n"
     ]
    }
   ],
   "source": [
    "print(text)"
   ]
  },
  {
   "cell_type": "code",
   "execution_count": null,
   "id": "c934a349",
   "metadata": {},
   "outputs": [],
   "source": []
  }
 ],
 "metadata": {
  "kernelspec": {
   "display_name": "Python 3 (ipykernel)",
   "language": "python",
   "name": "python3"
  },
  "language_info": {
   "codemirror_mode": {
    "name": "ipython",
    "version": 3
   },
   "file_extension": ".py",
   "mimetype": "text/x-python",
   "name": "python",
   "nbconvert_exporter": "python",
   "pygments_lexer": "ipython3",
   "version": "3.9.7"
  }
 },
 "nbformat": 4,
 "nbformat_minor": 5
}
