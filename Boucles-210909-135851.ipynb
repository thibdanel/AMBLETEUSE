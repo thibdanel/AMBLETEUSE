{
 "cells": [
  {
   "cell_type": "markdown",
   "metadata": {},
   "source": [
    "# Boucle For"
   ]
  },
  {
   "cell_type": "code",
   "execution_count": 1,
   "metadata": {
    "ExecuteTime": {
     "end_time": "2022-05-08T15:44:33.356525Z",
     "start_time": "2022-05-08T15:44:33.333793Z"
    },
    "scrolled": true
   },
   "outputs": [
    {
     "name": "stdout",
     "output_type": "stream",
     "text": [
      "d\n",
      "a\n",
      "t\n",
      "a\n",
      "b\n",
      "i\n",
      "r\n",
      "d\n"
     ]
    }
   ],
   "source": [
    "for lettre in 'databird':\n",
    "    print(lettre)"
   ]
  },
  {
   "cell_type": "code",
   "execution_count": 2,
   "metadata": {
    "ExecuteTime": {
     "end_time": "2022-05-08T15:44:37.602580Z",
     "start_time": "2022-05-08T15:44:37.598538Z"
    }
   },
   "outputs": [],
   "source": [
    "concurrents = [\"Dior\", \"Chanel\", \"Louis Vuitton\"]"
   ]
  },
  {
   "cell_type": "code",
   "execution_count": 3,
   "metadata": {
    "ExecuteTime": {
     "end_time": "2022-05-08T15:44:41.931181Z",
     "start_time": "2022-05-08T15:44:41.924315Z"
    }
   },
   "outputs": [
    {
     "name": "stdout",
     "output_type": "stream",
     "text": [
      "Dior est un concurrent\n",
      "Dior est un concurrent\n",
      "Chanel est un concurrent\n",
      "Chanel est un concurrent\n",
      "Louis Vuitton est un concurrent\n",
      "Louis Vuitton est un concurrent\n"
     ]
    }
   ],
   "source": [
    "for x in concurrents:\n",
    "    print(x, \"est un concurrent\")\n",
    "    print(f\"{x} est un concurrent\")"
   ]
  },
  {
   "cell_type": "markdown",
   "metadata": {},
   "source": [
    "Le `x` utilisé dans la première partie de la boucle `for` est une variable \"muette\", qui prend successivement chacune des valeurs de notre _itérateur_ (ici, la liste `concurrents`).\n",
    "\n",
    "On peut utiliser n'importe quel nom de variable pour boucler - en évitant de prendre un nom déjà utilisé."
   ]
  },
  {
   "cell_type": "code",
   "execution_count": 4,
   "metadata": {
    "ExecuteTime": {
     "end_time": "2022-05-08T15:44:58.721251Z",
     "start_time": "2022-05-08T15:44:58.717048Z"
    }
   },
   "outputs": [
    {
     "name": "stdout",
     "output_type": "stream",
     "text": [
      "Dior est un concurrent\n",
      "Chanel est un concurrent\n",
      "Louis Vuitton est un concurrent\n"
     ]
    }
   ],
   "source": [
    "for nom in concurrents:\n",
    "    print(nom, \"est un concurrent\")"
   ]
  },
  {
   "cell_type": "markdown",
   "metadata": {},
   "source": [
    "Ecrivons une boucle un peu plus complexe, qui contient une opération : compter le nombre d'éléments."
   ]
  },
  {
   "cell_type": "code",
   "execution_count": 5,
   "metadata": {
    "ExecuteTime": {
     "end_time": "2022-05-08T15:45:07.335883Z",
     "start_time": "2022-05-08T15:45:07.317179Z"
    }
   },
   "outputs": [
    {
     "data": {
      "text/plain": [
       "['Dior', 'Chanel', 'Louis Vuitton', 'Hermès', 'Saint-Laurent']"
      ]
     },
     "execution_count": 5,
     "metadata": {},
     "output_type": "execute_result"
    }
   ],
   "source": [
    "concurrents = ['Dior', 'Chanel', 'Louis Vuitton', 'Hermès', 'Saint-Laurent']\n",
    "concurrents"
   ]
  },
  {
   "cell_type": "code",
   "execution_count": 7,
   "metadata": {
    "ExecuteTime": {
     "end_time": "2022-05-08T15:45:36.813883Z",
     "start_time": "2022-05-08T15:45:36.806380Z"
    }
   },
   "outputs": [
    {
     "name": "stdout",
     "output_type": "stream",
     "text": [
      "Dior\n",
      "Chanel\n",
      "Louis Vuitton\n",
      "Hermès\n",
      "Saint-Laurent\n",
      "5\n"
     ]
    }
   ],
   "source": [
    "nombre_concurrents = 0 # on crée un compteur initialisé à 0\n",
    "\n",
    "for concurrent in concurrents:\n",
    "    print(concurrent)\n",
    "    nombre_concurrents = nombre_concurrents + 1\n",
    "print(nombre_concurrents)"
   ]
  },
  {
   "cell_type": "code",
   "execution_count": 8,
   "metadata": {
    "ExecuteTime": {
     "end_time": "2022-05-08T15:45:49.190632Z",
     "start_time": "2022-05-08T15:45:49.186441Z"
    }
   },
   "outputs": [
    {
     "name": "stdout",
     "output_type": "stream",
     "text": [
      "On a 5 concurrents\n"
     ]
    }
   ],
   "source": [
    "print('On a', nombre_concurrents, 'concurrents')\n",
    "#print(f'On a {nombre_concurrents} concurrents')"
   ]
  },
  {
   "cell_type": "code",
   "execution_count": null,
   "metadata": {},
   "outputs": [],
   "source": []
  },
  {
   "cell_type": "markdown",
   "metadata": {},
   "source": [
    "> Remarque: il existe déjà une fonction `len` pour le connaître le nombre d'éléments dans un itérateur ! (liste chaîne de caractères)"
   ]
  },
  {
   "cell_type": "code",
   "execution_count": 9,
   "metadata": {
    "ExecuteTime": {
     "end_time": "2022-05-08T15:46:02.047071Z",
     "start_time": "2022-05-08T15:46:02.042186Z"
    }
   },
   "outputs": [
    {
     "data": {
      "text/plain": [
       "5"
      ]
     },
     "execution_count": 9,
     "metadata": {},
     "output_type": "execute_result"
    }
   ],
   "source": [
    "len(concurrents)"
   ]
  },
  {
   "cell_type": "code",
   "execution_count": 10,
   "metadata": {
    "ExecuteTime": {
     "end_time": "2022-05-08T15:46:05.076593Z",
     "start_time": "2022-05-08T15:46:05.071781Z"
    }
   },
   "outputs": [
    {
     "data": {
      "text/plain": [
       "8"
      ]
     },
     "execution_count": 10,
     "metadata": {},
     "output_type": "execute_result"
    }
   ],
   "source": [
    "texte = 'DataBird'\n",
    "len(texte)"
   ]
  },
  {
   "cell_type": "markdown",
   "metadata": {},
   "source": [
    "Enfin, la fonction `range` permet d'effectuer une boucle for pour un nombre d'itérations défini à l'avance:"
   ]
  },
  {
   "cell_type": "code",
   "execution_count": 11,
   "metadata": {
    "ExecuteTime": {
     "end_time": "2022-05-08T15:46:12.927921Z",
     "start_time": "2022-05-08T15:46:12.923738Z"
    }
   },
   "outputs": [
    {
     "name": "stdout",
     "output_type": "stream",
     "text": [
      "0\n",
      "1\n",
      "2\n",
      "3\n"
     ]
    }
   ],
   "source": [
    "for i in range(4):\n",
    "    print(i)"
   ]
  },
  {
   "cell_type": "code",
   "execution_count": 12,
   "metadata": {
    "ExecuteTime": {
     "end_time": "2022-05-08T15:46:21.469144Z",
     "start_time": "2022-05-08T15:46:21.463868Z"
    }
   },
   "outputs": [
    {
     "data": {
      "text/plain": [
       "[0, 1, 2, 3]"
      ]
     },
     "execution_count": 12,
     "metadata": {},
     "output_type": "execute_result"
    }
   ],
   "source": [
    "list(range(4))"
   ]
  },
  {
   "cell_type": "markdown",
   "metadata": {},
   "source": [
    "> Attention : Python commence à compter à 0 ! `range(n)` donne donc les valeur de `0` à `n-1`."
   ]
  },
  {
   "cell_type": "code",
   "execution_count": 13,
   "metadata": {
    "ExecuteTime": {
     "end_time": "2022-05-08T15:46:33.102079Z",
     "start_time": "2022-05-08T15:46:33.095940Z"
    },
    "scrolled": false
   },
   "outputs": [
    {
     "name": "stdout",
     "output_type": "stream",
     "text": [
      "0\n",
      "3\n",
      "6\n",
      "9\n"
     ]
    }
   ],
   "source": [
    "for i in range(4):\n",
    "    print(3 * i)"
   ]
  },
  {
   "cell_type": "markdown",
   "metadata": {},
   "source": [
    "# Boucle While"
   ]
  },
  {
   "cell_type": "markdown",
   "metadata": {},
   "source": [
    "La boucle `while` répète une action tant qu'une condition est remplie."
   ]
  },
  {
   "cell_type": "code",
   "execution_count": 14,
   "metadata": {
    "ExecuteTime": {
     "end_time": "2022-05-08T15:46:57.467852Z",
     "start_time": "2022-05-08T15:46:57.461623Z"
    }
   },
   "outputs": [
    {
     "name": "stdout",
     "output_type": "stream",
     "text": [
      "1\n",
      "2\n",
      "3\n",
      "4\n",
      "5\n",
      "6\n",
      "7\n",
      "8\n",
      "9\n",
      "10\n",
      "Les revenus sont de :  100 €\n"
     ]
    }
   ],
   "source": [
    "revenus = 0\n",
    "nb_ventes = 0\n",
    "\n",
    "while nb_ventes < 10:\n",
    "    nb_ventes = nb_ventes + 1\n",
    "    print(nb_ventes)\n",
    "    revenus += 10 # équivalent à revenus = revenus + 10\n",
    "\n",
    "print(\"Les revenus sont de : \", revenus, \"€\")"
   ]
  },
  {
   "cell_type": "code",
   "execution_count": 15,
   "metadata": {
    "ExecuteTime": {
     "end_time": "2022-05-08T15:47:29.727115Z",
     "start_time": "2022-05-08T15:47:29.722681Z"
    }
   },
   "outputs": [
    {
     "name": "stdout",
     "output_type": "stream",
     "text": [
      "Les revenus sont de : 100€\n"
     ]
    }
   ],
   "source": [
    "# ou\n",
    "print(f\"Les revenus sont de : {revenus}€\")"
   ]
  },
  {
   "cell_type": "markdown",
   "metadata": {},
   "source": [
    "Ici, à chaque itération de la boucle les revenus augmentent de 10 et le compteur de ventes augmente de 1, jusqu'à ce qu'il atteigne 10.\n",
    "\n",
    "L'opérateur logique est ici exclusif : `<` et non `<=`. Lorsque le nombre de ventes est de 10, la condition n'est plus vérifiée, le contenu de la boucle n'est donc pas lu, on passe aux instructions suivantes.\n",
    "\n",
    "(Plus sur les opérateurs logiques bientôt !)"
   ]
  },
  {
   "cell_type": "code",
   "execution_count": null,
   "metadata": {},
   "outputs": [],
   "source": []
  }
 ],
 "metadata": {
  "hide_input": false,
  "kernelspec": {
   "display_name": "Python 3 (ipykernel)",
   "language": "python",
   "name": "python3"
  },
  "language_info": {
   "codemirror_mode": {
    "name": "ipython",
    "version": 3
   },
   "file_extension": ".py",
   "mimetype": "text/x-python",
   "name": "python",
   "nbconvert_exporter": "python",
   "pygments_lexer": "ipython3",
   "version": "3.9.7"
  },
  "toc": {
   "base_numbering": 1,
   "nav_menu": {},
   "number_sections": true,
   "sideBar": true,
   "skip_h1_title": false,
   "title_cell": "Table of Contents",
   "title_sidebar": "Contents",
   "toc_cell": false,
   "toc_position": {},
   "toc_section_display": true,
   "toc_window_display": false
  },
  "varInspector": {
   "cols": {
    "lenName": 16,
    "lenType": 16,
    "lenVar": 40
   },
   "kernels_config": {
    "python": {
     "delete_cmd_postfix": "",
     "delete_cmd_prefix": "del ",
     "library": "var_list.py",
     "varRefreshCmd": "print(var_dic_list())"
    },
    "r": {
     "delete_cmd_postfix": ") ",
     "delete_cmd_prefix": "rm(",
     "library": "var_list.r",
     "varRefreshCmd": "cat(var_dic_list()) "
    }
   },
   "types_to_exclude": [
    "module",
    "function",
    "builtin_function_or_method",
    "instance",
    "_Feature"
   ],
   "window_display": false
  }
 },
 "nbformat": 4,
 "nbformat_minor": 2
}
