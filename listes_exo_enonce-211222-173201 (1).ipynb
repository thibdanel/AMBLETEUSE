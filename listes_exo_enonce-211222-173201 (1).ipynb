{
 "cells": [
  {
   "cell_type": "markdown",
   "metadata": {},
   "source": [
    "# Manipulation de données avec Python – Exercices"
   ]
  },
  {
   "cell_type": "markdown",
   "metadata": {},
   "source": [
    "Pour tous les exercices, le niveau de difficulté est indiqué par le code suivant :\n",
    "* \\* niveau facile\n",
    "* \\** niveau intermédiaire\n",
    "* \\*** niveau difficile\n",
    "\n",
    "* **@** indique les exercices pour lesquels vous aurez besoin de chercher sur internet pour trouver des pistes de solution ou des exemples de code.\n",
    "\n",
    "_Note : Pour faciliter la navigation dans les exercices, n'hésitez pas à activer l'extension \"Table of Contents\", après avoir installé les extensions de notebook `jupyter_contrib_nbextensions` (voir PDF sur la plateforme)._"
   ]
  },
  {
   "cell_type": "markdown",
   "metadata": {},
   "source": [
    "## Listes"
   ]
  },
  {
   "cell_type": "markdown",
   "metadata": {},
   "source": [
    "### Exercice 1 - Insérer un élément dans une liste (*, @)\n",
    "\n",
    "Ecrire un programme Python pour insérer un élément à une position souhaitée dans une liste."
   ]
  },
  {
   "cell_type": "code",
   "execution_count": 184,
   "metadata": {
    "ExecuteTime": {
     "end_time": "2022-05-13T07:17:25.748649Z",
     "start_time": "2022-05-13T07:17:25.742539Z"
    }
   },
   "outputs": [],
   "source": [
    "competitors = [\"Puma\", 'Under Armour', 'Adidas'] # insérer \"Reebok\" en position 2"
   ]
  },
  {
   "cell_type": "code",
   "execution_count": 188,
   "metadata": {
    "ExecuteTime": {
     "end_time": "2022-05-13T07:17:52.249240Z",
     "start_time": "2022-05-13T07:17:52.229921Z"
    }
   },
   "outputs": [
    {
     "data": {
      "text/plain": [
       "['Puma', 'Reebok', 'Reebok', 'Reebok', 'Under Armour', 'Adidas']"
      ]
     },
     "execution_count": 188,
     "metadata": {},
     "output_type": "execute_result"
    }
   ],
   "source": [
    "competitors.insert(1, 'Reebok')\n",
    "competitors"
   ]
  },
  {
   "cell_type": "markdown",
   "metadata": {},
   "source": [
    "### Exercice 2 - Mélanger une liste  (*, @)\n",
    "\n",
    "Ecrire un programme Python pour mélanger puis afficher une liste donnée.\n",
    "\n",
    "_Indice : regarder la documentation du package `random`._"
   ]
  },
  {
   "cell_type": "code",
   "execution_count": 190,
   "metadata": {
    "ExecuteTime": {
     "end_time": "2022-05-13T07:18:19.308728Z",
     "start_time": "2022-05-13T07:18:19.299701Z"
    }
   },
   "outputs": [],
   "source": [
    "color = ['Red', 'Green', 'White', 'Black', 'Pink', 'Yellow']"
   ]
  },
  {
   "cell_type": "code",
   "execution_count": 206,
   "metadata": {
    "ExecuteTime": {
     "end_time": "2022-05-13T07:18:35.613710Z",
     "start_time": "2022-05-13T07:18:35.606355Z"
    }
   },
   "outputs": [
    {
     "name": "stdout",
     "output_type": "stream",
     "text": [
      "['Green', 'White', 'Pink', 'Red', 'Yellow', 'Black']\n"
     ]
    }
   ],
   "source": [
    "import random\n",
    "random.shuffle(color)\n",
    "print(color)"
   ]
  },
  {
   "cell_type": "markdown",
   "metadata": {},
   "source": [
    "### Exercice 3 - Compter les éléments d'une liste (**, @)\n",
    "\n",
    "Ecrire un programme Python pour compter la fréquence des éléments dans une liste (le nombre de fois que chaque élément apparaît).\n",
    "\n",
    "_Indice : utiliser une boucle ou regarder le package `collections`._"
   ]
  },
  {
   "cell_type": "code",
   "execution_count": 209,
   "metadata": {
    "ExecuteTime": {
     "end_time": "2022-05-13T07:19:55.988862Z",
     "start_time": "2022-05-13T07:19:55.984376Z"
    }
   },
   "outputs": [],
   "source": [
    "test_list = ['a', 'a', 'e', 'z', '']\n",
    "compte = {}"
   ]
  },
  {
   "cell_type": "code",
   "execution_count": 210,
   "metadata": {
    "ExecuteTime": {
     "end_time": "2022-05-13T07:19:57.005943Z",
     "start_time": "2022-05-13T07:19:56.996403Z"
    }
   },
   "outputs": [
    {
     "data": {
      "text/plain": [
       "{'a': 2, 'e': 1, 'z': 1, '': 1}"
      ]
     },
     "execution_count": 210,
     "metadata": {},
     "output_type": "execute_result"
    }
   ],
   "source": [
    "for i in test_list:\n",
    "    if i not in compte:\n",
    "        compte[i] = 1\n",
    "    else: compte[i] += 1\n",
    "compte"
   ]
  },
  {
   "cell_type": "code",
   "execution_count": 218,
   "metadata": {
    "ExecuteTime": {
     "end_time": "2022-05-13T07:21:15.966584Z",
     "start_time": "2022-05-13T07:21:15.961400Z"
    }
   },
   "outputs": [
    {
     "data": {
      "text/plain": [
       "Counter({'a': 2, 'e': 1, 'z': 1, '': 1})"
      ]
     },
     "execution_count": 218,
     "metadata": {},
     "output_type": "execute_result"
    }
   ],
   "source": [
    "from collections import Counter\n",
    "Counter(test_list)"
   ]
  },
  {
   "cell_type": "markdown",
   "metadata": {},
   "source": [
    "## Tuples"
   ]
  },
  {
   "cell_type": "markdown",
   "metadata": {},
   "source": [
    "### Exercice 1 - Inclusion dans un tuple (*, @)\n",
    "\n",
    "Ecrire une ligne de Python pour vérifier si un élément donné est présent dans un tuple."
   ]
  },
  {
   "cell_type": "code",
   "execution_count": 220,
   "metadata": {
    "ExecuteTime": {
     "end_time": "2022-05-13T07:21:37.400769Z",
     "start_time": "2022-05-13T07:21:37.394857Z"
    }
   },
   "outputs": [],
   "source": [
    "example_tuple = (\"bonjour\", False, \"4444\", 123456, \"sieste\")\n",
    "element_a_tester = \"bonjour\""
   ]
  },
  {
   "cell_type": "code",
   "execution_count": 221,
   "metadata": {
    "ExecuteTime": {
     "end_time": "2022-05-13T07:21:39.353322Z",
     "start_time": "2022-05-13T07:21:39.348421Z"
    }
   },
   "outputs": [
    {
     "data": {
      "text/plain": [
       "True"
      ]
     },
     "execution_count": 221,
     "metadata": {},
     "output_type": "execute_result"
    }
   ],
   "source": [
    "element_a_tester in example_tuple"
   ]
  },
  {
   "cell_type": "markdown",
   "metadata": {},
   "source": [
    "### Bonus: Exercice 2 - Classer des tuples (***, @)\n",
    "\n",
    "Ecrire un programme Python pour classer la liste de tuples ci-dessous par ordre décroissant, en fonction du chiffre présent dans chaque tuple.\n",
    "\n",
    "Le résultat doit être : `[('oranges', 5), ('strawberry', 4), ('apples', 2)]`.\n",
    "\n",
    "_Indice : lire la documentation de la fonction  `sorted()`._"
   ]
  },
  {
   "cell_type": "code",
   "execution_count": 236,
   "metadata": {
    "ExecuteTime": {
     "end_time": "2022-05-13T07:24:04.888501Z",
     "start_time": "2022-05-13T07:24:04.884138Z"
    }
   },
   "outputs": [],
   "source": [
    "test_list = [('oranges', 5), ('apples', 2), ('strawberry', 4)]"
   ]
  },
  {
   "cell_type": "code",
   "execution_count": 245,
   "metadata": {
    "ExecuteTime": {
     "end_time": "2022-05-13T07:24:23.633741Z",
     "start_time": "2022-05-13T07:24:23.626086Z"
    }
   },
   "outputs": [
    {
     "data": {
      "text/plain": [
       "[('oranges', 5), ('strawberry', 4), ('apples', 2)]"
      ]
     },
     "execution_count": 245,
     "metadata": {},
     "output_type": "execute_result"
    }
   ],
   "source": [
    "test_list = sorted(test_list, key = lambda x: x[1], reverse = True)\n",
    "test_list"
   ]
  },
  {
   "cell_type": "markdown",
   "metadata": {},
   "source": [
    "## Dictionnaires"
   ]
  },
  {
   "cell_type": "markdown",
   "metadata": {},
   "source": [
    "### Exercice 1 - Concaténer des dictionnaires (*, @)\n",
    "\n",
    "Ecrire un script Python pour concaténer les dictionnaires suivants dans un nouveau dictionnaire.\n",
    "\n",
    "_Indice : utiliser une boucle._"
   ]
  },
  {
   "cell_type": "code",
   "execution_count": 260,
   "metadata": {
    "ExecuteTime": {
     "end_time": "2022-05-13T07:29:19.950896Z",
     "start_time": "2022-05-13T07:29:19.943417Z"
    }
   },
   "outputs": [],
   "source": [
    "dic1 = {1: 10, 2: 20}\n",
    "dic2 = {3: 30, 4: 40}\n",
    "dic3 = {5: 50, 6: 60}"
   ]
  },
  {
   "cell_type": "code",
   "execution_count": 248,
   "metadata": {
    "ExecuteTime": {
     "end_time": "2022-05-13T07:25:19.702655Z",
     "start_time": "2022-05-13T07:25:19.694928Z"
    }
   },
   "outputs": [
    {
     "data": {
      "text/plain": [
       "{1: 10, 2: 20, 3: 30, 4: 40, 5: 50, 6: 60}"
      ]
     },
     "execution_count": 248,
     "metadata": {},
     "output_type": "execute_result"
    }
   ],
   "source": [
    "concat = {}\n",
    "\n",
    "for i in [dic1, dic2, dic3]:\n",
    "    concat.update(i)\n",
    "concat"
   ]
  },
  {
   "cell_type": "code",
   "execution_count": 261,
   "metadata": {
    "ExecuteTime": {
     "end_time": "2022-05-13T07:29:21.128271Z",
     "start_time": "2022-05-13T07:29:21.117559Z"
    }
   },
   "outputs": [
    {
     "data": {
      "text/plain": [
       "{3: 30, 4: 40, 1: 10, 2: 20, 5: 50, 6: 60}"
      ]
     },
     "execution_count": 261,
     "metadata": {},
     "output_type": "execute_result"
    }
   ],
   "source": [
    "for key, value in dic1.items():\n",
    "    dic2[key] = value\n",
    "for k, v in dic3.items():\n",
    "    dic2[k] = v\n",
    "dic2"
   ]
  },
  {
   "cell_type": "markdown",
   "metadata": {},
   "source": [
    "### Exercice 2 – Supprimer les doublons d'un dictionaire (**)\n",
    "\n",
    "Ecrire un programme Python pour supprimer les doublons d'un dictionnaire.\n",
    "\n",
    "_Indice : Utiliser une boucle. Noter que dans le dictionnaire ci-dessous, chaque valeur est elle-même un dictionnaire._"
   ]
  },
  {
   "cell_type": "code",
   "execution_count": 262,
   "metadata": {
    "ExecuteTime": {
     "end_time": "2022-05-13T07:30:05.996247Z",
     "start_time": "2022-05-13T07:30:05.977121Z"
    },
    "code_folding": []
   },
   "outputs": [],
   "source": [
    "student_data = {'id1': \n",
    "   {'nom': ['Sarah'], \n",
    "    'classe': ['A'], \n",
    "    'matières': ['Anglais, Mathématiques, Physique']\n",
    "   },\n",
    " 'id2': \n",
    "  {'nom': ['David'], \n",
    "    'classe': ['A'], \n",
    "    'matières': ['Français, Mathématiques, Python']\n",
    "   },\n",
    " 'id3': \n",
    "    {'nom': ['Sarah'], \n",
    "    'classe': ['A'], \n",
    "    'matières': ['Anglais, Mathématiques, Physique']\n",
    "   },\n",
    " 'id4': \n",
    "   {'nom': ['Manon'], \n",
    "    'classe': ['A'], \n",
    "    'matières': ['SQL, Mathématiques, Excel']\n",
    "   },\n",
    "}"
   ]
  },
  {
   "cell_type": "code",
   "execution_count": 340,
   "metadata": {
    "ExecuteTime": {
     "end_time": "2022-05-16T17:31:49.355825Z",
     "start_time": "2022-05-16T17:31:49.335494Z"
    }
   },
   "outputs": [
    {
     "name": "stdout",
     "output_type": "stream",
     "text": [
      "{'id1': {'nom': ['Sarah'], 'classe': ['A'], 'matières': ['Anglais, Mathématiques, Physique']}, 'id2': {'nom': ['David'], 'classe': ['A'], 'matières': ['Français, Mathématiques, Python']}, 'id4': {'nom': ['Manon'], 'classe': ['A'], 'matières': ['SQL, Mathématiques, Excel']}}\n"
     ]
    }
   ],
   "source": [
    "new = {}\n",
    "for key, value in student_data.items():\n",
    "    if value not in new.values():\n",
    "        new[key] = value\n",
    "print(new)"
   ]
  },
  {
   "cell_type": "markdown",
   "metadata": {},
   "source": [
    "### Exercice 3 - Sommer les valeurs d'un dictionnaire (**)\n",
    "\n",
    "Ecrire un programme Python pour ajouter dans chaque dictionnaire ci-dessous une nouvelle clé, correspondant à la somme des valeurs 'A' et 'B'.\n",
    "\n",
    "_Indice : Vous aurez besoin d'une boucle. Une fois la boucle testée, une bonne pratique consiste à regrouper votre code à l'intérieur d'une fonction._"
   ]
  },
  {
   "cell_type": "code",
   "execution_count": 349,
   "metadata": {
    "ExecuteTime": {
     "end_time": "2022-05-16T17:35:31.279364Z",
     "start_time": "2022-05-16T17:35:31.274642Z"
    }
   },
   "outputs": [],
   "source": [
    "student_details = [\n",
    "      {'id' : 1, 'matière' : 'coding', 'A' : 70, 'B' : 82},\n",
    "      {'id' : 2, 'matière' : 'coding', 'A' : 73, 'B' : 74},\n",
    "      {'id' : 3, 'matière' : 'coding', 'A' : 75, 'B' : 86}\n",
    "    ]"
   ]
  },
  {
   "cell_type": "code",
   "execution_count": 361,
   "metadata": {
    "ExecuteTime": {
     "end_time": "2022-05-16T17:35:52.089215Z",
     "start_time": "2022-05-16T17:35:52.084092Z"
    }
   },
   "outputs": [
    {
     "name": "stdout",
     "output_type": "stream",
     "text": [
      "[{'id': 1, 'matière': 'coding', 'A': 70, 'B': 82, 'Somme AB': 152}, {'id': 2, 'matière': 'coding', 'A': 73, 'B': 74, 'Somme AB': 147}, {'id': 3, 'matière': 'coding', 'A': 75, 'B': 86, 'Somme AB': 161}]\n"
     ]
    }
   ],
   "source": [
    "for i in student_details:\n",
    "    i['Somme AB'] = i['A'] + i['B']\n",
    "print(student_details)"
   ]
  },
  {
   "cell_type": "markdown",
   "metadata": {},
   "source": [
    "## Strings"
   ]
  },
  {
   "cell_type": "markdown",
   "metadata": {},
   "source": [
    "### Exercice 1 - Formater un pourcentage (*, @)\n",
    "\n",
    "Ecrire une ligne de Python pour formater un nombre avec un %.\n",
    "\n",
    "_Indice : se rappeler de la syntaxe du formatage de strings._"
   ]
  },
  {
   "cell_type": "code",
   "execution_count": 282,
   "metadata": {
    "ExecuteTime": {
     "end_time": "2022-05-13T07:38:10.812798Z",
     "start_time": "2022-05-13T07:38:10.807726Z"
    },
    "code_folding": [
     3
    ]
   },
   "outputs": [],
   "source": [
    "test_x = 0.25\n",
    "test_y = -0.37"
   ]
  },
  {
   "cell_type": "code",
   "execution_count": 284,
   "metadata": {
    "ExecuteTime": {
     "end_time": "2022-05-13T07:38:32.268342Z",
     "start_time": "2022-05-13T07:38:32.244704Z"
    }
   },
   "outputs": [
    {
     "name": "stdout",
     "output_type": "stream",
     "text": [
      " 25.0%\n"
     ]
    }
   ],
   "source": [
    "print(f'{test_x: .1%}')"
   ]
  },
  {
   "cell_type": "markdown",
   "metadata": {},
   "source": [
    "### Exercice 2 – L'Alpha et l'Omega (**, @)\n",
    "\n",
    "Ecrire un programme Python qui mette en majuscules la première et la dernière lettre de chaque mot d'une chaîne de caractères. \n",
    "\n",
    "_Indice : Il faudra utiliser plusieurs string methods._"
   ]
  },
  {
   "cell_type": "code",
   "execution_count": 338,
   "metadata": {
    "ExecuteTime": {
     "end_time": "2022-05-16T17:13:04.063303Z",
     "start_time": "2022-05-16T17:13:04.057436Z"
    },
    "code_folding": []
   },
   "outputs": [],
   "source": [
    "test_string_1 = \"portez ce vieux whisky au juge blond qui fume\"\n",
    "test_string_2 = \"the quick brown fox jumps over the lazy dog\""
   ]
  },
  {
   "cell_type": "code",
   "execution_count": 339,
   "metadata": {
    "ExecuteTime": {
     "end_time": "2022-05-16T17:13:05.705333Z",
     "start_time": "2022-05-16T17:13:05.691771Z"
    }
   },
   "outputs": [
    {
     "name": "stdout",
     "output_type": "stream",
     "text": [
      "PorteZ CE VieuX WhiskY AU JugE BlonD QuI FumE \n"
     ]
    }
   ],
   "source": [
    "test_string_1 = test_string_1.title().split(\" \")\n",
    "test_string_1\n",
    "new = \"\"\n",
    "for i in test_string_1:\n",
    "    new += i[:-1] + i[-1].upper() + \" \"\n",
    "print(new)\n"
   ]
  },
  {
   "cell_type": "markdown",
   "metadata": {},
   "source": [
    "### Bonus: Exercice 3 - Analyser un texte (**)\n",
    "\n",
    "Ecrire un script Python qui découpe un long texte en une liste de mots individuels, puis calcule la fréquence d'apparition de chaque mot.\n",
    "\n",
    "_Indice : en bonus, il est possible (mais pas obligatoire dans cet exercice) de nettoyer le texte avec d'autres string methods pour éviter les doublons._"
   ]
  },
  {
   "cell_type": "code",
   "execution_count": null,
   "metadata": {
    "ExecuteTime": {
     "end_time": "2020-06-08T08:59:58.993629Z",
     "start_time": "2020-06-08T08:59:58.947171Z"
    }
   },
   "outputs": [],
   "source": [
    "texte = '''United States Declaration of Independence\n",
    "From Wikipedia, the free encyclopedia\n",
    "The United States Declaration of Independence is the statement\n",
    "adopted by the Second Continental Congress meeting at the Pennsylvania State\n",
    "House (Independence Hall) in Philadelphia on July 4, 1776, which announced\n",
    "that the thirteen American colonies, then at war with the Kingdom of Great\n",
    "Britain, regarded themselves as thirteen independent sovereign states, no longer\n",
    "under British rule. These states would found a new nation – the United States of\n",
    "America. John Adams was a leader in pushing for independence, which was passed\n",
    "on July 2 with no opposing vote cast. A committee of five had already drafted the\n",
    "formal declaration, to be ready when Congress voted on independence.\n",
    "\n",
    "John Adams persuaded the committee to select Thomas Jefferson to compose the original\n",
    "draft of the document, which Congress would edit to produce the final version.\n",
    "The Declaration was ultimately a formal explanation of why Congress had voted on July\n",
    "2 to declare independence from Great Britain, more than a year after the outbreak of\n",
    "the American Revolutionary War. The next day, Adams wrote to his wife Abigail: \"The\n",
    "Second Day of July 1776, will be the most memorable Epocha, in the History of America.\"\n",
    "But Independence Day is actually celebrated on July 4, the date that the Declaration of\n",
    "Independence was approved.\n",
    "\n",
    "After ratifying the text on July 4, Congress issued the Declaration of Independence in\n",
    "several forms. It was initially published as the printed Dunlap broadside that was widely\n",
    "distributed and read to the public. The source copy used for this printing has been lost,\n",
    "and may have been a copy in Thomas Jefferson's hand.[5] Jefferson's original draft, complete\n",
    "with changes made by John Adams and Benjamin Franklin, and Jefferson's notes of changes made\n",
    "by Congress, are preserved at the Library of Congress. The best-known version of the Declaration\n",
    "is a signed copy that is displayed at the National Archives in Washington, D.C., and which is\n",
    "popularly regarded as the official document. This engrossed copy was ordered by Congress on\n",
    "July 19 and signed primarily on August 2.\n",
    "\n",
    "The sources and interpretation of the Declaration have been the subject of much scholarly inquiry.\n",
    "The Declaration justified the independence of the United States by listing colonial grievances against\n",
    "King George III, and by asserting certain natural and legal rights, including a right of revolution.\n",
    "Having served its original purpose in announcing independence, references to the text of the\n",
    "Declaration were few in the following years. Abraham Lincoln made it the centerpiece of his rhetoric\n",
    "(as in the Gettysburg Address of 1863) and his policies. Since then, it has become a well-known statement\n",
    "on human rights, particularly its second sentence:\n",
    "\n",
    "We hold these truths to be self-evident, that all men are created equal, that they are endowed by their\n",
    "Creator with certain unalienable Rights, that among these are Life, Liberty and the pursuit of Happiness.\n",
    "\n",
    "This has been called \"one of the best-known sentences in the English language\", containing \"the most potent\n",
    "and consequential words in American history\". The passage came to represent a moral standard to which\n",
    "the United States should strive. This view was notably promoted by Abraham Lincoln, who considered the\n",
    "Declaration to be the foundation of his political philosophy and argued that it is a statement of principles\n",
    "through which the United States Constitution should be interpreted.\n",
    "\n",
    "The U.S. Declaration of Independence inspired many other similar documents in other countries, the first\n",
    "being the 1789 Declaration of Flanders issued during the Brabant Revolution in the Austrian Netherlands\n",
    "(modern-day Belgium). It also served as the primary model for numerous declarations of independence across\n",
    "Europe and Latin America, as well as Africa (Liberia) and Oceania (New Zealand) during the first half of the\n",
    "19th century.'''"
   ]
  },
  {
   "cell_type": "code",
   "execution_count": null,
   "metadata": {},
   "outputs": [],
   "source": []
  }
 ],
 "metadata": {
  "hide_input": false,
  "kernelspec": {
   "display_name": "Python 3 (ipykernel)",
   "language": "python",
   "name": "python3"
  },
  "language_info": {
   "codemirror_mode": {
    "name": "ipython",
    "version": 3
   },
   "file_extension": ".py",
   "mimetype": "text/x-python",
   "name": "python",
   "nbconvert_exporter": "python",
   "pygments_lexer": "ipython3",
   "version": "3.9.7"
  },
  "toc": {
   "base_numbering": 1,
   "nav_menu": {},
   "number_sections": true,
   "sideBar": true,
   "skip_h1_title": false,
   "title_cell": "Table of Contents",
   "title_sidebar": "Contents",
   "toc_cell": false,
   "toc_position": {},
   "toc_section_display": true,
   "toc_window_display": true
  },
  "varInspector": {
   "cols": {
    "lenName": 16,
    "lenType": 16,
    "lenVar": 40
   },
   "kernels_config": {
    "python": {
     "delete_cmd_postfix": "",
     "delete_cmd_prefix": "del ",
     "library": "var_list.py",
     "varRefreshCmd": "print(var_dic_list())"
    },
    "r": {
     "delete_cmd_postfix": ") ",
     "delete_cmd_prefix": "rm(",
     "library": "var_list.r",
     "varRefreshCmd": "cat(var_dic_list()) "
    }
   },
   "types_to_exclude": [
    "module",
    "function",
    "builtin_function_or_method",
    "instance",
    "_Feature"
   ],
   "window_display": false
  }
 },
 "nbformat": 4,
 "nbformat_minor": 4
}
