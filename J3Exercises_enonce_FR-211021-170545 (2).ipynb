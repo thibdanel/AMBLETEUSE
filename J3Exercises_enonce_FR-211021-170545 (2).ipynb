{
 "cells": [
  {
   "cell_type": "markdown",
   "metadata": {},
   "source": [
    "# Analyse de données numériques - Exercices"
   ]
  },
  {
   "cell_type": "markdown",
   "metadata": {},
   "source": [
    "Pour tous les exercices, le niveau de difficulté est indiqué par le code suivant :\n",
    "* \\* niveau facile\n",
    "* \\** niveau intermédiaire\n",
    "* \\*** niveau difficile\n",
    "\n",
    "* **@** indique les exercices pour lesquels vous aurez besoin de chercher sur internet pour trouver des pistes de solution ou des exemples de code.\n",
    "\n",
    "_Note : Pour faciliter la navigation dans les exercices, n'hésitez pas à activer l'extension \"Table of Contents\", après avoir installé les extensions de notebook `jupyter_contrib_nbextensions` (voir PDF sur la plateforme)._"
   ]
  },
  {
   "cell_type": "markdown",
   "metadata": {},
   "source": [
    "## Numpy"
   ]
  },
  {
   "cell_type": "markdown",
   "metadata": {},
   "source": [
    "D'abord, importer Numpy !"
   ]
  },
  {
   "cell_type": "code",
   "execution_count": 2,
   "metadata": {
    "ExecuteTime": {
     "end_time": "2022-05-17T08:53:43.487604Z",
     "start_time": "2022-05-17T08:53:43.429512Z"
    }
   },
   "outputs": [],
   "source": [
    "import numpy as np"
   ]
  },
  {
   "cell_type": "markdown",
   "metadata": {},
   "source": [
    "### Exercice 1 – Créer une matrice numpy (*)\n",
    "Créer une matrice 4x4 avec des valeurs allant de 2 à 17."
   ]
  },
  {
   "cell_type": "code",
   "execution_count": 51,
   "metadata": {
    "ExecuteTime": {
     "end_time": "2022-05-17T09:07:57.463378Z",
     "start_time": "2022-05-17T09:07:57.453354Z"
    }
   },
   "outputs": [
    {
     "data": {
      "text/plain": [
       "array([[ 2,  3,  4,  5],\n",
       "       [ 6,  7,  8,  9],\n",
       "       [10, 11, 12, 13],\n",
       "       [14, 15, 16, 17]])"
      ]
     },
     "execution_count": 51,
     "metadata": {},
     "output_type": "execute_result"
    }
   ],
   "source": [
    "matrice = np.arange(16).reshape(4,4) + 2\n",
    "matrice "
   ]
  },
  {
   "cell_type": "markdown",
   "metadata": {},
   "source": [
    "### Exercice 2 - Sélectionner un élément dans un array (*, @)\n",
    "\n",
    "Trouver le 23ème élément de l'array numpy ci-dessous. \n",
    "\n",
    "_Indice : L'une des solutions utilise une méthode numpy specifique que vous pourrez trouver sur internet. Une autre solution utilise `//` et `%`._"
   ]
  },
  {
   "cell_type": "code",
   "execution_count": 24,
   "metadata": {
    "ExecuteTime": {
     "end_time": "2022-05-17T09:01:53.799532Z",
     "start_time": "2022-05-17T09:01:53.790151Z"
    }
   },
   "outputs": [],
   "source": [
    "array = np.array([[29, 32, 66, 96, 25, 62, 28, 92, 99],\n",
    "       [18, 11, 39, 31, 93, 29, 23,  5, 11],\n",
    "       [47, 23, 59, 63, 83, 31, 49, 11, 13],\n",
    "       [13, 71, 18, 76, 88, 71,  2,  7, 28],\n",
    "       [ 6, 39, 17, 38, 49, 63, 92, 97, 14],\n",
    "       [44, 84, 46, 36, 48, 88, 31, 96,  4],\n",
    "       [55, 46, 10, 34, 89, 25, 62, 39, 61],\n",
    "       [27, 99, 40, 16, 19, 81, 51, 47, 50],\n",
    "       [24, 16, 51, 46, 96, 79, 34, 62, 29]])\n",
    "\n",
    "k = 23"
   ]
  },
  {
   "cell_type": "code",
   "execution_count": 25,
   "metadata": {
    "ExecuteTime": {
     "end_time": "2022-05-17T09:02:01.311575Z",
     "start_time": "2022-05-17T09:02:01.304753Z"
    }
   },
   "outputs": [
    {
     "data": {
      "text/plain": [
       "array([29, 32, 66, 96, 25, 62, 28, 92, 99, 18, 11, 39, 31, 93, 29, 23,  5,\n",
       "       11, 47, 23, 59, 63, 83, 31, 49, 11, 13, 13, 71, 18, 76, 88, 71,  2,\n",
       "        7, 28,  6, 39, 17, 38, 49, 63, 92, 97, 14, 44, 84, 46, 36, 48, 88,\n",
       "       31, 96,  4, 55, 46, 10, 34, 89, 25, 62, 39, 61, 27, 99, 40, 16, 19,\n",
       "       81, 51, 47, 50, 24, 16, 51, 46, 96, 79, 34, 62, 29])"
      ]
     },
     "execution_count": 25,
     "metadata": {},
     "output_type": "execute_result"
    }
   ],
   "source": [
    "array.reshape(-1)"
   ]
  },
  {
   "cell_type": "markdown",
   "metadata": {},
   "source": [
    "### Exercice 3 - Pas de négativité par ici ! (**)\n",
    "\n",
    "Remplacer les valeurs négatives d'un array par la valeur 10.\n",
    "\n",
    "_Bonus : Essayer de le faire sans boucle._"
   ]
  },
  {
   "cell_type": "code",
   "execution_count": 44,
   "metadata": {
    "ExecuteTime": {
     "end_time": "2022-05-17T09:05:00.749676Z",
     "start_time": "2022-05-17T09:05:00.745663Z"
    },
    "code_folding": []
   },
   "outputs": [],
   "source": [
    "test_x = np.array([-1, -4, 0, 2, 3, 4, 5, -6])"
   ]
  },
  {
   "cell_type": "code",
   "execution_count": 47,
   "metadata": {
    "ExecuteTime": {
     "end_time": "2022-05-17T09:05:40.555953Z",
     "start_time": "2022-05-17T09:05:40.547249Z"
    }
   },
   "outputs": [
    {
     "data": {
      "text/plain": [
       "array([10, 10,  0,  2,  3,  4,  5, 10])"
      ]
     },
     "execution_count": 47,
     "metadata": {},
     "output_type": "execute_result"
    }
   ],
   "source": [
    "mask = test_x < 0\n",
    "test_x[mask] = 10\n",
    "test_x"
   ]
  },
  {
   "cell_type": "markdown",
   "metadata": {},
   "source": [
    "### Exercice 4 – Valeur moyenne des produits en stock (**, @)\n",
    "\n",
    "On veut calculer la valeur moyenne d'un objet pris dans un entrepôt.\n",
    "\n",
    "C'est-à-dire : l'entreprise stocke 20 types d'objets dans son entrepôt. Le prix individuel et la quantité de chaque objet sont disponibles ci-dessous. On veut savoir quelle est la valeur moyenne d'un objet pris au hasard.\n",
    "\n",
    "_Indice : Il s'agit d'une moyenne de la valeur des objets pondérée par le nombre d'objets disponibles. Il existe une methode numpy spécialisée pour cette opération._"
   ]
  },
  {
   "cell_type": "code",
   "execution_count": 52,
   "metadata": {
    "ExecuteTime": {
     "end_time": "2022-05-17T09:21:14.942024Z",
     "start_time": "2022-05-17T09:21:14.909921Z"
    },
    "code_folding": []
   },
   "outputs": [],
   "source": [
    "prices = {'EACCEB': 16.20509873265647,\n",
    "         'DFDABF': 17.804842271631575,\n",
    "         'BDAAAE': 6.034132127038211,\n",
    "         'EBEDCC': 8.765726919661395,\n",
    "         'BBEBFC': 9.670745692995943,\n",
    "         'ADFBDD': 13.272839706755306,\n",
    "         'CFEBDC': 7.073517242369817,\n",
    "         'EADEAF': 12.639397686562715,\n",
    "         'DCCDEF': 16.769485429582115,\n",
    "         'DBDCDC': 14.474392462599267,\n",
    "         'AFBAAF': 10.18958404384257,\n",
    "         'DADBDD': 11.902219677537177,\n",
    "         'CDFBBE': 14.219659680677468,\n",
    "         'CACEBE': 7.43713434666425,\n",
    "         'AFDDBC': 7.378245381252228,\n",
    "         'CBDEFE': 10.883005811699599,\n",
    "         'ECBBEB': 13.346825501979566,\n",
    "         'ACAFDD': 6.185376071510866,\n",
    "         'ACEACA': 7.922259506020709,\n",
    "         'EBADBB': 12.538053632878556}\n",
    "\n",
    "quantity = {'EACCEB': 4,\n",
    "                 'DFDABF': 68,\n",
    "                 'BDAAAE': 15,\n",
    "                 'EBEDCC': 24,\n",
    "                 'BBEBFC': 17,\n",
    "                 'ADFBDD': 6,\n",
    "                 'CFEBDC': 23,\n",
    "                 'EADEAF': 54,\n",
    "                 'DCCDEF': 90,\n",
    "                 'DBDCDC': 83,\n",
    "                 'AFBAAF': 3,\n",
    "                 'DADBDD': 39,\n",
    "                 'CDFBBE': 54,\n",
    "                 'CACEBE': 35,\n",
    "                 'AFDDBC': 44,\n",
    "                 'CBDEFE': 34,\n",
    "                 'ECBBEB': 69,\n",
    "                 'ACAFDD': 42,\n",
    "                 'ACEACA': 86,\n",
    "                 'EBADBB': 81}"
   ]
  },
  {
   "cell_type": "code",
   "execution_count": 65,
   "metadata": {
    "ExecuteTime": {
     "end_time": "2022-05-17T09:24:40.250190Z",
     "start_time": "2022-05-17T09:24:40.238296Z"
    }
   },
   "outputs": [
    {
     "data": {
      "text/plain": [
       "12.022411598561066"
      ]
     },
     "execution_count": 65,
     "metadata": {},
     "output_type": "execute_result"
    }
   ],
   "source": [
    "price = prices.values()\n",
    "list(price)\n",
    "qty = quantity.values()\n",
    "list(qty)\n",
    "\n",
    "np.average(list(price), weights = list(qty))\n",
    "\n",
    "price = np.array(list(price))\n",
    "qty = np.array(list(qty))\n",
    "\n",
    "sum(price * qty) / sum(qty)"
   ]
  },
  {
   "cell_type": "markdown",
   "metadata": {},
   "source": [
    "## Pandas"
   ]
  },
  {
   "cell_type": "markdown",
   "metadata": {},
   "source": [
    "### Exercice 1 – Au coeur des marchés financiers (**)\n",
    "\n",
    "Créer un DataFrame contenant la valeur de l'index du CAC40 sur le dernier mois.\n",
    "\n",
    "Ensuite, afficher 10 lignes prises au hasard et compter le nombre de colonnes dans le DataFrame.\n",
    "\n",
    "_Indice : [Yahoo Finance](https://finance.yahoo.com/quote/%5EFCHI/history/?guccounter=1&guce_referrer=aHR0cHM6Ly93d3cuZ29vZ2xlLmNvbS8&guce_referrer_sig=AQAAAKMlF49BUCnyOd_XKPns3bykhS6nmVu9Sn4Zn4DfuQAu6MYKL1JwEgjaMyUm8JvpwjxuDyy4ItGvnyw5bMr9YVwlOACJEAT2J0G28B8O5uhft6fSMADvYzNv5huL3aluRW5qngzh57FST4hbiGNod8ewfnfR9Dx1RZq7TfHlvpTK) est un bon site pour obtenir des données financières. Il existe ensuite plusieurs manières de charger les données Yahoo Finance dans ce notebook._"
   ]
  },
  {
   "cell_type": "code",
   "execution_count": 104,
   "metadata": {
    "ExecuteTime": {
     "end_time": "2022-05-17T09:36:00.684622Z",
     "start_time": "2022-05-17T09:36:00.659492Z"
    }
   },
   "outputs": [
    {
     "data": {
      "text/html": [
       "<div>\n",
       "<style scoped>\n",
       "    .dataframe tbody tr th:only-of-type {\n",
       "        vertical-align: middle;\n",
       "    }\n",
       "\n",
       "    .dataframe tbody tr th {\n",
       "        vertical-align: top;\n",
       "    }\n",
       "\n",
       "    .dataframe thead th {\n",
       "        text-align: right;\n",
       "    }\n",
       "</style>\n",
       "<table border=\"1\" class=\"dataframe\">\n",
       "  <thead>\n",
       "    <tr style=\"text-align: right;\">\n",
       "      <th></th>\n",
       "      <th>Date</th>\n",
       "      <th>Open</th>\n",
       "      <th>High</th>\n",
       "      <th>Low</th>\n",
       "      <th>Close</th>\n",
       "      <th>Adj Close</th>\n",
       "      <th>Volume</th>\n",
       "    </tr>\n",
       "  </thead>\n",
       "  <tbody>\n",
       "    <tr>\n",
       "      <th>0</th>\n",
       "      <td>2021-05-17</td>\n",
       "      <td>6397.220215</td>\n",
       "      <td>6410.209961</td>\n",
       "      <td>6349.330078</td>\n",
       "      <td>6367.350098</td>\n",
       "      <td>6367.350098</td>\n",
       "      <td>62538700</td>\n",
       "    </tr>\n",
       "    <tr>\n",
       "      <th>1</th>\n",
       "      <td>2021-05-18</td>\n",
       "      <td>6406.180176</td>\n",
       "      <td>6412.910156</td>\n",
       "      <td>6343.549805</td>\n",
       "      <td>6353.669922</td>\n",
       "      <td>6353.669922</td>\n",
       "      <td>74129300</td>\n",
       "    </tr>\n",
       "    <tr>\n",
       "      <th>2</th>\n",
       "      <td>2021-05-19</td>\n",
       "      <td>6292.049805</td>\n",
       "      <td>6310.490234</td>\n",
       "      <td>6192.330078</td>\n",
       "      <td>6262.549805</td>\n",
       "      <td>6262.549805</td>\n",
       "      <td>92757600</td>\n",
       "    </tr>\n",
       "    <tr>\n",
       "      <th>3</th>\n",
       "      <td>2021-05-20</td>\n",
       "      <td>6296.250000</td>\n",
       "      <td>6343.580078</td>\n",
       "      <td>6267.549805</td>\n",
       "      <td>6343.580078</td>\n",
       "      <td>6343.580078</td>\n",
       "      <td>68528400</td>\n",
       "    </tr>\n",
       "    <tr>\n",
       "      <th>4</th>\n",
       "      <td>2021-05-21</td>\n",
       "      <td>6360.879883</td>\n",
       "      <td>6402.100098</td>\n",
       "      <td>6351.950195</td>\n",
       "      <td>6386.410156</td>\n",
       "      <td>6386.410156</td>\n",
       "      <td>75862000</td>\n",
       "    </tr>\n",
       "    <tr>\n",
       "      <th>...</th>\n",
       "      <td>...</td>\n",
       "      <td>...</td>\n",
       "      <td>...</td>\n",
       "      <td>...</td>\n",
       "      <td>...</td>\n",
       "      <td>...</td>\n",
       "      <td>...</td>\n",
       "    </tr>\n",
       "    <tr>\n",
       "      <th>255</th>\n",
       "      <td>2022-05-11</td>\n",
       "      <td>6173.100098</td>\n",
       "      <td>6269.729980</td>\n",
       "      <td>6137.240234</td>\n",
       "      <td>6269.729980</td>\n",
       "      <td>6269.729980</td>\n",
       "      <td>106223700</td>\n",
       "    </tr>\n",
       "    <tr>\n",
       "      <th>256</th>\n",
       "      <td>2022-05-12</td>\n",
       "      <td>6130.689941</td>\n",
       "      <td>6238.250000</td>\n",
       "      <td>6098.220215</td>\n",
       "      <td>6206.259766</td>\n",
       "      <td>6206.259766</td>\n",
       "      <td>105839000</td>\n",
       "    </tr>\n",
       "    <tr>\n",
       "      <th>257</th>\n",
       "      <td>2022-05-13</td>\n",
       "      <td>6250.160156</td>\n",
       "      <td>6363.240234</td>\n",
       "      <td>6238.790039</td>\n",
       "      <td>6362.680176</td>\n",
       "      <td>6362.680176</td>\n",
       "      <td>85955800</td>\n",
       "    </tr>\n",
       "    <tr>\n",
       "      <th>258</th>\n",
       "      <td>2022-05-16</td>\n",
       "      <td>6315.680176</td>\n",
       "      <td>6369.049805</td>\n",
       "      <td>6286.020020</td>\n",
       "      <td>6347.770020</td>\n",
       "      <td>6347.770020</td>\n",
       "      <td>75092100</td>\n",
       "    </tr>\n",
       "    <tr>\n",
       "      <th>259</th>\n",
       "      <td>2022-05-17</td>\n",
       "      <td>6379.339844</td>\n",
       "      <td>6448.330078</td>\n",
       "      <td>6373.729980</td>\n",
       "      <td>6434.359863</td>\n",
       "      <td>6434.359863</td>\n",
       "      <td>0</td>\n",
       "    </tr>\n",
       "  </tbody>\n",
       "</table>\n",
       "<p>260 rows × 7 columns</p>\n",
       "</div>"
      ],
      "text/plain": [
       "           Date         Open         High          Low        Close  \\\n",
       "0    2021-05-17  6397.220215  6410.209961  6349.330078  6367.350098   \n",
       "1    2021-05-18  6406.180176  6412.910156  6343.549805  6353.669922   \n",
       "2    2021-05-19  6292.049805  6310.490234  6192.330078  6262.549805   \n",
       "3    2021-05-20  6296.250000  6343.580078  6267.549805  6343.580078   \n",
       "4    2021-05-21  6360.879883  6402.100098  6351.950195  6386.410156   \n",
       "..          ...          ...          ...          ...          ...   \n",
       "255  2022-05-11  6173.100098  6269.729980  6137.240234  6269.729980   \n",
       "256  2022-05-12  6130.689941  6238.250000  6098.220215  6206.259766   \n",
       "257  2022-05-13  6250.160156  6363.240234  6238.790039  6362.680176   \n",
       "258  2022-05-16  6315.680176  6369.049805  6286.020020  6347.770020   \n",
       "259  2022-05-17  6379.339844  6448.330078  6373.729980  6434.359863   \n",
       "\n",
       "       Adj Close     Volume  \n",
       "0    6367.350098   62538700  \n",
       "1    6353.669922   74129300  \n",
       "2    6262.549805   92757600  \n",
       "3    6343.580078   68528400  \n",
       "4    6386.410156   75862000  \n",
       "..           ...        ...  \n",
       "255  6269.729980  106223700  \n",
       "256  6206.259766  105839000  \n",
       "257  6362.680176   85955800  \n",
       "258  6347.770020   75092100  \n",
       "259  6434.359863          0  \n",
       "\n",
       "[260 rows x 7 columns]"
      ]
     },
     "execution_count": 104,
     "metadata": {},
     "output_type": "execute_result"
    }
   ],
   "source": [
    "opening = pd.read_csv('/Users/thibaultdanel/Downloads/^FCHI.csv')\n",
    "opening"
   ]
  },
  {
   "cell_type": "markdown",
   "metadata": {},
   "source": [
    "### Exercice 2 – Comprendre un DataFrame (*)\n",
    "\n",
    "Sur la DatafFrame `users` (voir plus bas) :\n",
    "* Quel est le nombre d'observations dans le dataset ?\n",
    "* Quel est le nombre de colonnes dans le dataset ?\n",
    "* Afficher le nom de toutes les colonnes\n",
    "\n",
    "BONUS :\n",
    "\n",
    "* Renommer la colonne `postal_code`, `zip_code`\n",
    "* Quel est le type de données de chaque colonne ?\n",
    "* Combien d'`occupation` différentes y a-t-il dans ce dataset ?\n",
    "* Quel est l'`occupation` la plus fréquente ?\n",
    "* Quels sont les âges les moins fréquents ?"
   ]
  },
  {
   "cell_type": "code",
   "execution_count": 1,
   "metadata": {
    "ExecuteTime": {
     "end_time": "2022-05-15T19:18:59.165437Z",
     "start_time": "2022-05-15T19:18:57.649676Z"
    }
   },
   "outputs": [
    {
     "data": {
      "text/html": [
       "<div>\n",
       "<style scoped>\n",
       "    .dataframe tbody tr th:only-of-type {\n",
       "        vertical-align: middle;\n",
       "    }\n",
       "\n",
       "    .dataframe tbody tr th {\n",
       "        vertical-align: top;\n",
       "    }\n",
       "\n",
       "    .dataframe thead th {\n",
       "        text-align: right;\n",
       "    }\n",
       "</style>\n",
       "<table border=\"1\" class=\"dataframe\">\n",
       "  <thead>\n",
       "    <tr style=\"text-align: right;\">\n",
       "      <th></th>\n",
       "      <th>age</th>\n",
       "      <th>gender</th>\n",
       "      <th>occupation</th>\n",
       "      <th>zip_code</th>\n",
       "    </tr>\n",
       "    <tr>\n",
       "      <th>user_id</th>\n",
       "      <th></th>\n",
       "      <th></th>\n",
       "      <th></th>\n",
       "      <th></th>\n",
       "    </tr>\n",
       "  </thead>\n",
       "  <tbody>\n",
       "    <tr>\n",
       "      <th>1</th>\n",
       "      <td>24</td>\n",
       "      <td>M</td>\n",
       "      <td>technician</td>\n",
       "      <td>85711</td>\n",
       "    </tr>\n",
       "    <tr>\n",
       "      <th>2</th>\n",
       "      <td>53</td>\n",
       "      <td>F</td>\n",
       "      <td>other</td>\n",
       "      <td>94043</td>\n",
       "    </tr>\n",
       "    <tr>\n",
       "      <th>3</th>\n",
       "      <td>23</td>\n",
       "      <td>M</td>\n",
       "      <td>writer</td>\n",
       "      <td>32067</td>\n",
       "    </tr>\n",
       "    <tr>\n",
       "      <th>4</th>\n",
       "      <td>24</td>\n",
       "      <td>M</td>\n",
       "      <td>technician</td>\n",
       "      <td>43537</td>\n",
       "    </tr>\n",
       "    <tr>\n",
       "      <th>5</th>\n",
       "      <td>33</td>\n",
       "      <td>F</td>\n",
       "      <td>other</td>\n",
       "      <td>15213</td>\n",
       "    </tr>\n",
       "  </tbody>\n",
       "</table>\n",
       "</div>"
      ],
      "text/plain": [
       "         age gender  occupation zip_code\n",
       "user_id                                 \n",
       "1         24      M  technician    85711\n",
       "2         53      F       other    94043\n",
       "3         23      M      writer    32067\n",
       "4         24      M  technician    43537\n",
       "5         33      F       other    15213"
      ]
     },
     "execution_count": 1,
     "metadata": {},
     "output_type": "execute_result"
    }
   ],
   "source": [
    "import pandas as pd\n",
    "users = pd.read_csv('https://raw.githubusercontent.com/justmarkham/DAT8/master/data/u.user', \n",
    "                      sep='|', index_col='user_id')\n",
    "users.head()"
   ]
  },
  {
   "cell_type": "code",
   "execution_count": null,
   "metadata": {},
   "outputs": [],
   "source": []
  }
 ],
 "metadata": {
  "hide_input": false,
  "kernelspec": {
   "display_name": "Python 3 (ipykernel)",
   "language": "python",
   "name": "python3"
  },
  "language_info": {
   "codemirror_mode": {
    "name": "ipython",
    "version": 3
   },
   "file_extension": ".py",
   "mimetype": "text/x-python",
   "name": "python",
   "nbconvert_exporter": "python",
   "pygments_lexer": "ipython3",
   "version": "3.9.7"
  },
  "toc": {
   "base_numbering": 1,
   "nav_menu": {},
   "number_sections": true,
   "sideBar": true,
   "skip_h1_title": false,
   "title_cell": "Table of Contents",
   "title_sidebar": "Contents",
   "toc_cell": false,
   "toc_position": {},
   "toc_section_display": true,
   "toc_window_display": true
  },
  "varInspector": {
   "cols": {
    "lenName": 16,
    "lenType": 16,
    "lenVar": 40
   },
   "kernels_config": {
    "python": {
     "delete_cmd_postfix": "",
     "delete_cmd_prefix": "del ",
     "library": "var_list.py",
     "varRefreshCmd": "print(var_dic_list())"
    },
    "r": {
     "delete_cmd_postfix": ") ",
     "delete_cmd_prefix": "rm(",
     "library": "var_list.r",
     "varRefreshCmd": "cat(var_dic_list()) "
    }
   },
   "types_to_exclude": [
    "module",
    "function",
    "builtin_function_or_method",
    "instance",
    "_Feature"
   ],
   "window_display": false
  }
 },
 "nbformat": 4,
 "nbformat_minor": 4
}
