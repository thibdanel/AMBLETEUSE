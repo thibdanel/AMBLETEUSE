{
 "cells": [
  {
   "cell_type": "markdown",
   "metadata": {},
   "source": [
    "## Listes"
   ]
  },
  {
   "cell_type": "markdown",
   "metadata": {},
   "source": [
    "Les listes sont le moyen de plus fexible de stocker des données en Python."
   ]
  },
  {
   "cell_type": "code",
   "execution_count": 1,
   "metadata": {
    "ExecuteTime": {
     "end_time": "2022-05-10T16:03:18.750948Z",
     "start_time": "2022-05-10T16:03:18.728935Z"
    }
   },
   "outputs": [
    {
     "name": "stdout",
     "output_type": "stream",
     "text": [
      "['Dior', 'Chanel', 'Louis Vuitton']\n"
     ]
    }
   ],
   "source": [
    "competitors = ['Dior', 'Chanel', 'Louis Vuitton']\n",
    "print(competitors)"
   ]
  },
  {
   "cell_type": "markdown",
   "metadata": {},
   "source": [
    "Un grand nombre de méthodes permettent de manipuler les listes."
   ]
  },
  {
   "cell_type": "code",
   "execution_count": 2,
   "metadata": {
    "ExecuteTime": {
     "end_time": "2022-05-10T16:03:20.215032Z",
     "start_time": "2022-05-10T16:03:20.198007Z"
    }
   },
   "outputs": [
    {
     "data": {
      "text/plain": [
       "['Dior', 'Chanel', 'Louis Vuitton', 'Hermès']"
      ]
     },
     "execution_count": 2,
     "metadata": {},
     "output_type": "execute_result"
    }
   ],
   "source": [
    "# On peut ajouter un élément à une liste\n",
    "competitors.append('Hermès')\n",
    "competitors"
   ]
  },
  {
   "cell_type": "code",
   "execution_count": 3,
   "metadata": {
    "ExecuteTime": {
     "end_time": "2022-05-10T16:03:23.345342Z",
     "start_time": "2022-05-10T16:03:23.340193Z"
    }
   },
   "outputs": [
    {
     "data": {
      "text/plain": [
       "['Chanel', 'Louis Vuitton', 'Hermès']"
      ]
     },
     "execution_count": 3,
     "metadata": {},
     "output_type": "execute_result"
    }
   ],
   "source": [
    "# On peut supprimer un élément d'une liste par sa valeur \n",
    "competitors.remove('Dior')\n",
    "competitors"
   ]
  },
  {
   "cell_type": "code",
   "execution_count": 4,
   "metadata": {
    "ExecuteTime": {
     "end_time": "2022-05-10T16:03:27.309594Z",
     "start_time": "2022-05-10T16:03:27.303016Z"
    }
   },
   "outputs": [
    {
     "data": {
      "text/plain": [
       "['Chanel', 'Hermès']"
      ]
     },
     "execution_count": 4,
     "metadata": {},
     "output_type": "execute_result"
    }
   ],
   "source": [
    "# ...ou par son index\n",
    "competitors.pop(1)\n",
    "competitors"
   ]
  },
  {
   "cell_type": "code",
   "execution_count": 9,
   "metadata": {
    "ExecuteTime": {
     "end_time": "2022-05-10T18:54:44.194656Z",
     "start_time": "2022-05-10T18:54:44.182163Z"
    }
   },
   "outputs": [
    {
     "data": {
      "text/plain": [
       "5"
      ]
     },
     "execution_count": 9,
     "metadata": {},
     "output_type": "execute_result"
    }
   ],
   "source": [
    "# On peut compter le nombre total d'éléments\n",
    "sales_per_year = [10, 10, 9, 13, 15]\n",
    "len(sales_per_year)"
   ]
  },
  {
   "cell_type": "code",
   "execution_count": 6,
   "metadata": {
    "ExecuteTime": {
     "end_time": "2022-05-10T16:03:38.330643Z",
     "start_time": "2022-05-10T16:03:38.325811Z"
    }
   },
   "outputs": [
    {
     "data": {
      "text/plain": [
       "2"
      ]
     },
     "execution_count": 6,
     "metadata": {},
     "output_type": "execute_result"
    }
   ],
   "source": [
    "# ...ou le nombre d'occurences d'un élément spécifique\n",
    "sales_per_year.count(10)"
   ]
  },
  {
   "cell_type": "code",
   "execution_count": 10,
   "metadata": {
    "ExecuteTime": {
     "end_time": "2022-05-10T18:54:49.205829Z",
     "start_time": "2022-05-10T18:54:49.198768Z"
    },
    "scrolled": true
   },
   "outputs": [
    {
     "data": {
      "text/plain": [
       "[9, 10, 10, 13, 15]"
      ]
     },
     "execution_count": 10,
     "metadata": {},
     "output_type": "execute_result"
    }
   ],
   "source": [
    "# on peut classer les éléments\n",
    "sales_per_year.sort(reverse=False)\n",
    "sales_per_year"
   ]
  },
  {
   "cell_type": "markdown",
   "metadata": {},
   "source": [
    "Voir https://www.programiz.com/python-programming/methods/list toutes les méthodes pour les listes."
   ]
  },
  {
   "cell_type": "markdown",
   "metadata": {},
   "source": [
    "Enfin, voici comment créer une liste vide :"
   ]
  },
  {
   "cell_type": "code",
   "execution_count": 23,
   "metadata": {
    "ExecuteTime": {
     "end_time": "2022-05-11T07:25:14.805513Z",
     "start_time": "2022-05-11T07:25:14.800221Z"
    }
   },
   "outputs": [
    {
     "data": {
      "text/plain": [
       "[]"
      ]
     },
     "execution_count": 23,
     "metadata": {},
     "output_type": "execute_result"
    }
   ],
   "source": [
    "empty_list = []\n",
    "empty_list = list()\n",
    "empty_list"
   ]
  },
  {
   "cell_type": "markdown",
   "metadata": {},
   "source": [
    "## Les tuples"
   ]
  },
  {
   "cell_type": "markdown",
   "metadata": {
    "ExecuteTime": {
     "end_time": "2020-06-02T13:59:39.708538Z",
     "start_time": "2020-06-02T13:59:39.701702Z"
    }
   },
   "source": [
    "Les tuples sont des séries de valeurs comme les listes, mais immuables - on ne peut pas réassigner une valeur à l'intérieur d'un tuple."
   ]
  },
  {
   "cell_type": "code",
   "execution_count": 24,
   "metadata": {
    "ExecuteTime": {
     "end_time": "2022-05-11T07:25:35.095126Z",
     "start_time": "2022-05-11T07:25:35.088733Z"
    }
   },
   "outputs": [
    {
     "data": {
      "text/plain": [
       "'shoes'"
      ]
     },
     "execution_count": 24,
     "metadata": {},
     "output_type": "execute_result"
    }
   ],
   "source": [
    "products = ('shoes', 'trousers', 'cap')\n",
    "\n",
    "# Je ne peux pas modifier la première valeur\n",
    "products[0]"
   ]
  },
  {
   "cell_type": "code",
   "execution_count": 15,
   "metadata": {
    "ExecuteTime": {
     "end_time": "2022-05-11T07:19:47.887269Z",
     "start_time": "2022-05-11T07:19:47.879970Z"
    }
   },
   "outputs": [
    {
     "data": {
      "text/plain": [
       "['sneakers', 'Hermès']"
      ]
     },
     "execution_count": 15,
     "metadata": {},
     "output_type": "execute_result"
    }
   ],
   "source": [
    "competitors[0] = 'sneakers'\n",
    "competitors"
   ]
  },
  {
   "cell_type": "markdown",
   "metadata": {},
   "source": [
    "De même qu'avec une liste, on peut itérer sur un tuple :"
   ]
  },
  {
   "cell_type": "code",
   "execution_count": 20,
   "metadata": {
    "ExecuteTime": {
     "end_time": "2022-05-11T07:20:19.592088Z",
     "start_time": "2022-05-11T07:20:19.587750Z"
    }
   },
   "outputs": [
    {
     "name": "stdout",
     "output_type": "stream",
     "text": [
      "We have 3 products available:\n",
      "\t shoes\n",
      "\t trousers\n",
      "\t cap\n"
     ]
    }
   ],
   "source": [
    "print(f\"We have {len(products)} products available:\")\n",
    "\n",
    "for prod in products:\n",
    "    print('\\t', prod) # \\t permet de faire une tabulation (\\n permet de revenir à la ligne)"
   ]
  },
  {
   "cell_type": "markdown",
   "metadata": {},
   "source": [
    "Et on crée des tuples vides de la même façon que les listes :"
   ]
  },
  {
   "cell_type": "code",
   "execution_count": 22,
   "metadata": {
    "ExecuteTime": {
     "end_time": "2022-05-11T07:25:01.248862Z",
     "start_time": "2022-05-11T07:25:01.236808Z"
    }
   },
   "outputs": [
    {
     "data": {
      "text/plain": [
       "()"
      ]
     },
     "execution_count": 22,
     "metadata": {},
     "output_type": "execute_result"
    }
   ],
   "source": [
    "empty_tuple = ()\n",
    "empty_tuple = tuple()\n",
    "empty_tuple"
   ]
  }
 ],
 "metadata": {
  "hide_input": false,
  "kernelspec": {
   "display_name": "Python 3 (ipykernel)",
   "language": "python",
   "name": "python3"
  },
  "language_info": {
   "codemirror_mode": {
    "name": "ipython",
    "version": 3
   },
   "file_extension": ".py",
   "mimetype": "text/x-python",
   "name": "python",
   "nbconvert_exporter": "python",
   "pygments_lexer": "ipython3",
   "version": "3.9.7"
  },
  "toc": {
   "base_numbering": 1,
   "nav_menu": {},
   "number_sections": true,
   "sideBar": true,
   "skip_h1_title": false,
   "title_cell": "Table of Contents",
   "title_sidebar": "Contents",
   "toc_cell": false,
   "toc_position": {},
   "toc_section_display": true,
   "toc_window_display": false
  }
 },
 "nbformat": 4,
 "nbformat_minor": 4
}
