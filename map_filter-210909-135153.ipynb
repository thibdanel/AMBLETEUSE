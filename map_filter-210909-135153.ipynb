{
 "cells": [
  {
   "cell_type": "markdown",
   "metadata": {},
   "source": [
    "## Map et Filter"
   ]
  },
  {
   "cell_type": "markdown",
   "metadata": {},
   "source": [
    "Comme vu précédemment, il est courant de vouloir appliquer la même opération à tous les éléments d'une série de valeurs. \n",
    "\n",
    "Pour cela, on peut utiliser une boucle, éventuellement avec `range` et `enumerate`, mais pour éviter une syntaxe trop lourde et gagner en efficacité, Python dispose des fonctions `map` et `filter`."
   ]
  },
  {
   "cell_type": "code",
   "execution_count": 10,
   "metadata": {
    "ExecuteTime": {
     "end_time": "2021-07-27T13:45:28.030835Z",
     "start_time": "2021-07-27T13:45:28.010862Z"
    },
    "scrolled": true
   },
   "outputs": [
    {
     "data": {
      "text/plain": [
       "[9, 10, 10, 13, 15]"
      ]
     },
     "execution_count": 10,
     "metadata": {},
     "output_type": "execute_result"
    }
   ],
   "source": [
    "# remettons-nous notre liste en tête\n",
    "sales_per_year = [9, 10, 10, 13, 15]\n",
    "sales_per_year"
   ]
  },
  {
   "cell_type": "code",
   "execution_count": 11,
   "metadata": {
    "ExecuteTime": {
     "end_time": "2021-07-27T13:45:30.278626Z",
     "start_time": "2021-07-27T13:45:30.272256Z"
    }
   },
   "outputs": [],
   "source": [
    "# écrivons une fonction simple que l'on voudrait appliquer à notre liste\n",
    "def double(x):\n",
    "    return 2 * x"
   ]
  },
  {
   "cell_type": "code",
   "execution_count": 13,
   "metadata": {
    "ExecuteTime": {
     "end_time": "2021-07-27T13:46:04.887456Z",
     "start_time": "2021-07-27T13:46:04.883694Z"
    }
   },
   "outputs": [
    {
     "name": "stdout",
     "output_type": "stream",
     "text": [
      "[9, 10, 10, 13, 15]\n"
     ]
    }
   ],
   "source": [
    "# pour l'exemple, créons un doublon que l'on va modifier\n",
    "sales_per_year_doubled = sales_per_year.copy()\n",
    "print(sales_per_year_doubled)"
   ]
  },
  {
   "cell_type": "code",
   "execution_count": 14,
   "metadata": {
    "ExecuteTime": {
     "end_time": "2021-07-27T13:46:08.348675Z",
     "start_time": "2021-07-27T13:46:08.331557Z"
    }
   },
   "outputs": [
    {
     "name": "stdout",
     "output_type": "stream",
     "text": [
      "0 9 18\n",
      "1 10 20\n",
      "2 10 20\n",
      "3 13 26\n",
      "4 15 30\n"
     ]
    },
    {
     "data": {
      "text/plain": [
       "[18, 20, 20, 26, 30]"
      ]
     },
     "execution_count": 14,
     "metadata": {},
     "output_type": "execute_result"
    }
   ],
   "source": [
    "for i, sale in enumerate(sales_per_year):\n",
    "    sales_per_year_doubled[i] = double(sale)\n",
    "    print(i, sale, double(sale))\n",
    "\n",
    "sales_per_year_doubled"
   ]
  },
  {
   "cell_type": "code",
   "execution_count": 15,
   "metadata": {
    "ExecuteTime": {
     "end_time": "2021-07-27T13:46:19.931238Z",
     "start_time": "2021-07-27T13:46:19.900744Z"
    }
   },
   "outputs": [
    {
     "data": {
      "text/plain": [
       "[18, 20, 20, 26, 30]"
      ]
     },
     "execution_count": 15,
     "metadata": {},
     "output_type": "execute_result"
    }
   ],
   "source": [
    "list(map(double, sales_per_year))"
   ]
  },
  {
   "cell_type": "markdown",
   "metadata": {},
   "source": [
    "La syntaxe est à la fois plus **concise** (moins de risques d'erreur) et plus **lisible**."
   ]
  },
  {
   "cell_type": "markdown",
   "metadata": {},
   "source": [
    "`filter` va également appliquer une fonction à une série de données, mais le use case est différent. Le but ici n'est pas de transformer une liste, mais de filtrer certains éléments, par exemple pour exclure des données aberrantes. \n",
    "\n",
    "Par exemple, dans la liste de ventes ci-dessous, un `'-1'` s'est glissé (ce qui n'est pas possible) : "
   ]
  },
  {
   "cell_type": "code",
   "execution_count": 18,
   "metadata": {
    "ExecuteTime": {
     "end_time": "2021-07-27T13:49:34.668176Z",
     "start_time": "2021-07-27T13:49:34.663299Z"
    }
   },
   "outputs": [],
   "source": [
    "sales_error = [18, '-1', 20, 26, 30]"
   ]
  },
  {
   "cell_type": "code",
   "execution_count": 19,
   "metadata": {
    "ExecuteTime": {
     "end_time": "2021-07-27T13:49:35.100865Z",
     "start_time": "2021-07-27T13:49:35.094086Z"
    }
   },
   "outputs": [],
   "source": [
    "# Fonction pour vérifier si la valeur est > 0\n",
    "\n",
    "def is_valid_sales(x):\n",
    "    if int(x) >= 0:\n",
    "        return True\n",
    "    else:\n",
    "        return False"
   ]
  },
  {
   "cell_type": "code",
   "execution_count": 20,
   "metadata": {
    "ExecuteTime": {
     "end_time": "2021-07-27T13:49:52.811374Z",
     "start_time": "2021-07-27T13:49:52.800426Z"
    }
   },
   "outputs": [
    {
     "data": {
      "text/plain": [
       "[18, 20, 26, 30]"
      ]
     },
     "execution_count": 20,
     "metadata": {},
     "output_type": "execute_result"
    }
   ],
   "source": [
    "# Filtrage avec une boucle\n",
    "\n",
    "sales_clean = []\n",
    "\n",
    "for j in range(len(sales_error)):\n",
    "    if is_valid_sales(sales_error[j]):\n",
    "        sales_clean.append(sales_error[j])\n",
    "        \n",
    "sales_clean  # -1 a disparu"
   ]
  },
  {
   "cell_type": "markdown",
   "metadata": {},
   "source": [
    "Même opération avec `filter` :"
   ]
  },
  {
   "cell_type": "code",
   "execution_count": 21,
   "metadata": {
    "ExecuteTime": {
     "end_time": "2021-07-27T13:50:55.277362Z",
     "start_time": "2021-07-27T13:50:55.268494Z"
    }
   },
   "outputs": [
    {
     "data": {
      "text/plain": [
       "[18, 20, 26, 30]"
      ]
     },
     "execution_count": 21,
     "metadata": {},
     "output_type": "execute_result"
    }
   ],
   "source": [
    "list(filter(is_valid_sales, sales_error))"
   ]
  },
  {
   "cell_type": "markdown",
   "metadata": {},
   "source": [
    "Ici aussi, la syntaxe est plus simple et plus lisible ! \n",
    "\n",
    "Nous verrons bientôt ensemble un dernier moyen de remplacer une boucle, très utilisé en pratique : la liste en compréhension."
   ]
  },
  {
   "cell_type": "code",
   "execution_count": 9,
   "metadata": {},
   "outputs": [
    {
     "name": "stdout",
     "output_type": "stream",
     "text": [
      "0 1000\n",
      "1 2000\n",
      "2 3000\n",
      "3 550\n"
     ]
    }
   ],
   "source": [
    "sales = [1000, 2000, 3000, 550]\n",
    "\n",
    "for i, sale in enumerate(sales):\n",
    "    print(i, sale)\n"
   ]
  },
  {
   "cell_type": "code",
   "execution_count": 38,
   "metadata": {},
   "outputs": [
    {
     "data": {
      "text/plain": [
       "36"
      ]
     },
     "execution_count": 38,
     "metadata": {},
     "output_type": "execute_result"
    }
   ],
   "source": [
    "liste = [3, 6, 9 , 18]\n",
    "\n",
    "def carre(x):\n",
    "    return x * x\n",
    "    \n",
    "\n",
    "carre(6)"
   ]
  },
  {
   "cell_type": "code",
   "execution_count": 41,
   "metadata": {},
   "outputs": [
    {
     "name": "stdout",
     "output_type": "stream",
     "text": [
      "[3, 6, 9, 18]\n"
     ]
    }
   ],
   "source": [
    "liste_double = liste.copy()\n",
    "print(liste_double)"
   ]
  },
  {
   "cell_type": "code",
   "execution_count": 44,
   "metadata": {},
   "outputs": [
    {
     "name": "stdout",
     "output_type": "stream",
     "text": [
      "0 3 9\n",
      "1 6 36\n",
      "2 9 81\n",
      "3 18 324\n"
     ]
    },
    {
     "data": {
      "text/plain": [
       "[9, 36, 81, 324]"
      ]
     },
     "execution_count": 44,
     "metadata": {},
     "output_type": "execute_result"
    }
   ],
   "source": [
    "for i, num in enumerate(liste):\n",
    "    liste_double[i] = carre(num)\n",
    "    print(i, num, carre(num))\n",
    "liste_double"
   ]
  },
  {
   "cell_type": "code",
   "execution_count": 60,
   "metadata": {},
   "outputs": [
    {
     "name": "stdout",
     "output_type": "stream",
     "text": [
      "{3: 9, 6: 36, 9: 81, 18: 324}\n"
     ]
    }
   ],
   "source": [
    "liste_carré = {}\n",
    "for num in liste:\n",
    "    liste_carré[num] = carre(num)\n",
    "print(liste_carré)"
   ]
  },
  {
   "cell_type": "code",
   "execution_count": null,
   "metadata": {},
   "outputs": [],
   "source": []
  }
 ],
 "metadata": {
  "hide_input": false,
  "kernelspec": {
   "display_name": "Python 3 (ipykernel)",
   "language": "python",
   "name": "python3"
  },
  "language_info": {
   "codemirror_mode": {
    "name": "ipython",
    "version": 3
   },
   "file_extension": ".py",
   "mimetype": "text/x-python",
   "name": "python",
   "nbconvert_exporter": "python",
   "pygments_lexer": "ipython3",
   "version": "3.9.7"
  },
  "toc": {
   "base_numbering": 1,
   "nav_menu": {},
   "number_sections": true,
   "sideBar": true,
   "skip_h1_title": false,
   "title_cell": "Table of Contents",
   "title_sidebar": "Contents",
   "toc_cell": false,
   "toc_position": {},
   "toc_section_display": true,
   "toc_window_display": false
  }
 },
 "nbformat": 4,
 "nbformat_minor": 4
}
