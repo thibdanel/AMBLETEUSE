{
 "cells": [
  {
   "cell_type": "markdown",
   "metadata": {},
   "source": [
    "# Variables"
   ]
  },
  {
   "cell_type": "markdown",
   "metadata": {},
   "source": [
    "Les variables forment la brique de base de la programmation en Python."
   ]
  },
  {
   "cell_type": "markdown",
   "metadata": {},
   "source": [
    "On associe un nom, ici `ventes`, avec une valeur, ici `10`:"
   ]
  },
  {
   "cell_type": "code",
   "execution_count": 1,
   "metadata": {
    "ExecuteTime": {
     "end_time": "2022-05-08T15:41:44.994549Z",
     "start_time": "2022-05-08T15:41:44.975093Z"
    }
   },
   "outputs": [],
   "source": [
    "ventes = 10\n",
    "ventes_2020 = 10 * (2 + 3)"
   ]
  },
  {
   "cell_type": "code",
   "execution_count": 2,
   "metadata": {
    "ExecuteTime": {
     "end_time": "2022-05-08T15:41:47.649057Z",
     "start_time": "2022-05-08T15:41:47.644833Z"
    }
   },
   "outputs": [
    {
     "name": "stdout",
     "output_type": "stream",
     "text": [
      "10\n"
     ]
    }
   ],
   "source": [
    "print(ventes)"
   ]
  },
  {
   "cell_type": "code",
   "execution_count": 3,
   "metadata": {
    "ExecuteTime": {
     "end_time": "2022-05-08T15:41:49.509436Z",
     "start_time": "2022-05-08T15:41:49.505868Z"
    }
   },
   "outputs": [
    {
     "name": "stdout",
     "output_type": "stream",
     "text": [
      "50\n"
     ]
    }
   ],
   "source": [
    "print(ventes_2020)"
   ]
  },
  {
   "cell_type": "markdown",
   "metadata": {},
   "source": [
    "Les noms de variables peuvent contenir des lettres, des chiffres, des '_'. \n",
    "\n",
    "En revanche ils **ne peuvent pas commencer par un chiffre** et sont **sensibles à la casse** :  \n",
    ">`ventes_2020` est un nom correct, pas `2020_ventes` <br>\n",
    ">`Ventes` et `ventes` sont deux variables différentes."
   ]
  },
  {
   "cell_type": "markdown",
   "metadata": {},
   "source": [
    "Par convention, en Python on nomme généralement les variables en \"snake case\", c'est-à-dire avec des lettres minuscules et des '_' à la place des espaces. Ex: `date_naissance`."
   ]
  },
  {
   "cell_type": "markdown",
   "metadata": {},
   "source": [
    "# Types de variables"
   ]
  },
  {
   "cell_type": "markdown",
   "metadata": {},
   "source": [
    "La fonction `type` donne le type d'une variable :"
   ]
  },
  {
   "cell_type": "code",
   "execution_count": 4,
   "metadata": {
    "ExecuteTime": {
     "end_time": "2022-05-08T15:41:52.396073Z",
     "start_time": "2022-05-08T15:41:52.381417Z"
    }
   },
   "outputs": [
    {
     "data": {
      "text/plain": [
       "int"
      ]
     },
     "execution_count": 4,
     "metadata": {},
     "output_type": "execute_result"
    }
   ],
   "source": [
    "type(ventes)"
   ]
  },
  {
   "cell_type": "code",
   "execution_count": 5,
   "metadata": {
    "ExecuteTime": {
     "end_time": "2022-05-08T15:41:55.232959Z",
     "start_time": "2022-05-08T15:41:55.227392Z"
    }
   },
   "outputs": [
    {
     "data": {
      "text/plain": [
       "float"
      ]
     },
     "execution_count": 5,
     "metadata": {},
     "output_type": "execute_result"
    }
   ],
   "source": [
    "marge_brute = 0.153 # remarquez le nom de variable\n",
    "type(marge_brute)"
   ]
  },
  {
   "cell_type": "code",
   "execution_count": 6,
   "metadata": {
    "ExecuteTime": {
     "end_time": "2022-05-08T15:41:57.199179Z",
     "start_time": "2022-05-08T15:41:57.193004Z"
    }
   },
   "outputs": [
    {
     "data": {
      "text/plain": [
       "str"
      ]
     },
     "execution_count": 6,
     "metadata": {},
     "output_type": "execute_result"
    }
   ],
   "source": [
    "slogan = 'Apprendre à coder avec DataBird'\n",
    "type(slogan)"
   ]
  },
  {
   "cell_type": "code",
   "execution_count": 7,
   "metadata": {
    "ExecuteTime": {
     "end_time": "2022-05-08T15:41:59.166143Z",
     "start_time": "2022-05-08T15:41:59.160018Z"
    }
   },
   "outputs": [
    {
     "data": {
      "text/plain": [
       "list"
      ]
     },
     "execution_count": 7,
     "metadata": {},
     "output_type": "execute_result"
    }
   ],
   "source": [
    "concurrents = [\"Dior\", \"Chanel\", \"Louis Vuitton\"]\n",
    "type(concurrents)"
   ]
  },
  {
   "cell_type": "markdown",
   "metadata": {},
   "source": [
    "Il est possible de mélanger les types:"
   ]
  },
  {
   "cell_type": "code",
   "execution_count": 8,
   "metadata": {
    "ExecuteTime": {
     "end_time": "2022-05-08T15:42:01.482950Z",
     "start_time": "2022-05-08T15:42:01.479431Z"
    }
   },
   "outputs": [],
   "source": [
    "autre_liste = [1, 2, 3.4, 'Alex', True]"
   ]
  },
  {
   "cell_type": "markdown",
   "metadata": {},
   "source": [
    "# Affichage de variables et texte formaté"
   ]
  },
  {
   "cell_type": "markdown",
   "metadata": {},
   "source": [
    "Pour afficher les variables souhaitées, on se sert de la fonction  `print`:"
   ]
  },
  {
   "cell_type": "code",
   "execution_count": 9,
   "metadata": {
    "ExecuteTime": {
     "end_time": "2022-05-08T15:42:03.681821Z",
     "start_time": "2022-05-08T15:42:03.678050Z"
    }
   },
   "outputs": [
    {
     "name": "stdout",
     "output_type": "stream",
     "text": [
      "Apprendre à coder avec DataBird\n"
     ]
    }
   ],
   "source": [
    "print(slogan)"
   ]
  },
  {
   "cell_type": "markdown",
   "metadata": {},
   "source": [
    "`print` peut afficher plusieurs éléments:"
   ]
  },
  {
   "cell_type": "code",
   "execution_count": 10,
   "metadata": {
    "ExecuteTime": {
     "end_time": "2022-05-08T15:42:05.740388Z",
     "start_time": "2022-05-08T15:42:05.736243Z"
    }
   },
   "outputs": [
    {
     "name": "stdout",
     "output_type": "stream",
     "text": [
      "La marge opérationnelle de l'entreprise est : 0.153 , bonne nouvelle !\n"
     ]
    }
   ],
   "source": [
    "print(\"La marge opérationnelle de l'entreprise est :\", marge_brute, \", bonne nouvelle !\")"
   ]
  },
  {
   "cell_type": "markdown",
   "metadata": {},
   "source": [
    "Enfin, les **formatted strings** (texte formaté) permettent d'insérer une variable dans du texte:"
   ]
  },
  {
   "cell_type": "code",
   "execution_count": 11,
   "metadata": {
    "ExecuteTime": {
     "end_time": "2022-05-08T15:42:07.341489Z",
     "start_time": "2022-05-08T15:42:07.338504Z"
    }
   },
   "outputs": [],
   "source": [
    "marge_brute = 10"
   ]
  },
  {
   "cell_type": "code",
   "execution_count": 12,
   "metadata": {
    "ExecuteTime": {
     "end_time": "2022-05-08T15:42:09.037040Z",
     "start_time": "2022-05-08T15:42:09.033257Z"
    }
   },
   "outputs": [
    {
     "name": "stdout",
     "output_type": "stream",
     "text": [
      "La marge brute est de 10% du chiffre d'affaires.\n"
     ]
    }
   ],
   "source": [
    "print(f\"La marge brute est de {marge_brute}% du chiffre d'affaires.\")"
   ]
  },
  {
   "cell_type": "code",
   "execution_count": null,
   "metadata": {},
   "outputs": [],
   "source": []
  }
 ],
 "metadata": {
  "hide_input": false,
  "kernelspec": {
   "display_name": "Python 3 (ipykernel)",
   "language": "python",
   "name": "python3"
  },
  "language_info": {
   "codemirror_mode": {
    "name": "ipython",
    "version": 3
   },
   "file_extension": ".py",
   "mimetype": "text/x-python",
   "name": "python",
   "nbconvert_exporter": "python",
   "pygments_lexer": "ipython3",
   "version": "3.9.7"
  },
  "toc": {
   "base_numbering": 1,
   "nav_menu": {},
   "number_sections": true,
   "sideBar": true,
   "skip_h1_title": false,
   "title_cell": "Table of Contents",
   "title_sidebar": "Contents",
   "toc_cell": false,
   "toc_position": {},
   "toc_section_display": true,
   "toc_window_display": false
  },
  "varInspector": {
   "cols": {
    "lenName": 16,
    "lenType": 16,
    "lenVar": 40
   },
   "kernels_config": {
    "python": {
     "delete_cmd_postfix": "",
     "delete_cmd_prefix": "del ",
     "library": "var_list.py",
     "varRefreshCmd": "print(var_dic_list())"
    },
    "r": {
     "delete_cmd_postfix": ") ",
     "delete_cmd_prefix": "rm(",
     "library": "var_list.r",
     "varRefreshCmd": "cat(var_dic_list()) "
    }
   },
   "types_to_exclude": [
    "module",
    "function",
    "builtin_function_or_method",
    "instance",
    "_Feature"
   ],
   "window_display": false
  }
 },
 "nbformat": 4,
 "nbformat_minor": 2
}
