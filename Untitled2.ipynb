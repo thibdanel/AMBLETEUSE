{
 "cells": [
  {
   "cell_type": "code",
   "execution_count": 25,
   "id": "3edcc4b0",
   "metadata": {
    "ExecuteTime": {
     "end_time": "2022-05-17T07:59:26.519224Z",
     "start_time": "2022-05-17T07:59:26.512659Z"
    }
   },
   "outputs": [
    {
     "data": {
      "text/plain": [
       "'stone stone stone stone stone'"
      ]
     },
     "execution_count": 25,
     "metadata": {},
     "output_type": "execute_result"
    }
   ],
   "source": [
    "x = str(['stone', 'stone', 'stone', 'stone', 'stone',])\n",
    "x.replace(\"[\", \"\").replace(\"]\", \"\").replace(\"'\",\"\").replace(\",\", \"\")\n"
   ]
  },
  {
   "cell_type": "code",
   "execution_count": null,
   "id": "6ad2d93c",
   "metadata": {},
   "outputs": [],
   "source": []
  }
 ],
 "metadata": {
  "kernelspec": {
   "display_name": "Python 3 (ipykernel)",
   "language": "python",
   "name": "python3"
  },
  "language_info": {
   "codemirror_mode": {
    "name": "ipython",
    "version": 3
   },
   "file_extension": ".py",
   "mimetype": "text/x-python",
   "name": "python",
   "nbconvert_exporter": "python",
   "pygments_lexer": "ipython3",
   "version": "3.9.7"
  },
  "toc": {
   "base_numbering": 1,
   "nav_menu": {},
   "number_sections": true,
   "sideBar": true,
   "skip_h1_title": false,
   "title_cell": "Table of Contents",
   "title_sidebar": "Contents",
   "toc_cell": false,
   "toc_position": {},
   "toc_section_display": true,
   "toc_window_display": false
  }
 },
 "nbformat": 4,
 "nbformat_minor": 5
}
