{
 "cells": [
  {
   "cell_type": "markdown",
   "metadata": {},
   "source": [
    "# Mots clés spéciaux"
   ]
  },
  {
   "cell_type": "markdown",
   "metadata": {},
   "source": [
    "Certains mots clés permettent de déclencher des actions particulières au sein de boucles `for` et `while`. Nous allons voir les mots `break`, `continue` et `pass`.\n",
    "\n",
    "Le mot clé `break` permet d'immédiatement sortir d'une boucle:"
   ]
  },
  {
   "cell_type": "code",
   "execution_count": 3,
   "metadata": {
    "ExecuteTime": {
     "end_time": "2021-07-21T16:01:09.337226Z",
     "start_time": "2021-07-21T16:01:09.081801Z"
    }
   },
   "outputs": [
    {
     "name": "stdout",
     "output_type": "stream",
     "text": [
      "T\n",
      "h\n",
      "i\n",
      "Lettre actuelle : b\n"
     ]
    }
   ],
   "source": [
    "for lettre in 'Thibault':\n",
    "    if lettre == 'b':\n",
    "        break\n",
    "    else:\n",
    "        print(lettre)\n",
    "\n",
    "print('Lettre actuelle :', lettre)"
   ]
  },
  {
   "cell_type": "markdown",
   "metadata": {},
   "source": [
    "Le mot clé `continue`, quand il est lu, permet de passer directement à l'itération suivante d'une boucle."
   ]
  },
  {
   "cell_type": "code",
   "execution_count": 2,
   "metadata": {
    "ExecuteTime": {
     "end_time": "2021-07-21T16:02:11.795412Z",
     "start_time": "2021-07-21T16:02:11.728330Z"
    }
   },
   "outputs": [
    {
     "name": "stdout",
     "output_type": "stream",
     "text": [
      "P\n",
      "y\n",
      "t\n",
      "o\n",
      "n\n",
      "Lettre actuelle : n\n"
     ]
    }
   ],
   "source": [
    "for lettre in 'Python':\n",
    "    if lettre == 'h':\n",
    "        continue\n",
    "    else:\n",
    "        print(lettre)\n",
    "\n",
    "print('Lettre actuelle :', lettre)"
   ]
  },
  {
   "cell_type": "markdown",
   "metadata": {},
   "source": [
    "Toutes les instructions qui auraient pu être lues après le `continue`, dans la suite de la boucle, sont donc ignorées."
   ]
  },
  {
   "cell_type": "code",
   "execution_count": null,
   "metadata": {
    "ExecuteTime": {
     "end_time": "2021-07-21T16:03:32.988502Z",
     "start_time": "2021-07-21T16:03:32.931026Z"
    }
   },
   "outputs": [],
   "source": [
    "for lettre in 'Python':\n",
    "    if lettre == 'h':\n",
    "        continue\n",
    "    else:\n",
    "        print(lettre)\n",
    "    print('Success')"
   ]
  },
  {
   "cell_type": "markdown",
   "metadata": {},
   "source": [
    "Enfin, le mot clé `pass` est utilisé pour combler des vides dans le code lorsqu'il est encore en construction.\n",
    "\n",
    "Par exemple, si on écrit notre structure `if` / `else` sans savoir encore le contenu, on peut utiliser un `pass` pour éviter de laisser un vide qui créerait une erreur.\n",
    "\n",
    "Quand il rencontre un `pass`, le code passe simplement à la suite de la boucle (pas directement à la boucle suivante - c'est la différence avec `continue`)."
   ]
  },
  {
   "cell_type": "code",
   "execution_count": null,
   "metadata": {
    "ExecuteTime": {
     "end_time": "2021-07-21T16:04:05.656119Z",
     "start_time": "2021-07-21T16:04:05.628493Z"
    },
    "scrolled": true
   },
   "outputs": [],
   "source": [
    "for lettre in 'Python': \n",
    "    if lettre == 'h':\n",
    "        pass   \n",
    "    else:\n",
    "        print(lettre)\n",
    "    print('Success')"
   ]
  },
  {
   "cell_type": "code",
   "execution_count": null,
   "metadata": {},
   "outputs": [],
   "source": []
  }
 ],
 "metadata": {
  "hide_input": false,
  "kernelspec": {
   "display_name": "Python 3 (ipykernel)",
   "language": "python",
   "name": "python3"
  },
  "language_info": {
   "codemirror_mode": {
    "name": "ipython",
    "version": 3
   },
   "file_extension": ".py",
   "mimetype": "text/x-python",
   "name": "python",
   "nbconvert_exporter": "python",
   "pygments_lexer": "ipython3",
   "version": "3.9.7"
  },
  "toc": {
   "base_numbering": 1,
   "nav_menu": {},
   "number_sections": true,
   "sideBar": true,
   "skip_h1_title": false,
   "title_cell": "Table of Contents",
   "title_sidebar": "Contents",
   "toc_cell": false,
   "toc_position": {},
   "toc_section_display": true,
   "toc_window_display": false
  },
  "varInspector": {
   "cols": {
    "lenName": 16,
    "lenType": 16,
    "lenVar": 40
   },
   "kernels_config": {
    "python": {
     "delete_cmd_postfix": "",
     "delete_cmd_prefix": "del ",
     "library": "var_list.py",
     "varRefreshCmd": "print(var_dic_list())"
    },
    "r": {
     "delete_cmd_postfix": ") ",
     "delete_cmd_prefix": "rm(",
     "library": "var_list.r",
     "varRefreshCmd": "cat(var_dic_list()) "
    }
   },
   "types_to_exclude": [
    "module",
    "function",
    "builtin_function_or_method",
    "instance",
    "_Feature"
   ],
   "window_display": false
  }
 },
 "nbformat": 4,
 "nbformat_minor": 2
}
