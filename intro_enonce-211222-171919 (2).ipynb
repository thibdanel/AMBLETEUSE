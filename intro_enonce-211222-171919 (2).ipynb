{
 "cells": [
  {
   "cell_type": "markdown",
   "metadata": {},
   "source": [
    "# La grammaire de Python – Exercices"
   ]
  },
  {
   "cell_type": "markdown",
   "metadata": {},
   "source": [
    "Bienvenue dans ce premier notebook d'exercices !\n",
    "\n",
    "Pour tous les exercices, le niveau de difficulté est indiqué par le code suivant :\n",
    "* \\* niveau facile\n",
    "* \\** niveau intermédiaire\n",
    "* \\*** niveau difficile\n",
    "\n",
    "* **@** indique les exercices pour lesquels vous aurez besoin de chercher sur internet pour trouver des pistes de solution ou des exemples de code.\n",
    "\n",
    "_Note : Pour faciliter la navigation dans les exercices, n'hésitez pas à activer l'extension \"Table of Contents\", après avoir installé les extensions de notebook `jupyter_contrib_nbextensions` (voir PDF sur la plateforme)._"
   ]
  },
  {
   "cell_type": "markdown",
   "metadata": {},
   "source": [
    "## Variables"
   ]
  },
  {
   "cell_type": "markdown",
   "metadata": {},
   "source": [
    "### Exercice 1 - Exécution progressive (*)"
   ]
  },
  {
   "cell_type": "markdown",
   "metadata": {},
   "source": [
    "Remplir les blancs ci-dessous avec la valeur que prend chaque variable à chaque ligne."
   ]
  },
  {
   "cell_type": "code",
   "execution_count": 4,
   "metadata": {
    "ExecuteTime": {
     "end_time": "2022-05-08T15:39:30.072561Z",
     "start_time": "2022-05-08T15:39:30.066699Z"
    }
   },
   "outputs": [
    {
     "name": "stdout",
     "output_type": "stream",
     "text": [
      "1.0\n",
      "1.0\n",
      "3.0\n"
     ]
    }
   ],
   "source": [
    "# Command  # Value of x   # Value of y   # Value of swap #\n",
    "x = 1.0    #              #              #               #\n",
    "y = 3.0    #              #              #               #\n",
    "swap = x   #              #              #               #\n",
    "x = y      #              #              #               #\n",
    "y = swap   #              #              #               #\n",
    "print(swap)\n",
    "print(y)\n",
    "print(x)"
   ]
  },
  {
   "cell_type": "markdown",
   "metadata": {},
   "source": [
    "### Exercice 2 - Changement de variables (*)"
   ]
  },
  {
   "cell_type": "markdown",
   "metadata": {},
   "source": [
    "Sans faire tourner le programme, essayer de deviner quelle est la valeur finale de la variable `position`. "
   ]
  },
  {
   "cell_type": "code",
   "execution_count": 5,
   "metadata": {
    "ExecuteTime": {
     "end_time": "2022-05-08T16:00:44.992309Z",
     "start_time": "2022-05-08T16:00:44.982927Z"
    }
   },
   "outputs": [
    {
     "name": "stdout",
     "output_type": "stream",
     "text": [
      "left\n"
     ]
    }
   ],
   "source": [
    "initial = 'left'\n",
    "position = initial\n",
    "initial = 'right'\n",
    "print(position)"
   ]
  },
  {
   "cell_type": "markdown",
   "metadata": {},
   "source": [
    "### Exercice 3 - Nommer ses variables (*)"
   ]
  },
  {
   "cell_type": "markdown",
   "metadata": {},
   "source": [
    "Quelle est la meilleure façon de nommer une variable pour compter les minutes ? m, min ou minutes ? Pourquoi ?\n",
    "\n",
    "* `ts = m * 60 + s`\n",
    "* `tot_sec = min * 60 + sec`\n",
    "* `total_seconds = minutes * 60 + seconds`"
   ]
  },
  {
   "cell_type": "code",
   "execution_count": null,
   "metadata": {},
   "outputs": [],
   "source": []
  },
  {
   "cell_type": "markdown",
   "metadata": {},
   "source": [
    "### Exercice 4 - Reconnaître les types (*)\n",
    "Quel est le type de valeur de `3.4` ? Comment faire pour le vérifier ? \n",
    "Même question pour `-1`, `True`et `0.`?"
   ]
  },
  {
   "cell_type": "code",
   "execution_count": 6,
   "metadata": {
    "ExecuteTime": {
     "end_time": "2022-05-08T16:06:40.068702Z",
     "start_time": "2022-05-08T16:06:40.037968Z"
    }
   },
   "outputs": [
    {
     "data": {
      "text/plain": [
       "float"
      ]
     },
     "execution_count": 6,
     "metadata": {},
     "output_type": "execute_result"
    }
   ],
   "source": [
    "type(3.4)"
   ]
  },
  {
   "cell_type": "markdown",
   "metadata": {},
   "source": [
    "### Exercice 5 - Deviner les types (*)\n",
    "\n",
    "Déterminer le type de valeur de : \n",
    "* 3.25 + 4 \n",
    "* 12 + 'DataBird'\n",
    "* 4.5 + True\n"
   ]
  },
  {
   "cell_type": "code",
   "execution_count": 7,
   "metadata": {
    "ExecuteTime": {
     "end_time": "2022-05-08T16:06:56.411580Z",
     "start_time": "2022-05-08T16:06:56.315979Z"
    }
   },
   "outputs": [
    {
     "ename": "TypeError",
     "evalue": "unsupported operand type(s) for +: 'int' and 'str'",
     "output_type": "error",
     "traceback": [
      "\u001b[0;31m---------------------------------------------------------------------------\u001b[0m",
      "\u001b[0;31mTypeError\u001b[0m                                 Traceback (most recent call last)",
      "\u001b[0;32m/var/folders/77/c88_28012qx0xb53kvscmnm80000gn/T/ipykernel_14095/1331767140.py\u001b[0m in \u001b[0;36m<module>\u001b[0;34m\u001b[0m\n\u001b[0;32m----> 1\u001b[0;31m \u001b[0mtype\u001b[0m\u001b[0;34m(\u001b[0m\u001b[0;36m12\u001b[0m \u001b[0;34m+\u001b[0m \u001b[0;34m'DataBird'\u001b[0m\u001b[0;34m)\u001b[0m\u001b[0;34m\u001b[0m\u001b[0;34m\u001b[0m\u001b[0m\n\u001b[0m",
      "\u001b[0;31mTypeError\u001b[0m: unsupported operand type(s) for +: 'int' and 'str'"
     ]
    }
   ],
   "source": [
    "type(12 + 'DataBird')"
   ]
  },
  {
   "cell_type": "markdown",
   "metadata": {},
   "source": [
    "### Exercice 6 - Quel type est le meilleur ? (*)\n",
    "Quel type de variables (`int`, `float`, `str`) préfèrera-t-on utiliser pour représenter les éléments suivants ? \n",
    "\n",
    "* Nombre de jours depuis le début de l'année \n",
    "* Temps écoulé depuis le début de l'année exprimé en jours \n",
    "* Le numéro de série d'une pièce \n",
    "* Le coût d'abonneemnt à un nouveau logiciel \n",
    "* Le turnover de son entreprise \n",
    "* L'EBITDA de son entreprise "
   ]
  },
  {
   "cell_type": "code",
   "execution_count": null,
   "metadata": {},
   "outputs": [],
   "source": []
  },
  {
   "cell_type": "markdown",
   "metadata": {},
   "source": [
    "### Exercice 7 - Convertir une chaîne de caractère (**)\n",
    "\n",
    "Pourquoi l'expression suivante ne fonctionne-t-elle pas ?\n",
    "\n",
    "> `print(\"fractional string to int:\", int(\"3.4\"))`\n",
    "\n",
    "Corrigez-la !"
   ]
  },
  {
   "cell_type": "code",
   "execution_count": 13,
   "metadata": {
    "ExecuteTime": {
     "end_time": "2022-05-08T16:08:47.063435Z",
     "start_time": "2022-05-08T16:08:47.059572Z"
    }
   },
   "outputs": [
    {
     "name": "stdout",
     "output_type": "stream",
     "text": [
      "fractional string to int: 3.4\n"
     ]
    }
   ],
   "source": [
    "print(\"fractional string to int:\", float(\"3.4\"))"
   ]
  },
  {
   "cell_type": "markdown",
   "metadata": {},
   "source": [
    "### Exercice 8 - Les priorités d'opérations (**)\n",
    "\n",
    "En appliquant l'ordre des opérations, essayez de deviner la valeur finale de `radiance` sans faire tourner le programme (puis vérifiez !).\n",
    "\n",
    "\n",
    "> `radiance = 1.0\n",
    "radiance = max(2.1, 2.0 + min(radiance, 1.1 * radiance - 0.5))`"
   ]
  },
  {
   "cell_type": "code",
   "execution_count": 15,
   "metadata": {
    "ExecuteTime": {
     "end_time": "2022-05-08T16:10:06.447837Z",
     "start_time": "2022-05-08T16:10:06.443141Z"
    }
   },
   "outputs": [
    {
     "name": "stdout",
     "output_type": "stream",
     "text": [
      "2.6\n"
     ]
    }
   ],
   "source": [
    "radiance = 1.0\n",
    "radiance = max(2.1, 2.0 + min(radiance, 1.1 * radiance - 0.5))\n",
    "print(radiance)"
   ]
  },
  {
   "cell_type": "markdown",
   "metadata": {},
   "source": [
    "## Boucles "
   ]
  },
  {
   "cell_type": "markdown",
   "metadata": {},
   "source": [
    "### Exercice 1 - Identifier les erreurs (**)\n",
    "Lire le code pour identifier les erreurs sans avoir besoin de l'éxécuter, puis le corriger. Le résultat final doit être : `abbabbabba`.\n",
    "\n"
   ]
  },
  {
   "cell_type": "code",
   "execution_count": 18,
   "metadata": {
    "ExecuteTime": {
     "end_time": "2022-05-08T16:11:05.240299Z",
     "start_time": "2022-05-08T16:11:05.231687Z"
    }
   },
   "outputs": [
    {
     "name": "stdout",
     "output_type": "stream",
     "text": [
      "abbabbabba\n"
     ]
    }
   ],
   "source": [
    "message = \"\"\n",
    "for number in range(10):\n",
    "    # use a if the number is a multiple of 3, otherwise use b\n",
    "    if (number % 3) == 0:\n",
    "        message = message + \"a\"\n",
    "    else:\n",
    "        message += \"b\"\n",
    "print(message)"
   ]
  },
  {
   "cell_type": "code",
   "execution_count": null,
   "metadata": {},
   "outputs": [],
   "source": []
  },
  {
   "cell_type": "markdown",
   "metadata": {},
   "source": [
    "### Exercice 2 – Compléter les boucles (**)\n",
    "Compléter les cellules suivantes pour afficher le résultat attendu."
   ]
  },
  {
   "cell_type": "code",
   "execution_count": 19,
   "metadata": {
    "ExecuteTime": {
     "end_time": "2022-05-08T16:11:51.443569Z",
     "start_time": "2022-05-08T16:11:51.438608Z"
    }
   },
   "outputs": [
    {
     "name": "stdout",
     "output_type": "stream",
     "text": [
      "12\n"
     ]
    }
   ],
   "source": [
    "# Longeur totale des caractères de la liste : [\"red\", \"green\", \"blue\"] => 12\n",
    "total = 0\n",
    "for word in [\"red\", \"green\", \"blue\"]:\n",
    "    total = total + len(word)\n",
    "print(total)"
   ]
  },
  {
   "cell_type": "code",
   "execution_count": 20,
   "metadata": {
    "ExecuteTime": {
     "end_time": "2022-05-08T16:17:16.274213Z",
     "start_time": "2022-05-08T16:17:16.262542Z"
    }
   },
   "outputs": [
    {
     "name": "stdout",
     "output_type": "stream",
     "text": [
      "redgreenblue\n"
     ]
    }
   ],
   "source": [
    "# Concaténer les mots de la liste : [\"red\", \"green\", \"blue\"] => \"redgreenblue\"\n",
    "words = [\"red\", \"green\", \"blue\"]\n",
    "result = \"\"\n",
    "for w in words:\n",
    "    result += w\n",
    "print(result)"
   ]
  },
  {
   "cell_type": "code",
   "execution_count": 21,
   "metadata": {
    "ExecuteTime": {
     "end_time": "2022-05-08T16:17:56.926900Z",
     "start_time": "2022-05-08T16:17:56.920824Z"
    }
   },
   "outputs": [
    {
     "name": "stdout",
     "output_type": "stream",
     "text": [
      "[3, 5, 4]\n"
     ]
    }
   ],
   "source": [
    "# Liste des longueurs respectives des mots : [\"red\", \"green\", \"blue\"] => [3, 5, 4]\n",
    "lengths = []\n",
    "for word in [\"red\", \"green\", \"blue\"]:\n",
    "    lengths.append(len(word))\n",
    "print(lengths)"
   ]
  },
  {
   "cell_type": "code",
   "execution_count": null,
   "metadata": {},
   "outputs": [],
   "source": []
  },
  {
   "cell_type": "markdown",
   "metadata": {},
   "source": [
    "### Exercice 3 - Réordonner une boucle (***)\n",
    "Réordonner et indenter proprement les lignes de code afin que le programme affiche une liste avec les sommes cumulées des données de la liste \"data\".\n",
    "Le résultat attendu est `[1, 3, 5, 10]`"
   ]
  },
  {
   "cell_type": "code",
   "execution_count": 23,
   "metadata": {
    "ExecuteTime": {
     "end_time": "2022-05-08T16:20:19.247302Z",
     "start_time": "2022-05-08T16:20:19.239816Z"
    }
   },
   "outputs": [
    {
     "name": "stdout",
     "output_type": "stream",
     "text": [
      "[1, 3, 5, 10]\n"
     ]
    }
   ],
   "source": [
    "data = [1, 2, 2, 5]\n",
    "sum = 0\n",
    "cumulative = []\n",
    "\n",
    "for number in data:\n",
    "    sum += number\n",
    "    cumulative.append(sum)\n",
    "print(cumulative)\n"
   ]
  },
  {
   "cell_type": "code",
   "execution_count": null,
   "metadata": {},
   "outputs": [],
   "source": []
  },
  {
   "cell_type": "markdown",
   "metadata": {},
   "source": [
    "### Bonus: Exercice 4 - Renverser une chaîne de caractères (***)\n",
    "\n",
    "Compléter le programme suivant pour qu'il affiche \"atad\" au lieu de \"data\"."
   ]
  },
  {
   "cell_type": "code",
   "execution_count": 64,
   "metadata": {
    "ExecuteTime": {
     "end_time": "2022-05-09T17:54:21.128544Z",
     "start_time": "2022-05-09T17:54:21.119805Z"
    }
   },
   "outputs": [
    {
     "name": "stdout",
     "output_type": "stream",
     "text": [
      "atad\n"
     ]
    }
   ],
   "source": [
    "original = \"data\"\n",
    "result = \"\"\n",
    "for char in original:\n",
    "    result = char + result\n",
    "print(result)"
   ]
  },
  {
   "cell_type": "code",
   "execution_count": null,
   "metadata": {},
   "outputs": [],
   "source": []
  },
  {
   "cell_type": "markdown",
   "metadata": {},
   "source": [
    "## Conditions"
   ]
  },
  {
   "cell_type": "markdown",
   "metadata": {},
   "source": [
    "### Exercice 1 - Catégoriser (**)\n",
    "Compléter le programme afin qu'il crée une nouvelle liste qui contient :\n",
    "* des zéros à la place de valeurs négatives \n",
    "* des 1 à la place des valeurs positives\n",
    "\n"
   ]
  },
  {
   "cell_type": "code",
   "execution_count": 24,
   "metadata": {
    "ExecuteTime": {
     "end_time": "2022-05-08T16:23:35.624940Z",
     "start_time": "2022-05-08T16:23:35.618821Z"
    }
   },
   "outputs": [
    {
     "name": "stdout",
     "output_type": "stream",
     "text": [
      "[0, 1, 1, 1, 0, 1]\n"
     ]
    }
   ],
   "source": [
    "original = [-1.5, 0.2, 0.4, 0.0, -1.3, 0.4]\n",
    "result = []\n",
    "for value in original:\n",
    "    if value < 0:\n",
    "        result.append(0)\n",
    "    else:\n",
    "        result.append(1)\n",
    "print(result)"
   ]
  },
  {
   "cell_type": "code",
   "execution_count": null,
   "metadata": {},
   "outputs": [],
   "source": []
  },
  {
   "cell_type": "markdown",
   "metadata": {},
   "source": [
    "### Exercice 2 - Minimum et maximum d'une liste (**)\n",
    "\n",
    "Compléter ce programme pour qu'il renvoie le minimum et le maximum de la liste de départ. \n",
    "\n",
    "_Note : Cette opération peut être effectué plus simplement par les fonctions min et max, mais l'objectif ici est de le faire de façon itérative, grâce à une boucle._"
   ]
  },
  {
   "cell_type": "code",
   "execution_count": 25,
   "metadata": {
    "ExecuteTime": {
     "end_time": "2022-05-08T16:25:33.373195Z",
     "start_time": "2022-05-08T16:25:33.364644Z"
    }
   },
   "outputs": [
    {
     "name": "stdout",
     "output_type": "stream",
     "text": [
      "-10 8\n"
     ]
    }
   ],
   "source": [
    "values = [0, 2, -10, -3, 3, 6, 8, -1]\n",
    "\n",
    "smallest = 0\n",
    "largest = 0\n",
    "for v in values:\n",
    "    smallest = min(smallest, v)\n",
    "    largest = max(largest, v)\n",
    "print(smallest, largest)"
   ]
  },
  {
   "cell_type": "code",
   "execution_count": null,
   "metadata": {},
   "outputs": [],
   "source": []
  },
  {
   "cell_type": "markdown",
   "metadata": {},
   "source": [
    "### Bonus: Exercice 3 – Des chiffres et des lettres ? (**, @)\n",
    "Ecrire un programme qui reçoit une chaîne de caractères et calcule le nombre de chiffres et de lettres au sein de cette dernière.\n",
    "\n",
    "_Indice : vous aurez sans doute besoin de nouvelles string methods._"
   ]
  },
  {
   "cell_type": "code",
   "execution_count": 102,
   "metadata": {
    "ExecuteTime": {
     "end_time": "2022-05-09T19:33:51.009113Z",
     "start_time": "2022-05-09T19:33:51.005648Z"
    }
   },
   "outputs": [],
   "source": [
    "test_string = 'Python 3.8'"
   ]
  },
  {
   "cell_type": "code",
   "execution_count": 107,
   "metadata": {
    "ExecuteTime": {
     "end_time": "2022-05-09T19:34:59.819739Z",
     "start_time": "2022-05-09T19:34:59.814123Z"
    }
   },
   "outputs": [
    {
     "name": "stdout",
     "output_type": "stream",
     "text": [
      "6 2\n"
     ]
    }
   ],
   "source": [
    "lettre = 0\n",
    "num = 0\n",
    "\n",
    "for x in test_string:\n",
    "    if x.isalpha(): lettre += 1\n",
    "    elif x.isnumeric(): num += 1\n",
    "print(lettre, num)"
   ]
  },
  {
   "cell_type": "markdown",
   "metadata": {},
   "source": [
    "### Bonus:  Exercice 4 - Médiane (**)\n",
    "Ecrire une fonction permettant de trouver la médiane d'une liste de 3 valeurs.\n",
    "\n",
    "_Indice : vous aurez sans doute besoin d'une boucle et des fonctions min et max._"
   ]
  },
  {
   "cell_type": "code",
   "execution_count": 74,
   "metadata": {
    "ExecuteTime": {
     "end_time": "2022-05-09T18:04:49.248487Z",
     "start_time": "2022-05-09T18:04:49.224398Z"
    }
   },
   "outputs": [
    {
     "name": "stdout",
     "output_type": "stream",
     "text": [
      "6\n",
      "9\n"
     ]
    }
   ],
   "source": [
    "def mediane(list):\n",
    "    for i in list:\n",
    "        if (i != min(list)) and (i != max(list)):\n",
    "            print(i)\n",
    "            \n",
    "list = [3,6,9,10]\n",
    "mediane(list)"
   ]
  },
  {
   "cell_type": "markdown",
   "metadata": {},
   "source": [
    "### Bonus: Exercice 5 - Conventions d'écriture (**)"
   ]
  },
  {
   "cell_type": "markdown",
   "metadata": {},
   "source": [
    "\n",
    "Rendre le code ci-dessous le plus lisible possible (renommer les variables, aérer le code, appliquer les conventions de syntaxe)."
   ]
  },
  {
   "cell_type": "code",
   "execution_count": 94,
   "metadata": {
    "ExecuteTime": {
     "end_time": "2022-05-09T19:23:22.905048Z",
     "start_time": "2022-05-09T19:23:22.891319Z"
    }
   },
   "outputs": [
    {
     "name": "stdout",
     "output_type": "stream",
     "text": [
      "et cetera\n",
      "*****-***\n",
      "----*-*--\n",
      "---*---*-\n",
      "--*-*-*-*\n",
      "**-------\n",
      "***-----*\n",
      "--**---**\n",
      "*****-***\n",
      "----*-*--\n",
      "---*---*-\n"
     ]
    }
   ],
   "source": [
    "n = 10\n",
    "s = 'et cetera'\n",
    "print(s)\n",
    "i = 0\n",
    "\n",
    "while i < n:\n",
    "    new = ''\n",
    "    for j in range(len(s)):\n",
    "        left = j-1\n",
    "        right = (j+1)%len(s)\n",
    "        if s[left]==s[right]: new += '-'\n",
    "        else: new += '*'\n",
    "    s=''.join(new)\n",
    "    print(s)\n",
    "    i += 1"
   ]
  },
  {
   "cell_type": "code",
   "execution_count": null,
   "metadata": {},
   "outputs": [],
   "source": []
  },
  {
   "cell_type": "markdown",
   "metadata": {},
   "source": [
    "## Fonctions "
   ]
  },
  {
   "cell_type": "markdown",
   "metadata": {},
   "source": [
    "### Exercice 1 - Première valeur négative (*)\n",
    "Compléter le programme pour créer une fonction qui prend en argument une liste de nombres et renvoie le premier élément négatif de cette liste. \n",
    "\n",
    "Que fait cette fonction si on lui donne une liste vide ? "
   ]
  },
  {
   "cell_type": "code",
   "execution_count": 95,
   "metadata": {
    "ExecuteTime": {
     "end_time": "2022-05-09T19:24:37.692827Z",
     "start_time": "2022-05-09T19:24:37.685006Z"
    }
   },
   "outputs": [],
   "source": [
    "def first_negative(values):\n",
    "    for v in values:\n",
    "        if v < 0:\n",
    "            return v"
   ]
  },
  {
   "cell_type": "code",
   "execution_count": null,
   "metadata": {},
   "outputs": [],
   "source": []
  },
  {
   "cell_type": "markdown",
   "metadata": {},
   "source": [
    "### Exercice 2 – Multiplicateur (**)\n",
    "\n",
    "Ecrire une fonction qui multiplie entre elles toutes les valeurs d'une liste."
   ]
  },
  {
   "cell_type": "code",
   "execution_count": 89,
   "metadata": {
    "ExecuteTime": {
     "end_time": "2022-05-09T18:56:11.112524Z",
     "start_time": "2022-05-09T18:56:11.107309Z"
    }
   },
   "outputs": [],
   "source": [
    "valeurs = [1, 3, 5, -2] # le résultat devrait être -30\n",
    "\n",
    "def multiplicateur(valeurs):\n",
    "    sum = 1\n",
    "    for i in valeurs:\n",
    "        sum = sum * i\n",
    "        print(sum)\n",
    "\n",
    "    return sum"
   ]
  },
  {
   "cell_type": "code",
   "execution_count": 90,
   "metadata": {
    "ExecuteTime": {
     "end_time": "2022-05-09T18:56:12.099147Z",
     "start_time": "2022-05-09T18:56:12.093379Z"
    }
   },
   "outputs": [
    {
     "name": "stdout",
     "output_type": "stream",
     "text": [
      "1\n",
      "3\n",
      "15\n",
      "-30\n"
     ]
    },
    {
     "data": {
      "text/plain": [
       "-30"
      ]
     },
     "execution_count": 90,
     "metadata": {},
     "output_type": "execute_result"
    }
   ],
   "source": [
    "multiplicateur(valeurs)"
   ]
  },
  {
   "cell_type": "markdown",
   "metadata": {},
   "source": [
    "### Bonus: Exercice 3 - Eléments uniques (**, @)\n",
    "\n",
    "Ecrire une fonction qui prend une liste en argument et renvoie une nouvelle liste sans doublons.<br>\n",
    "Liste en entrée : `[1,2,3,3,3,3,4,5]`<br>\n",
    "Liste attendue en sortie : `[1, 2, 3, 4, 5]`<br>\n",
    "\n",
    "_Indice : il existe 2 methodes ; une utilisant une boucle, l'autre utilisant une fonction particulière que vous pouvez trouver sur internet._"
   ]
  },
  {
   "cell_type": "code",
   "execution_count": 140,
   "metadata": {
    "ExecuteTime": {
     "end_time": "2022-05-10T14:41:19.116622Z",
     "start_time": "2022-05-10T14:41:19.106446Z"
    }
   },
   "outputs": [
    {
     "data": {
      "text/plain": [
       "[1, 2, 3, 4, 5]"
      ]
     },
     "execution_count": 140,
     "metadata": {},
     "output_type": "execute_result"
    }
   ],
   "source": [
    "zeubi = [1,2,3,3,3,3,4,5]\n",
    "\n",
    "def unique(zeubi):\n",
    "    new = []\n",
    "    for i in zeubi:\n",
    "        if i not in new:\n",
    "            new.append(i)\n",
    "    return new\n",
    "\n",
    "unique(zeubi)"
   ]
  },
  {
   "cell_type": "code",
   "execution_count": 155,
   "metadata": {
    "ExecuteTime": {
     "end_time": "2022-05-10T14:42:44.042130Z",
     "start_time": "2022-05-10T14:42:44.035733Z"
    }
   },
   "outputs": [
    {
     "data": {
      "text/plain": [
       "array([1, 2, 3, 4, 5])"
      ]
     },
     "execution_count": 155,
     "metadata": {},
     "output_type": "execute_result"
    }
   ],
   "source": [
    "import numpy as kjb\n",
    "k.unique(zeubi)"
   ]
  },
  {
   "cell_type": "markdown",
   "metadata": {},
   "source": [
    "### Bonus: Exercice 4 - Nombres parfaits (***, @)\n",
    "\n",
    "Ecrire un programme qui vérifie si un nombre est parfait ou non. Testez-le sur les nombres 28 et 29.<br>\n",
    "\n",
    "*Un nombre parfait est un entier positif qui est égal à la somme de tous ses diviseurs propres positifs, c'est à dire la somme de tous ses diviseurs positifs à l'exception du nombre lui même.<br>\n",
    "Exemple : Le premier nombre parfait est 6, car 1, 2 et 3 sont ses diviseurs propres positifs, et 1 + 2 + 3 = 6.\n",
    "Le suivant est 28 = 1 + 2 + 4 + 7 + 14.*"
   ]
  },
  {
   "cell_type": "code",
   "execution_count": 215,
   "metadata": {
    "ExecuteTime": {
     "end_time": "2022-05-10T15:13:03.815036Z",
     "start_time": "2022-05-10T15:12:53.285159Z"
    }
   },
   "outputs": [
    {
     "data": {
      "text/plain": [
       "'4 perfect number, [6, 28, 496, 8128] and 19996 not parfait'"
      ]
     },
     "execution_count": 215,
     "metadata": {},
     "output_type": "execute_result"
    }
   ],
   "source": [
    "def parfait(x):\n",
    "    parfait = 0\n",
    "    num_parf = []\n",
    "    not_parfait = 0\n",
    "    for num in range(1, x+1):\n",
    "        test = 0\n",
    "        for i in range(1, num):\n",
    "            if num % i == 0:\n",
    "                test += i\n",
    "            else: continue\n",
    "        if test == num:\n",
    "            parfait += 1\n",
    "            num_parf.append(num)\n",
    "        else: not_parfait += 1\n",
    "    return(f'{parfait} perfect number, {num_parf} and {not_parfait} not parfait')\n",
    "parfait(20000)"
   ]
  },
  {
   "cell_type": "code",
   "execution_count": 133,
   "metadata": {
    "ExecuteTime": {
     "end_time": "2022-05-10T14:39:07.459490Z",
     "start_time": "2022-05-10T14:39:07.456179Z"
    }
   },
   "outputs": [],
   "source": [
    "import numpy as np"
   ]
  },
  {
   "cell_type": "code",
   "execution_count": 134,
   "metadata": {
    "ExecuteTime": {
     "end_time": "2022-05-10T14:39:08.849384Z",
     "start_time": "2022-05-10T14:39:08.829633Z"
    }
   },
   "outputs": [
    {
     "data": {
      "text/plain": [
       "array([1, 2, 3, 4, 5])"
      ]
     },
     "execution_count": 134,
     "metadata": {},
     "output_type": "execute_result"
    }
   ],
   "source": [
    "np.unique([1,2,3,3,3,3,4,5])"
   ]
  },
  {
   "cell_type": "code",
   "execution_count": null,
   "metadata": {},
   "outputs": [],
   "source": []
  }
 ],
 "metadata": {
  "hide_input": false,
  "kernelspec": {
   "display_name": "Python 3 (ipykernel)",
   "language": "python",
   "name": "python3"
  },
  "language_info": {
   "codemirror_mode": {
    "name": "ipython",
    "version": 3
   },
   "file_extension": ".py",
   "mimetype": "text/x-python",
   "name": "python",
   "nbconvert_exporter": "python",
   "pygments_lexer": "ipython3",
   "version": "3.9.7"
  },
  "toc": {
   "base_numbering": 1,
   "nav_menu": {},
   "number_sections": true,
   "sideBar": true,
   "skip_h1_title": false,
   "title_cell": "Table of Contents",
   "title_sidebar": "Contents",
   "toc_cell": false,
   "toc_position": {},
   "toc_section_display": true,
   "toc_window_display": true
  },
  "varInspector": {
   "cols": {
    "lenName": 16,
    "lenType": 16,
    "lenVar": 40
   },
   "kernels_config": {
    "python": {
     "delete_cmd_postfix": "",
     "delete_cmd_prefix": "del ",
     "library": "var_list.py",
     "varRefreshCmd": "print(var_dic_list())"
    },
    "r": {
     "delete_cmd_postfix": ") ",
     "delete_cmd_prefix": "rm(",
     "library": "var_list.r",
     "varRefreshCmd": "cat(var_dic_list()) "
    }
   },
   "types_to_exclude": [
    "module",
    "function",
    "builtin_function_or_method",
    "instance",
    "_Feature"
   ],
   "window_display": false
  }
 },
 "nbformat": 4,
 "nbformat_minor": 4
}
