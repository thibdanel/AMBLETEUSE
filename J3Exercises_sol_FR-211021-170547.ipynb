{
 "cells": [
  {
   "cell_type": "markdown",
   "metadata": {},
   "source": [
    "# Analyse de données numériques - Solutions"
   ]
  },
  {
   "cell_type": "markdown",
   "metadata": {},
   "source": [
    "Pour tous les exercices, le niveau de difficulté est indiqué par le code suivant :\n",
    "* \\* niveau facile\n",
    "* \\** niveau intermédiaire\n",
    "* \\*** niveau difficile\n",
    "\n",
    "* **@** indique les exercices pour lesquels vous aurez besoin de chercher sur internet pour trouver des pistes de solution ou des exemples de code.\n",
    "\n",
    "_Note : Pour faciliter la navigation dans les exercices, n'hésitez pas à activer l'extension \"Table of Contents\", après avoir installé les extensions de notebook `jupyter_contrib_nbextensions` (voir PDF sur la plateforme)._"
   ]
  },
  {
   "cell_type": "markdown",
   "metadata": {},
   "source": [
    "## Numpy"
   ]
  },
  {
   "cell_type": "markdown",
   "metadata": {},
   "source": [
    "D'abord, importer Numpy !"
   ]
  },
  {
   "cell_type": "code",
   "execution_count": null,
   "metadata": {
    "ExecuteTime": {
     "end_time": "2021-09-14T16:12:35.252796Z",
     "start_time": "2021-09-14T16:12:35.188113Z"
    }
   },
   "outputs": [],
   "source": [
    "import numpy as np"
   ]
  },
  {
   "cell_type": "markdown",
   "metadata": {},
   "source": [
    "### Exercice 1 – Créer une matrice numpy (*)\n",
    "Créer une matrice 4x4 avec des valeurs allant de 2 à 17."
   ]
  },
  {
   "cell_type": "code",
   "execution_count": null,
   "metadata": {
    "ExecuteTime": {
     "end_time": "2021-09-14T16:13:49.042469Z",
     "start_time": "2021-09-14T16:13:48.955212Z"
    }
   },
   "outputs": [],
   "source": [
    "list(range(2, 18))"
   ]
  },
  {
   "cell_type": "code",
   "execution_count": null,
   "metadata": {
    "ExecuteTime": {
     "end_time": "2021-09-14T16:14:24.258633Z",
     "start_time": "2021-09-14T16:14:23.876937Z"
    }
   },
   "outputs": [],
   "source": [
    "np.arange(2, 18)"
   ]
  },
  {
   "cell_type": "code",
   "execution_count": null,
   "metadata": {
    "ExecuteTime": {
     "end_time": "2021-09-14T16:15:02.746191Z",
     "start_time": "2021-09-14T16:15:02.599199Z"
    }
   },
   "outputs": [],
   "source": [
    "# Méthode 1\n",
    "np.arange(2, 18).reshape(4, 4)"
   ]
  },
  {
   "cell_type": "code",
   "execution_count": null,
   "metadata": {
    "ExecuteTime": {
     "end_time": "2021-09-14T16:15:28.439062Z",
     "start_time": "2021-09-14T16:15:28.357213Z"
    }
   },
   "outputs": [],
   "source": [
    "# Méthode 2\n",
    "np.arange(16).reshape(4, 4) + 2"
   ]
  },
  {
   "cell_type": "code",
   "execution_count": null,
   "metadata": {
    "ExecuteTime": {
     "end_time": "2021-09-14T16:16:24.014149Z",
     "start_time": "2021-09-14T16:16:23.733147Z"
    }
   },
   "outputs": [],
   "source": [
    "# Méthode 3\n",
    "np.random.randint(2, 18, size=(4, 4))"
   ]
  },
  {
   "cell_type": "code",
   "execution_count": null,
   "metadata": {
    "ExecuteTime": {
     "end_time": "2021-09-14T16:16:40.665681Z",
     "start_time": "2021-09-14T16:16:40.487184Z"
    }
   },
   "outputs": [],
   "source": [
    "# Méthode bonus\n",
    "np.array(np.matrix('1 2 3; 4 5 6'))"
   ]
  },
  {
   "cell_type": "markdown",
   "metadata": {},
   "source": [
    "### Exercice 2 - Sélectionner un élément dans un array (*, @)\n",
    "\n",
    "Trouver le 23ème élément de l'array numpy ci-dessous. \n",
    "\n",
    "_Indice : L'une des solutions utilise une méthode numpy specifique que vous pourrez trouver sur internet. Une autre solution utilise `//` et `%`._"
   ]
  },
  {
   "cell_type": "code",
   "execution_count": null,
   "metadata": {
    "ExecuteTime": {
     "end_time": "2021-09-14T16:17:54.708361Z",
     "start_time": "2021-09-14T16:17:54.660539Z"
    }
   },
   "outputs": [],
   "source": [
    "array = np.array([[29, 32, 66, 96, 25, 62, 28, 92, 99],\n",
    "       [18, 11, 39, 31, 93, 29, 23,  5, 11],\n",
    "       [47, 23, 59, 63, 83, 31, 49, 11, 13],\n",
    "       [13, 71, 18, 76, 88, 71,  2,  7, 28],\n",
    "       [ 6, 39, 17, 38, 49, 63, 92, 97, 14],\n",
    "       [44, 84, 46, 36, 48, 88, 31, 96,  4],\n",
    "       [55, 46, 10, 34, 89, 25, 62, 39, 61],\n",
    "       [27, 99, 40, 16, 19, 81, 51, 47, 50],\n",
    "       [24, 16, 51, 46, 96, 79, 34, 62, 29]])\n",
    "\n",
    "k = 23\n",
    "array"
   ]
  },
  {
   "cell_type": "code",
   "execution_count": null,
   "metadata": {
    "ExecuteTime": {
     "end_time": "2021-06-17T15:20:55.460032Z",
     "start_time": "2021-06-17T15:20:55.443077Z"
    }
   },
   "outputs": [],
   "source": [
    "np.array(array.flat)[k-1]"
   ]
  },
  {
   "cell_type": "code",
   "execution_count": null,
   "metadata": {
    "ExecuteTime": {
     "end_time": "2021-09-14T16:19:33.113802Z",
     "start_time": "2021-09-14T16:19:33.062247Z"
    }
   },
   "outputs": [],
   "source": [
    "array.reshape(-1)[k-1]"
   ]
  },
  {
   "cell_type": "code",
   "execution_count": null,
   "metadata": {
    "ExecuteTime": {
     "end_time": "2021-09-14T16:19:37.380977Z",
     "start_time": "2021-09-14T16:19:37.342992Z"
    }
   },
   "outputs": [],
   "source": [
    "array.ravel()[k-1]"
   ]
  },
  {
   "cell_type": "code",
   "execution_count": null,
   "metadata": {
    "ExecuteTime": {
     "end_time": "2021-09-14T16:24:35.659236Z",
     "start_time": "2021-09-14T16:24:35.605558Z"
    }
   },
   "outputs": [],
   "source": [
    "array[ k // 9, k % 9 - 1 ]"
   ]
  },
  {
   "cell_type": "code",
   "execution_count": null,
   "metadata": {
    "ExecuteTime": {
     "end_time": "2021-09-14T16:24:35.945015Z",
     "start_time": "2021-09-14T16:24:35.937034Z"
    }
   },
   "outputs": [],
   "source": [
    "array[k // 9][k % 9 - 1]"
   ]
  },
  {
   "cell_type": "markdown",
   "metadata": {},
   "source": [
    "### Exercice 3 - Pas de négativité par ici ! (**)\n",
    "\n",
    "Remplacer les valeurs négatives d'un array par la valeur 10.\n",
    "\n",
    "_Bonus : Essayer de le faire sans boucle._"
   ]
  },
  {
   "cell_type": "code",
   "execution_count": 2,
   "metadata": {
    "ExecuteTime": {
     "end_time": "2022-05-17T09:08:58.660856Z",
     "start_time": "2022-05-17T09:08:57.771286Z"
    }
   },
   "outputs": [],
   "source": [
    "import numpy as np"
   ]
  },
  {
   "cell_type": "code",
   "execution_count": 3,
   "metadata": {
    "ExecuteTime": {
     "end_time": "2022-05-17T09:08:58.836579Z",
     "start_time": "2022-05-17T09:08:58.819676Z"
    },
    "code_folding": [],
    "scrolled": true
   },
   "outputs": [
    {
     "data": {
      "text/plain": [
       "array([-1, -4,  0,  2,  3,  4,  5, -6])"
      ]
     },
     "execution_count": 3,
     "metadata": {},
     "output_type": "execute_result"
    }
   ],
   "source": [
    "test_x = np.array([-1, -4, 0, 2, 3, 4, 5, -6])\n",
    "test_x"
   ]
  },
  {
   "cell_type": "code",
   "execution_count": 4,
   "metadata": {
    "ExecuteTime": {
     "end_time": "2022-05-17T09:09:01.527266Z",
     "start_time": "2022-05-17T09:09:01.520118Z"
    }
   },
   "outputs": [
    {
     "data": {
      "text/plain": [
       "[0, 1, 2, 3, 4, 5, 6, 7]"
      ]
     },
     "execution_count": 4,
     "metadata": {},
     "output_type": "execute_result"
    }
   ],
   "source": [
    "list(range(len(test_x)))"
   ]
  },
  {
   "cell_type": "code",
   "execution_count": 5,
   "metadata": {
    "ExecuteTime": {
     "end_time": "2022-05-17T09:09:22.452176Z",
     "start_time": "2022-05-17T09:09:22.442718Z"
    }
   },
   "outputs": [
    {
     "data": {
      "text/plain": [
       "array([10, 10,  0,  2,  3,  4,  5, 10])"
      ]
     },
     "execution_count": 5,
     "metadata": {},
     "output_type": "execute_result"
    }
   ],
   "source": [
    "for i in range(len(test_x)):\n",
    "    if test_x[i] < 0:\n",
    "        test_x[i] = 10\n",
    "\n",
    "test_x"
   ]
  },
  {
   "cell_type": "code",
   "execution_count": 6,
   "metadata": {
    "ExecuteTime": {
     "end_time": "2022-05-17T09:09:27.378818Z",
     "start_time": "2022-05-17T09:09:27.369341Z"
    },
    "scrolled": true
   },
   "outputs": [
    {
     "data": {
      "text/plain": [
       "array([10, 10,  0,  2,  3,  4,  5, 10])"
      ]
     },
     "execution_count": 6,
     "metadata": {},
     "output_type": "execute_result"
    }
   ],
   "source": [
    "for i, x in enumerate(test_x):\n",
    "    if x < 0:\n",
    "        test_x[i] = 10\n",
    "        \n",
    "test_x"
   ]
  },
  {
   "cell_type": "markdown",
   "metadata": {},
   "source": [
    "Méthode sans boucle:"
   ]
  },
  {
   "cell_type": "code",
   "execution_count": 7,
   "metadata": {
    "ExecuteTime": {
     "end_time": "2022-05-17T09:09:45.168053Z",
     "start_time": "2022-05-17T09:09:45.161243Z"
    }
   },
   "outputs": [],
   "source": [
    "test_x[ test_x < 0 ] = 10"
   ]
  },
  {
   "cell_type": "code",
   "execution_count": 8,
   "metadata": {
    "ExecuteTime": {
     "end_time": "2022-05-17T09:09:46.899656Z",
     "start_time": "2022-05-17T09:09:46.892290Z"
    }
   },
   "outputs": [
    {
     "data": {
      "text/plain": [
       "array([10, 10,  0,  2,  3,  4,  5, 10])"
      ]
     },
     "execution_count": 8,
     "metadata": {},
     "output_type": "execute_result"
    }
   ],
   "source": [
    "test_x[ test_x < 0 ] = 10\n",
    "test_x"
   ]
  },
  {
   "cell_type": "markdown",
   "metadata": {},
   "source": [
    "### Exercice 4 – Valeur moyenne des produits en stock (**, @)\n",
    "\n",
    "On veut calculer la valeur moyenne d'un objet pris dans un entrepôt.\n",
    "\n",
    "C'est-à-dire : l'entreprise stocke 20 types d'objets dans son entrepôt. Le prix individuel et la quantité de chaque objet sont disponibles ci-dessous. On veut savoir quelle est la valeur moyenne d'un objet pris au hasard.\n",
    "\n",
    "_Indice : Il s'agit d'une moyenne de la valeur des objets pondérée par le nombre d'objets disponibles. Il existe une methode numpy spécialisée pour cette opération._"
   ]
  },
  {
   "cell_type": "code",
   "execution_count": 10,
   "metadata": {
    "ExecuteTime": {
     "end_time": "2022-05-17T09:09:59.423110Z",
     "start_time": "2022-05-17T09:09:59.409566Z"
    },
    "code_folding": []
   },
   "outputs": [],
   "source": [
    "prices = {'EACCEB': 16.20509873265647,\n",
    "         'DFDABF': 17.804842271631575,\n",
    "         'BDAAAE': 6.034132127038211,\n",
    "         'EBEDCC': 8.765726919661395,\n",
    "         'BBEBFC': 9.670745692995943,\n",
    "         'ADFBDD': 13.272839706755306,\n",
    "         'CFEBDC': 7.073517242369817,\n",
    "         'EADEAF': 12.639397686562715,\n",
    "         'DCCDEF': 16.769485429582115,\n",
    "         'DBDCDC': 14.474392462599267,\n",
    "         'AFBAAF': 10.18958404384257,\n",
    "         'DADBDD': 11.902219677537177,\n",
    "         'CDFBBE': 14.219659680677468,\n",
    "         'CACEBE': 7.43713434666425,\n",
    "         'AFDDBC': 7.378245381252228,\n",
    "         'CBDEFE': 10.883005811699599,\n",
    "         'ECBBEB': 13.346825501979566,\n",
    "         'ACAFDD': 6.185376071510866,\n",
    "         'ACEACA': 7.922259506020709,\n",
    "         'EBADBB': 12.538053632878556}\n",
    "\n",
    "quantity = {'EACCEB': 4,\n",
    "             'DFDABF': 68,\n",
    "             'BDAAAE': 15,\n",
    "             'EBEDCC': 24,\n",
    "             'BBEBFC': 17,\n",
    "             'ADFBDD': 6,\n",
    "             'CFEBDC': 23,\n",
    "             'EADEAF': 54,\n",
    "             'DCCDEF': 90,\n",
    "             'DBDCDC': 83,\n",
    "             'AFBAAF': 3,\n",
    "             'DADBDD': 39,\n",
    "             'CDFBBE': 54,\n",
    "             'CACEBE': 35,\n",
    "             'AFDDBC': 44,\n",
    "             'CBDEFE': 34,\n",
    "             'ECBBEB': 69,\n",
    "             'ACAFDD': 42,\n",
    "             'ACEACA': 86,\n",
    "             'EBADBB': 81}"
   ]
  },
  {
   "cell_type": "markdown",
   "metadata": {},
   "source": [
    "Méthode longue :"
   ]
  },
  {
   "cell_type": "code",
   "execution_count": 11,
   "metadata": {
    "ExecuteTime": {
     "end_time": "2022-05-17T09:10:02.139378Z",
     "start_time": "2022-05-17T09:10:02.131743Z"
    }
   },
   "outputs": [
    {
     "data": {
      "text/plain": [
       "[16.20509873265647,\n",
       " 17.804842271631575,\n",
       " 6.034132127038211,\n",
       " 8.765726919661395,\n",
       " 9.670745692995943,\n",
       " 13.272839706755306,\n",
       " 7.073517242369817,\n",
       " 12.639397686562715,\n",
       " 16.769485429582115,\n",
       " 14.474392462599267,\n",
       " 10.18958404384257,\n",
       " 11.902219677537177,\n",
       " 14.219659680677468,\n",
       " 7.43713434666425,\n",
       " 7.378245381252228,\n",
       " 10.883005811699599,\n",
       " 13.346825501979566,\n",
       " 6.185376071510866,\n",
       " 7.922259506020709,\n",
       " 12.538053632878556]"
      ]
     },
     "execution_count": 11,
     "metadata": {},
     "output_type": "execute_result"
    }
   ],
   "source": [
    "list(prices.values())"
   ]
  },
  {
   "cell_type": "code",
   "execution_count": 23,
   "metadata": {
    "ExecuteTime": {
     "end_time": "2022-05-17T09:16:49.699830Z",
     "start_time": "2022-05-17T09:16:49.691982Z"
    }
   },
   "outputs": [
    {
     "data": {
      "text/plain": [
       "[4, 68, 15, 24, 17, 6, 23, 54, 90, 83, 3, 39, 54, 35, 44, 34, 69, 42, 86, 81]"
      ]
     },
     "execution_count": 23,
     "metadata": {},
     "output_type": "execute_result"
    }
   ],
   "source": [
    "list(quantity.values())"
   ]
  },
  {
   "cell_type": "code",
   "execution_count": 16,
   "metadata": {
    "ExecuteTime": {
     "end_time": "2022-05-17T09:12:48.589900Z",
     "start_time": "2022-05-17T09:12:48.581370Z"
    }
   },
   "outputs": [],
   "source": [
    "p = np.array(list(prices.values()))\n",
    "q = np.array(list(quantity.values()))"
   ]
  },
  {
   "cell_type": "code",
   "execution_count": 17,
   "metadata": {
    "ExecuteTime": {
     "end_time": "2022-05-17T09:12:49.548039Z",
     "start_time": "2022-05-17T09:12:49.538664Z"
    }
   },
   "outputs": [
    {
     "data": {
      "text/plain": [
       "12.022411598561066"
      ]
     },
     "execution_count": 17,
     "metadata": {},
     "output_type": "execute_result"
    }
   ],
   "source": [
    "sum(p * q) / q.sum()"
   ]
  },
  {
   "cell_type": "code",
   "execution_count": 21,
   "metadata": {
    "ExecuteTime": {
     "end_time": "2022-05-17T09:14:54.871887Z",
     "start_time": "2022-05-17T09:14:54.864513Z"
    },
    "scrolled": true
   },
   "outputs": [
    {
     "data": {
      "text/plain": [
       "12.022411598561066"
      ]
     },
     "execution_count": 21,
     "metadata": {},
     "output_type": "execute_result"
    }
   ],
   "source": [
    "# Valeur moyenne pour 1 produit\n",
    "np.average(list(prices.values()), weights=list(quantity.values()))"
   ]
  },
  {
   "cell_type": "code",
   "execution_count": 19,
   "metadata": {
    "ExecuteTime": {
     "end_time": "2022-05-17T09:13:22.977371Z",
     "start_time": "2022-05-17T09:13:22.969687Z"
    }
   },
   "outputs": [
    {
     "data": {
      "text/plain": [
       "523.5760251173344"
      ]
     },
     "execution_count": 19,
     "metadata": {},
     "output_type": "execute_result"
    }
   ],
   "source": [
    "# Valeur moyenne pour 1 catégorie\n",
    "np.mean(q * p)"
   ]
  },
  {
   "cell_type": "markdown",
   "metadata": {},
   "source": [
    "## Pandas"
   ]
  },
  {
   "cell_type": "markdown",
   "metadata": {
    "ExecuteTime": {
     "end_time": "2020-06-08T16:22:02.282494Z",
     "start_time": "2020-06-08T16:22:02.253002Z"
    }
   },
   "source": [
    "### Exercice 1 – Au coeur des marchés financiers (**)\n",
    "\n",
    "Créer un DataFrame contenant la valeur de l'index du CAC40 sur le dernier mois.\n",
    "\n",
    "Ensuite, afficher 10 lignes prises au hasard et compter le nombre de colonnes dans le DataFrame.\n",
    "\n",
    "_Indice : [Yahoo Finance](https://finance.yahoo.com/quote/%5EFCHI/history/?guccounter=1&guce_referrer=aHR0cHM6Ly93d3cuZ29vZ2xlLmNvbS8&guce_referrer_sig=AQAAAKMlF49BUCnyOd_XKPns3bykhS6nmVu9Sn4Zn4DfuQAu6MYKL1JwEgjaMyUm8JvpwjxuDyy4ItGvnyw5bMr9YVwlOACJEAT2J0G28B8O5uhft6fSMADvYzNv5huL3aluRW5qngzh57FST4hbiGNod8ewfnfR9Dx1RZq7TfHlvpTK) est un bon site pour obtenir des données financières. Il existe ensuite plusieurs manières de charger les données Yahoo Finance dans ce notebook._"
   ]
  },
  {
   "cell_type": "code",
   "execution_count": 30,
   "metadata": {
    "ExecuteTime": {
     "end_time": "2022-05-17T09:32:48.961791Z",
     "start_time": "2022-05-17T09:32:48.958261Z"
    },
    "scrolled": false
   },
   "outputs": [],
   "source": [
    "import pandas as pd"
   ]
  },
  {
   "cell_type": "code",
   "execution_count": 29,
   "metadata": {
    "ExecuteTime": {
     "end_time": "2022-05-17T09:32:47.686603Z",
     "start_time": "2022-05-17T09:32:47.661631Z"
    }
   },
   "outputs": [
    {
     "data": {
      "text/html": [
       "<div>\n",
       "<style scoped>\n",
       "    .dataframe tbody tr th:only-of-type {\n",
       "        vertical-align: middle;\n",
       "    }\n",
       "\n",
       "    .dataframe tbody tr th {\n",
       "        vertical-align: top;\n",
       "    }\n",
       "\n",
       "    .dataframe thead th {\n",
       "        text-align: right;\n",
       "    }\n",
       "</style>\n",
       "<table border=\"1\" class=\"dataframe\">\n",
       "  <thead>\n",
       "    <tr style=\"text-align: right;\">\n",
       "      <th></th>\n",
       "      <th>Date</th>\n",
       "      <th>Open</th>\n",
       "      <th>High</th>\n",
       "      <th>Low</th>\n",
       "      <th>Close</th>\n",
       "      <th>Adj Close</th>\n",
       "      <th>Volume</th>\n",
       "    </tr>\n",
       "  </thead>\n",
       "  <tbody>\n",
       "    <tr>\n",
       "      <th>0</th>\n",
       "      <td>2021-05-17</td>\n",
       "      <td>6397.220215</td>\n",
       "      <td>6410.209961</td>\n",
       "      <td>6349.330078</td>\n",
       "      <td>6367.350098</td>\n",
       "      <td>6367.350098</td>\n",
       "      <td>62538700</td>\n",
       "    </tr>\n",
       "    <tr>\n",
       "      <th>1</th>\n",
       "      <td>2021-05-18</td>\n",
       "      <td>6406.180176</td>\n",
       "      <td>6412.910156</td>\n",
       "      <td>6343.549805</td>\n",
       "      <td>6353.669922</td>\n",
       "      <td>6353.669922</td>\n",
       "      <td>74129300</td>\n",
       "    </tr>\n",
       "    <tr>\n",
       "      <th>2</th>\n",
       "      <td>2021-05-19</td>\n",
       "      <td>6292.049805</td>\n",
       "      <td>6310.490234</td>\n",
       "      <td>6192.330078</td>\n",
       "      <td>6262.549805</td>\n",
       "      <td>6262.549805</td>\n",
       "      <td>92757600</td>\n",
       "    </tr>\n",
       "    <tr>\n",
       "      <th>3</th>\n",
       "      <td>2021-05-20</td>\n",
       "      <td>6296.250000</td>\n",
       "      <td>6343.580078</td>\n",
       "      <td>6267.549805</td>\n",
       "      <td>6343.580078</td>\n",
       "      <td>6343.580078</td>\n",
       "      <td>68528400</td>\n",
       "    </tr>\n",
       "    <tr>\n",
       "      <th>4</th>\n",
       "      <td>2021-05-21</td>\n",
       "      <td>6360.879883</td>\n",
       "      <td>6402.100098</td>\n",
       "      <td>6351.950195</td>\n",
       "      <td>6386.410156</td>\n",
       "      <td>6386.410156</td>\n",
       "      <td>75862000</td>\n",
       "    </tr>\n",
       "  </tbody>\n",
       "</table>\n",
       "</div>"
      ],
      "text/plain": [
       "         Date         Open         High          Low        Close  \\\n",
       "0  2021-05-17  6397.220215  6410.209961  6349.330078  6367.350098   \n",
       "1  2021-05-18  6406.180176  6412.910156  6343.549805  6353.669922   \n",
       "2  2021-05-19  6292.049805  6310.490234  6192.330078  6262.549805   \n",
       "3  2021-05-20  6296.250000  6343.580078  6267.549805  6343.580078   \n",
       "4  2021-05-21  6360.879883  6402.100098  6351.950195  6386.410156   \n",
       "\n",
       "     Adj Close    Volume  \n",
       "0  6367.350098  62538700  \n",
       "1  6353.669922  74129300  \n",
       "2  6262.549805  92757600  \n",
       "3  6343.580078  68528400  \n",
       "4  6386.410156  75862000  "
      ]
     },
     "execution_count": 29,
     "metadata": {},
     "output_type": "execute_result"
    }
   ],
   "source": [
    "cac40 = pd.read_csv(\"/Users/thibaultdanel/Downloads/^FCHI.csv\")\n",
    "cac40.head()"
   ]
  },
  {
   "cell_type": "code",
   "execution_count": 28,
   "metadata": {
    "ExecuteTime": {
     "end_time": "2022-05-17T09:32:44.736301Z",
     "start_time": "2022-05-17T09:32:44.670789Z"
    },
    "scrolled": false
   },
   "outputs": [
    {
     "data": {
      "text/html": [
       "<div>\n",
       "<style scoped>\n",
       "    .dataframe tbody tr th:only-of-type {\n",
       "        vertical-align: middle;\n",
       "    }\n",
       "\n",
       "    .dataframe tbody tr th {\n",
       "        vertical-align: top;\n",
       "    }\n",
       "\n",
       "    .dataframe thead th {\n",
       "        text-align: right;\n",
       "    }\n",
       "</style>\n",
       "<table border=\"1\" class=\"dataframe\">\n",
       "  <thead>\n",
       "    <tr style=\"text-align: right;\">\n",
       "      <th></th>\n",
       "      <th>/Users/thibaultdanel/Downloads/^FCHI.csv</th>\n",
       "    </tr>\n",
       "  </thead>\n",
       "  <tbody>\n",
       "  </tbody>\n",
       "</table>\n",
       "</div>"
      ],
      "text/plain": [
       "Empty DataFrame\n",
       "Columns: [/Users/thibaultdanel/Downloads/^FCHI.csv]\n",
       "Index: []"
      ]
     },
     "execution_count": 28,
     "metadata": {},
     "output_type": "execute_result"
    }
   ],
   "source": [
    "cac40 = pd.read_clipboard()\n",
    "cac40.head(10)"
   ]
  },
  {
   "cell_type": "code",
   "execution_count": null,
   "metadata": {
    "ExecuteTime": {
     "end_time": "2021-09-14T17:17:02.385596Z",
     "start_time": "2021-09-14T17:17:02.169219Z"
    },
    "scrolled": true
   },
   "outputs": [],
   "source": [
    "cac40.sample(10)"
   ]
  },
  {
   "cell_type": "code",
   "execution_count": null,
   "metadata": {
    "ExecuteTime": {
     "end_time": "2021-09-14T17:17:18.663826Z",
     "start_time": "2021-09-14T17:17:18.548383Z"
    }
   },
   "outputs": [],
   "source": [
    "cac40.columns"
   ]
  },
  {
   "cell_type": "code",
   "execution_count": null,
   "metadata": {
    "ExecuteTime": {
     "end_time": "2021-09-14T17:17:45.197890Z",
     "start_time": "2021-09-14T17:17:45.159633Z"
    }
   },
   "outputs": [],
   "source": [
    "len(cac40.columns)"
   ]
  },
  {
   "cell_type": "markdown",
   "metadata": {},
   "source": [
    "### Exercice 2 – Comprendre un DataFrame (*)\n",
    "\n",
    "Sur la DatafFrame `users` (voir plus bas) :\n",
    "* Quel est le nombre d'observations dans le dataset ?\n",
    "* Quel est le nombre de colonnes dans le dataset ?\n",
    "* Afficher le nom de toutes les colonnes\n",
    "\n",
    "BONUS :\n",
    "\n",
    "* Renommer la colonne `postal_code`, `zip_code`\n",
    "* Quel est le type de données de chaque colonne ?\n",
    "* Combien d'`occupation` différentes y a-t-il dans ce dataset ?\n",
    "* Quel est l'`occupation` la plus fréquente ?\n",
    "* Quels sont les âges les moins fréquents ?"
   ]
  },
  {
   "cell_type": "code",
   "execution_count": null,
   "metadata": {
    "ExecuteTime": {
     "end_time": "2021-09-14T17:20:26.870863Z",
     "start_time": "2021-09-14T17:20:21.875923Z"
    }
   },
   "outputs": [],
   "source": [
    "users = pd.read_csv('https://raw.githubusercontent.com/justmarkham/DAT8/master/data/u.user', \n",
    "                      sep='|', index_col='user_id')\n",
    "users.head()"
   ]
  },
  {
   "cell_type": "code",
   "execution_count": null,
   "metadata": {
    "ExecuteTime": {
     "end_time": "2021-09-14T17:21:44.531483Z",
     "start_time": "2021-09-14T17:21:44.440633Z"
    }
   },
   "outputs": [],
   "source": [
    "len(users) # nombre d'observations"
   ]
  },
  {
   "cell_type": "code",
   "execution_count": null,
   "metadata": {
    "ExecuteTime": {
     "end_time": "2021-09-14T17:21:51.965515Z",
     "start_time": "2021-09-14T17:21:51.905924Z"
    }
   },
   "outputs": [],
   "source": [
    "users.shape[0] # nombre d'observations"
   ]
  },
  {
   "cell_type": "code",
   "execution_count": null,
   "metadata": {
    "ExecuteTime": {
     "end_time": "2021-09-14T17:22:19.911644Z",
     "start_time": "2021-09-14T17:22:19.888583Z"
    }
   },
   "outputs": [],
   "source": [
    "users.shape[1]  # nombre de colonnes"
   ]
  },
  {
   "cell_type": "code",
   "execution_count": null,
   "metadata": {
    "ExecuteTime": {
     "end_time": "2021-09-14T17:22:25.195933Z",
     "start_time": "2021-09-14T17:22:25.160789Z"
    },
    "scrolled": true
   },
   "outputs": [],
   "source": [
    "users.columns  # noms des colonnes"
   ]
  },
  {
   "cell_type": "code",
   "execution_count": null,
   "metadata": {
    "ExecuteTime": {
     "end_time": "2021-09-14T17:23:25.149901Z",
     "start_time": "2021-09-14T17:23:24.900854Z"
    }
   },
   "outputs": [],
   "source": [
    "# Renommer les colonnes\n",
    "users.columns = ['age', 'gender', 'occupation', 'postal_code']\n",
    "users"
   ]
  },
  {
   "cell_type": "code",
   "execution_count": null,
   "metadata": {
    "ExecuteTime": {
     "end_time": "2021-09-14T17:23:57.294046Z",
     "start_time": "2021-09-14T17:23:57.031781Z"
    },
    "scrolled": false
   },
   "outputs": [],
   "source": [
    "# Renommer une colonne\n",
    "users = users.rename(columns={'postal_code':'zip_code', 'occupation':'metier'})\n",
    "users"
   ]
  },
  {
   "cell_type": "code",
   "execution_count": null,
   "metadata": {
    "ExecuteTime": {
     "end_time": "2021-09-14T17:24:15.732950Z",
     "start_time": "2021-09-14T17:24:15.393592Z"
    }
   },
   "outputs": [],
   "source": [
    "users.info()  # types des colonnes"
   ]
  },
  {
   "cell_type": "code",
   "execution_count": null,
   "metadata": {
    "ExecuteTime": {
     "end_time": "2021-09-14T17:24:43.391336Z",
     "start_time": "2021-09-14T17:24:43.356284Z"
    }
   },
   "outputs": [],
   "source": [
    "users.dtypes  # types des colonnes"
   ]
  },
  {
   "cell_type": "code",
   "execution_count": null,
   "metadata": {
    "ExecuteTime": {
     "end_time": "2021-09-14T17:25:29.625380Z",
     "start_time": "2021-09-14T17:25:29.604302Z"
    }
   },
   "outputs": [],
   "source": [
    "len(users['metier'].unique()) # nb of different occupations"
   ]
  },
  {
   "cell_type": "code",
   "execution_count": null,
   "metadata": {
    "ExecuteTime": {
     "end_time": "2021-09-14T17:25:36.873519Z",
     "start_time": "2021-09-14T17:25:36.837443Z"
    }
   },
   "outputs": [],
   "source": [
    "users['metier'].value_counts() # occupation la plus fréquente "
   ]
  },
  {
   "cell_type": "code",
   "execution_count": null,
   "metadata": {
    "ExecuteTime": {
     "end_time": "2021-09-14T17:25:51.116566Z",
     "start_time": "2021-09-14T17:25:51.076139Z"
    }
   },
   "outputs": [],
   "source": [
    "users['metier'].mode() # occupation la plus fréquente "
   ]
  },
  {
   "cell_type": "code",
   "execution_count": null,
   "metadata": {
    "ExecuteTime": {
     "end_time": "2021-09-14T17:26:36.787564Z",
     "start_time": "2021-09-14T17:26:36.494636Z"
    }
   },
   "outputs": [],
   "source": [
    "users['age'].value_counts().tail(10)  # age le moins fréquent"
   ]
  },
  {
   "cell_type": "code",
   "execution_count": null,
   "metadata": {},
   "outputs": [],
   "source": []
  }
 ],
 "metadata": {
  "hide_input": false,
  "kernelspec": {
   "display_name": "Python 3 (ipykernel)",
   "language": "python",
   "name": "python3"
  },
  "language_info": {
   "codemirror_mode": {
    "name": "ipython",
    "version": 3
   },
   "file_extension": ".py",
   "mimetype": "text/x-python",
   "name": "python",
   "nbconvert_exporter": "python",
   "pygments_lexer": "ipython3",
   "version": "3.9.7"
  },
  "toc": {
   "base_numbering": 1,
   "nav_menu": {},
   "number_sections": true,
   "sideBar": true,
   "skip_h1_title": false,
   "title_cell": "Table of Contents",
   "title_sidebar": "Contents",
   "toc_cell": false,
   "toc_position": {},
   "toc_section_display": true,
   "toc_window_display": true
  },
  "varInspector": {
   "cols": {
    "lenName": 16,
    "lenType": 16,
    "lenVar": 40
   },
   "kernels_config": {
    "python": {
     "delete_cmd_postfix": "",
     "delete_cmd_prefix": "del ",
     "library": "var_list.py",
     "varRefreshCmd": "print(var_dic_list())"
    },
    "r": {
     "delete_cmd_postfix": ") ",
     "delete_cmd_prefix": "rm(",
     "library": "var_list.r",
     "varRefreshCmd": "cat(var_dic_list()) "
    }
   },
   "types_to_exclude": [
    "module",
    "function",
    "builtin_function_or_method",
    "instance",
    "_Feature"
   ],
   "window_display": false
  }
 },
 "nbformat": 4,
 "nbformat_minor": 2
}
