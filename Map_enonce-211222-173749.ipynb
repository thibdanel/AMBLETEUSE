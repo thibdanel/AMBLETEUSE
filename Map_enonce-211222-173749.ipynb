{
 "cells": [
  {
   "cell_type": "markdown",
   "metadata": {},
   "source": [
    "## Map et Filter"
   ]
  },
  {
   "cell_type": "markdown",
   "metadata": {},
   "source": [
    "### Exercice 1 – Nombres impairs (*)\n",
    "\n",
    "Ecrire un programme Python qui n'affiche que les nombres impairs de la liste ci-dessous."
   ]
  },
  {
   "cell_type": "code",
   "execution_count": 25,
   "metadata": {
    "ExecuteTime": {
     "end_time": "2022-05-12T12:52:56.460683Z",
     "start_time": "2022-05-12T12:52:56.456455Z"
    }
   },
   "outputs": [],
   "source": [
    "test_list = [1, 2, 5, -1, 89, 222]"
   ]
  },
  {
   "cell_type": "code",
   "execution_count": 38,
   "metadata": {
    "ExecuteTime": {
     "end_time": "2022-05-12T12:58:46.562884Z",
     "start_time": "2022-05-12T12:58:46.558522Z"
    }
   },
   "outputs": [],
   "source": [
    "def impair(x):\n",
    "    return x%2 == 1"
   ]
  },
  {
   "cell_type": "code",
   "execution_count": 39,
   "metadata": {
    "ExecuteTime": {
     "end_time": "2022-05-12T12:59:09.614379Z",
     "start_time": "2022-05-12T12:59:09.608165Z"
    }
   },
   "outputs": [
    {
     "data": {
      "text/plain": [
       "[1, 5, -1, 89]"
      ]
     },
     "execution_count": 39,
     "metadata": {},
     "output_type": "execute_result"
    }
   ],
   "source": [
    "list(filter(impair, test_list))"
   ]
  },
  {
   "cell_type": "markdown",
   "metadata": {},
   "source": [
    "### Exercice 2 – Convertir les dates en jour manuellement  (***)\n",
    "\n",
    "Ecrire un programme Python qui convertit une liste de numéros de jours du mois (c'est-à-dire une liste de nombres entre 1 et 31) en une liste de noms de jours (c'est-à-dire une liste de strings entre \"lundi\" et \"dimanche\"). \n",
    "\n",
    "On suppose que le 1er jour du mois ci-dessous est un lundi.\n",
    "\n",
    "_Indice : L'une des solutions implique de créer un dictionnaire de correspondances entre les numéros des jours de la semaine et leur nom (de 0 : \"lundi\" à 6 : \"dimanche\")._"
   ]
  },
  {
   "cell_type": "code",
   "execution_count": 41,
   "metadata": {
    "ExecuteTime": {
     "end_time": "2022-05-12T12:59:34.210738Z",
     "start_time": "2022-05-12T12:59:34.206594Z"
    }
   },
   "outputs": [],
   "source": [
    "jours = [21, 26,  7, 11, 14, 29, 24, 24, 14, 18]"
   ]
  },
  {
   "cell_type": "code",
   "execution_count": 40,
   "metadata": {
    "ExecuteTime": {
     "end_time": "2022-05-12T12:59:32.596529Z",
     "start_time": "2022-05-12T12:59:32.591727Z"
    }
   },
   "outputs": [],
   "source": [
    "nom = {0: \"lundi\", 1: \"Mardi\", 2: \"Mercredi\", 3: \"Jeudi\", 4:\"Vendredi\", 5:\"Samedi\", 6: \"Dimanche\"}"
   ]
  },
  {
   "cell_type": "code",
   "execution_count": 49,
   "metadata": {
    "ExecuteTime": {
     "end_time": "2022-05-12T13:04:16.778768Z",
     "start_time": "2022-05-12T13:04:16.771437Z"
    }
   },
   "outputs": [
    {
     "data": {
      "text/plain": [
       "[(21, 'lundi'),\n",
       " (26, 'Samedi'),\n",
       " (7, 'lundi'),\n",
       " (11, 'Vendredi'),\n",
       " (14, 'lundi'),\n",
       " (29, 'Mardi'),\n",
       " (24, 'Jeudi'),\n",
       " (24, 'Jeudi'),\n",
       " (14, 'lundi'),\n",
       " (18, 'Vendredi')]"
      ]
     },
     "execution_count": 49,
     "metadata": {},
     "output_type": "execute_result"
    }
   ],
   "source": [
    "def day(j):\n",
    "    return j, nom[j%7]\n",
    "\n",
    "list(map(day, jours))"
   ]
  },
  {
   "cell_type": "markdown",
   "metadata": {},
   "source": [
    "### Exercice 3 - Les 0 consécutifs (***)\n",
    "\n",
    "Ecrire un programme Python qui donne la longueur de la plus longue série de zéros dans une chaîne de caractères binaires. \n",
    "\n",
    "_Indice : Essayer d'abord avec une boucle. Ensuite, une solution bonus utilise la fonction `map`._"
   ]
  },
  {
   "cell_type": "code",
   "execution_count": 50,
   "metadata": {
    "ExecuteTime": {
     "end_time": "2022-05-12T13:18:59.846807Z",
     "start_time": "2022-05-12T13:18:59.828363Z"
    },
    "code_folding": [
     3
    ]
   },
   "outputs": [],
   "source": [
    "binaire_1 = '111000001000110'\n",
    "binaire_2 = '111000111'"
   ]
  },
  {
   "cell_type": "code",
   "execution_count": 97,
   "metadata": {
    "ExecuteTime": {
     "end_time": "2022-05-12T16:52:25.424627Z",
     "start_time": "2022-05-12T16:52:25.413845Z"
    }
   },
   "outputs": [
    {
     "data": {
      "text/plain": [
       "9"
      ]
     },
     "execution_count": 97,
     "metadata": {},
     "output_type": "execute_result"
    }
   ],
   "source": [
    "result = 0\n",
    "for i in binaire_1:\n",
    "    if i == '1':\n",
    "        result += 0\n",
    "    else: result += 1\n",
    "result"
   ]
  },
  {
   "cell_type": "code",
   "execution_count": 106,
   "metadata": {
    "ExecuteTime": {
     "end_time": "2022-05-12T16:58:30.934794Z",
     "start_time": "2022-05-12T16:58:30.928427Z"
    }
   },
   "outputs": [
    {
     "data": {
      "text/plain": [
       "['T', 'h', 'i', 'b', 'a', 'u', 'l', 't']"
      ]
     },
     "execution_count": 106,
     "metadata": {},
     "output_type": "execute_result"
    }
   ],
   "source": [
    "t = \"Thibault\"\n",
    "t = list(t)\n",
    "t"
   ]
  },
  {
   "cell_type": "code",
   "execution_count": 112,
   "metadata": {
    "ExecuteTime": {
     "end_time": "2022-05-12T17:01:28.474555Z",
     "start_time": "2022-05-12T17:01:28.467667Z"
    }
   },
   "outputs": [
    {
     "data": {
      "text/plain": [
       "'Thibault'"
      ]
     },
     "execution_count": 112,
     "metadata": {},
     "output_type": "execute_result"
    }
   ],
   "source": [
    "string = \"\"\n",
    "for i in t:\n",
    "    string += i\n",
    "string"
   ]
  }
 ],
 "metadata": {
  "hide_input": false,
  "kernelspec": {
   "display_name": "Python 3 (ipykernel)",
   "language": "python",
   "name": "python3"
  },
  "language_info": {
   "codemirror_mode": {
    "name": "ipython",
    "version": 3
   },
   "file_extension": ".py",
   "mimetype": "text/x-python",
   "name": "python",
   "nbconvert_exporter": "python",
   "pygments_lexer": "ipython3",
   "version": "3.9.7"
  },
  "toc": {
   "base_numbering": 1,
   "nav_menu": {},
   "number_sections": true,
   "sideBar": true,
   "skip_h1_title": false,
   "title_cell": "Table of Contents",
   "title_sidebar": "Contents",
   "toc_cell": false,
   "toc_position": {},
   "toc_section_display": true,
   "toc_window_display": true
  },
  "varInspector": {
   "cols": {
    "lenName": 16,
    "lenType": 16,
    "lenVar": 40
   },
   "kernels_config": {
    "python": {
     "delete_cmd_postfix": "",
     "delete_cmd_prefix": "del ",
     "library": "var_list.py",
     "varRefreshCmd": "print(var_dic_list())"
    },
    "r": {
     "delete_cmd_postfix": ") ",
     "delete_cmd_prefix": "rm(",
     "library": "var_list.r",
     "varRefreshCmd": "cat(var_dic_list()) "
    }
   },
   "types_to_exclude": [
    "module",
    "function",
    "builtin_function_or_method",
    "instance",
    "_Feature"
   ],
   "window_display": false
  }
 },
 "nbformat": 4,
 "nbformat_minor": 4
}
