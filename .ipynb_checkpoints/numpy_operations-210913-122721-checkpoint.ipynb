{
 "cells": [
  {
   "cell_type": "markdown",
   "metadata": {},
   "source": [
    "# Numpy"
   ]
  },
  {
   "cell_type": "code",
   "execution_count": null,
   "metadata": {
    "ExecuteTime": {
     "end_time": "2021-07-27T14:15:36.442171Z",
     "start_time": "2021-07-27T14:15:35.931875Z"
    }
   },
   "outputs": [],
   "source": [
    "import numpy as np"
   ]
  },
  {
   "cell_type": "markdown",
   "metadata": {},
   "source": [
    "### Opérations sur les arrays numpy"
   ]
  },
  {
   "cell_type": "markdown",
   "metadata": {},
   "source": [
    "Les opérations autorisées sur les arrays sont plus nombreuses que sur les listes - c'est un avantage de numpy."
   ]
  },
  {
   "cell_type": "code",
   "execution_count": null,
   "metadata": {
    "ExecuteTime": {
     "end_time": "2021-07-27T15:09:47.809880Z",
     "start_time": "2021-07-27T15:09:47.755469Z"
    },
    "scrolled": true
   },
   "outputs": [],
   "source": [
    "2 * [10, 20, 30] / 10"
   ]
  },
  {
   "cell_type": "markdown",
   "metadata": {},
   "source": [
    "Avec une liste on aurait besoin d'une boucle ! Mais pas avec numpy :"
   ]
  },
  {
   "cell_type": "code",
   "execution_count": null,
   "metadata": {
    "ExecuteTime": {
     "end_time": "2021-07-27T15:10:53.056653Z",
     "start_time": "2021-07-27T15:10:53.048578Z"
    },
    "scrolled": true
   },
   "outputs": [],
   "source": [
    "2 * np.array([10, 20, 30]) / 10"
   ]
  },
  {
   "cell_type": "markdown",
   "metadata": {},
   "source": [
    "En plus de ces opérations simples, de nombreuses méthodes existent pour créer et transformer des arrays :"
   ]
  },
  {
   "cell_type": "code",
   "execution_count": null,
   "metadata": {
    "ExecuteTime": {
     "end_time": "2021-07-27T15:11:40.484599Z",
     "start_time": "2021-07-27T15:11:40.476671Z"
    }
   },
   "outputs": [],
   "source": [
    "np.zeros((3, 3))"
   ]
  },
  {
   "cell_type": "code",
   "execution_count": null,
   "metadata": {
    "ExecuteTime": {
     "end_time": "2021-07-27T15:16:54.024773Z",
     "start_time": "2021-07-27T15:16:54.015125Z"
    },
    "scrolled": true
   },
   "outputs": [],
   "source": [
    "eight_digits = np.arange(9) # similaire à range(9) pour les listes\n",
    "eight_digits"
   ]
  },
  {
   "cell_type": "code",
   "execution_count": null,
   "metadata": {
    "ExecuteTime": {
     "end_time": "2021-07-27T15:16:56.594156Z",
     "start_time": "2021-07-27T15:16:56.581359Z"
    }
   },
   "outputs": [],
   "source": [
    "eight_digits.shape"
   ]
  },
  {
   "cell_type": "code",
   "execution_count": null,
   "metadata": {
    "ExecuteTime": {
     "end_time": "2021-07-27T15:16:58.710299Z",
     "start_time": "2021-07-27T15:16:58.698965Z"
    }
   },
   "outputs": [],
   "source": [
    "eight_digits.reshape((3, 3)) # on indique la shape souhaitée en argument"
   ]
  },
  {
   "cell_type": "markdown",
   "metadata": {
    "ExecuteTime": {
     "end_time": "2020-06-02T13:59:39.708538Z",
     "start_time": "2020-06-02T13:59:39.701702Z"
    }
   },
   "source": [
    "Enfin, les calculs sur des array sont généralement plus rapides que sur des listes.\n",
    "\n",
    "Comparons les 2 méthodes sur une opération simple, diviser une série d'1 million d'éléments. Est-il mieux de le faire avec une  `list` ou un  `array` ?"
   ]
  },
  {
   "cell_type": "code",
   "execution_count": null,
   "metadata": {
    "ExecuteTime": {
     "end_time": "2021-07-27T15:13:43.434268Z",
     "start_time": "2021-07-27T15:13:43.152873Z"
    }
   },
   "outputs": [],
   "source": [
    "%%time\n",
    "\n",
    "numbers_list = list(range(1000000))\n",
    "\n",
    "for i in range(len(numbers_list)):\n",
    "    numbers_list[i] = numbers_list[i] / 2"
   ]
  },
  {
   "cell_type": "code",
   "execution_count": null,
   "metadata": {
    "ExecuteTime": {
     "end_time": "2021-07-27T15:13:49.255708Z",
     "start_time": "2021-07-27T15:13:49.216294Z"
    },
    "scrolled": true
   },
   "outputs": [],
   "source": [
    "%%time\n",
    "\n",
    "numbers_array = np.arange(1000000)\n",
    "\n",
    "doubled_array = 2 * numbers_array"
   ]
  },
  {
   "cell_type": "markdown",
   "metadata": {},
   "source": [
    "Essayez de deviner l'output de la prochaine cellule :"
   ]
  },
  {
   "cell_type": "code",
   "execution_count": null,
   "metadata": {
    "ExecuteTime": {
     "end_time": "2021-07-27T15:13:55.286423Z",
     "start_time": "2021-07-27T15:13:55.278131Z"
    }
   },
   "outputs": [],
   "source": [
    "doubled_array[:5]"
   ]
  },
  {
   "cell_type": "markdown",
   "metadata": {},
   "source": [
    "Les arrays sont nettement plus rapides - et plus la taille des données augmentera, plus l'utilisation de Numpy deviendra pertinente (en plus d'être plus lisible). \n",
    "\n",
    "C'est la raison pour laquelle les tableaux pandas, que nous allons étudier juste après, sont fondés sur des arrays numpy ! Rendez-vous dans la suite du module pour commencer à analyser des données sous forme de tableaux avec Pandas."
   ]
  },
  {
   "cell_type": "code",
   "execution_count": null,
   "metadata": {},
   "outputs": [],
   "source": []
  }
 ],
 "metadata": {
  "hide_input": false,
  "kernelspec": {
   "display_name": "Python 3",
   "language": "python",
   "name": "python3"
  },
  "language_info": {
   "codemirror_mode": {
    "name": "ipython",
    "version": 3
   },
   "file_extension": ".py",
   "mimetype": "text/x-python",
   "name": "python",
   "nbconvert_exporter": "python",
   "pygments_lexer": "ipython3",
   "version": "3.9.1"
  },
  "toc": {
   "base_numbering": 1,
   "nav_menu": {},
   "number_sections": true,
   "sideBar": true,
   "skip_h1_title": false,
   "title_cell": "Table of Contents",
   "title_sidebar": "Contents",
   "toc_cell": false,
   "toc_position": {},
   "toc_section_display": true,
   "toc_window_display": false
  }
 },
 "nbformat": 4,
 "nbformat_minor": 4
}
