{
 "cells": [
  {
   "cell_type": "markdown",
   "metadata": {},
   "source": [
    "## Indexing et Slicing"
   ]
  },
  {
   "cell_type": "markdown",
   "metadata": {},
   "source": [
    "Nous en avons déjà fait, mais formalisons cette méthode et apprenons ensemble quelques astuces !\\\n",
    "<br>\n",
    "Pour accéder à un élément d'une structure ordonnée (liste, tuple, str) selon sa position, on utilise les 'square brackets' `[]` : c'est le slicing.\n",
    "\n",
    "C'est l'une des fonctionnalités les plus puissantes de Python : accéder facilement aux éléments.\n",
    "\n",
    "Pour tout comprendre au slicing : https://www.learnbyexample.org/python-list-slicing/"
   ]
  },
  {
   "cell_type": "code",
   "execution_count": null,
   "metadata": {
    "ExecuteTime": {
     "end_time": "2021-07-27T13:40:21.827275Z",
     "start_time": "2021-07-27T13:40:21.803522Z"
    }
   },
   "outputs": [],
   "source": [
    "sales_per_year = [9, 10, 10, 13, 15, 18, 20]\n",
    "sales_per_year"
   ]
  },
  {
   "cell_type": "code",
   "execution_count": null,
   "metadata": {
    "ExecuteTime": {
     "end_time": "2021-07-27T13:40:22.006657Z",
     "start_time": "2021-07-27T13:40:21.998392Z"
    }
   },
   "outputs": [],
   "source": [
    "sales_per_year[0]"
   ]
  },
  {
   "cell_type": "markdown",
   "metadata": {},
   "source": [
    "Le slicing peut être plus complexe que simplement choisir un élément. Il est possible d'accéder à certaines parties de sa liste. On utilise la notation `:` pour indiquer un **intervalle** à obtenir : "
   ]
  },
  {
   "cell_type": "code",
   "execution_count": null,
   "metadata": {
    "ExecuteTime": {
     "end_time": "2021-07-27T13:40:22.404945Z",
     "start_time": "2021-07-27T13:40:22.397006Z"
    }
   },
   "outputs": [],
   "source": [
    "sales_per_year[0:3]"
   ]
  },
  {
   "cell_type": "code",
   "execution_count": null,
   "metadata": {
    "ExecuteTime": {
     "end_time": "2021-07-27T13:40:22.577377Z",
     "start_time": "2021-07-27T13:40:22.569541Z"
    },
    "scrolled": true
   },
   "outputs": [],
   "source": [
    "sales_per_year[:3]"
   ]
  },
  {
   "cell_type": "markdown",
   "metadata": {
    "ExecuteTime": {
     "end_time": "2021-01-13T18:20:28.037034Z",
     "start_time": "2021-01-13T18:20:28.033248Z"
    }
   },
   "source": [
    "Attention au décalage : l'indexing commence à 0 en Python, et 'exclut' le dernier élément (quand on demande l'intervalle `[0:3]`, on obtient les valeurs de positions `0`, `1` et `2`)."
   ]
  },
  {
   "cell_type": "markdown",
   "metadata": {},
   "source": [
    "On peut spéficier un troisième nombre, la taille du pas : "
   ]
  },
  {
   "cell_type": "code",
   "execution_count": null,
   "metadata": {
    "ExecuteTime": {
     "end_time": "2021-07-27T13:40:47.251916Z",
     "start_time": "2021-07-27T13:40:47.244279Z"
    },
    "scrolled": true
   },
   "outputs": [],
   "source": [
    "sales_per_year[0:5:2] # La liste originale est [9, 10, 10, 13, 15, 18, 20]"
   ]
  },
  {
   "cell_type": "markdown",
   "metadata": {},
   "source": [
    "On peut également compter et afficher les éléments d'une liste _en partant de la fin_ avec le signe `-` :"
   ]
  },
  {
   "cell_type": "code",
   "execution_count": null,
   "metadata": {
    "ExecuteTime": {
     "end_time": "2021-07-27T13:40:47.745763Z",
     "start_time": "2021-07-27T13:40:47.734871Z"
    }
   },
   "outputs": [],
   "source": [
    "sales_per_year"
   ]
  },
  {
   "cell_type": "code",
   "execution_count": null,
   "metadata": {
    "ExecuteTime": {
     "end_time": "2021-07-27T13:37:47.472641Z",
     "start_time": "2021-07-27T13:37:47.466350Z"
    }
   },
   "outputs": [],
   "source": [
    "sales_per_year[-1]"
   ]
  },
  {
   "cell_type": "code",
   "execution_count": null,
   "metadata": {
    "ExecuteTime": {
     "end_time": "2021-07-27T13:37:48.603089Z",
     "start_time": "2021-07-27T13:37:48.595076Z"
    },
    "scrolled": true
   },
   "outputs": [],
   "source": [
    "sales_per_year[:-3]"
   ]
  },
  {
   "cell_type": "code",
   "execution_count": null,
   "metadata": {
    "ExecuteTime": {
     "end_time": "2021-07-27T13:38:13.241948Z",
     "start_time": "2021-07-27T13:38:13.234531Z"
    }
   },
   "outputs": [],
   "source": [
    "sales_per_year[-3:]"
   ]
  },
  {
   "cell_type": "markdown",
   "metadata": {},
   "source": [
    "Enfin, quelques astuces : prendre un élément sur 2 et inverser l'ordre d'une liste."
   ]
  },
  {
   "cell_type": "code",
   "execution_count": null,
   "metadata": {
    "ExecuteTime": {
     "end_time": "2021-07-27T13:38:42.499030Z",
     "start_time": "2021-07-27T13:38:42.493157Z"
    }
   },
   "outputs": [],
   "source": [
    "sales_per_year[::2] # Affiche toutes les valeurs avec un pas de 2"
   ]
  },
  {
   "cell_type": "code",
   "execution_count": null,
   "metadata": {
    "ExecuteTime": {
     "end_time": "2021-07-27T13:38:42.703086Z",
     "start_time": "2021-07-27T13:38:42.694956Z"
    }
   },
   "outputs": [],
   "source": [
    "sales_per_year[::-1] # Renverse l'ordre de la liste"
   ]
  },
  {
   "cell_type": "code",
   "execution_count": null,
   "metadata": {
    "ExecuteTime": {
     "end_time": "2021-07-27T13:38:43.149605Z",
     "start_time": "2021-07-27T13:38:43.139355Z"
    }
   },
   "outputs": [],
   "source": [
    "word = 'hello'\n",
    "word[::-1]"
   ]
  },
  {
   "cell_type": "markdown",
   "metadata": {},
   "source": [
    "Pour finir, note bonus : la fonction `set()` permet de supprimer les doublons d'une liste."
   ]
  },
  {
   "cell_type": "code",
   "execution_count": null,
   "metadata": {
    "ExecuteTime": {
     "end_time": "2021-07-27T13:40:57.368488Z",
     "start_time": "2021-07-27T13:40:57.359569Z"
    }
   },
   "outputs": [],
   "source": [
    "set(sales_per_year)"
   ]
  },
  {
   "cell_type": "code",
   "execution_count": null,
   "metadata": {},
   "outputs": [],
   "source": []
  }
 ],
 "metadata": {
  "hide_input": false,
  "kernelspec": {
   "display_name": "Python 3",
   "language": "python",
   "name": "python3"
  },
  "language_info": {
   "codemirror_mode": {
    "name": "ipython",
    "version": 3
   },
   "file_extension": ".py",
   "mimetype": "text/x-python",
   "name": "python",
   "nbconvert_exporter": "python",
   "pygments_lexer": "ipython3",
   "version": "3.9.1"
  },
  "toc": {
   "base_numbering": 1,
   "nav_menu": {},
   "number_sections": true,
   "sideBar": true,
   "skip_h1_title": false,
   "title_cell": "Table of Contents",
   "title_sidebar": "Contents",
   "toc_cell": false,
   "toc_position": {},
   "toc_section_display": true,
   "toc_window_display": false
  }
 },
 "nbformat": 4,
 "nbformat_minor": 4
}
