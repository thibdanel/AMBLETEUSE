{
 "cells": [
  {
   "cell_type": "markdown",
   "metadata": {},
   "source": [
    "## String methods : Split et Join"
   ]
  },
  {
   "cell_type": "markdown",
   "metadata": {},
   "source": [
    "Etre capable de manipuler les chaines de caractère est très important pour l'analyse de données avec Python. \n",
    "\n",
    "En effet, les données que l'on reçoit sont rarement bien formatées, il est donc important d'être à l'aise avec les méthodes de nettoyage et de manipulation du texte présentées ci-dessous.\n",
    "\n",
    "Quel est le problème de la liste ci-desous ?"
   ]
  },
  {
   "cell_type": "code",
   "execution_count": null,
   "metadata": {
    "ExecuteTime": {
     "end_time": "2021-09-01T17:36:17.878409Z",
     "start_time": "2021-09-01T17:36:17.831663Z"
    }
   },
   "outputs": [],
   "source": [
    "sales_list = \"128,375,201,429,90,525\""
   ]
  },
  {
   "cell_type": "markdown",
   "metadata": {},
   "source": [
    "Comment stocker toutes ces valeurs dans une liste ?\n",
    "\n",
    "La méthode `split()` permet de découper une chaîne de caractères :"
   ]
  },
  {
   "cell_type": "code",
   "execution_count": null,
   "metadata": {
    "ExecuteTime": {
     "end_time": "2021-09-01T17:37:18.889265Z",
     "start_time": "2021-09-01T17:37:18.765227Z"
    }
   },
   "outputs": [],
   "source": [
    "sales_list_split = sales_list.split(',')\n",
    "sales_list_split"
   ]
  },
  {
   "cell_type": "markdown",
   "metadata": {
    "ExecuteTime": {
     "end_time": "2021-01-14T14:01:14.668564Z",
     "start_time": "2021-01-14T14:01:14.657168Z"
    }
   },
   "source": [
    "Maintenant, si l'on veut appliquer un taux de taxation : "
   ]
  },
  {
   "cell_type": "code",
   "execution_count": null,
   "metadata": {
    "ExecuteTime": {
     "end_time": "2021-09-01T17:38:07.975605Z",
     "start_time": "2021-09-01T17:38:07.702469Z"
    },
    "scrolled": true
   },
   "outputs": [],
   "source": [
    "taxes = 0.2\n",
    "sales_list_split[0] * (1 - taxes)"
   ]
  },
  {
   "cell_type": "markdown",
   "metadata": {},
   "source": [
    "Les valeurs sont toujours sous la forme de strings ! On ne peut pas encore effectuer de calculs.\n",
    "\n",
    "Solution : itérer sur chaque élément et appliquer les bonnes fonctions de transformation. "
   ]
  },
  {
   "cell_type": "code",
   "execution_count": null,
   "metadata": {},
   "outputs": [],
   "source": [
    "sales_list_split = [int(val) * (1 - taxes) for val in sales_list_split]"
   ]
  },
  {
   "cell_type": "code",
   "execution_count": null,
   "metadata": {
    "ExecuteTime": {
     "end_time": "2021-09-01T17:40:10.822542Z",
     "start_time": "2021-09-01T17:40:10.790569Z"
    }
   },
   "outputs": [],
   "source": [
    "for i in range(len(sales_list_split)):\n",
    "    sales_list_split[i] = int(sales_list_split[i]) * (1 - taxes)\n",
    "\n",
    "sales_list_split"
   ]
  },
  {
   "cell_type": "markdown",
   "metadata": {},
   "source": [
    "L'opération inverse à `split` est `join`:"
   ]
  },
  {
   "cell_type": "code",
   "execution_count": null,
   "metadata": {
    "ExecuteTime": {
     "end_time": "2021-07-27T14:11:52.432399Z",
     "start_time": "2021-07-27T14:11:52.420007Z"
    }
   },
   "outputs": [],
   "source": [
    "models = ['MacBook', 'iPad', 'AirPods']\n",
    "\n",
    "meta_model = '-'.join(models)\n",
    "meta_model"
   ]
  },
  {
   "cell_type": "markdown",
   "metadata": {},
   "source": [
    "L'ordre de la syntaxe n'est pas intuitif mais est très important : il s'agit d'une méthode pour les str, on doit donc l'appliquer sur une chaîne de caractères, ici `'-'`."
   ]
  },
  {
   "cell_type": "code",
   "execution_count": null,
   "metadata": {
    "ExecuteTime": {
     "end_time": "2021-07-27T14:11:53.045457Z",
     "start_time": "2021-07-27T14:11:53.030078Z"
    }
   },
   "outputs": [],
   "source": [
    "# Cela renvoie une erreur si l'on essaie d'utiliser join après autre chose qu'un type str\n",
    "models.join('-')"
   ]
  },
  {
   "cell_type": "markdown",
   "metadata": {},
   "source": [
    "Enfin, on pourra concaténer les chaines de caractère simplement grâce aux signes `+` et `*` :"
   ]
  },
  {
   "cell_type": "code",
   "execution_count": null,
   "metadata": {
    "ExecuteTime": {
     "end_time": "2021-07-27T14:12:12.117273Z",
     "start_time": "2021-07-27T14:12:12.110220Z"
    },
    "scrolled": false
   },
   "outputs": [],
   "source": [
    "suffix = 'Pro'\n",
    "for model in models:\n",
    "    print(model + suffix)"
   ]
  },
  {
   "cell_type": "code",
   "execution_count": null,
   "metadata": {
    "ExecuteTime": {
     "end_time": "2021-07-27T14:12:13.689544Z",
     "start_time": "2021-07-27T14:12:13.683857Z"
    }
   },
   "outputs": [],
   "source": [
    "print(suffix * 3)"
   ]
  },
  {
   "cell_type": "code",
   "execution_count": null,
   "metadata": {},
   "outputs": [],
   "source": []
  }
 ],
 "metadata": {
  "hide_input": false,
  "kernelspec": {
   "display_name": "Python 3 (ipykernel)",
   "language": "python",
   "name": "python3"
  },
  "language_info": {
   "codemirror_mode": {
    "name": "ipython",
    "version": 3
   },
   "file_extension": ".py",
   "mimetype": "text/x-python",
   "name": "python",
   "nbconvert_exporter": "python",
   "pygments_lexer": "ipython3",
   "version": "3.9.5"
  },
  "toc": {
   "base_numbering": 1,
   "nav_menu": {},
   "number_sections": true,
   "sideBar": true,
   "skip_h1_title": false,
   "title_cell": "Table of Contents",
   "title_sidebar": "Contents",
   "toc_cell": false,
   "toc_position": {},
   "toc_section_display": true,
   "toc_window_display": false
  }
 },
 "nbformat": 4,
 "nbformat_minor": 4
}
