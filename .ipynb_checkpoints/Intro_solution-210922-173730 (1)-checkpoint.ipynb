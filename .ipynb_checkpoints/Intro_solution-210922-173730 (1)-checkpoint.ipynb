{
 "cells": [
  {
   "cell_type": "markdown",
   "metadata": {},
   "source": [
    "# La grammaire de Python – Solutions"
   ]
  },
  {
   "cell_type": "markdown",
   "metadata": {
    "ExecuteTime": {
     "end_time": "2020-06-07T17:19:27.259741Z",
     "start_time": "2020-06-07T17:19:27.251919Z"
    }
   },
   "source": [
    "Bienvenue dans ce premier notebook d'exercices !\n",
    "\n",
    "Pour tous les exercices, le niveau de difficulté est indiqué par le code suivant :\n",
    "* \\* niveau facile\n",
    "* \\** niveau intermédiaire\n",
    "* \\*** niveau difficile\n",
    "\n",
    "* **@** indique les exercices pour lesquels vous aurez besoin de chercher sur internet pour trouver des pistes de solution ou des exemples de code.\n",
    "\n",
    "_Note : Pour faciliter la navigation dans les exercices, n'hésitez pas à activer l'extension \"Table of Contents\", après avoir installé les extensions de notebook `jupyter_contrib_nbextensions` (voir PDF sur la plateforme)._\n",
    "\n",
    "_Sources : https://www.w3resource.com/python-exercises,\n",
    "          http://swcarpentry.github.io/python-novice-gapminder, Paul-Emile Dugnat, Thomas de Mareuil._"
   ]
  },
  {
   "cell_type": "markdown",
   "metadata": {},
   "source": [
    "## Variables"
   ]
  },
  {
   "cell_type": "markdown",
   "metadata": {},
   "source": [
    "### Exercice 1 - Exécution progressive (*)"
   ]
  },
  {
   "cell_type": "markdown",
   "metadata": {},
   "source": [
    "Remplir les blancs ci-dessous avec la valeur que prend chaque variable à chaque ligne."
   ]
  },
  {
   "cell_type": "code",
   "execution_count": null,
   "metadata": {
    "ExecuteTime": {
     "end_time": "2021-09-13T16:48:27.914314Z",
     "start_time": "2021-09-13T16:48:27.896864Z"
    }
   },
   "outputs": [],
   "source": [
    "# Commande  # Valeur de x   # Valeur de y   # Valeur de swap #\n",
    "x = 1.0    #    1.0       #    non déf   #     non def   #\n",
    "y = 3.0    #     1.0      #     3.0      #     non def   #\n",
    "swap = x   #     1.0      #     3.0      #      1.0      #\n",
    "x = y      #     3.0      #     3.0      #     1.0       #\n",
    "y = swap   #     3.0      #     1.0      #     1.0       #"
   ]
  },
  {
   "cell_type": "markdown",
   "metadata": {},
   "source": [
    "### Exercice 2 - Changement de variables (*)"
   ]
  },
  {
   "cell_type": "markdown",
   "metadata": {},
   "source": [
    "Sans faire tourner le programme, essayer de deviner quelle est la valeur finale de la variable `position`. "
   ]
  },
  {
   "cell_type": "code",
   "execution_count": null,
   "metadata": {
    "ExecuteTime": {
     "end_time": "2021-09-13T16:50:02.189218Z",
     "start_time": "2021-09-13T16:50:02.116720Z"
    }
   },
   "outputs": [],
   "source": [
    "initial = 'left'\n",
    "position = initial\n",
    "initial = 'right'"
   ]
  },
  {
   "cell_type": "code",
   "execution_count": null,
   "metadata": {
    "ExecuteTime": {
     "end_time": "2021-09-13T16:50:02.779156Z",
     "start_time": "2021-09-13T16:50:02.744156Z"
    }
   },
   "outputs": [],
   "source": [
    "position"
   ]
  },
  {
   "cell_type": "markdown",
   "metadata": {},
   "source": [
    "SOLUTION : Position vaudra encore `left`."
   ]
  },
  {
   "cell_type": "markdown",
   "metadata": {},
   "source": [
    "### Exercice 3 - Nommer ses variables (*)"
   ]
  },
  {
   "cell_type": "markdown",
   "metadata": {},
   "source": [
    "Quelle est la meilleure façon de nommer une variable pour compter les minutes ? m, min ou minutes ? Pourquoi ?\n",
    "\n",
    "* `ts = m * 60 + s`\n",
    "* `tot_sec = min * 60 + sec`\n",
    "* `total_seconds = minutes * 60 + seconds`"
   ]
  },
  {
   "cell_type": "markdown",
   "metadata": {},
   "source": [
    "SOLUTION : la meilleure solution est la troisième car les noms de variables sont plus explicites."
   ]
  },
  {
   "cell_type": "markdown",
   "metadata": {},
   "source": [
    "### Exercice 4 - Reconnaître les types (*)\n",
    "\n",
    "Quel est le type de valeur de `3.4` ? Comment faire pour le vérifier ? \n",
    "Même question pour `-1`, `True`et `0.`?"
   ]
  },
  {
   "cell_type": "code",
   "execution_count": null,
   "metadata": {
    "ExecuteTime": {
     "end_time": "2021-09-13T16:51:46.100084Z",
     "start_time": "2021-09-13T16:51:45.976593Z"
    }
   },
   "outputs": [],
   "source": [
    "print(type(3.4), type(-1), type(True), type(0.))"
   ]
  },
  {
   "cell_type": "code",
   "execution_count": null,
   "metadata": {
    "ExecuteTime": {
     "end_time": "2021-09-13T16:52:38.272843Z",
     "start_time": "2021-09-13T16:52:38.217107Z"
    },
    "scrolled": true
   },
   "outputs": [],
   "source": [
    "my_list = [3.4, True, -1, 0.]\n",
    "\n",
    "for item in my_list:\n",
    "    print(item, ' ', type(item))"
   ]
  },
  {
   "cell_type": "markdown",
   "metadata": {},
   "source": [
    "### Exercice 5 - Deviner les types (*)\n",
    "\n",
    "Déterminer le type de valeur de : \n",
    "* 3.25 + 4 : `float`\n",
    "* 12 + 'DataBird' : TypeError : can't add int and str\n",
    "* 4.5 + True : `float` car True est assimilé à 1\n"
   ]
  },
  {
   "cell_type": "code",
   "execution_count": null,
   "metadata": {
    "ExecuteTime": {
     "end_time": "2021-09-13T16:53:18.295205Z",
     "start_time": "2021-09-13T16:53:18.206468Z"
    },
    "scrolled": true
   },
   "outputs": [],
   "source": [
    "12 + 'DataBird'"
   ]
  },
  {
   "cell_type": "code",
   "execution_count": null,
   "metadata": {
    "ExecuteTime": {
     "end_time": "2021-09-13T16:53:46.869514Z",
     "start_time": "2021-09-13T16:53:46.833739Z"
    }
   },
   "outputs": [],
   "source": [
    "4.5 + False"
   ]
  },
  {
   "cell_type": "code",
   "execution_count": null,
   "metadata": {
    "ExecuteTime": {
     "end_time": "2021-09-13T16:53:53.731947Z",
     "start_time": "2021-09-13T16:53:53.698102Z"
    }
   },
   "outputs": [],
   "source": [
    "type(4.5 + True)"
   ]
  },
  {
   "cell_type": "markdown",
   "metadata": {},
   "source": [
    "### Exercice 6 - Quel type est le meilleur ? (*)\n",
    "Quel type de variables (`int`, `float`, `str`) préfèrera-t-on utiliser pour représenter les éléments suivants ? \n",
    "\n",
    "* Nombre de jours depuis le début de l'année : `int`\n",
    "* Temps écoulé depuis le début de l'année exprimé en jours : `int`/`float`\n",
    "* Le numéro de série d'une pièce : `str`\n",
    "* Le coût d'abonneemnt à un nouveau logiciel : `float`\n",
    "* Le turnover de son entreprise : `int`/`float`\n",
    "* L'EBITDA de son entreprise : `float`"
   ]
  },
  {
   "cell_type": "markdown",
   "metadata": {},
   "source": [
    "### Exercice 7 - Convertir une chaîne de caractères (**)\n",
    "\n",
    "Pourquoi l'expression suivante ne fonctionne-t-elle pas ?\n",
    "\n",
    "> `print(\"fractional string to int:\", int(\"3.4\"))`\n",
    "\n",
    "Corrigez-la !"
   ]
  },
  {
   "cell_type": "code",
   "execution_count": null,
   "metadata": {
    "ExecuteTime": {
     "end_time": "2021-09-13T16:57:04.307685Z",
     "start_time": "2021-09-13T16:57:04.279038Z"
    }
   },
   "outputs": [],
   "source": [
    "print(\"fractional string to int:\", int(\"3\"))"
   ]
  },
  {
   "cell_type": "code",
   "execution_count": null,
   "metadata": {
    "ExecuteTime": {
     "end_time": "2021-09-13T16:56:15.450147Z",
     "start_time": "2021-09-13T16:56:15.404726Z"
    }
   },
   "outputs": [],
   "source": [
    "float(\"3.4\")"
   ]
  },
  {
   "cell_type": "code",
   "execution_count": null,
   "metadata": {
    "ExecuteTime": {
     "end_time": "2021-09-13T16:56:29.266476Z",
     "start_time": "2021-09-13T16:56:29.189256Z"
    },
    "scrolled": true
   },
   "outputs": [],
   "source": [
    "int(float(\"3.4\"))"
   ]
  },
  {
   "cell_type": "code",
   "execution_count": null,
   "metadata": {
    "ExecuteTime": {
     "end_time": "2021-09-13T16:56:35.293468Z",
     "start_time": "2021-09-13T16:56:35.260932Z"
    }
   },
   "outputs": [],
   "source": [
    "print(\"Fractional string to int:\", int(float(\"3.4\")))"
   ]
  },
  {
   "cell_type": "markdown",
   "metadata": {},
   "source": [
    "### Exercice 8 - Les priorités d'opérations (**)\n",
    "\n",
    "En appliquant l'ordre des opérations, essayez de deviner la valeur finale de `radiance` sans faire tourner le programme (puis vérifiez !).\n",
    "\n",
    "\n",
    "> `radiance = 1.0\n",
    "radiance = max(2.1, 2.0 + min(radiance, 1.1 * radiance - 0.5))`"
   ]
  },
  {
   "cell_type": "code",
   "execution_count": null,
   "metadata": {
    "ExecuteTime": {
     "end_time": "2021-09-13T16:58:22.822757Z",
     "start_time": "2021-09-13T16:58:22.788350Z"
    }
   },
   "outputs": [],
   "source": [
    "radiance = 1.0\n",
    "radiance = max(2.1, 2.0 + min(radiance, 1.1 * radiance - 0.5))"
   ]
  },
  {
   "cell_type": "code",
   "execution_count": null,
   "metadata": {
    "ExecuteTime": {
     "end_time": "2021-09-13T16:58:24.053739Z",
     "start_time": "2021-09-13T16:58:24.026782Z"
    }
   },
   "outputs": [],
   "source": [
    "radiance"
   ]
  },
  {
   "cell_type": "markdown",
   "metadata": {},
   "source": [
    "## Boucles "
   ]
  },
  {
   "cell_type": "markdown",
   "metadata": {},
   "source": [
    "### Exercice 1 - Identifier les erreurs (**)\n",
    "Lire le code pour identifier les erreurs sans avoir besoin de l'éxécuter, puis le corriger. Le résultat final doit être : `abbabbabba`.\n"
   ]
  },
  {
   "cell_type": "code",
   "execution_count": null,
   "metadata": {
    "ExecuteTime": {
     "end_time": "2021-09-13T17:04:28.992464Z",
     "start_time": "2021-09-13T17:04:28.949284Z"
    }
   },
   "outputs": [],
   "source": [
    "12 % 3 == 0"
   ]
  },
  {
   "cell_type": "code",
   "execution_count": null,
   "metadata": {},
   "outputs": [],
   "source": [
    "# Enoncé\n",
    "\n",
    "message = \"\"\n",
    "for number in range(10):\n",
    "    # use a if the number is a multiple of 3, otherwise use b\n",
    "    if (nb % 3) == 0:\n",
    "        message = message + \"a\"\n",
    "    else:\n",
    "        message += \"b\"\n",
    "print(message)"
   ]
  },
  {
   "cell_type": "code",
   "execution_count": null,
   "metadata": {
    "ExecuteTime": {
     "end_time": "2021-09-10T15:12:16.613702Z",
     "start_time": "2021-09-10T15:12:16.591381Z"
    }
   },
   "outputs": [],
   "source": [
    "# Solution\n",
    "\n",
    "message = \"\"\n",
    "for number in range(10):\n",
    "    # use a if the number is a multiple of 3, otherwise use b\n",
    "    if (number % 3) == 0:\n",
    "        message = message + \"a\"\n",
    "    else:\n",
    "        message += \"b\"\n",
    "print(message)"
   ]
  },
  {
   "cell_type": "markdown",
   "metadata": {},
   "source": [
    "### Exercice 2 – Compléter les boucles (**)\n",
    "Compléter les cellules suivantes pour afficher le résultat attendu."
   ]
  },
  {
   "cell_type": "code",
   "execution_count": null,
   "metadata": {
    "ExecuteTime": {
     "end_time": "2021-09-13T17:08:05.902749Z",
     "start_time": "2021-09-13T17:08:05.889783Z"
    }
   },
   "outputs": [],
   "source": [
    "# Longeur totale des caractères de la liste : [\"red\", \"green\", \"blue\"] => 12\n",
    "total = 0\n",
    "for x in [\"red\", \"green\", \"blue\"]:\n",
    "    total = total + len(x)\n",
    "    print(total)\n",
    "print(total)"
   ]
  },
  {
   "cell_type": "code",
   "execution_count": null,
   "metadata": {
    "ExecuteTime": {
     "end_time": "2021-09-13T17:08:50.865187Z",
     "start_time": "2021-09-13T17:08:50.811232Z"
    }
   },
   "outputs": [],
   "source": [
    "# Concaténer les mots de la liste : [\"red\", \"green\", \"blue\"] => \"redgreenblue\"\n",
    "words = [\"red\", \"green\", \"blue\"]\n",
    "result = \"\" # str()\n",
    "\n",
    "for w in words:\n",
    "    result += w\n",
    "    print(result)\n",
    "print(result)"
   ]
  },
  {
   "cell_type": "code",
   "execution_count": null,
   "metadata": {
    "ExecuteTime": {
     "end_time": "2021-09-13T17:10:10.829712Z",
     "start_time": "2021-09-13T17:10:10.790382Z"
    }
   },
   "outputs": [],
   "source": [
    "# Liste des longueurs respectives des mots : [\"red\", \"green\", \"blue\"] => [3, 5, 4]\n",
    "lengths = [] # list()\n",
    "for word in [\"red\", \"green\", \"blue\"]:\n",
    "    lengths.append(len(word))\n",
    "    print(lengths)"
   ]
  },
  {
   "cell_type": "markdown",
   "metadata": {},
   "source": [
    "### Exercice 3 - Réordonner une boucle (***)\n",
    "Réordonner et indenter proprement les lignes de code afin que le programme affiche une liste avec les sommes cumulées des données de la liste \"data\".\n",
    "Le résultat attendu est `[1, 3, 5, 10]`"
   ]
  },
  {
   "cell_type": "code",
   "execution_count": null,
   "metadata": {},
   "outputs": [],
   "source": [
    "# Enoncé\n",
    "\n",
    "cumulative.append(sum)\n",
    "for number in data:\n",
    "cumulative = []\n",
    "sum += number\n",
    "sum = 0\n",
    "print(cumulative)\n",
    "data = [1, 2, 2, 5]"
   ]
  },
  {
   "cell_type": "code",
   "execution_count": null,
   "metadata": {
    "ExecuteTime": {
     "end_time": "2021-09-13T17:12:07.637379Z",
     "start_time": "2021-09-13T17:12:07.609993Z"
    }
   },
   "outputs": [],
   "source": [
    "# Solution\n",
    "\n",
    "data = [1, 2, 2, 5]\n",
    "cumulative = []\n",
    "somme = 0\n",
    "\n",
    "for number in data:\n",
    "    somme = somme + number\n",
    "    cumulative.append(somme)\n",
    "\n",
    "print(cumulative)\n",
    "print(somme)"
   ]
  },
  {
   "cell_type": "markdown",
   "metadata": {},
   "source": [
    "### Exercice 4 - Renverser une chaîne de caractères (***)\n",
    "\n",
    "Compléter le programme suivant pour qu'il affiche \"atad\" au lieu de \"data\"."
   ]
  },
  {
   "cell_type": "code",
   "execution_count": null,
   "metadata": {},
   "outputs": [],
   "source": [
    "# Enoncé\n",
    "\n",
    "original = \"data\"\n",
    "result = ____\n",
    "for char in original:\n",
    "    result = ____\n",
    "print(result)"
   ]
  },
  {
   "cell_type": "code",
   "execution_count": null,
   "metadata": {
    "ExecuteTime": {
     "end_time": "2021-04-09T15:32:52.986850Z",
     "start_time": "2021-04-09T15:32:52.980208Z"
    }
   },
   "outputs": [],
   "source": [
    "# Solution\n",
    "\n",
    "original = \"data\"\n",
    "\n",
    "result = \"\"\n",
    "for element in original:\n",
    "    result = element + result\n",
    "    print(result)\n",
    "print(result)"
   ]
  },
  {
   "cell_type": "markdown",
   "metadata": {},
   "source": [
    "## Conditions"
   ]
  },
  {
   "cell_type": "markdown",
   "metadata": {},
   "source": [
    "### Exercice 1 - Catégoriser (**) \n",
    "Compléter le programme afin qu'il crée une nouvelle liste qui contient :\n",
    "* des zéros à la place de valeurs négatives \n",
    "* des 1 à la place des valeurs positives"
   ]
  },
  {
   "cell_type": "code",
   "execution_count": null,
   "metadata": {
    "ExecuteTime": {
     "end_time": "2021-09-10T15:14:44.276812Z",
     "start_time": "2021-09-10T15:14:44.229317Z"
    }
   },
   "outputs": [],
   "source": [
    "# Enoncé\n",
    "\n",
    "original = [-1.5, 0.2, 0.4, 0.0, -1.3, 0.4]\n",
    "result = ____\n",
    "for value in original:\n",
    "    if ____:\n",
    "        result.append(0)\n",
    "    else:\n",
    "        ____\n",
    "print(result)"
   ]
  },
  {
   "cell_type": "code",
   "execution_count": null,
   "metadata": {
    "ExecuteTime": {
     "end_time": "2021-09-13T17:16:54.121886Z",
     "start_time": "2021-09-13T17:16:54.071540Z"
    }
   },
   "outputs": [],
   "source": [
    "# Solution\n",
    "\n",
    "original = [-1.5, 0.2, 0.4, 0.0, -1.3, 0.4]\n",
    "\n",
    "result = []\n",
    "\n",
    "for value in original:\n",
    "    if value < 0:\n",
    "        result.append(0)\n",
    "    else:\n",
    "        result.append(1)\n",
    "    \n",
    "    print(result)\n",
    "\n",
    "print(result)"
   ]
  },
  {
   "cell_type": "markdown",
   "metadata": {},
   "source": [
    "### Exercice 2 - Minimum et maximum d'une liste (**)\n",
    "\n",
    "Compléter ce programme pour qu'il renvoie le minimum et le maximum de la liste de départ. \n",
    "\n",
    "_Note : Cette opération peut être effectué plus simplement par les fonctions min et max, mais l'objectif ici est de le faire de façon itérative, grâce à une boucle._"
   ]
  },
  {
   "cell_type": "code",
   "execution_count": null,
   "metadata": {},
   "outputs": [],
   "source": [
    "# Enoncé\n",
    "\n",
    "values = [0, 2, -10, -3, 3, 6, 8, -1]\n",
    "\n",
    "smallest = 0\n",
    "largest = 0\n",
    "for v in values:\n",
    "    smallest = min(____, v)\n",
    "    largest = max(____, v)\n",
    "print(smallest, largest)"
   ]
  },
  {
   "cell_type": "code",
   "execution_count": null,
   "metadata": {
    "ExecuteTime": {
     "end_time": "2021-09-13T17:19:44.968048Z",
     "start_time": "2021-09-13T17:19:44.874706Z"
    }
   },
   "outputs": [],
   "source": [
    "# Solution\n",
    "\n",
    "values = [0, 2, -10, -3, 3, 6, 8, -1]\n",
    "\n",
    "smallest = 0\n",
    "largest = 0\n",
    "\n",
    "for v in values:\n",
    "    smallest = min(smallest, v)\n",
    "    largest = max(largest, v)\n",
    "print(smallest, largest)"
   ]
  },
  {
   "cell_type": "code",
   "execution_count": null,
   "metadata": {
    "ExecuteTime": {
     "end_time": "2021-09-13T17:19:49.335296Z",
     "start_time": "2021-09-13T17:19:49.275802Z"
    }
   },
   "outputs": [],
   "source": [
    "min(values), max(values)"
   ]
  },
  {
   "cell_type": "markdown",
   "metadata": {},
   "source": [
    "### Exercice 3 – Des chiffres et des lettres ? (**, @)\n",
    "Ecrire un programme qui reçoit une chaîne de caractères et calcule le nombre de chiffres et de lettres au sein de cette dernière.\n",
    "\n",
    "_Indice : vous aurez sans doute besoin de nouvelles string methods._"
   ]
  },
  {
   "cell_type": "code",
   "execution_count": null,
   "metadata": {
    "ExecuteTime": {
     "end_time": "2021-09-13T17:22:51.669582Z",
     "start_time": "2021-09-13T17:22:51.663737Z"
    }
   },
   "outputs": [],
   "source": [
    "test_string = 'Python 3.8'"
   ]
  },
  {
   "cell_type": "code",
   "execution_count": null,
   "metadata": {
    "ExecuteTime": {
     "end_time": "2021-09-13T17:23:12.709366Z",
     "start_time": "2021-09-13T17:23:12.679631Z"
    }
   },
   "outputs": [],
   "source": [
    "num_lettres = 0\n",
    "num_chiffres = 0\n",
    "\n",
    "for char in test_string:\n",
    "    if char.isalpha():\n",
    "        num_lettres = num_lettres + 1\n",
    "    if char.isnumeric():\n",
    "        num_chiffres += 1\n",
    "    print(num_lettres)\n",
    "        \n",
    "print(num_chiffres, num_lettres)"
   ]
  },
  {
   "cell_type": "markdown",
   "metadata": {},
   "source": [
    "### Exercice 4 - Médiane (**)\n",
    "Ecrire une fonction permettant de trouver la médiane d'une liste de 3 valeurs.\n",
    "\n",
    "_Indice : vous aurez sans doute besoin d'une boucle et des fonctions min et max._"
   ]
  },
  {
   "cell_type": "code",
   "execution_count": null,
   "metadata": {
    "ExecuteTime": {
     "end_time": "2021-09-13T17:23:40.502816Z",
     "start_time": "2021-09-13T17:23:40.466877Z"
    }
   },
   "outputs": [],
   "source": [
    "numbers = [9, 6, 4]"
   ]
  },
  {
   "cell_type": "code",
   "execution_count": null,
   "metadata": {
    "ExecuteTime": {
     "end_time": "2021-09-13T17:25:30.610576Z",
     "start_time": "2021-09-13T17:25:30.516242Z"
    }
   },
   "outputs": [],
   "source": [
    "def median_three(list_nb):\n",
    "    for n in list_nb:\n",
    "        if n != min(list_nb) and n != max(list_nb):\n",
    "            print('Trouvé')\n",
    "            return n\n",
    "        else:\n",
    "            print('Pas encore trouvé')"
   ]
  },
  {
   "cell_type": "code",
   "execution_count": null,
   "metadata": {
    "ExecuteTime": {
     "end_time": "2021-09-13T17:26:06.854655Z",
     "start_time": "2021-09-13T17:26:06.803419Z"
    }
   },
   "outputs": [],
   "source": [
    "result = median_three(numbers)\n",
    "result"
   ]
  },
  {
   "cell_type": "markdown",
   "metadata": {},
   "source": [
    "### Exercice 5 - Conventions d'écriture (**)"
   ]
  },
  {
   "cell_type": "markdown",
   "metadata": {},
   "source": [
    "\n",
    "Rendre le code ci-dessous le plus lisible possible (renommer les variables, aérer le code, appliquer les conventions de syntaxe)."
   ]
  },
  {
   "cell_type": "code",
   "execution_count": null,
   "metadata": {},
   "outputs": [],
   "source": [
    "# Enoncé \n",
    "\n",
    "n = 10\n",
    "s = 'et cetera'\n",
    "print(s)\n",
    "i = 0\n",
    "\n",
    "while i < n:\n",
    "    new = ''\n",
    "    for j in range(len(s)):\n",
    "        left = j - 1\n",
    "        right = (j + 1) % len(s)\n",
    "        if s[left]==s[right]: new += '-'\n",
    "        else: new += '*'\n",
    "    s=''.join(new)\n",
    "    print(s)\n",
    "    i += 1"
   ]
  },
  {
   "cell_type": "code",
   "execution_count": null,
   "metadata": {
    "ExecuteTime": {
     "end_time": "2020-10-14T16:19:48.141040Z",
     "start_time": "2020-10-14T16:19:48.133065Z"
    },
    "scrolled": true
   },
   "outputs": [],
   "source": [
    "# Solution\n",
    "\n",
    "number_of_lines = 10\n",
    "main_string = 'et cetera'\n",
    "print(main_string)\n",
    "count = 0\n",
    "\n",
    "while count < number_of_lines:\n",
    "    new = ''\n",
    "    \n",
    "    for j in range(len(main_string)):\n",
    "        left = j - 1\n",
    "        right = (j + 1) % len(main_string)\n",
    "        if main_string[left] == main_string[right]: \n",
    "            new += '-'\n",
    "        else: \n",
    "            new += '*'\n",
    "    \n",
    "    main_string = ''.join(new)\n",
    "    print(main_string)\n",
    "    count += 1"
   ]
  },
  {
   "cell_type": "markdown",
   "metadata": {},
   "source": [
    "## Fonctions "
   ]
  },
  {
   "cell_type": "markdown",
   "metadata": {},
   "source": [
    "### Exercice 1 - Première valeur négative (*)\n",
    "Compléter le programme pour créer une fonction qui prend en argument une liste de nombres et renvoie le premier élément négatif de cette liste. \n",
    "\n",
    "Que fait cette fonction si on lui donne une liste vide ? "
   ]
  },
  {
   "cell_type": "code",
   "execution_count": null,
   "metadata": {},
   "outputs": [],
   "source": [
    "# Enoncé\n",
    "\n",
    "def first_negative(values : list):\n",
    "    for v in ____:\n",
    "        if ____:\n",
    "            return ____"
   ]
  },
  {
   "cell_type": "code",
   "execution_count": null,
   "metadata": {
    "ExecuteTime": {
     "end_time": "2021-09-13T17:34:16.329018Z",
     "start_time": "2021-09-13T17:34:16.218314Z"
    }
   },
   "outputs": [],
   "source": [
    "# Solution\n",
    "\n",
    "def first_negative(values):\n",
    "    for v in values:\n",
    "        if v < 0:\n",
    "            return v"
   ]
  },
  {
   "cell_type": "code",
   "execution_count": null,
   "metadata": {
    "ExecuteTime": {
     "end_time": "2021-09-13T17:34:18.320384Z",
     "start_time": "2021-09-13T17:34:17.983932Z"
    }
   },
   "outputs": [],
   "source": [
    "first_negative([2, 3, -1, 2, 6, 7])"
   ]
  },
  {
   "cell_type": "markdown",
   "metadata": {},
   "source": [
    "### Exercice 2 – Multiplicateur (**)\n",
    "\n",
    "Ecrire une fonction qui multiplie entre elles toutes les valeurs d'une liste."
   ]
  },
  {
   "cell_type": "code",
   "execution_count": null,
   "metadata": {
    "ExecuteTime": {
     "end_time": "2021-09-13T17:37:12.659850Z",
     "start_time": "2021-09-13T17:37:12.575925Z"
    }
   },
   "outputs": [],
   "source": [
    "valeurs = [1, 3, 5, -2]\n",
    "\n",
    "result = 1\n",
    "for v in valeurs:\n",
    "    result = result * v\n",
    "result"
   ]
  },
  {
   "cell_type": "code",
   "execution_count": null,
   "metadata": {
    "ExecuteTime": {
     "end_time": "2021-09-13T17:38:44.130551Z",
     "start_time": "2021-09-13T17:38:44.056668Z"
    }
   },
   "outputs": [],
   "source": [
    "valeurs = [1, 3, 5, -2] # le résultat devrait être -30\n",
    "\n",
    "def multiplicateur(liste):\n",
    "    result = 1\n",
    "    for v in liste:\n",
    "        result = result * v\n",
    "    return result"
   ]
  },
  {
   "cell_type": "code",
   "execution_count": null,
   "metadata": {
    "ExecuteTime": {
     "end_time": "2021-09-13T17:38:51.573575Z",
     "start_time": "2021-09-13T17:38:51.545591Z"
    }
   },
   "outputs": [],
   "source": [
    "multiplicateur(valeurs)"
   ]
  },
  {
   "cell_type": "markdown",
   "metadata": {},
   "source": [
    "### Exercice 3 - Eléments uniques (**, @)\n",
    "\n",
    "Ecrire une fonction qui prend une liste en argument et renvoie une nouvelle liste sans doublons.<br>\n",
    "Liste en entrée : `[1,2,3,3,3,3,4,5]`<br>\n",
    "Liste attendue en sortie : `[1, 2, 3, 4, 5]`<br>\n",
    "\n",
    "_Indice : il existe 2 methodes ; une utilisant une boucle, l'autre utilisant une fonction particulière que vous pouvez trouver sur internet._"
   ]
  },
  {
   "cell_type": "code",
   "execution_count": null,
   "metadata": {
    "ExecuteTime": {
     "end_time": "2021-09-13T17:42:48.364704Z",
     "start_time": "2021-09-13T17:42:48.268605Z"
    }
   },
   "outputs": [],
   "source": [
    "sample_list = [1, 2, 3, 3, 3, 3, 4, 5]\n",
    "uniques = []\n",
    "\n",
    "for element in sample_list:\n",
    "    if element not in uniques:\n",
    "        uniques.append(element)\n",
    "    else:\n",
    "        continue\n",
    "print(uniques)"
   ]
  },
  {
   "cell_type": "code",
   "execution_count": null,
   "metadata": {
    "ExecuteTime": {
     "end_time": "2021-09-13T17:43:43.276268Z",
     "start_time": "2021-09-13T17:43:43.243111Z"
    }
   },
   "outputs": [],
   "source": [
    "list(set(sample_list))"
   ]
  },
  {
   "cell_type": "markdown",
   "metadata": {},
   "source": [
    "### Exercice 4 - Nombres parfaits (***, @)\n",
    "\n",
    "Ecrire un programme qui vérifie si un nombre est parfait ou non. Testez-le sur les nombres 28 et 29.<br>\n",
    "\n",
    "*Un nombre parfait est un entier positif qui est égal à la somme de tous ses diviseurs propres positifs, c'est à dire la somme de tous ses diviseurs positifs à l'exception du nombre lui même.<br>\n",
    "Exemple : Le premier nombre parfait est 6, car 1, 2 et 3 sont ses diviseurs propres positifs, et 1 + 2 + 3 = 6.\n",
    "Le suivant est 28 = 1 + 2 + 4 + 7 + 14.*"
   ]
  },
  {
   "cell_type": "code",
   "execution_count": null,
   "metadata": {
    "ExecuteTime": {
     "end_time": "2021-09-13T17:47:55.190034Z",
     "start_time": "2021-09-13T17:47:55.105962Z"
    }
   },
   "outputs": [],
   "source": [
    "test = 28\n",
    "somme = 0\n",
    "\n",
    "for n in range(1, test):\n",
    "    if test % n == 0:  # pour chaque nombre qui divise number_to_test\n",
    "        somme += n     # j'update ma somme de diviseurs\n",
    "\n",
    "if somme == test:      # je checke l'égalité avec le nombre initial\n",
    "    print('Le nombre est parfait !')\n",
    "else:\n",
    "    print(\"Le nombre n'est pas parfait.\")"
   ]
  },
  {
   "cell_type": "code",
   "execution_count": null,
   "metadata": {
    "ExecuteTime": {
     "end_time": "2021-09-13T17:49:38.305188Z",
     "start_time": "2021-09-13T17:49:38.275145Z"
    }
   },
   "outputs": [],
   "source": [
    "def nombre_parfait(x):\n",
    "    somme = 0\n",
    "    for n in range(1, x):\n",
    "        if x % n == 0:  # pour chaque nombre qui divise number_to_test\n",
    "            somme += n     # j'update ma somme de diviseurs\n",
    "\n",
    "    if somme == x:      # je checke l'égalité avec le nombre initial\n",
    "        print('Le nombre est parfait !')\n",
    "        return True\n",
    "    else:\n",
    "        print(\"Le nombre n'est pas parfait.\")\n",
    "        return False"
   ]
  },
  {
   "cell_type": "code",
   "execution_count": null,
   "metadata": {
    "ExecuteTime": {
     "end_time": "2021-09-13T17:49:46.694057Z",
     "start_time": "2021-09-13T17:49:46.669607Z"
    }
   },
   "outputs": [],
   "source": [
    "nombre_parfait(400)"
   ]
  },
  {
   "cell_type": "code",
   "execution_count": null,
   "metadata": {},
   "outputs": [],
   "source": []
  }
 ],
 "metadata": {
  "hide_input": false,
  "kernelspec": {
   "display_name": "Python 3 (ipykernel)",
   "language": "python",
   "name": "python3"
  },
  "language_info": {
   "codemirror_mode": {
    "name": "ipython",
    "version": 3
   },
   "file_extension": ".py",
   "mimetype": "text/x-python",
   "name": "python",
   "nbconvert_exporter": "python",
   "pygments_lexer": "ipython3",
   "version": "3.9.5"
  },
  "toc": {
   "base_numbering": 1,
   "nav_menu": {},
   "number_sections": true,
   "sideBar": true,
   "skip_h1_title": false,
   "title_cell": "Table of Contents",
   "title_sidebar": "Contents",
   "toc_cell": false,
   "toc_position": {},
   "toc_section_display": true,
   "toc_window_display": true
  },
  "varInspector": {
   "cols": {
    "lenName": 16,
    "lenType": 16,
    "lenVar": 40
   },
   "kernels_config": {
    "python": {
     "delete_cmd_postfix": "",
     "delete_cmd_prefix": "del ",
     "library": "var_list.py",
     "varRefreshCmd": "print(var_dic_list())"
    },
    "r": {
     "delete_cmd_postfix": ") ",
     "delete_cmd_prefix": "rm(",
     "library": "var_list.r",
     "varRefreshCmd": "cat(var_dic_list()) "
    }
   },
   "types_to_exclude": [
    "module",
    "function",
    "builtin_function_or_method",
    "instance",
    "_Feature"
   ],
   "window_display": false
  }
 },
 "nbformat": 4,
 "nbformat_minor": 2
}
