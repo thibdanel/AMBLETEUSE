{
 "cells": [
  {
   "cell_type": "markdown",
   "metadata": {},
   "source": [
    "# Variables"
   ]
  },
  {
   "cell_type": "markdown",
   "metadata": {},
   "source": [
    "Les variables forment la brique de base de la programmation en Python."
   ]
  },
  {
   "cell_type": "markdown",
   "metadata": {},
   "source": [
    "On associe un nom, ici `ventes`, avec une valeur, ici `10`:"
   ]
  },
  {
   "cell_type": "code",
   "execution_count": null,
   "metadata": {
    "ExecuteTime": {
     "end_time": "2021-07-21T10:30:05.540381Z",
     "start_time": "2021-07-21T10:30:05.502927Z"
    }
   },
   "outputs": [],
   "source": [
    "ventes = 10\n",
    "ventes_2020 = 10 * (2 + 3)"
   ]
  },
  {
   "cell_type": "code",
   "execution_count": null,
   "metadata": {
    "ExecuteTime": {
     "end_time": "2021-07-21T10:30:16.457517Z",
     "start_time": "2021-07-21T10:30:16.431838Z"
    }
   },
   "outputs": [],
   "source": [
    "print(ventes)"
   ]
  },
  {
   "cell_type": "code",
   "execution_count": null,
   "metadata": {
    "ExecuteTime": {
     "end_time": "2021-07-21T10:30:22.015640Z",
     "start_time": "2021-07-21T10:30:21.990021Z"
    }
   },
   "outputs": [],
   "source": [
    "print(ventes_2020)"
   ]
  },
  {
   "cell_type": "markdown",
   "metadata": {},
   "source": [
    "Les noms de variables peuvent contenir des lettres, des chiffres, des '_'. \n",
    "\n",
    "En revanche ils **ne peuvent pas commencer par un chiffre** et sont **sensibles à la casse** :  \n",
    ">`ventes_2020` est un nom correct, pas `2020_ventes` <br>\n",
    ">`Ventes` et `ventes` sont deux variables différentes."
   ]
  },
  {
   "cell_type": "markdown",
   "metadata": {},
   "source": [
    "Par convention, en Python on nomme généralement les variables en \"snake case\", c'est-à-dire avec des lettres minuscules et des '_' à la place des espaces. Ex: `date_naissance`."
   ]
  },
  {
   "cell_type": "markdown",
   "metadata": {},
   "source": [
    "# Types de variables"
   ]
  },
  {
   "cell_type": "markdown",
   "metadata": {},
   "source": [
    "La fonction `type` donne le type d'une variable :"
   ]
  },
  {
   "cell_type": "code",
   "execution_count": null,
   "metadata": {
    "ExecuteTime": {
     "end_time": "2021-07-21T10:33:02.191486Z",
     "start_time": "2021-07-21T10:33:02.116220Z"
    }
   },
   "outputs": [],
   "source": [
    "type(ventes)"
   ]
  },
  {
   "cell_type": "code",
   "execution_count": null,
   "metadata": {
    "ExecuteTime": {
     "end_time": "2021-07-21T10:33:46.953502Z",
     "start_time": "2021-07-21T10:33:46.933019Z"
    }
   },
   "outputs": [],
   "source": [
    "marge_brute = 0.153 # remarquez le nom de variable\n",
    "type(marge_brute)"
   ]
  },
  {
   "cell_type": "code",
   "execution_count": null,
   "metadata": {
    "ExecuteTime": {
     "end_time": "2021-07-21T10:34:44.354165Z",
     "start_time": "2021-07-21T10:34:44.307547Z"
    }
   },
   "outputs": [],
   "source": [
    "slogan = 'Apprendre à coder avec DataBird'\n",
    "type(slogan)"
   ]
  },
  {
   "cell_type": "code",
   "execution_count": null,
   "metadata": {
    "ExecuteTime": {
     "end_time": "2021-07-21T10:35:22.352759Z",
     "start_time": "2021-07-21T10:35:22.339314Z"
    }
   },
   "outputs": [],
   "source": [
    "concurrents = [\"Dior\", \"Chanel\", \"Louis Vuitton\"]\n",
    "type(concurrents)"
   ]
  },
  {
   "cell_type": "markdown",
   "metadata": {},
   "source": [
    "Il est possible de mélanger les types:"
   ]
  },
  {
   "cell_type": "code",
   "execution_count": null,
   "metadata": {
    "ExecuteTime": {
     "end_time": "2021-04-09T09:10:22.034771Z",
     "start_time": "2021-04-09T09:10:22.020700Z"
    }
   },
   "outputs": [],
   "source": [
    "autre_liste = [1, 2, 3.4, 'Alex', True]"
   ]
  },
  {
   "cell_type": "markdown",
   "metadata": {},
   "source": [
    "# Affichage de variables et texte formaté"
   ]
  },
  {
   "cell_type": "markdown",
   "metadata": {},
   "source": [
    "Pour afficher les variables souhaitées, on se sert de la fonction  `print`:"
   ]
  },
  {
   "cell_type": "code",
   "execution_count": null,
   "metadata": {
    "ExecuteTime": {
     "end_time": "2021-07-21T10:36:49.058932Z",
     "start_time": "2021-07-21T10:36:49.010445Z"
    }
   },
   "outputs": [],
   "source": [
    "print(slogan)"
   ]
  },
  {
   "cell_type": "markdown",
   "metadata": {},
   "source": [
    "`print` peut afficher plusieurs éléments:"
   ]
  },
  {
   "cell_type": "code",
   "execution_count": null,
   "metadata": {
    "ExecuteTime": {
     "end_time": "2021-07-21T10:37:21.439156Z",
     "start_time": "2021-07-21T10:37:21.417348Z"
    }
   },
   "outputs": [],
   "source": [
    "print(\"La marge opérationnelle de l'entreprise est :\", marge_brute, \", bonne nouvelle !\")"
   ]
  },
  {
   "cell_type": "markdown",
   "metadata": {},
   "source": [
    "Enfin, les **formatted strings** (texte formaté) permettent d'insérer une variable dans du texte:"
   ]
  },
  {
   "cell_type": "code",
   "execution_count": null,
   "metadata": {
    "ExecuteTime": {
     "end_time": "2021-07-20T12:36:19.603072Z",
     "start_time": "2021-07-20T12:36:19.596340Z"
    }
   },
   "outputs": [],
   "source": [
    "marge_brute = 10"
   ]
  },
  {
   "cell_type": "code",
   "execution_count": null,
   "metadata": {
    "ExecuteTime": {
     "end_time": "2021-07-21T10:39:01.880923Z",
     "start_time": "2021-07-21T10:39:01.868013Z"
    }
   },
   "outputs": [],
   "source": [
    "print(f\"La marge brute est de {marge_brute}% du chiffre d'affaires.\")"
   ]
  },
  {
   "cell_type": "code",
   "execution_count": null,
   "metadata": {},
   "outputs": [],
   "source": []
  }
 ],
 "metadata": {
  "hide_input": false,
  "kernelspec": {
   "display_name": "Python 3",
   "language": "python",
   "name": "python3"
  },
  "language_info": {
   "codemirror_mode": {
    "name": "ipython",
    "version": 3
   },
   "file_extension": ".py",
   "mimetype": "text/x-python",
   "name": "python",
   "nbconvert_exporter": "python",
   "pygments_lexer": "ipython3",
   "version": "3.9.1"
  },
  "toc": {
   "base_numbering": 1,
   "nav_menu": {},
   "number_sections": true,
   "sideBar": true,
   "skip_h1_title": false,
   "title_cell": "Table of Contents",
   "title_sidebar": "Contents",
   "toc_cell": false,
   "toc_position": {},
   "toc_section_display": true,
   "toc_window_display": false
  },
  "varInspector": {
   "cols": {
    "lenName": 16,
    "lenType": 16,
    "lenVar": 40
   },
   "kernels_config": {
    "python": {
     "delete_cmd_postfix": "",
     "delete_cmd_prefix": "del ",
     "library": "var_list.py",
     "varRefreshCmd": "print(var_dic_list())"
    },
    "r": {
     "delete_cmd_postfix": ") ",
     "delete_cmd_prefix": "rm(",
     "library": "var_list.r",
     "varRefreshCmd": "cat(var_dic_list()) "
    }
   },
   "types_to_exclude": [
    "module",
    "function",
    "builtin_function_or_method",
    "instance",
    "_Feature"
   ],
   "window_display": false
  }
 },
 "nbformat": 4,
 "nbformat_minor": 2
}
