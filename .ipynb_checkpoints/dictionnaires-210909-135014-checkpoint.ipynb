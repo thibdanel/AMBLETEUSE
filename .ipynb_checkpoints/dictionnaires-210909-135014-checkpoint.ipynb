{
 "cells": [
  {
   "cell_type": "markdown",
   "metadata": {},
   "source": [
    "## Dictionnaires"
   ]
  },
  {
   "cell_type": "markdown",
   "metadata": {},
   "source": [
    "Les dictionnaires sont un 3ème type d'objet utilisé pour stocker des données. Ils utilisent le paradigme **clé-valeur** (**key-value**)."
   ]
  },
  {
   "cell_type": "code",
   "execution_count": null,
   "metadata": {
    "ExecuteTime": {
     "end_time": "2021-07-27T13:08:33.422005Z",
     "start_time": "2021-07-27T13:08:33.405993Z"
    }
   },
   "outputs": [],
   "source": [
    "stores = {'Paris': 'Avenue des Champs-Elysées',\n",
    "          'Marseille': 'La Canebière',\n",
    "          'Lyon': 'Place des Terreaux'}"
   ]
  },
  {
   "cell_type": "markdown",
   "metadata": {},
   "source": [
    "On accède aux valeurs d'un `dict` par ses clés : "
   ]
  },
  {
   "cell_type": "code",
   "execution_count": null,
   "metadata": {
    "ExecuteTime": {
     "end_time": "2021-07-27T13:08:43.732460Z",
     "start_time": "2021-07-27T13:08:43.554648Z"
    }
   },
   "outputs": [],
   "source": [
    "stores[0]"
   ]
  },
  {
   "cell_type": "code",
   "execution_count": null,
   "metadata": {
    "ExecuteTime": {
     "end_time": "2021-07-27T13:08:44.289256Z",
     "start_time": "2021-07-27T13:08:44.257870Z"
    }
   },
   "outputs": [],
   "source": [
    "stores['Marseille']"
   ]
  },
  {
   "cell_type": "markdown",
   "metadata": {},
   "source": [
    "Notez ici que contrairement aux listes, les dictionnaires **ne sont pas ordonnés**, la position '0' n'existe donc pas. Une position correspond à un nom de clé."
   ]
  },
  {
   "cell_type": "markdown",
   "metadata": {},
   "source": [
    "Itérer sur un dictionnaire consiste à itérer sur ses clés:"
   ]
  },
  {
   "cell_type": "code",
   "execution_count": null,
   "metadata": {
    "ExecuteTime": {
     "end_time": "2021-07-27T13:09:02.683605Z",
     "start_time": "2021-07-27T13:09:02.672848Z"
    }
   },
   "outputs": [],
   "source": [
    "for city in stores:\n",
    "    print(f\"{city} : {stores[city]}\")\n",
    "    \n",
    "# city correspond aux clés"
   ]
  },
  {
   "cell_type": "markdown",
   "metadata": {},
   "source": [
    "On peut extraire toutes les clés et toutes les valeurs avec les méthodes ci-dessous :"
   ]
  },
  {
   "cell_type": "code",
   "execution_count": null,
   "metadata": {
    "ExecuteTime": {
     "end_time": "2021-07-27T13:10:17.838676Z",
     "start_time": "2021-07-27T13:10:17.808535Z"
    }
   },
   "outputs": [],
   "source": [
    "list(stores.keys())"
   ]
  },
  {
   "cell_type": "code",
   "execution_count": null,
   "metadata": {
    "ExecuteTime": {
     "end_time": "2021-07-27T13:10:18.422263Z",
     "start_time": "2021-07-27T13:10:18.412258Z"
    }
   },
   "outputs": [],
   "source": [
    "list(stores.values())"
   ]
  },
  {
   "cell_type": "markdown",
   "metadata": {},
   "source": [
    "Un dictionnaire est mutable, on peut donc ajouter de nouvelles paires clés/valeurs, en réassigner (modifier) certaines ou encore en supprimer :"
   ]
  },
  {
   "cell_type": "code",
   "execution_count": null,
   "metadata": {
    "ExecuteTime": {
     "end_time": "2021-07-27T13:11:39.670645Z",
     "start_time": "2021-07-27T13:11:39.655176Z"
    }
   },
   "outputs": [],
   "source": [
    "stores['Paris'] = ['Rue Louis Blanc', 'République']\n",
    "stores"
   ]
  },
  {
   "cell_type": "code",
   "execution_count": null,
   "metadata": {
    "ExecuteTime": {
     "end_time": "2021-07-27T13:11:39.894281Z",
     "start_time": "2021-07-27T13:11:39.880349Z"
    }
   },
   "outputs": [],
   "source": [
    "stores['Nice'] = 'Promenade des Anglais'\n",
    "stores"
   ]
  },
  {
   "cell_type": "code",
   "execution_count": null,
   "metadata": {
    "ExecuteTime": {
     "end_time": "2021-07-27T13:11:40.414739Z",
     "start_time": "2021-07-27T13:11:40.403611Z"
    }
   },
   "outputs": [],
   "source": [
    "stores.pop('Paris')\n",
    "stores"
   ]
  },
  {
   "cell_type": "markdown",
   "metadata": {},
   "source": [
    "Noter que la méthode `pop` s'utilise ici avec une clé, et non un index, car les dictionnaires ne sont pas ordonnés !"
   ]
  },
  {
   "cell_type": "markdown",
   "metadata": {},
   "source": [
    "Enfin, pour créer un nouveau dictionnaire : "
   ]
  },
  {
   "cell_type": "code",
   "execution_count": null,
   "metadata": {
    "ExecuteTime": {
     "end_time": "2021-04-12T09:04:22.356979Z",
     "start_time": "2021-04-12T09:04:22.350389Z"
    }
   },
   "outputs": [],
   "source": [
    "empty_dict = {}\n",
    "empty_dict = dict()\n",
    "empty_dict"
   ]
  }
 ],
 "metadata": {
  "hide_input": false,
  "kernelspec": {
   "display_name": "Python 3",
   "language": "python",
   "name": "python3"
  },
  "language_info": {
   "codemirror_mode": {
    "name": "ipython",
    "version": 3
   },
   "file_extension": ".py",
   "mimetype": "text/x-python",
   "name": "python",
   "nbconvert_exporter": "python",
   "pygments_lexer": "ipython3",
   "version": "3.9.1"
  },
  "toc": {
   "base_numbering": 1,
   "nav_menu": {},
   "number_sections": true,
   "sideBar": true,
   "skip_h1_title": false,
   "title_cell": "Table of Contents",
   "title_sidebar": "Contents",
   "toc_cell": false,
   "toc_position": {},
   "toc_section_display": true,
   "toc_window_display": false
  }
 },
 "nbformat": 4,
 "nbformat_minor": 4
}
