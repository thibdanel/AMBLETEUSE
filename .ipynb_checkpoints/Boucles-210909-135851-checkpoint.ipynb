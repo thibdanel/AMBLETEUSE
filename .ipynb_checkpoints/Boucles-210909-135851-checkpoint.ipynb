{
 "cells": [
  {
   "cell_type": "markdown",
   "metadata": {},
   "source": [
    "# Boucle For"
   ]
  },
  {
   "cell_type": "code",
   "execution_count": null,
   "metadata": {
    "ExecuteTime": {
     "end_time": "2021-07-21T16:13:31.491101Z",
     "start_time": "2021-07-21T16:13:31.388642Z"
    },
    "scrolled": true
   },
   "outputs": [],
   "source": [
    "for lettre in 'databird':\n",
    "    print(lettre)"
   ]
  },
  {
   "cell_type": "code",
   "execution_count": null,
   "metadata": {
    "ExecuteTime": {
     "end_time": "2021-07-21T16:14:17.831773Z",
     "start_time": "2021-07-21T16:14:17.801334Z"
    }
   },
   "outputs": [],
   "source": [
    "concurrents = [\"Dior\", \"Chanel\", \"Louis Vuitton\"]"
   ]
  },
  {
   "cell_type": "code",
   "execution_count": null,
   "metadata": {
    "ExecuteTime": {
     "end_time": "2021-07-21T16:15:36.335458Z",
     "start_time": "2021-07-21T16:15:36.284246Z"
    }
   },
   "outputs": [],
   "source": [
    "for x in concurrents:\n",
    "    print(x, \"est un concurrent\")\n",
    "    print(f\"{x} est un concurrent\")"
   ]
  },
  {
   "cell_type": "markdown",
   "metadata": {},
   "source": [
    "Le `x` utilisé dans la première partie de la boucle `for` est une variable \"muette\", qui prend successivement chacune des valeurs de notre _itérateur_ (ici, la liste `concurrents`).\n",
    "\n",
    "On peut utiliser n'importe quel nom de variable pour boucler - en évitant de prendre un nom déjà utilisé."
   ]
  },
  {
   "cell_type": "code",
   "execution_count": null,
   "metadata": {
    "ExecuteTime": {
     "end_time": "2021-07-21T16:15:54.297735Z",
     "start_time": "2021-07-21T16:15:54.271460Z"
    }
   },
   "outputs": [],
   "source": [
    "for nom in concurrents:\n",
    "    print(nom, \"est un concurrent\")"
   ]
  },
  {
   "cell_type": "markdown",
   "metadata": {},
   "source": [
    "Ecrivons une boucle un peu plus complexe, qui contient une opération : compter le nombre d'éléments."
   ]
  },
  {
   "cell_type": "code",
   "execution_count": null,
   "metadata": {
    "ExecuteTime": {
     "end_time": "2021-07-21T16:16:24.480207Z",
     "start_time": "2021-07-21T16:16:24.402849Z"
    }
   },
   "outputs": [],
   "source": [
    "concurrents = ['Dior', 'Chanel', 'Louis Vuitton', 'Hermès', 'Saint-Laurent']\n",
    "concurrents"
   ]
  },
  {
   "cell_type": "code",
   "execution_count": null,
   "metadata": {
    "ExecuteTime": {
     "end_time": "2021-07-21T16:17:28.523551Z",
     "start_time": "2021-07-21T16:17:28.470682Z"
    }
   },
   "outputs": [],
   "source": [
    "nombre_concurrents = 0 # on crée un compteur initialisé à 0\n",
    "\n",
    "for concurrent in concurrents:\n",
    "    print(concurrent)\n",
    "    nombre_concurrents = nombre_concurrents + 1"
   ]
  },
  {
   "cell_type": "code",
   "execution_count": null,
   "metadata": {
    "ExecuteTime": {
     "end_time": "2021-07-21T16:17:57.948012Z",
     "start_time": "2021-07-21T16:17:57.935097Z"
    }
   },
   "outputs": [],
   "source": [
    "print('On a', nombre_concurrents, 'concurrents')\n",
    "#print(f'On a {nombre_concurrents} concurrents')"
   ]
  },
  {
   "cell_type": "markdown",
   "metadata": {},
   "source": [
    "> Remarque: il existe déjà une fonction `len` pour le connaître le nombre d'éléments dans un itérateur ! (liste chaîne de caractères)"
   ]
  },
  {
   "cell_type": "code",
   "execution_count": null,
   "metadata": {
    "ExecuteTime": {
     "end_time": "2021-07-21T16:18:44.415677Z",
     "start_time": "2021-07-21T16:18:44.373398Z"
    }
   },
   "outputs": [],
   "source": [
    "len(concurrents)"
   ]
  },
  {
   "cell_type": "code",
   "execution_count": null,
   "metadata": {
    "ExecuteTime": {
     "end_time": "2021-07-21T16:19:14.331583Z",
     "start_time": "2021-07-21T16:19:14.298908Z"
    }
   },
   "outputs": [],
   "source": [
    "texte = 'DataBird'\n",
    "len(texte)"
   ]
  },
  {
   "cell_type": "markdown",
   "metadata": {},
   "source": [
    "Enfin, la fonction `range` permet d'effectuer une boucle for pour un nombre d'itérations défini à l'avance:"
   ]
  },
  {
   "cell_type": "code",
   "execution_count": null,
   "metadata": {
    "ExecuteTime": {
     "end_time": "2021-07-21T16:21:21.030772Z",
     "start_time": "2021-07-21T16:21:21.013438Z"
    }
   },
   "outputs": [],
   "source": [
    "for i in range(4):\n",
    "    print(i)"
   ]
  },
  {
   "cell_type": "code",
   "execution_count": null,
   "metadata": {
    "ExecuteTime": {
     "end_time": "2021-07-21T16:23:10.645173Z",
     "start_time": "2021-07-21T16:23:10.583661Z"
    }
   },
   "outputs": [],
   "source": [
    "list(range(4))"
   ]
  },
  {
   "cell_type": "markdown",
   "metadata": {},
   "source": [
    "> Attention : Python commence à compter à 0 ! `range(n)` donne donc les valeur de `0` à `n-1`."
   ]
  },
  {
   "cell_type": "code",
   "execution_count": null,
   "metadata": {
    "ExecuteTime": {
     "end_time": "2021-07-21T16:22:31.740509Z",
     "start_time": "2021-07-21T16:22:31.634687Z"
    },
    "scrolled": false
   },
   "outputs": [],
   "source": [
    "for i in range(4):\n",
    "    print(3 * i)"
   ]
  },
  {
   "cell_type": "markdown",
   "metadata": {},
   "source": [
    "# Boucle While"
   ]
  },
  {
   "cell_type": "markdown",
   "metadata": {},
   "source": [
    "La boucle `while` répète une action tant qu'une condition est remplie."
   ]
  },
  {
   "cell_type": "code",
   "execution_count": null,
   "metadata": {
    "ExecuteTime": {
     "end_time": "2021-07-21T16:25:48.508337Z",
     "start_time": "2021-07-21T16:25:48.412854Z"
    }
   },
   "outputs": [],
   "source": [
    "revenus = 0\n",
    "nb_ventes = 0\n",
    "\n",
    "while nb_ventes < 10:\n",
    "    nb_ventes = nb_ventes + 1\n",
    "    print(nb_ventes)\n",
    "    revenus += 10 # équivalent à revenus = revenus + 10\n",
    "\n",
    "print(\"Les revenus sont de : \", revenus, \"€\")"
   ]
  },
  {
   "cell_type": "code",
   "execution_count": null,
   "metadata": {},
   "outputs": [],
   "source": [
    "# ou\n",
    "print(f\"Les revenus sont de : {revenus}€\")"
   ]
  },
  {
   "cell_type": "markdown",
   "metadata": {},
   "source": [
    "Ici, à chaque itération de la boucle les revenus augmentent de 10 et le compteur de ventes augmente de 1, jusqu'à ce qu'il atteigne 10.\n",
    "\n",
    "L'opérateur logique est ici exclusif : `<` et non `<=`. Lorsque le nombre de ventes est de 10, la condition n'est plus vérifiée, le contenu de la boucle n'est donc pas lu, on passe aux instructions suivantes.\n",
    "\n",
    "(Plus sur les opérateurs logiques bientôt !)"
   ]
  },
  {
   "cell_type": "code",
   "execution_count": null,
   "metadata": {},
   "outputs": [],
   "source": []
  }
 ],
 "metadata": {
  "hide_input": false,
  "kernelspec": {
   "display_name": "Python 3",
   "language": "python",
   "name": "python3"
  },
  "language_info": {
   "codemirror_mode": {
    "name": "ipython",
    "version": 3
   },
   "file_extension": ".py",
   "mimetype": "text/x-python",
   "name": "python",
   "nbconvert_exporter": "python",
   "pygments_lexer": "ipython3",
   "version": "3.9.1"
  },
  "toc": {
   "base_numbering": 1,
   "nav_menu": {},
   "number_sections": true,
   "sideBar": true,
   "skip_h1_title": false,
   "title_cell": "Table of Contents",
   "title_sidebar": "Contents",
   "toc_cell": false,
   "toc_position": {},
   "toc_section_display": true,
   "toc_window_display": false
  },
  "varInspector": {
   "cols": {
    "lenName": 16,
    "lenType": 16,
    "lenVar": 40
   },
   "kernels_config": {
    "python": {
     "delete_cmd_postfix": "",
     "delete_cmd_prefix": "del ",
     "library": "var_list.py",
     "varRefreshCmd": "print(var_dic_list())"
    },
    "r": {
     "delete_cmd_postfix": ") ",
     "delete_cmd_prefix": "rm(",
     "library": "var_list.r",
     "varRefreshCmd": "cat(var_dic_list()) "
    }
   },
   "types_to_exclude": [
    "module",
    "function",
    "builtin_function_or_method",
    "instance",
    "_Feature"
   ],
   "window_display": false
  }
 },
 "nbformat": 4,
 "nbformat_minor": 2
}
