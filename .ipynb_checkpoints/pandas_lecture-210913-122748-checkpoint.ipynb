{
 "cells": [
  {
   "cell_type": "markdown",
   "metadata": {},
   "source": [
    "# Pandas"
   ]
  },
  {
   "cell_type": "code",
   "execution_count": null,
   "metadata": {
    "ExecuteTime": {
     "end_time": "2021-07-27T14:16:16.596153Z",
     "start_time": "2021-07-27T14:16:15.428884Z"
    }
   },
   "outputs": [],
   "source": [
    "import pandas as pd"
   ]
  },
  {
   "cell_type": "code",
   "execution_count": null,
   "metadata": {
    "ExecuteTime": {
     "end_time": "2021-07-27T14:16:16.621885Z",
     "start_time": "2021-07-27T14:16:16.600516Z"
    }
   },
   "outputs": [],
   "source": [
    "pd.__version__"
   ]
  },
  {
   "cell_type": "markdown",
   "metadata": {},
   "source": [
    "###  Lire des données "
   ]
  },
  {
   "cell_type": "markdown",
   "metadata": {},
   "source": [
    "Pandas permet de travailler avec beaucoup de format de données en tableaux :\n",
    "\n",
    "* `read_csv`"
   ]
  },
  {
   "cell_type": "markdown",
   "metadata": {},
   "source": [
    "Pour être lu, le fichier doit être situé dans le même dossier que votre notebook."
   ]
  },
  {
   "cell_type": "code",
   "execution_count": null,
   "metadata": {
    "ExecuteTime": {
     "end_time": "2021-07-27T14:17:14.494180Z",
     "start_time": "2021-07-27T14:17:14.290546Z"
    },
    "scrolled": false
   },
   "outputs": [],
   "source": [
    "df_gapminder = pd.read_csv('gapminder.csv')\n",
    "df_gapminder"
   ]
  },
  {
   "cell_type": "markdown",
   "metadata": {},
   "source": [
    "Pour lire un fichier situé ailleurs dans votre disque dur, il est nécessaire d'indiquer son chemin complet :"
   ]
  },
  {
   "cell_type": "code",
   "execution_count": null,
   "metadata": {
    "ExecuteTime": {
     "end_time": "2021-07-27T14:19:09.930764Z",
     "start_time": "2021-07-27T14:19:09.846632Z"
    }
   },
   "outputs": [],
   "source": [
    "df_gapminder = pd.read_csv('/Users/Thomas/Documents/DataBird/Python/J3/gapminder.csv')\n",
    "df_gapminder"
   ]
  },
  {
   "cell_type": "markdown",
   "metadata": {},
   "source": [
    "Sur MacOS, il est possible d'obtenir le chemin complet en utilisant `clic droit + alt` pour faire apparaître \"Copier en tant que nom de chemin\".\n",
    "\n",
    "Sur Windows, les chemins de fichier sont parfois mal reconnus et provoquent une erreur. Dans ce cas-là, il suffit souvent d'ajouter `r` avant le chemin (pour \"raw text\"). Ex : `r'/Users/DataBird/Python/gapminder.csv'`."
   ]
  },
  {
   "cell_type": "markdown",
   "metadata": {},
   "source": [
    "* `read_excel`"
   ]
  },
  {
   "cell_type": "code",
   "execution_count": null,
   "metadata": {
    "ExecuteTime": {
     "end_time": "2021-07-27T14:23:08.768220Z",
     "start_time": "2021-07-27T14:23:08.763057Z"
    }
   },
   "outputs": [],
   "source": [
    "# Faire tourner cette cellule si les cellules suivantes ne fonctionnent pas\n",
    "#!pip install openpyxl"
   ]
  },
  {
   "cell_type": "code",
   "execution_count": null,
   "metadata": {
    "ExecuteTime": {
     "end_time": "2021-07-27T14:23:22.901927Z",
     "start_time": "2021-07-27T14:23:17.826219Z"
    },
    "scrolled": false
   },
   "outputs": [],
   "source": [
    "dataframe_insee = pd.read_excel('base_insee_salaire.xlsx', header=4, sheet_name='DEP') # quelques arguments optionnels\n",
    "dataframe_insee"
   ]
  },
  {
   "cell_type": "markdown",
   "metadata": {},
   "source": [
    "* `read_html`\n",
    "\n",
    "Pas besoin de tout comprendre au code ci-dessous. Il s'agit juste d'un exemple, qui est développé dans le cours de Scraping, montrant qu'il est possible de lire des données directement issues du web avec Pandas."
   ]
  },
  {
   "cell_type": "code",
   "execution_count": null,
   "metadata": {
    "ExecuteTime": {
     "end_time": "2021-07-27T14:24:10.369641Z",
     "start_time": "2021-07-27T14:24:09.981176Z"
    }
   },
   "outputs": [],
   "source": [
    "#!pip install lxml\n",
    "import requests\n",
    "base_url = \"https://e-mouvement.snuipp.fr/75/pages/statistiques/page:1?city=PARIS&type=&bareme=&annee=all\"\n",
    "html_raw = requests.get(base_url).content"
   ]
  },
  {
   "cell_type": "code",
   "execution_count": null,
   "metadata": {
    "ExecuteTime": {
     "end_time": "2021-06-17T09:37:40.091718Z",
     "start_time": "2021-06-17T09:37:39.684267Z"
    },
    "scrolled": true
   },
   "outputs": [],
   "source": [
    "dataframe_ecoles = pd.read_html(html_raw)[0]\n",
    "dataframe_ecoles"
   ]
  },
  {
   "cell_type": "markdown",
   "metadata": {},
   "source": [
    "* `read_clipboard`\n",
    "\n",
    "Enfin, un exemple plus \"gadget\" : il est même possible de lire depuis le presse-papier. Par ex, vous pouvez vous rendre sur la page https://fr.wikipedia.org/wiki/Liste_des_pays_par_IDH et copier l'une des tables simples, puis :"
   ]
  },
  {
   "cell_type": "code",
   "execution_count": null,
   "metadata": {
    "ExecuteTime": {
     "end_time": "2021-06-17T09:40:21.515036Z",
     "start_time": "2021-06-17T09:40:21.071662Z"
    },
    "scrolled": true
   },
   "outputs": [],
   "source": [
    "df = pd.read_clipboard()\n",
    "df"
   ]
  },
  {
   "cell_type": "markdown",
   "metadata": {},
   "source": [
    "Regardons maintenant comment manipuler ces dataframes pour afficher et transformer les données les plus pertinentes lors d'un projet d'analyse !"
   ]
  },
  {
   "cell_type": "code",
   "execution_count": null,
   "metadata": {},
   "outputs": [],
   "source": []
  }
 ],
 "metadata": {
  "hide_input": false,
  "kernelspec": {
   "display_name": "Python 3",
   "language": "python",
   "name": "python3"
  },
  "language_info": {
   "codemirror_mode": {
    "name": "ipython",
    "version": 3
   },
   "file_extension": ".py",
   "mimetype": "text/x-python",
   "name": "python",
   "nbconvert_exporter": "python",
   "pygments_lexer": "ipython3",
   "version": "3.9.1"
  },
  "toc": {
   "base_numbering": 1,
   "nav_menu": {},
   "number_sections": true,
   "sideBar": true,
   "skip_h1_title": false,
   "title_cell": "Table of Contents",
   "title_sidebar": "Contents",
   "toc_cell": false,
   "toc_position": {},
   "toc_section_display": true,
   "toc_window_display": false
  }
 },
 "nbformat": 4,
 "nbformat_minor": 4
}
