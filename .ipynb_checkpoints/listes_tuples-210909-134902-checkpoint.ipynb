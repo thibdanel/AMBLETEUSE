{
 "cells": [
  {
   "cell_type": "markdown",
   "metadata": {},
   "source": [
    "## Listes"
   ]
  },
  {
   "cell_type": "markdown",
   "metadata": {},
   "source": [
    "Les listes sont le moyen de plus fexible de stocker des données en Python."
   ]
  },
  {
   "cell_type": "code",
   "execution_count": null,
   "metadata": {
    "ExecuteTime": {
     "end_time": "2021-07-27T13:02:02.737823Z",
     "start_time": "2021-07-27T13:02:02.729665Z"
    }
   },
   "outputs": [],
   "source": [
    "competitors = ['Dior', 'Chanel', 'Louis Vuitton']\n",
    "print(competitors)"
   ]
  },
  {
   "cell_type": "markdown",
   "metadata": {},
   "source": [
    "Un grand nombre de méthodes permettent de manipuler les listes."
   ]
  },
  {
   "cell_type": "code",
   "execution_count": null,
   "metadata": {
    "ExecuteTime": {
     "end_time": "2021-07-27T13:02:35.491227Z",
     "start_time": "2021-07-27T13:02:35.474583Z"
    }
   },
   "outputs": [],
   "source": [
    "# On peut ajouter un élément à une liste\n",
    "competitors.append('Hermès')\n",
    "competitors"
   ]
  },
  {
   "cell_type": "code",
   "execution_count": null,
   "metadata": {
    "ExecuteTime": {
     "end_time": "2021-07-27T13:02:46.400075Z",
     "start_time": "2021-07-27T13:02:46.393647Z"
    }
   },
   "outputs": [],
   "source": [
    "# On peut supprimer un élément d'une liste par sa valeur \n",
    "competitors.remove('Dior')\n",
    "competitors"
   ]
  },
  {
   "cell_type": "code",
   "execution_count": null,
   "metadata": {
    "ExecuteTime": {
     "end_time": "2021-07-27T13:02:48.785516Z",
     "start_time": "2021-07-27T13:02:48.776858Z"
    }
   },
   "outputs": [],
   "source": [
    "# ...ou par son index\n",
    "competitors.pop(1)\n",
    "competitors"
   ]
  },
  {
   "cell_type": "code",
   "execution_count": null,
   "metadata": {
    "ExecuteTime": {
     "end_time": "2021-07-27T13:03:37.956559Z",
     "start_time": "2021-07-27T13:03:37.881509Z"
    }
   },
   "outputs": [],
   "source": [
    "# On peut compter le nombre total d'éléments\n",
    "sales_per_year = [10, 10, 9, 13, 15]\n",
    "len(sales_per_year)"
   ]
  },
  {
   "cell_type": "code",
   "execution_count": null,
   "metadata": {
    "ExecuteTime": {
     "end_time": "2021-07-27T13:03:38.087696Z",
     "start_time": "2021-07-27T13:03:38.081541Z"
    }
   },
   "outputs": [],
   "source": [
    "# ...ou le nombre d'occurences d'un élément spécifique\n",
    "sales_per_year.count(10)"
   ]
  },
  {
   "cell_type": "code",
   "execution_count": null,
   "metadata": {
    "ExecuteTime": {
     "end_time": "2021-07-27T13:03:44.081899Z",
     "start_time": "2021-07-27T13:03:44.072936Z"
    },
    "scrolled": true
   },
   "outputs": [],
   "source": [
    "# on peut classer les éléments\n",
    "sales_per_year.sort(reverse=True)\n",
    "sales_per_year"
   ]
  },
  {
   "cell_type": "markdown",
   "metadata": {},
   "source": [
    "Voir https://www.programiz.com/python-programming/methods/list toutes les méthodes pour les listes."
   ]
  },
  {
   "cell_type": "markdown",
   "metadata": {},
   "source": [
    "Enfin, voici comment créer une liste vide :"
   ]
  },
  {
   "cell_type": "code",
   "execution_count": null,
   "metadata": {
    "ExecuteTime": {
     "end_time": "2021-07-27T13:03:56.260625Z",
     "start_time": "2021-07-27T13:03:56.252969Z"
    }
   },
   "outputs": [],
   "source": [
    "empty_list = []\n",
    "empty_list = list()\n",
    "empty_list"
   ]
  },
  {
   "cell_type": "markdown",
   "metadata": {},
   "source": [
    "## Les tuples"
   ]
  },
  {
   "cell_type": "markdown",
   "metadata": {
    "ExecuteTime": {
     "end_time": "2020-06-02T13:59:39.708538Z",
     "start_time": "2020-06-02T13:59:39.701702Z"
    }
   },
   "source": [
    "Les tuples sont des séries de valeurs comme les listes, mais immuables - on ne peut pas réassigner une valeur à l'intérieur d'un tuple."
   ]
  },
  {
   "cell_type": "code",
   "execution_count": null,
   "metadata": {
    "ExecuteTime": {
     "end_time": "2021-07-27T13:05:08.440643Z",
     "start_time": "2021-07-27T13:05:08.417618Z"
    }
   },
   "outputs": [],
   "source": [
    "products = ('shoes', 'trousers', 'cap')\n",
    "\n",
    "# Je ne peux pas modifier la première valeur\n",
    "products[0] = 'sneakers'"
   ]
  },
  {
   "cell_type": "code",
   "execution_count": null,
   "metadata": {
    "ExecuteTime": {
     "end_time": "2021-07-27T13:05:09.428766Z",
     "start_time": "2021-07-27T13:05:09.418277Z"
    }
   },
   "outputs": [],
   "source": [
    "competitors[0] = 'sneakers'\n",
    "competitors"
   ]
  },
  {
   "cell_type": "markdown",
   "metadata": {},
   "source": [
    "De même qu'avec une liste, on peut itérer sur un tuple :"
   ]
  },
  {
   "cell_type": "code",
   "execution_count": null,
   "metadata": {
    "ExecuteTime": {
     "end_time": "2021-07-27T13:07:36.521180Z",
     "start_time": "2021-07-27T13:07:36.512449Z"
    }
   },
   "outputs": [],
   "source": [
    "print(f\"We have {len(products)} products available:\")\n",
    "\n",
    "for prod in products:\n",
    "    print('\\t', prod) # \\t permet de faire une tabulation (\\n permet de revenir à la ligne)"
   ]
  },
  {
   "cell_type": "markdown",
   "metadata": {},
   "source": [
    "Et on crée des tuples vides de la même façon que les listes :"
   ]
  },
  {
   "cell_type": "code",
   "execution_count": null,
   "metadata": {
    "ExecuteTime": {
     "end_time": "2021-04-12T08:51:54.127345Z",
     "start_time": "2021-04-12T08:51:54.091018Z"
    }
   },
   "outputs": [],
   "source": [
    "empty_tuple = ()\n",
    "empty_tuple = tuple()\n",
    "empty_tuple"
   ]
  }
 ],
 "metadata": {
  "hide_input": false,
  "kernelspec": {
   "display_name": "Python 3",
   "language": "python",
   "name": "python3"
  },
  "language_info": {
   "codemirror_mode": {
    "name": "ipython",
    "version": 3
   },
   "file_extension": ".py",
   "mimetype": "text/x-python",
   "name": "python",
   "nbconvert_exporter": "python",
   "pygments_lexer": "ipython3",
   "version": "3.9.1"
  },
  "toc": {
   "base_numbering": 1,
   "nav_menu": {},
   "number_sections": true,
   "sideBar": true,
   "skip_h1_title": false,
   "title_cell": "Table of Contents",
   "title_sidebar": "Contents",
   "toc_cell": false,
   "toc_position": {},
   "toc_section_display": true,
   "toc_window_display": false
  }
 },
 "nbformat": 4,
 "nbformat_minor": 4
}
