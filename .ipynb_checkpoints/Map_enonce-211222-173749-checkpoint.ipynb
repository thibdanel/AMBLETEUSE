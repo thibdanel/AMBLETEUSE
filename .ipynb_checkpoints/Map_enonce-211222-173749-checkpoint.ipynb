{
 "cells": [
  {
   "cell_type": "markdown",
   "metadata": {},
   "source": [
    "## Map et Filter"
   ]
  },
  {
   "cell_type": "markdown",
   "metadata": {},
   "source": [
    "### Exercice 1 – Nombres impairs (*)\n",
    "\n",
    "Ecrire un programme Python qui n'affiche que les nombres impairs de la liste ci-dessous."
   ]
  },
  {
   "cell_type": "code",
   "execution_count": null,
   "metadata": {},
   "outputs": [],
   "source": [
    "test_list = [1, 2, 5, -1, 89, 222]"
   ]
  },
  {
   "cell_type": "code",
   "execution_count": null,
   "metadata": {},
   "outputs": [],
   "source": []
  },
  {
   "cell_type": "markdown",
   "metadata": {},
   "source": [
    "### Exercice 2 – Convertir les dates en jour manuellement  (***)\n",
    "\n",
    "Ecrire un programme Python qui convertit une liste de numéros de jours du mois (c'est-à-dire une liste de nombres entre 1 et 31) en une liste de noms de jours (c'est-à-dire une liste de strings entre \"lundi\" et \"dimanche\"). \n",
    "\n",
    "On suppose que le 1er jour du mois ci-dessous est un lundi.\n",
    "\n",
    "_Indice : L'une des solutions implique de créer un dictionnaire de correspondances entre les numéros des jours de la semaine et leur nom (de 0 : \"lundi\" à 6 : \"dimanche\")._"
   ]
  },
  {
   "cell_type": "code",
   "execution_count": null,
   "metadata": {
    "ExecuteTime": {
     "end_time": "2020-06-19T14:31:34.886721Z",
     "start_time": "2020-06-19T14:31:34.881314Z"
    }
   },
   "outputs": [],
   "source": [
    "jours = [21, 26,  7, 11, 14, 29, 24, 24, 14, 18]"
   ]
  },
  {
   "cell_type": "code",
   "execution_count": null,
   "metadata": {},
   "outputs": [],
   "source": []
  },
  {
   "cell_type": "markdown",
   "metadata": {},
   "source": [
    "### Exercice 3 - Les 0 consécutifs (***)\n",
    "\n",
    "Ecrire un programme Python qui donne la longueur de la plus longue série de zéros dans une chaîne de caractères binaires. \n",
    "\n",
    "_Indice : Essayer d'abord avec une boucle. Ensuite, une solution bonus utilise la fonction `map`._"
   ]
  },
  {
   "cell_type": "code",
   "execution_count": null,
   "metadata": {
    "ExecuteTime": {
     "end_time": "2020-06-08T15:40:52.302182Z",
     "start_time": "2020-06-08T15:40:52.282602Z"
    },
    "code_folding": [
     3
    ]
   },
   "outputs": [],
   "source": [
    "binaire_1 = '111000001000110'\n",
    "binaire_2 = '111000111'"
   ]
  },
  {
   "cell_type": "code",
   "execution_count": null,
   "metadata": {},
   "outputs": [],
   "source": []
  }
 ],
 "metadata": {
  "hide_input": false,
  "kernelspec": {
   "display_name": "Python 3",
   "language": "python",
   "name": "python3"
  },
  "language_info": {
   "codemirror_mode": {
    "name": "ipython",
    "version": 3
   },
   "file_extension": ".py",
   "mimetype": "text/x-python",
   "name": "python",
   "nbconvert_exporter": "python",
   "pygments_lexer": "ipython3",
   "version": "3.8.5"
  },
  "toc": {
   "base_numbering": 1,
   "nav_menu": {},
   "number_sections": true,
   "sideBar": true,
   "skip_h1_title": false,
   "title_cell": "Table of Contents",
   "title_sidebar": "Contents",
   "toc_cell": false,
   "toc_position": {},
   "toc_section_display": true,
   "toc_window_display": true
  },
  "varInspector": {
   "cols": {
    "lenName": 16,
    "lenType": 16,
    "lenVar": 40
   },
   "kernels_config": {
    "python": {
     "delete_cmd_postfix": "",
     "delete_cmd_prefix": "del ",
     "library": "var_list.py",
     "varRefreshCmd": "print(var_dic_list())"
    },
    "r": {
     "delete_cmd_postfix": ") ",
     "delete_cmd_prefix": "rm(",
     "library": "var_list.r",
     "varRefreshCmd": "cat(var_dic_list()) "
    }
   },
   "types_to_exclude": [
    "module",
    "function",
    "builtin_function_or_method",
    "instance",
    "_Feature"
   ],
   "window_display": false
  }
 },
 "nbformat": 4,
 "nbformat_minor": 4
}
