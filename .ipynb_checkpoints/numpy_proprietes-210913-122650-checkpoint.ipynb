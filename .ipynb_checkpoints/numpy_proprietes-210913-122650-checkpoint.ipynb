{
 "cells": [
  {
   "cell_type": "markdown",
   "metadata": {},
   "source": [
    "# Numpy"
   ]
  },
  {
   "cell_type": "markdown",
   "metadata": {},
   "source": [
    "On doit d'abord importer le package ! "
   ]
  },
  {
   "cell_type": "code",
   "execution_count": null,
   "metadata": {
    "ExecuteTime": {
     "end_time": "2021-07-27T14:15:36.442171Z",
     "start_time": "2021-07-27T14:15:35.931875Z"
    }
   },
   "outputs": [],
   "source": [
    "import numpy as np"
   ]
  },
  {
   "cell_type": "code",
   "execution_count": null,
   "metadata": {
    "ExecuteTime": {
     "end_time": "2021-07-27T14:15:36.469059Z",
     "start_time": "2021-07-27T14:15:36.446638Z"
    }
   },
   "outputs": [],
   "source": [
    "np.__version__"
   ]
  },
  {
   "cell_type": "markdown",
   "metadata": {},
   "source": [
    "### Propriétés des arrays numpy"
   ]
  },
  {
   "cell_type": "markdown",
   "metadata": {},
   "source": [
    "On crée généralement un array en transformant une liste :"
   ]
  },
  {
   "cell_type": "code",
   "execution_count": null,
   "metadata": {
    "ExecuteTime": {
     "end_time": "2021-07-27T15:01:53.227187Z",
     "start_time": "2021-07-27T15:01:53.159178Z"
    }
   },
   "outputs": [],
   "source": [
    "my_array = np.array([1, 2, 3])\n",
    "my_array"
   ]
  },
  {
   "cell_type": "code",
   "execution_count": null,
   "metadata": {
    "ExecuteTime": {
     "end_time": "2021-07-27T15:02:12.978629Z",
     "start_time": "2021-07-27T15:02:12.972619Z"
    }
   },
   "outputs": [],
   "source": [
    "type(list(my_array)) # transformation d'array en liste"
   ]
  },
  {
   "cell_type": "markdown",
   "metadata": {},
   "source": [
    "Contrairement aux listes (qui ont une longeur), les arrays ont une **shape**. En effet, les arrays permettent de réprésenter des données sur **une dimension** (= liste, vecteur) mais aussi sous forme de **matrices (2D)** ou de **tenseurs (3D et plus)**."
   ]
  },
  {
   "cell_type": "code",
   "execution_count": null,
   "metadata": {
    "ExecuteTime": {
     "end_time": "2021-07-27T15:03:03.245022Z",
     "start_time": "2021-07-27T15:03:03.231859Z"
    }
   },
   "outputs": [],
   "source": [
    "my_array.shape"
   ]
  },
  {
   "cell_type": "markdown",
   "metadata": {},
   "source": [
    "Cette écriture équivaut à `(3,1)` (1 ligne, 3 colonnes)."
   ]
  },
  {
   "cell_type": "code",
   "execution_count": null,
   "metadata": {
    "ExecuteTime": {
     "end_time": "2021-07-27T15:04:35.230163Z",
     "start_time": "2021-07-27T15:04:35.223410Z"
    },
    "scrolled": true
   },
   "outputs": [],
   "source": [
    "array_2d = np.array([[1, 2, 3], [4, 5, 6]])"
   ]
  },
  {
   "cell_type": "code",
   "execution_count": null,
   "metadata": {
    "ExecuteTime": {
     "end_time": "2021-07-27T15:04:35.406919Z",
     "start_time": "2021-07-27T15:04:35.398761Z"
    }
   },
   "outputs": [],
   "source": [
    "array_2d"
   ]
  },
  {
   "cell_type": "markdown",
   "metadata": {},
   "source": [
    "Quelle va être la `shape` de cet array ?"
   ]
  },
  {
   "cell_type": "code",
   "execution_count": null,
   "metadata": {
    "ExecuteTime": {
     "end_time": "2021-07-27T15:04:35.772871Z",
     "start_time": "2021-07-27T15:04:35.765802Z"
    }
   },
   "outputs": [],
   "source": [
    "array_2d.shape"
   ]
  },
  {
   "cell_type": "markdown",
   "metadata": {},
   "source": [
    "Cela siginifie que notre  `array_2d` est une matrice de 2 lignes et 3 colonnes"
   ]
  },
  {
   "cell_type": "markdown",
   "metadata": {},
   "source": [
    "L'indexing et le slicing des arrays s'effectue de la même manière que pour les listes (`[ ]`), avec la possibilité de sélectionner des données dans plusieurs dimensions :"
   ]
  },
  {
   "cell_type": "code",
   "execution_count": null,
   "metadata": {
    "ExecuteTime": {
     "end_time": "2021-07-27T15:04:36.769659Z",
     "start_time": "2021-07-27T15:04:36.761075Z"
    }
   },
   "outputs": [],
   "source": [
    "array_2d"
   ]
  },
  {
   "cell_type": "markdown",
   "metadata": {},
   "source": [
    "Pouvez-vous deviner le contenu des prochaines cellules ?"
   ]
  },
  {
   "cell_type": "code",
   "execution_count": null,
   "metadata": {
    "ExecuteTime": {
     "end_time": "2021-07-27T15:05:03.251255Z",
     "start_time": "2021-07-27T15:05:03.243517Z"
    }
   },
   "outputs": [],
   "source": [
    "array_2d[0] # Encore et toujours les crochets de slicing ('square brackets')"
   ]
  },
  {
   "cell_type": "code",
   "execution_count": null,
   "metadata": {
    "ExecuteTime": {
     "end_time": "2021-07-27T15:05:06.465800Z",
     "start_time": "2021-07-27T15:05:06.457924Z"
    }
   },
   "outputs": [],
   "source": [
    "array_2d[0][0]"
   ]
  },
  {
   "cell_type": "code",
   "execution_count": null,
   "metadata": {
    "ExecuteTime": {
     "end_time": "2021-07-27T15:05:08.295558Z",
     "start_time": "2021-07-27T15:05:08.287561Z"
    },
    "scrolled": true
   },
   "outputs": [],
   "source": [
    "array_2d[1, :2]"
   ]
  },
  {
   "cell_type": "markdown",
   "metadata": {},
   "source": [
    "Enfin, l'une des différences majeures entre les arrays et les listes est que les arrays ne peuvent contenir qu'un seul type de valeur à la fois - on ne peut pas mixer les types comme dans les listes."
   ]
  },
  {
   "cell_type": "code",
   "execution_count": null,
   "metadata": {
    "ExecuteTime": {
     "end_time": "2021-07-27T15:05:41.495556Z",
     "start_time": "2021-07-27T15:05:41.491041Z"
    }
   },
   "outputs": [],
   "source": [
    "my_list = [1, 2.5, True, 'DataBird']"
   ]
  },
  {
   "cell_type": "code",
   "execution_count": null,
   "metadata": {
    "ExecuteTime": {
     "end_time": "2021-07-27T15:05:53.598942Z",
     "start_time": "2021-07-27T15:05:53.592703Z"
    }
   },
   "outputs": [],
   "source": [
    "my_array = np.array(my_list)\n",
    "my_array"
   ]
  },
  {
   "cell_type": "markdown",
   "metadata": {},
   "source": [
    "Que s'est-il passé ? La cellule n'a pas généré d'erreur, en revanche tous les éléments ont été convertis vers le type le plus généraliste : `str`."
   ]
  },
  {
   "cell_type": "code",
   "execution_count": null,
   "metadata": {
    "ExecuteTime": {
     "end_time": "2021-07-27T15:06:22.875350Z",
     "start_time": "2021-07-27T15:06:22.868598Z"
    },
    "scrolled": true
   },
   "outputs": [],
   "source": [
    "np.array([1, 2, 3.5]) # ici, les integers sont convertis en floats"
   ]
  },
  {
   "cell_type": "markdown",
   "metadata": {},
   "source": [
    "L'avantage : éviter les erreurs lors des calculs sur des colonnes. Cette propriété nous assure que si l'on veut par exemple multiplier 2 colonnes, ou calculer la moyenne d'une colonne, elle ne contiendra que des float (par ex), ce qui évitera une `TypeError` !"
   ]
  },
  {
   "cell_type": "markdown",
   "metadata": {},
   "source": [
    "Voyons maintenant les opérations possibles avec des arrays numpy."
   ]
  },
  {
   "cell_type": "code",
   "execution_count": null,
   "metadata": {},
   "outputs": [],
   "source": []
  }
 ],
 "metadata": {
  "hide_input": false,
  "kernelspec": {
   "display_name": "Python 3",
   "language": "python",
   "name": "python3"
  },
  "language_info": {
   "codemirror_mode": {
    "name": "ipython",
    "version": 3
   },
   "file_extension": ".py",
   "mimetype": "text/x-python",
   "name": "python",
   "nbconvert_exporter": "python",
   "pygments_lexer": "ipython3",
   "version": "3.9.1"
  },
  "toc": {
   "base_numbering": 1,
   "nav_menu": {},
   "number_sections": true,
   "sideBar": true,
   "skip_h1_title": false,
   "title_cell": "Table of Contents",
   "title_sidebar": "Contents",
   "toc_cell": false,
   "toc_position": {},
   "toc_section_display": true,
   "toc_window_display": false
  }
 },
 "nbformat": 4,
 "nbformat_minor": 4
}
