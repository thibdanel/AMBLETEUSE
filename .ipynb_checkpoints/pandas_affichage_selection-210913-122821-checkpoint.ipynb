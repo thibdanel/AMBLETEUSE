{
 "cells": [
  {
   "cell_type": "markdown",
   "metadata": {},
   "source": [
    "# Pandas"
   ]
  },
  {
   "cell_type": "code",
   "execution_count": null,
   "metadata": {
    "ExecuteTime": {
     "end_time": "2021-07-27T14:46:29.865712Z",
     "start_time": "2021-07-27T14:46:28.782455Z"
    }
   },
   "outputs": [],
   "source": [
    "import pandas as pd"
   ]
  },
  {
   "cell_type": "code",
   "execution_count": null,
   "metadata": {
    "ExecuteTime": {
     "end_time": "2021-07-27T14:52:11.919221Z",
     "start_time": "2021-07-27T14:52:11.896313Z"
    },
    "scrolled": false
   },
   "outputs": [],
   "source": [
    "# Lecture des données \n",
    "df_gapminder = pd.read_csv('gapminder.csv')"
   ]
  },
  {
   "cell_type": "markdown",
   "metadata": {},
   "source": [
    "### Afficher et sélectionner des données "
   ]
  },
  {
   "cell_type": "code",
   "execution_count": null,
   "metadata": {
    "ExecuteTime": {
     "end_time": "2021-07-27T14:49:42.457992Z",
     "start_time": "2021-07-27T14:49:42.375285Z"
    },
    "scrolled": true
   },
   "outputs": [],
   "source": [
    "df_gapminder.head()"
   ]
  },
  {
   "cell_type": "code",
   "execution_count": null,
   "metadata": {},
   "outputs": [],
   "source": [
    "# on peut spécifier le nombre de lignes qui nous arrange\n",
    "df.gapminder(100)"
   ]
  },
  {
   "cell_type": "code",
   "execution_count": null,
   "metadata": {
    "ExecuteTime": {
     "end_time": "2021-07-27T14:49:43.021353Z",
     "start_time": "2021-07-27T14:49:42.988347Z"
    }
   },
   "outputs": [],
   "source": [
    "df_gapminder.tail()"
   ]
  },
  {
   "cell_type": "code",
   "execution_count": null,
   "metadata": {},
   "outputs": [],
   "source": [
    "df_gapminder.tail(2)"
   ]
  },
  {
   "cell_type": "code",
   "execution_count": null,
   "metadata": {
    "ExecuteTime": {
     "end_time": "2021-07-27T14:49:45.302890Z",
     "start_time": "2021-07-27T14:49:45.247922Z"
    },
    "scrolled": false
   },
   "outputs": [],
   "source": [
    "df_gapminder.sample(7)"
   ]
  },
  {
   "cell_type": "markdown",
   "metadata": {},
   "source": [
    "Comme avec numpy, l'attribut `shape` nous donne le nombre de lignes et de colonnes :"
   ]
  },
  {
   "cell_type": "code",
   "execution_count": null,
   "metadata": {
    "ExecuteTime": {
     "end_time": "2021-07-27T14:50:25.832093Z",
     "start_time": "2021-07-27T14:50:25.815336Z"
    },
    "scrolled": true
   },
   "outputs": [],
   "source": [
    "shape = df_gapminder.shape\n",
    "shape"
   ]
  },
  {
   "cell_type": "code",
   "execution_count": null,
   "metadata": {
    "ExecuteTime": {
     "end_time": "2021-07-27T14:50:38.545967Z",
     "start_time": "2021-07-27T14:50:38.526107Z"
    }
   },
   "outputs": [],
   "source": [
    "print(f\"Our gapminder dataset has {shape[0]} rows and {shape[1]} columns\")"
   ]
  },
  {
   "cell_type": "markdown",
   "metadata": {},
   "source": [
    "Il est possible d'extraire les noms de colonne avec l'attribut `.columns` :"
   ]
  },
  {
   "cell_type": "code",
   "execution_count": null,
   "metadata": {
    "ExecuteTime": {
     "end_time": "2021-07-27T14:50:39.087065Z",
     "start_time": "2021-07-27T14:50:39.079128Z"
    },
    "scrolled": true
   },
   "outputs": [],
   "source": [
    "df_gapminder.columns"
   ]
  },
  {
   "cell_type": "markdown",
   "metadata": {},
   "source": [
    "En début d'analyse, on affiche toujours les **types** des variables (des colonnes) avec la méthode `.info()`, afin de vérifier qu'il n'y a pas d'erreur d'interprétation :"
   ]
  },
  {
   "cell_type": "code",
   "execution_count": null,
   "metadata": {
    "ExecuteTime": {
     "end_time": "2021-07-27T14:51:50.843204Z",
     "start_time": "2021-07-27T14:51:50.795202Z"
    }
   },
   "outputs": [],
   "source": [
    "df_gapminder.info()"
   ]
  },
  {
   "cell_type": "markdown",
   "metadata": {},
   "source": [
    "On utilisera principalement la syntaxe du slicing pour sélectionner ou filtrer des données dans un dataframe : "
   ]
  },
  {
   "cell_type": "code",
   "execution_count": null,
   "metadata": {
    "ExecuteTime": {
     "end_time": "2021-07-27T14:53:53.811531Z",
     "start_time": "2021-07-27T14:53:53.802773Z"
    },
    "scrolled": true
   },
   "outputs": [],
   "source": [
    "# Ne retenir qu'une colonne selon son nom\n",
    "df_gapminder['country']"
   ]
  },
  {
   "cell_type": "code",
   "execution_count": null,
   "metadata": {
    "ExecuteTime": {
     "end_time": "2021-07-27T14:54:14.319699Z",
     "start_time": "2021-07-27T14:54:14.302177Z"
    }
   },
   "outputs": [],
   "source": [
    "# Sélectionner une liste de colonnes\n",
    "df_gapminder[ [\"country\", \"lifeExp_2007\", \"pop_1977\"] ]"
   ]
  },
  {
   "cell_type": "code",
   "execution_count": null,
   "metadata": {},
   "outputs": [],
   "source": [
    "# équivalent à :\n",
    "list_columns = [\"country\", \"lifeExp_2007\", \"pop_1977\"]\n",
    "df_gapminder[list_columns]"
   ]
  },
  {
   "cell_type": "markdown",
   "metadata": {},
   "source": [
    "La sélection peut être effectuée sur les lignes plutôt que sur les colonnes :"
   ]
  },
  {
   "cell_type": "code",
   "execution_count": null,
   "metadata": {
    "ExecuteTime": {
     "end_time": "2021-06-17T09:59:03.893058Z",
     "start_time": "2021-06-17T09:59:03.796444Z"
    }
   },
   "outputs": [],
   "source": [
    "df_gapminder[:3] # renvoie les 3 premières lignes"
   ]
  },
  {
   "cell_type": "markdown",
   "metadata": {},
   "source": [
    "Quel sera le résultat de cette cellule ?"
   ]
  },
  {
   "cell_type": "code",
   "execution_count": null,
   "metadata": {
    "ExecuteTime": {
     "end_time": "2021-06-17T09:59:21.812885Z",
     "start_time": "2021-06-17T09:59:21.713048Z"
    }
   },
   "outputs": [],
   "source": [
    "df_gapminder[-3:]"
   ]
  },
  {
   "cell_type": "markdown",
   "metadata": {},
   "source": [
    "Enfin, on peut mélanger le slicing par lignes et colonnes !"
   ]
  },
  {
   "cell_type": "code",
   "execution_count": null,
   "metadata": {
    "ExecuteTime": {
     "end_time": "2021-06-17T10:02:06.863073Z",
     "start_time": "2021-06-17T10:02:06.848423Z"
    }
   },
   "outputs": [],
   "source": [
    "df_gapminder[:3][\"lifeExp_2007\"]"
   ]
  },
  {
   "cell_type": "markdown",
   "metadata": {},
   "source": [
    "De manière générale, on raisonne plutôt dans l'ordre 'lignes' puis 'colonnes', mais ici l'ordre des [] n'a pas d'importance.\n",
    "\n",
    "**$\\rightarrow$ Pandas est omniprésent pour l'analyse de données avec Python. Nous allons l'utilser en exercices, apprendre de nombreuses fonctions supplémentaires, et vous pourrez bientôt l'utiliser pour mener vos propres analyses !**"
   ]
  },
  {
   "cell_type": "code",
   "execution_count": null,
   "metadata": {},
   "outputs": [],
   "source": []
  }
 ],
 "metadata": {
  "hide_input": false,
  "kernelspec": {
   "display_name": "Python 3",
   "language": "python",
   "name": "python3"
  },
  "language_info": {
   "codemirror_mode": {
    "name": "ipython",
    "version": 3
   },
   "file_extension": ".py",
   "mimetype": "text/x-python",
   "name": "python",
   "nbconvert_exporter": "python",
   "pygments_lexer": "ipython3",
   "version": "3.9.1"
  },
  "toc": {
   "base_numbering": 1,
   "nav_menu": {},
   "number_sections": true,
   "sideBar": true,
   "skip_h1_title": false,
   "title_cell": "Table of Contents",
   "title_sidebar": "Contents",
   "toc_cell": false,
   "toc_position": {},
   "toc_section_display": true,
   "toc_window_display": false
  }
 },
 "nbformat": 4,
 "nbformat_minor": 4
}
