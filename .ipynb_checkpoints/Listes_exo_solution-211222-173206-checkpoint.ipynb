{
 "cells": [
  {
   "cell_type": "markdown",
   "metadata": {},
   "source": [
    "# Manipulation de données avec Python – Solution"
   ]
  },
  {
   "cell_type": "markdown",
   "metadata": {},
   "source": [
    "Pour tous les exercices, le niveau de difficulté est indiqué par le code suivant :\n",
    "* \\* niveau facile\n",
    "* \\** niveau intermédiaire\n",
    "* \\*** niveau difficile\n",
    "\n",
    "* **@** indique les exercices pour lesquels vous aurez besoin de chercher sur internet pour trouver des pistes de solution ou des exemples de code.\n",
    "\n",
    "_Note : Pour faciliter la navigation dans les exercices, n'hésitez pas à activer l'extension \"Table of Contents\", après avoir installé les extensions de notebook `jupyter_contrib_nbextensions` (voir PDF sur la plateforme)._"
   ]
  },
  {
   "cell_type": "markdown",
   "metadata": {},
   "source": [
    "## Listes"
   ]
  },
  {
   "cell_type": "markdown",
   "metadata": {},
   "source": [
    "### Exercice 1 - Insérer un élément dans une liste (*, @)\n",
    "\n",
    "Ecrire un programme Python pour insérer un élément à une position souhaitée dans une liste."
   ]
  },
  {
   "cell_type": "code",
   "execution_count": null,
   "metadata": {
    "ExecuteTime": {
     "end_time": "2021-09-14T12:39:20.961606Z",
     "start_time": "2021-09-14T12:39:20.538253Z"
    }
   },
   "outputs": [],
   "source": [
    "competitors = [\"Puma\", 'Under Armour', 'Adidas']"
   ]
  },
  {
   "cell_type": "code",
   "execution_count": null,
   "metadata": {
    "ExecuteTime": {
     "end_time": "2021-09-14T12:41:13.320540Z",
     "start_time": "2021-09-14T12:41:13.113702Z"
    }
   },
   "outputs": [],
   "source": [
    "competitors.insert(2, \"Reebok\")\n",
    "competitors"
   ]
  },
  {
   "cell_type": "markdown",
   "metadata": {},
   "source": [
    "### Exercice 2 - Mélanger une liste  (*, @)\n",
    "\n",
    "Ecrire un programme Python pour mélanger puis afficher une liste donnée.\n",
    "\n",
    "_Indice : regarder la documentation du package `random`._"
   ]
  },
  {
   "cell_type": "code",
   "execution_count": null,
   "metadata": {
    "ExecuteTime": {
     "end_time": "2021-09-14T12:42:13.021486Z",
     "start_time": "2021-09-14T12:42:12.967361Z"
    }
   },
   "outputs": [],
   "source": [
    "color = ['Red', 'Green', 'White', 'Black', 'Pink', 'Yellow']"
   ]
  },
  {
   "cell_type": "code",
   "execution_count": null,
   "metadata": {
    "ExecuteTime": {
     "end_time": "2021-09-14T12:42:16.727009Z",
     "start_time": "2021-09-14T12:42:16.684130Z"
    }
   },
   "outputs": [],
   "source": [
    "import random"
   ]
  },
  {
   "cell_type": "code",
   "execution_count": null,
   "metadata": {
    "ExecuteTime": {
     "end_time": "2021-09-14T12:43:16.470602Z",
     "start_time": "2021-09-14T12:43:16.384162Z"
    }
   },
   "outputs": [],
   "source": [
    "random.shuffle(color)\n",
    "color"
   ]
  },
  {
   "cell_type": "code",
   "execution_count": null,
   "metadata": {
    "ExecuteTime": {
     "end_time": "2021-09-14T12:44:26.060947Z",
     "start_time": "2021-09-14T12:44:26.015922Z"
    }
   },
   "outputs": [],
   "source": [
    "len(color)"
   ]
  },
  {
   "cell_type": "code",
   "execution_count": null,
   "metadata": {
    "ExecuteTime": {
     "end_time": "2021-09-14T12:44:36.194855Z",
     "start_time": "2021-09-14T12:44:36.110780Z"
    }
   },
   "outputs": [],
   "source": [
    "random.sample(color, len(color))"
   ]
  },
  {
   "cell_type": "code",
   "execution_count": null,
   "metadata": {
    "ExecuteTime": {
     "end_time": "2021-09-14T12:46:11.397229Z",
     "start_time": "2021-09-14T12:46:11.313218Z"
    },
    "scrolled": true
   },
   "outputs": [],
   "source": [
    "from random import shuffle\n",
    "shuffle(color)\n",
    "color"
   ]
  },
  {
   "cell_type": "markdown",
   "metadata": {},
   "source": [
    "### Exercice 3 - Compter les éléments d'une liste (**, @)\n",
    "\n",
    "Ecrire un programme Python pour compter la fréquence des éléments dans une liste (le nombre de fois que chaque élément apparaît).\n",
    "\n",
    "_Indice : utiliser une boucle ou regarder le package `collections`._"
   ]
  },
  {
   "cell_type": "code",
   "execution_count": null,
   "metadata": {
    "ExecuteTime": {
     "end_time": "2021-09-14T12:46:18.041986Z",
     "start_time": "2021-09-14T12:46:18.000380Z"
    }
   },
   "outputs": [],
   "source": [
    "test_list = ['a', 'a', 'e', 'e', 'z', '']"
   ]
  },
  {
   "cell_type": "code",
   "execution_count": null,
   "metadata": {
    "ExecuteTime": {
     "end_time": "2021-09-14T12:46:47.572922Z",
     "start_time": "2021-09-14T12:46:47.536272Z"
    }
   },
   "outputs": [],
   "source": [
    "len(test_list)"
   ]
  },
  {
   "cell_type": "code",
   "execution_count": null,
   "metadata": {
    "ExecuteTime": {
     "end_time": "2021-09-14T12:48:32.361170Z",
     "start_time": "2021-09-14T12:48:32.315684Z"
    }
   },
   "outputs": [],
   "source": [
    "result = {}"
   ]
  },
  {
   "cell_type": "code",
   "execution_count": null,
   "metadata": {
    "ExecuteTime": {
     "end_time": "2021-09-14T12:48:39.130444Z",
     "start_time": "2021-09-14T12:48:39.107698Z"
    }
   },
   "outputs": [],
   "source": [
    "result['a'] = 1\n",
    "result"
   ]
  },
  {
   "cell_type": "code",
   "execution_count": null,
   "metadata": {
    "ExecuteTime": {
     "end_time": "2021-09-14T12:50:25.348558Z",
     "start_time": "2021-09-14T12:50:25.003556Z"
    }
   },
   "outputs": [],
   "source": [
    "for x in test_list:\n",
    "    if x not in result:\n",
    "        result[x] = 1\n",
    "    else:\n",
    "        result[x] = result[x] + 1"
   ]
  },
  {
   "cell_type": "code",
   "execution_count": null,
   "metadata": {
    "ExecuteTime": {
     "end_time": "2021-09-14T12:51:38.285465Z",
     "start_time": "2021-09-14T12:51:38.266090Z"
    }
   },
   "outputs": [],
   "source": [
    "result"
   ]
  },
  {
   "cell_type": "code",
   "execution_count": null,
   "metadata": {
    "ExecuteTime": {
     "end_time": "2021-09-14T12:52:06.303540Z",
     "start_time": "2021-09-14T12:52:06.056580Z"
    },
    "code_folding": []
   },
   "outputs": [],
   "source": [
    "# Autre solution\n",
    "from collections import Counter\n",
    "test_list = ['a', 'a', 'e', 'z', '']\n",
    "Counter(test_list)"
   ]
  },
  {
   "cell_type": "code",
   "execution_count": null,
   "metadata": {
    "ExecuteTime": {
     "end_time": "2021-09-14T12:52:34.496692Z",
     "start_time": "2021-09-14T12:52:34.434759Z"
    }
   },
   "outputs": [],
   "source": [
    "# La méthode count ne compte qu'un élément donné\n",
    "test_list.count('a')"
   ]
  },
  {
   "cell_type": "markdown",
   "metadata": {},
   "source": [
    "## Tuples"
   ]
  },
  {
   "cell_type": "markdown",
   "metadata": {},
   "source": [
    "### Exercice 1 - Inclusion dans un tuple (*, @)\n",
    "\n",
    "Ecrire une ligne en Python pour vérifier si un élément donné est présent dans un tuple."
   ]
  },
  {
   "cell_type": "code",
   "execution_count": null,
   "metadata": {
    "ExecuteTime": {
     "end_time": "2021-09-14T12:55:30.016409Z",
     "start_time": "2021-09-14T12:55:29.945986Z"
    }
   },
   "outputs": [],
   "source": [
    "example_tuple = [\"bonjour\", False, \"4444\", 123456, \"sieste\"]\n",
    "element_a_tester = \"bonjour\""
   ]
  },
  {
   "cell_type": "code",
   "execution_count": null,
   "metadata": {
    "ExecuteTime": {
     "end_time": "2021-09-14T12:55:33.182660Z",
     "start_time": "2021-09-14T12:55:33.168441Z"
    }
   },
   "outputs": [],
   "source": [
    "# Il faut utiliser le mot clé 'IN'\n",
    "\n",
    "element_a_tester in example_tuple"
   ]
  },
  {
   "cell_type": "code",
   "execution_count": null,
   "metadata": {
    "ExecuteTime": {
     "end_time": "2021-09-14T12:54:07.683924Z",
     "start_time": "2021-09-14T12:54:07.643366Z"
    }
   },
   "outputs": [],
   "source": [
    "0 in example_tuple # `False` cast as 0"
   ]
  },
  {
   "cell_type": "code",
   "execution_count": 1,
   "metadata": {
    "ExecuteTime": {
     "end_time": "2021-09-14T12:54:49.747115Z",
     "start_time": "2021-09-14T12:54:49.679376Z"
    }
   },
   "outputs": [
    {
     "ename": "NameError",
     "evalue": "name 'example_tuple' is not defined",
     "output_type": "error",
     "traceback": [
      "\u001b[0;31m---------------------------------------------------------------------------\u001b[0m",
      "\u001b[0;31mNameError\u001b[0m                                 Traceback (most recent call last)",
      "\u001b[0;32m<ipython-input-1-b1113eb89788>\u001b[0m in \u001b[0;36m<module>\u001b[0;34m\u001b[0m\n\u001b[0;32m----> 1\u001b[0;31m \u001b[0;34m'b'\u001b[0m \u001b[0;32min\u001b[0m \u001b[0mexample_tuple\u001b[0m\u001b[0;34m\u001b[0m\u001b[0;34m\u001b[0m\u001b[0m\n\u001b[0m",
      "\u001b[0;31mNameError\u001b[0m: name 'example_tuple' is not defined"
     ]
    }
   ],
   "source": [
    "'b' in example_tuple"
   ]
  },
  {
   "cell_type": "markdown",
   "metadata": {},
   "source": [
    "### Bonus: Exercice 2 - Classer des tuples (***, @)\n",
    "\n",
    "Ecrire un programme Python pour classer la liste de tuples ci-dessous par ordre décroissant, en fonction du chiffre présent dans chaque tuple.\n",
    "\n",
    "Le résultat doit être : `[('oranges', 5), ('strawberry', 4), ('apples', 2)]`.\n",
    "\n",
    "_Indice : lire la documentation de la fonction  `sorted()`._"
   ]
  },
  {
   "cell_type": "code",
   "execution_count": null,
   "metadata": {
    "ExecuteTime": {
     "end_time": "2021-09-14T12:59:45.815509Z",
     "start_time": "2021-09-14T12:59:45.799931Z"
    }
   },
   "outputs": [],
   "source": [
    "test_list = [('oranges', 5), ('apples', 2), ('strawberry', 4)]"
   ]
  },
  {
   "cell_type": "code",
   "execution_count": null,
   "metadata": {},
   "outputs": [],
   "source": [
    "sorted()"
   ]
  },
  {
   "cell_type": "code",
   "execution_count": null,
   "metadata": {
    "ExecuteTime": {
     "end_time": "2021-09-14T12:59:25.116628Z",
     "start_time": "2021-09-14T12:59:25.086313Z"
    }
   },
   "outputs": [],
   "source": [
    "tup = ('oranges', 5)\n",
    "tup[-1]"
   ]
  },
  {
   "cell_type": "code",
   "execution_count": null,
   "metadata": {
    "ExecuteTime": {
     "end_time": "2021-09-14T12:59:44.050707Z",
     "start_time": "2021-09-14T12:59:44.012826Z"
    },
    "code_folding": [],
    "scrolled": true
   },
   "outputs": [],
   "source": [
    "def last_element(my_tuple): \n",
    "    return my_tuple[1]"
   ]
  },
  {
   "cell_type": "code",
   "execution_count": null,
   "metadata": {
    "ExecuteTime": {
     "end_time": "2021-09-14T12:59:48.388574Z",
     "start_time": "2021-09-14T12:59:48.374397Z"
    }
   },
   "outputs": [],
   "source": [
    "last_element(('oranges', 5))"
   ]
  },
  {
   "cell_type": "code",
   "execution_count": null,
   "metadata": {
    "ExecuteTime": {
     "end_time": "2021-09-14T13:00:21.108445Z",
     "start_time": "2021-09-14T13:00:21.062852Z"
    }
   },
   "outputs": [],
   "source": [
    "sorted(test_list, key=last_element, reverse=True)"
   ]
  },
  {
   "cell_type": "markdown",
   "metadata": {},
   "source": [
    "## Dictionnaires"
   ]
  },
  {
   "cell_type": "markdown",
   "metadata": {},
   "source": [
    "### Exercice 1 - Concaténer des dictionnaires (*, @)\n",
    "\n",
    "Ecrire un script Python pour concaténer les dictionnaires suivants dans un nouveau dictionnaire.\n",
    "\n",
    "_Indice : utiliser une boucle._"
   ]
  },
  {
   "cell_type": "code",
   "execution_count": null,
   "metadata": {
    "ExecuteTime": {
     "end_time": "2021-09-14T13:06:26.778225Z",
     "start_time": "2021-09-14T13:06:26.702486Z"
    }
   },
   "outputs": [],
   "source": [
    "dic1 = {1: 10, 2: 20}\n",
    "dic2 = {3: 30, 4: 40}\n",
    "dic3 = {5: 50, 6: 60}"
   ]
  },
  {
   "cell_type": "code",
   "execution_count": null,
   "metadata": {
    "ExecuteTime": {
     "end_time": "2021-09-14T13:06:39.345131Z",
     "start_time": "2021-09-14T13:06:39.221891Z"
    },
    "scrolled": true
   },
   "outputs": [],
   "source": [
    "dic1 + dic2 + dic3"
   ]
  },
  {
   "cell_type": "code",
   "execution_count": null,
   "metadata": {
    "ExecuteTime": {
     "end_time": "2021-09-14T13:08:51.376998Z",
     "start_time": "2021-09-14T13:08:51.278623Z"
    }
   },
   "outputs": [],
   "source": [
    "# Méthode 1 : remplir un nouveau dictionnaire\n",
    "d = {}\n",
    "for dic in [dic1, dic2, dic3]:\n",
    "    d.update(dic)\n",
    "d"
   ]
  },
  {
   "cell_type": "code",
   "execution_count": null,
   "metadata": {
    "ExecuteTime": {
     "end_time": "2021-09-14T13:09:46.057505Z",
     "start_time": "2021-09-14T13:09:46.035303Z"
    }
   },
   "outputs": [],
   "source": [
    "list(dic2.items())"
   ]
  },
  {
   "cell_type": "code",
   "execution_count": null,
   "metadata": {
    "ExecuteTime": {
     "end_time": "2021-09-14T13:11:19.367283Z",
     "start_time": "2021-09-14T13:11:19.254775Z"
    }
   },
   "outputs": [],
   "source": [
    "dic1[3] = 30\n",
    "dic1"
   ]
  },
  {
   "cell_type": "code",
   "execution_count": null,
   "metadata": {
    "ExecuteTime": {
     "end_time": "2021-09-14T13:12:28.346393Z",
     "start_time": "2021-09-14T13:12:28.253834Z"
    }
   },
   "outputs": [],
   "source": [
    "# Méthode 2 : ajouter des clés à l'un des dictionnaires\n",
    "\n",
    "for key, value in dic2.items():\n",
    "    dic1[key] = value\n",
    "for k, v in dic3.items():\n",
    "    dic1[k] = v\n",
    "dic1"
   ]
  },
  {
   "cell_type": "code",
   "execution_count": null,
   "metadata": {
    "ExecuteTime": {
     "end_time": "2021-09-14T13:13:10.019814Z",
     "start_time": "2021-09-14T13:13:09.995808Z"
    }
   },
   "outputs": [],
   "source": [
    "# Méthode 3 : la syntaxe \"unpacking\" de Python\n",
    "{**dic1, **dic2, **dic3}"
   ]
  },
  {
   "cell_type": "markdown",
   "metadata": {},
   "source": [
    "### Exercice 2 – Supprimer les doublons d'un dictionaire (**)\n",
    "\n",
    "Ecrire un programme Python pour supprimer les doublons d'un dictionnaire.\n",
    "\n",
    "_Indice : Utiliser une boucle. Noter que dans le dictionnaire ci-dessous, chaque valeur est elle-même un dictionnaire._"
   ]
  },
  {
   "cell_type": "code",
   "execution_count": null,
   "metadata": {
    "ExecuteTime": {
     "end_time": "2020-06-23T15:26:45.841300Z",
     "start_time": "2020-06-23T15:26:45.832825Z"
    },
    "scrolled": true
   },
   "outputs": [],
   "source": [
    "type(student_data['id1'])"
   ]
  },
  {
   "cell_type": "code",
   "execution_count": null,
   "metadata": {
    "ExecuteTime": {
     "end_time": "2021-09-14T13:15:22.867814Z",
     "start_time": "2021-09-14T13:15:22.674547Z"
    },
    "code_folding": []
   },
   "outputs": [],
   "source": [
    "student_data = { 'id1': \n",
    "   {'nom': ['Sarah'], \n",
    "    'classe': ['A'], \n",
    "    'matières': ['Anglais, Mathématiques, Physique']\n",
    "   },\n",
    " 'id2': \n",
    "  {'nom': ['David'], \n",
    "    'classe': ['A'], \n",
    "    'matières': ['Français, Mathématiques, Python']\n",
    "   },\n",
    " 'id3': \n",
    "    {'nom': ['Sarah'], \n",
    "    'classe': ['A'], \n",
    "    'matières': ['Anglais, Mathématiques, Physique']\n",
    "   },\n",
    " 'id4': \n",
    "   {'nom': ['Manon'], \n",
    "    'classe': ['A'], \n",
    "    'matières': ['SQL, Mathématiques, Excel']\n",
    "   },\n",
    "}"
   ]
  },
  {
   "cell_type": "code",
   "execution_count": null,
   "metadata": {
    "ExecuteTime": {
     "end_time": "2021-09-14T13:15:33.701340Z",
     "start_time": "2021-09-14T13:15:33.631612Z"
    }
   },
   "outputs": [],
   "source": [
    "list(student_data.items())"
   ]
  },
  {
   "cell_type": "code",
   "execution_count": null,
   "metadata": {
    "ExecuteTime": {
     "end_time": "2021-09-14T13:16:56.928812Z",
     "start_time": "2021-09-14T13:16:56.914494Z"
    }
   },
   "outputs": [],
   "source": [
    "result = {}\n",
    "\n",
    "for key, value in student_data.items():\n",
    "    if value not in result.values():\n",
    "        result[key] = value\n",
    "    else:\n",
    "        continue"
   ]
  },
  {
   "cell_type": "code",
   "execution_count": null,
   "metadata": {
    "ExecuteTime": {
     "end_time": "2021-09-14T13:16:57.937543Z",
     "start_time": "2021-09-14T13:16:57.838607Z"
    }
   },
   "outputs": [],
   "source": [
    "print(result)"
   ]
  },
  {
   "cell_type": "markdown",
   "metadata": {},
   "source": [
    "### Exercice 3 - Sommer les valeurs d'un dictionnaire (**)\n",
    "\n",
    "Ecrire un programme Python pour ajouter dans chaque dictionnaire ci-dessous une nouvelle clé, correspondant à la somme des valeurs 'A' et 'B'.\n",
    "\n",
    "_Indice : Vous aurez besoin d'une boucle. Une fois la boucle testée, une bonne pratique consiste à regrouper votre code à l'intérieur d'une fonction._"
   ]
  },
  {
   "cell_type": "code",
   "execution_count": null,
   "metadata": {
    "ExecuteTime": {
     "end_time": "2021-09-14T13:20:19.126077Z",
     "start_time": "2021-09-14T13:20:19.110218Z"
    }
   },
   "outputs": [],
   "source": [
    "student_details = [\n",
    "      {'id' : 1, 'matière' : 'coding', 'A' : 70, 'B' : 82},\n",
    "      {'id' : 2, 'matière' : 'coding', 'A' : 73, 'B' : 74},\n",
    "      {'id' : 3, 'matière' : 'coding', 'A' : 75, 'B' : 86}\n",
    "    ]"
   ]
  },
  {
   "cell_type": "code",
   "execution_count": null,
   "metadata": {
    "ExecuteTime": {
     "end_time": "2021-09-14T13:19:29.334250Z",
     "start_time": "2021-09-14T13:19:29.273328Z"
    }
   },
   "outputs": [],
   "source": [
    "student_details[0]['A']"
   ]
  },
  {
   "cell_type": "code",
   "execution_count": null,
   "metadata": {
    "ExecuteTime": {
     "end_time": "2021-09-14T13:20:57.299972Z",
     "start_time": "2021-09-14T13:20:57.217129Z"
    }
   },
   "outputs": [],
   "source": [
    "for dico in student_details:\n",
    "    dico['somme'] = dico['A'] + dico['B']\n",
    "\n",
    "student_details"
   ]
  },
  {
   "cell_type": "code",
   "execution_count": null,
   "metadata": {
    "ExecuteTime": {
     "end_time": "2021-09-14T13:21:47.776137Z",
     "start_time": "2021-09-14T13:21:47.701015Z"
    }
   },
   "outputs": [],
   "source": [
    "def somme_dicos(list_of_dicts):    \n",
    "    \n",
    "    for dico in list_of_dicts:\n",
    "        dico['somme'] = dico['A'] + dico['B']\n",
    "    \n",
    "    return list_of_dicts"
   ]
  },
  {
   "cell_type": "code",
   "execution_count": null,
   "metadata": {
    "ExecuteTime": {
     "end_time": "2021-09-14T13:21:48.651349Z",
     "start_time": "2021-09-14T13:21:48.584157Z"
    },
    "scrolled": true
   },
   "outputs": [],
   "source": [
    "somme_dicos(student_details)"
   ]
  },
  {
   "cell_type": "markdown",
   "metadata": {},
   "source": [
    "## Strings"
   ]
  },
  {
   "cell_type": "markdown",
   "metadata": {},
   "source": [
    "### Exercice 1 - Formater un pourcentage (*, @)\n",
    "\n",
    "Ecrire une ligne de Python pour formater un nombre avec un %.\n",
    "\n",
    "_Indice : se rappeler de la syntaxe du formatage de strings._"
   ]
  },
  {
   "cell_type": "code",
   "execution_count": null,
   "metadata": {
    "ExecuteTime": {
     "end_time": "2021-09-14T13:48:22.819117Z",
     "start_time": "2021-09-14T13:48:22.791857Z"
    },
    "code_folding": [],
    "scrolled": true
   },
   "outputs": [],
   "source": [
    "test_x = 0.25456\n",
    "test_y = -0.37"
   ]
  },
  {
   "cell_type": "code",
   "execution_count": null,
   "metadata": {
    "ExecuteTime": {
     "end_time": "2021-09-14T13:49:42.889434Z",
     "start_time": "2021-09-14T13:49:42.870344Z"
    },
    "scrolled": true
   },
   "outputs": [],
   "source": [
    "print(f\"Formatted Number with percentage: {test_x : .1%}\")\n",
    "print(f\"Formatted Number with percentage: {test_y :.2%}\")\n",
    "\n",
    "#print(\"Formatted Number with percentage: {:.2%}\".format(test_y))"
   ]
  },
  {
   "cell_type": "markdown",
   "metadata": {},
   "source": [
    "### Exercice 2 – L'Alpha et l'Omega (**, @)\n",
    "\n",
    "Ecrire un programme Python qui mette en majuscules la première et la dernière lettre de chaque mot d'une chaîne de caractères. \n",
    "\n",
    "_Indice : Il faudra utiliser plusieurs string methods._"
   ]
  },
  {
   "cell_type": "code",
   "execution_count": null,
   "metadata": {
    "ExecuteTime": {
     "end_time": "2021-09-14T13:51:21.214919Z",
     "start_time": "2021-09-14T13:51:21.181582Z"
    }
   },
   "outputs": [],
   "source": [
    "test_string_1 = \"portez ce vieux whisky au juge blond qui fume\"\n",
    "test_string_2 = \"the quick brown fox jumps over the lazy dog\""
   ]
  },
  {
   "cell_type": "markdown",
   "metadata": {},
   "source": [
    "Tests : "
   ]
  },
  {
   "cell_type": "code",
   "execution_count": null,
   "metadata": {
    "ExecuteTime": {
     "end_time": "2021-09-14T13:52:10.791736Z",
     "start_time": "2021-09-14T13:52:10.699484Z"
    },
    "scrolled": true
   },
   "outputs": [],
   "source": [
    "test_string_1.title()"
   ]
  },
  {
   "cell_type": "code",
   "execution_count": null,
   "metadata": {
    "ExecuteTime": {
     "end_time": "2021-09-14T13:53:27.713064Z",
     "start_time": "2021-09-14T13:53:27.679278Z"
    }
   },
   "outputs": [],
   "source": [
    "word = \"Portez\"\n",
    "print(word[-1])\n",
    "word[-1].upper()"
   ]
  },
  {
   "cell_type": "code",
   "execution_count": null,
   "metadata": {
    "ExecuteTime": {
     "end_time": "2021-09-14T13:54:02.216403Z",
     "start_time": "2021-09-14T13:54:02.198936Z"
    }
   },
   "outputs": [],
   "source": [
    "word[:-1] + word[-1].upper()"
   ]
  },
  {
   "cell_type": "code",
   "execution_count": null,
   "metadata": {
    "ExecuteTime": {
     "end_time": "2021-09-14T13:54:59.932704Z",
     "start_time": "2021-09-14T13:54:59.914074Z"
    },
    "scrolled": true
   },
   "outputs": [],
   "source": [
    "test_string_1.split(' ')"
   ]
  },
  {
   "cell_type": "code",
   "execution_count": null,
   "metadata": {
    "ExecuteTime": {
     "end_time": "2021-09-14T13:56:33.006943Z",
     "start_time": "2021-09-14T13:56:32.964767Z"
    }
   },
   "outputs": [],
   "source": [
    "result = \"\"\n",
    "test_string_1 = test_string_1.title()\n",
    "for word in test_string_1.split():\n",
    "    result = result + word[:-1] + word[-1].upper() + \" \""
   ]
  },
  {
   "cell_type": "code",
   "execution_count": null,
   "metadata": {
    "ExecuteTime": {
     "end_time": "2021-09-14T13:56:36.587806Z",
     "start_time": "2021-09-14T13:56:36.529402Z"
    },
    "scrolled": true
   },
   "outputs": [],
   "source": [
    "result"
   ]
  },
  {
   "cell_type": "markdown",
   "metadata": {},
   "source": [
    "Programme final :"
   ]
  },
  {
   "cell_type": "code",
   "execution_count": null,
   "metadata": {
    "ExecuteTime": {
     "end_time": "2021-09-14T13:58:07.438226Z",
     "start_time": "2021-09-14T13:58:07.419234Z"
    }
   },
   "outputs": [],
   "source": [
    "def capitalize_first_last_letters(string : str):\n",
    "    string = string.title()\n",
    "    result =  \"\"\n",
    "    for word in string.split():\n",
    "        result += word[:-1] + word[-1].upper() + \" \"\n",
    "    return result"
   ]
  },
  {
   "cell_type": "code",
   "execution_count": null,
   "metadata": {
    "ExecuteTime": {
     "end_time": "2021-09-14T13:58:09.189757Z",
     "start_time": "2021-09-14T13:58:09.156805Z"
    }
   },
   "outputs": [],
   "source": [
    "capitalize_first_last_letters(test_string_2)"
   ]
  },
  {
   "cell_type": "markdown",
   "metadata": {},
   "source": [
    "### Bonus: Exercice 3 - Analyser un texte (**)\n",
    "\n",
    "Ecrire un script Python qui découpe un long texte en une liste de mots individuels, puis calcule la fréquence d'apparition de chaque mot.\n",
    "\n",
    "_Indice : en bonus, il est possible (mais pas obligatoire dans cet exercice) de nettoyer le texte avec d'autres string methods pour éviter les doublons._"
   ]
  },
  {
   "cell_type": "code",
   "execution_count": null,
   "metadata": {
    "ExecuteTime": {
     "end_time": "2021-09-14T13:59:30.846301Z",
     "start_time": "2021-09-14T13:59:30.830293Z"
    }
   },
   "outputs": [],
   "source": [
    "texte = '''United States Declaration of Independence\n",
    "From Wikipedia, the free encyclopedia\n",
    "The United States Declaration of Independence is the statement\n",
    "adopted by the Second Continental Congress meeting at the Pennsylvania State\n",
    "House (Independence Hall) in Philadelphia on July 4, 1776, which announced\n",
    "that the thirteen American colonies, then at war with the Kingdom of Great\n",
    "Britain, regarded themselves as thirteen independent sovereign states, no longer\n",
    "under British rule. These states would found a new nation – the United States of\n",
    "America. John Adams was a leader in pushing for independence, which was passed\n",
    "on July 2 with no opposing vote cast. A committee of five had already drafted the\n",
    "formal declaration, to be ready when Congress voted on independence.\n",
    "\n",
    "John Adams persuaded the committee to select Thomas Jefferson to compose the original\n",
    "draft of the document, which Congress would edit to produce the final version.\n",
    "The Declaration was ultimately a formal explanation of why Congress had voted on July\n",
    "2 to declare independence from Great Britain, more than a year after the outbreak of\n",
    "the American Revolutionary War. The next day, Adams wrote to his wife Abigail: \"The\n",
    "Second Day of July 1776, will be the most memorable Epocha, in the History of America.\"\n",
    "But Independence Day is actually celebrated on July 4, the date that the Declaration of\n",
    "Independence was approved.\n",
    "\n",
    "After ratifying the text on July 4, Congress issued the Declaration of Independence in\n",
    "several forms. It was initially published as the printed Dunlap broadside that was widely\n",
    "distributed and read to the public. The source copy used for this printing has been lost,\n",
    "and may have been a copy in Thomas Jefferson's hand.[5] Jefferson's original draft, complete\n",
    "with changes made by John Adams and Benjamin Franklin, and Jefferson's notes of changes made\n",
    "by Congress, are preserved at the Library of Congress. The best-known version of the Declaration\n",
    "is a signed copy that is displayed at the National Archives in Washington, D.C., and which is\n",
    "popularly regarded as the official document. This engrossed copy was ordered by Congress on\n",
    "July 19 and signed primarily on August 2.\n",
    "\n",
    "The sources and interpretation of the Declaration have been the subject of much scholarly inquiry.\n",
    "The Declaration justified the independence of the United States by listing colonial grievances against\n",
    "King George III, and by asserting certain natural and legal rights, including a right of revolution.\n",
    "Having served its original purpose in announcing independence, references to the text of the\n",
    "Declaration were few in the following years. Abraham Lincoln made it the centerpiece of his rhetoric\n",
    "(as in the Gettysburg Address of 1863) and his policies. Since then, it has become a well-known statement\n",
    "on human rights, particularly its second sentence:\n",
    "\n",
    "We hold these truths to be self-evident, that all men are created equal, that they are endowed by their\n",
    "Creator with certain unalienable Rights, that among these are Life, Liberty and the pursuit of Happiness.\n",
    "\n",
    "This has been called \"one of the best-known sentences in the English language\", containing \"the most potent\n",
    "and consequential words in American history\". The passage came to represent a moral standard to which\n",
    "the United States should strive. This view was notably promoted by Abraham Lincoln, who considered the\n",
    "Declaration to be the foundation of his political philosophy and argued that it is a statement of principles\n",
    "through which the United States Constitution should be interpreted.\n",
    "\n",
    "The U.S. Declaration of Independence inspired many other similar documents in other countries, the first\n",
    "being the 1789 Declaration of Flanders issued during the Brabant Revolution in the Austrian Netherlands\n",
    "(modern-day Belgium). It also served as the primary model for numerous declarations of independence across\n",
    "Europe and Latin America, as well as Africa (Liberia) and Oceania (New Zealand) during the first half of the\n",
    "# M19th century.'''"
   ]
  },
  {
   "cell_type": "code",
   "execution_count": null,
   "metadata": {
    "ExecuteTime": {
     "end_time": "2021-09-14T13:59:40.163456Z",
     "start_time": "2021-09-14T13:59:40.086888Z"
    }
   },
   "outputs": [],
   "source": [
    "# Découper le texte avec la string method .split()\n",
    "\n",
    "corpus = texte.split(\"  \")\n",
    "corpus"
   ]
  },
  {
   "cell_type": "code",
   "execution_count": null,
   "metadata": {
    "ExecuteTime": {
     "end_time": "2021-09-14T14:00:02.755914Z",
     "start_time": "2021-09-14T14:00:02.673764Z"
    },
    "scrolled": true
   },
   "outputs": [],
   "source": [
    "# Methode 1: utiliser le Counter du package collections\n",
    "\n",
    "from collections import Counter\n",
    "\n",
    "Counter(corpus)"
   ]
  },
  {
   "cell_type": "code",
   "execution_count": null,
   "metadata": {
    "ExecuteTime": {
     "end_time": "2021-09-14T14:01:05.082830Z",
     "start_time": "2021-09-14T14:01:04.927585Z"
    }
   },
   "outputs": [],
   "source": [
    "corpus.count('by')"
   ]
  },
  {
   "cell_type": "code",
   "execution_count": null,
   "metadata": {
    "ExecuteTime": {
     "end_time": "2021-09-14T14:02:25.257331Z",
     "start_time": "2021-09-14T14:02:25.054670Z"
    },
    "scrolled": true
   },
   "outputs": [],
   "source": [
    "# Méthode 2: utiliser la liste en compréhension pour compter les mots\n",
    "\n",
    "frequence = [ (mot, corpus.count(mot)) for mot in corpus ]\n",
    "frequence = set(frequence)\n",
    "frequence"
   ]
  },
  {
   "cell_type": "code",
   "execution_count": null,
   "metadata": {
    "ExecuteTime": {
     "end_time": "2021-09-13T15:13:05.044833Z",
     "start_time": "2021-09-13T15:13:04.998099Z"
    }
   },
   "outputs": [],
   "source": [
    "# Avec une boucle for à la place de la list comprehension :\n",
    "frequence = []\n",
    "for mot in corpus:\n",
    "    frequence.append((mot, corpus.count(mot)))\n",
    "frequence"
   ]
  },
  {
   "cell_type": "code",
   "execution_count": null,
   "metadata": {
    "ExecuteTime": {
     "end_time": "2021-09-14T14:03:47.557810Z",
     "start_time": "2021-09-14T14:03:47.469901Z"
    }
   },
   "outputs": [],
   "source": [
    "[corpus.count(mot) for mot in corpus]"
   ]
  },
  {
   "cell_type": "code",
   "execution_count": null,
   "metadata": {
    "ExecuteTime": {
     "end_time": "2021-09-14T14:04:18.871872Z",
     "start_time": "2021-09-14T14:04:18.707628Z"
    },
    "scrolled": true
   },
   "outputs": [],
   "source": [
    "# Bonus : la fonction zip()\n",
    "\n",
    "freq_mots = [corpus.count(mot) for mot in corpus]\n",
    "list(zip(corpus, freq_mots))"
   ]
  },
  {
   "cell_type": "code",
   "execution_count": null,
   "metadata": {
    "ExecuteTime": {
     "end_time": "2021-09-14T14:05:25.144116Z",
     "start_time": "2021-09-14T14:05:25.128234Z"
    },
    "scrolled": true
   },
   "outputs": [],
   "source": [
    "# Bonus : nettoyage du texte avant le découpage\n",
    "\n",
    "exemple = \"From Wikipedia, the free - encyclopedia\".lower().replace('(', '').replace('-','')\n",
    "exemple"
   ]
  },
  {
   "cell_type": "code",
   "execution_count": null,
   "metadata": {
    "ExecuteTime": {
     "end_time": "2021-09-14T14:06:47.197131Z",
     "start_time": "2021-09-14T14:06:47.082083Z"
    },
    "scrolled": true
   },
   "outputs": [],
   "source": [
    "# ou bien après le découpage\n",
    "[mot.lower().replace(',', '').replace('-','') for mot in corpus]"
   ]
  }
 ],
 "metadata": {
  "hide_input": false,
  "kernelspec": {
   "display_name": "Python 3",
   "language": "python",
   "name": "python3"
  },
  "language_info": {
   "codemirror_mode": {
    "name": "ipython",
    "version": 3
   },
   "file_extension": ".py",
   "mimetype": "text/x-python",
   "name": "python",
   "nbconvert_exporter": "python",
   "pygments_lexer": "ipython3",
   "version": "3.8.5"
  },
  "toc": {
   "base_numbering": 1,
   "nav_menu": {},
   "number_sections": true,
   "sideBar": true,
   "skip_h1_title": false,
   "title_cell": "Table of Contents",
   "title_sidebar": "Contents",
   "toc_cell": false,
   "toc_position": {},
   "toc_section_display": true,
   "toc_window_display": true
  },
  "varInspector": {
   "cols": {
    "lenName": 16,
    "lenType": 16,
    "lenVar": 40
   },
   "kernels_config": {
    "python": {
     "delete_cmd_postfix": "",
     "delete_cmd_prefix": "del ",
     "library": "var_list.py",
     "varRefreshCmd": "print(var_dic_list())"
    },
    "r": {
     "delete_cmd_postfix": ") ",
     "delete_cmd_prefix": "rm(",
     "library": "var_list.r",
     "varRefreshCmd": "cat(var_dic_list()) "
    }
   },
   "types_to_exclude": [
    "module",
    "function",
    "builtin_function_or_method",
    "instance",
    "_Feature"
   ],
   "window_display": false
  }
 },
 "nbformat": 4,
 "nbformat_minor": 2
}
