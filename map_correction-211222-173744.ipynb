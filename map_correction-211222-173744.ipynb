{
 "cells": [
  {
   "cell_type": "markdown",
   "metadata": {},
   "source": [
    "## Map et Filter"
   ]
  },
  {
   "cell_type": "markdown",
   "metadata": {},
   "source": [
    "### Exercice 1 – Nombres impairs (*)\n",
    "\n",
    "Ecrire un programme Python qui n'affiche que les nombres impairs de la liste ci-dessous."
   ]
  },
  {
   "cell_type": "code",
   "execution_count": 6,
   "metadata": {
    "ExecuteTime": {
     "end_time": "2021-09-14T14:10:14.339496Z",
     "start_time": "2021-09-14T14:10:14.313189Z"
    }
   },
   "outputs": [],
   "source": [
    "test_list = [1, 2, 5, -1, 89, 222]"
   ]
  },
  {
   "cell_type": "code",
   "execution_count": 1,
   "metadata": {
    "ExecuteTime": {
     "end_time": "2021-09-14T14:12:31.603399Z",
     "start_time": "2021-09-14T14:12:31.573440Z"
    }
   },
   "outputs": [
    {
     "data": {
      "text/plain": [
       "1"
      ]
     },
     "execution_count": 1,
     "metadata": {},
     "output_type": "execute_result"
    }
   ],
   "source": [
    "5 % 2"
   ]
  },
  {
   "cell_type": "code",
   "execution_count": 2,
   "metadata": {
    "ExecuteTime": {
     "end_time": "2021-09-14T14:13:04.610977Z",
     "start_time": "2021-09-14T14:13:04.404441Z"
    }
   },
   "outputs": [
    {
     "data": {
      "text/plain": [
       "True"
      ]
     },
     "execution_count": 2,
     "metadata": {},
     "output_type": "execute_result"
    }
   ],
   "source": [
    "5 % 2 == 1"
   ]
  },
  {
   "cell_type": "code",
   "execution_count": 11,
   "metadata": {
    "ExecuteTime": {
     "end_time": "2021-09-14T14:13:37.013277Z",
     "start_time": "2021-09-14T14:13:36.969235Z"
    }
   },
   "outputs": [],
   "source": [
    "def is_odd_number(x : int):\n",
    "    return x % 2 == 1"
   ]
  },
  {
   "cell_type": "code",
   "execution_count": 12,
   "metadata": {
    "ExecuteTime": {
     "end_time": "2021-09-14T14:13:51.419125Z",
     "start_time": "2021-09-14T14:13:51.391294Z"
    }
   },
   "outputs": [
    {
     "data": {
      "text/plain": [
       "False"
      ]
     },
     "execution_count": 12,
     "metadata": {},
     "output_type": "execute_result"
    }
   ],
   "source": [
    "is_odd_number(20)"
   ]
  },
  {
   "cell_type": "code",
   "execution_count": 13,
   "metadata": {
    "ExecuteTime": {
     "end_time": "2021-09-14T14:14:32.071975Z",
     "start_time": "2021-09-14T14:14:32.053633Z"
    }
   },
   "outputs": [
    {
     "data": {
      "text/plain": [
       "[1, 5, -1, 89]"
      ]
     },
     "execution_count": 13,
     "metadata": {},
     "output_type": "execute_result"
    }
   ],
   "source": [
    "list(filter(is_odd_number, test_list))"
   ]
  },
  {
   "cell_type": "markdown",
   "metadata": {},
   "source": [
    "### Exercice 2 – Convertir les dates en jour manuellement  (***)\n",
    "\n",
    "Ecrire un programme Python qui convertit une liste de numéros de jours du mois (c'est-à-dire une liste de nombres entre 1 et 31) en une liste de noms de jours (c'est-à-dire une liste de strings entre \"lundi\" et \"dimanche\"). \n",
    "\n",
    "On suppose que le 1er jour du mois ci-dessous est un lundi.\n",
    "\n",
    "_Indice : L'une des solutions implique de créer un dictionnaire de correspondances entre les numéros des jours de la semaine et leur nom (de 0 : \"lundi\" à 6 : \"dimanche\")._"
   ]
  },
  {
   "cell_type": "code",
   "execution_count": 15,
   "metadata": {
    "ExecuteTime": {
     "end_time": "2021-09-14T14:17:29.858638Z",
     "start_time": "2021-09-14T14:17:29.833571Z"
    }
   },
   "outputs": [],
   "source": [
    "jours = [21, 26, 7, 11, 14, 29, 24, 24, 14, 18]"
   ]
  },
  {
   "cell_type": "code",
   "execution_count": 16,
   "metadata": {
    "ExecuteTime": {
     "end_time": "2021-09-14T14:17:30.604429Z",
     "start_time": "2021-09-14T14:17:30.552802Z"
    },
    "code_folding": [],
    "scrolled": true
   },
   "outputs": [],
   "source": [
    "# Méthode 1 : avec %\n",
    "\n",
    "correspondance = {0: 'Lundi', 1: 'Mardi', 2: 'Mercredi', 3: 'Jeudi', \n",
    "                  4: 'Vendredi', 5: 'Samedi', 6: 'Dimanche'}"
   ]
  },
  {
   "cell_type": "code",
   "execution_count": 17,
   "metadata": {
    "ExecuteTime": {
     "end_time": "2021-09-14T14:17:31.317350Z",
     "start_time": "2021-09-14T14:17:31.301893Z"
    }
   },
   "outputs": [
    {
     "name": "stdout",
     "output_type": "stream",
     "text": [
      "0\n"
     ]
    },
    {
     "data": {
      "text/plain": [
       "'Lundi'"
      ]
     },
     "execution_count": 17,
     "metadata": {},
     "output_type": "execute_result"
    }
   ],
   "source": [
    "# Test sur le premier jour :\n",
    "print(21 % 7)\n",
    "correspondance[21 % 7]"
   ]
  },
  {
   "cell_type": "code",
   "execution_count": 18,
   "metadata": {
    "ExecuteTime": {
     "end_time": "2021-09-14T14:18:41.836885Z",
     "start_time": "2021-09-14T14:18:41.806139Z"
    },
    "scrolled": true
   },
   "outputs": [
    {
     "data": {
      "text/plain": [
       "[(21, 'Lundi'),\n",
       " (26, 'Samedi'),\n",
       " (7, 'Lundi'),\n",
       " (11, 'Vendredi'),\n",
       " (14, 'Lundi'),\n",
       " (29, 'Mardi'),\n",
       " (24, 'Jeudi'),\n",
       " (24, 'Jeudi'),\n",
       " (14, 'Lundi'),\n",
       " (18, 'Vendredi')]"
      ]
     },
     "execution_count": 18,
     "metadata": {},
     "output_type": "execute_result"
    }
   ],
   "source": [
    "def convertir(n_day):\n",
    "    reste = n_day % 7\n",
    "    return n_day, correspondance[reste]\n",
    "\n",
    "list(map(convertir, jours))"
   ]
  },
  {
   "cell_type": "code",
   "execution_count": 19,
   "metadata": {
    "ExecuteTime": {
     "end_time": "2021-09-14T14:19:00.338580Z",
     "start_time": "2021-09-14T14:19:00.289151Z"
    }
   },
   "outputs": [
    {
     "data": {
      "text/plain": [
       "['Lundi',\n",
       " 'Mardi',\n",
       " 'Mercredi',\n",
       " 'Jeudi',\n",
       " 'Vendredi',\n",
       " 'Samedi',\n",
       " 'Dimanche',\n",
       " 'Lundi',\n",
       " 'Mardi',\n",
       " 'Mercredi',\n",
       " 'Jeudi',\n",
       " 'Vendredi',\n",
       " 'Samedi',\n",
       " 'Dimanche',\n",
       " 'Lundi',\n",
       " 'Mardi',\n",
       " 'Mercredi',\n",
       " 'Jeudi',\n",
       " 'Vendredi',\n",
       " 'Samedi',\n",
       " 'Dimanche',\n",
       " 'Lundi',\n",
       " 'Mardi',\n",
       " 'Mercredi',\n",
       " 'Jeudi',\n",
       " 'Vendredi',\n",
       " 'Samedi',\n",
       " 'Dimanche',\n",
       " 'Lundi',\n",
       " 'Mardi',\n",
       " 'Mercredi',\n",
       " 'Jeudi',\n",
       " 'Vendredi',\n",
       " 'Samedi',\n",
       " 'Dimanche']"
      ]
     },
     "execution_count": 19,
     "metadata": {},
     "output_type": "execute_result"
    }
   ],
   "source": [
    "# Méthode 2 : Construire la liste complète des jours du mois\n",
    "\n",
    "mois = list(correspondance.values()) * 5 \n",
    "mois"
   ]
  },
  {
   "cell_type": "code",
   "execution_count": 20,
   "metadata": {
    "ExecuteTime": {
     "end_time": "2021-09-14T14:19:45.898638Z",
     "start_time": "2021-09-14T14:19:45.866525Z"
    }
   },
   "outputs": [
    {
     "name": "stdout",
     "output_type": "stream",
     "text": [
      "21 Dimanche\n",
      "26 Vendredi\n",
      "7 Dimanche\n",
      "11 Jeudi\n",
      "14 Dimanche\n",
      "29 Lundi\n",
      "24 Mercredi\n",
      "24 Mercredi\n",
      "14 Dimanche\n",
      "18 Jeudi\n"
     ]
    }
   ],
   "source": [
    "for n in jours:\n",
    "    print(n, mois[n - 1])"
   ]
  },
  {
   "cell_type": "markdown",
   "metadata": {},
   "source": [
    "### Exercice 3 - Les 0 consécutifs (***)\n",
    "\n",
    "Ecrire un programme Python qui donne la longueur de la plus longue série de zéros dans une chaîne de caractères binaires. \n",
    "\n",
    "_Indice : Essayer d'abord avec une boucle. Ensuite, une solution bonus utilise la fonction `map`._"
   ]
  },
  {
   "cell_type": "code",
   "execution_count": 2,
   "metadata": {
    "ExecuteTime": {
     "end_time": "2022-05-12T13:25:50.487156Z",
     "start_time": "2022-05-12T13:25:50.482895Z"
    }
   },
   "outputs": [],
   "source": [
    "binaire_1 = '111000001000110' # On veut 5\n",
    "binaire_2 = '111000111' # On veut 3"
   ]
  },
  {
   "cell_type": "code",
   "execution_count": 5,
   "metadata": {
    "ExecuteTime": {
     "end_time": "2022-05-12T13:29:18.055212Z",
     "start_time": "2022-05-12T13:29:18.049265Z"
    }
   },
   "outputs": [
    {
     "name": "stdout",
     "output_type": "stream",
     "text": [
      "5\n"
     ]
    }
   ],
   "source": [
    "# Méthode 1 : Avec une boucle\n",
    "\n",
    "max_len = 0\n",
    "current_max_len = 0\n",
    "   \n",
    "for digit in binaire_1:\n",
    "    if digit == '1':\n",
    "        current_max_len = 0\n",
    "    else: # if digit == '0'\n",
    "        current_max_len += 1\n",
    "        max_len = max(max_len, current_max_len)\n",
    "\n",
    "print(max_len)"
   ]
  },
  {
   "cell_type": "code",
   "execution_count": 25,
   "metadata": {
    "ExecuteTime": {
     "end_time": "2021-09-14T14:24:02.067816Z",
     "start_time": "2021-09-14T14:24:02.027509Z"
    },
    "scrolled": true
   },
   "outputs": [
    {
     "data": {
      "text/plain": [
       "5"
      ]
     },
     "execution_count": 25,
     "metadata": {},
     "output_type": "execute_result"
    }
   ],
   "source": [
    "# Méthode 2 : Avec map\n",
    "\n",
    "max(list(map(len, binaire_1.split('1'))))"
   ]
  },
  {
   "cell_type": "code",
   "execution_count": 4,
   "metadata": {
    "ExecuteTime": {
     "end_time": "2022-05-12T13:27:58.048431Z",
     "start_time": "2022-05-12T13:27:58.023474Z"
    }
   },
   "outputs": [
    {
     "data": {
      "text/plain": [
       "['', '', '', '00000', '000', '', '0']"
      ]
     },
     "execution_count": 4,
     "metadata": {},
     "output_type": "execute_result"
    }
   ],
   "source": [
    "binaire_1.split('1')"
   ]
  },
  {
   "cell_type": "code",
   "execution_count": 24,
   "metadata": {
    "ExecuteTime": {
     "end_time": "2021-09-14T14:25:29.116907Z",
     "start_time": "2021-09-14T14:25:29.020396Z"
    }
   },
   "outputs": [
    {
     "data": {
      "text/plain": [
       "[0, 0, 0, 5, 3, 0, 1]"
      ]
     },
     "execution_count": 24,
     "metadata": {},
     "output_type": "execute_result"
    }
   ],
   "source": [
    "list(map(len, binaire_1.split('1')))"
   ]
  },
  {
   "cell_type": "code",
   "execution_count": null,
   "metadata": {
    "ExecuteTime": {
     "end_time": "2021-09-14T14:26:23.683948Z",
     "start_time": "2021-09-14T14:26:23.643656Z"
    },
    "code_folding": []
   },
   "outputs": [],
   "source": [
    "# Sous forme de fonction :\n",
    "\n",
    "def max_consecutive_0s(string): \n",
    "    return max(map(len, string.split('1')))\n",
    "\n",
    "max_consecutive_0s(binaire_2)"
   ]
  },
  {
   "cell_type": "code",
   "execution_count": null,
   "metadata": {},
   "outputs": [],
   "source": []
  }
 ],
 "metadata": {
  "hide_input": false,
  "kernelspec": {
   "display_name": "Python 3 (ipykernel)",
   "language": "python",
   "name": "python3"
  },
  "language_info": {
   "codemirror_mode": {
    "name": "ipython",
    "version": 3
   },
   "file_extension": ".py",
   "mimetype": "text/x-python",
   "name": "python",
   "nbconvert_exporter": "python",
   "pygments_lexer": "ipython3",
   "version": "3.9.7"
  },
  "toc": {
   "base_numbering": 1,
   "nav_menu": {},
   "number_sections": true,
   "sideBar": true,
   "skip_h1_title": false,
   "title_cell": "Table of Contents",
   "title_sidebar": "Contents",
   "toc_cell": false,
   "toc_position": {},
   "toc_section_display": true,
   "toc_window_display": true
  },
  "varInspector": {
   "cols": {
    "lenName": 16,
    "lenType": 16,
    "lenVar": 40
   },
   "kernels_config": {
    "python": {
     "delete_cmd_postfix": "",
     "delete_cmd_prefix": "del ",
     "library": "var_list.py",
     "varRefreshCmd": "print(var_dic_list())"
    },
    "r": {
     "delete_cmd_postfix": ") ",
     "delete_cmd_prefix": "rm(",
     "library": "var_list.r",
     "varRefreshCmd": "cat(var_dic_list()) "
    }
   },
   "types_to_exclude": [
    "module",
    "function",
    "builtin_function_or_method",
    "instance",
    "_Feature"
   ],
   "window_display": false
  }
 },
 "nbformat": 4,
 "nbformat_minor": 2
}
