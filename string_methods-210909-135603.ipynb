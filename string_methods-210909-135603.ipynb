{
 "cells": [
  {
   "cell_type": "markdown",
   "metadata": {},
   "source": [
    "## String methods : Split et Join"
   ]
  },
  {
   "cell_type": "markdown",
   "metadata": {},
   "source": [
    "Etre capable de manipuler les chaines de caractère est très important pour l'analyse de données avec Python. \n",
    "\n",
    "En effet, les données que l'on reçoit sont rarement bien formatées, il est donc important d'être à l'aise avec les méthodes de nettoyage et de manipulation du texte présentées ci-dessous.\n",
    "\n",
    "Quel est le problème de la liste ci-desous ?"
   ]
  },
  {
   "cell_type": "code",
   "execution_count": 70,
   "metadata": {
    "ExecuteTime": {
     "end_time": "2022-05-13T07:13:22.745169Z",
     "start_time": "2022-05-13T07:13:22.741166Z"
    }
   },
   "outputs": [],
   "source": [
    "sales_list = \"128,375,201,429,90,525\""
   ]
  },
  {
   "cell_type": "markdown",
   "metadata": {},
   "source": [
    "Comment stocker toutes ces valeurs dans une liste ?\n",
    "\n",
    "La méthode `split()` permet de découper une chaîne de caractères :"
   ]
  },
  {
   "cell_type": "code",
   "execution_count": 71,
   "metadata": {
    "ExecuteTime": {
     "end_time": "2022-05-13T07:13:23.655901Z",
     "start_time": "2022-05-13T07:13:23.646274Z"
    }
   },
   "outputs": [
    {
     "data": {
      "text/plain": [
       "['128', '375', '201', '429', '90', '525']"
      ]
     },
     "execution_count": 71,
     "metadata": {},
     "output_type": "execute_result"
    }
   ],
   "source": [
    "sales_list_split = sales_list.split(',')\n",
    "sales_list_split"
   ]
  },
  {
   "cell_type": "markdown",
   "metadata": {
    "ExecuteTime": {
     "end_time": "2021-01-14T14:01:14.668564Z",
     "start_time": "2021-01-14T14:01:14.657168Z"
    }
   },
   "source": [
    "Maintenant, si l'on veut appliquer un taux de taxation : "
   ]
  },
  {
   "cell_type": "code",
   "execution_count": 66,
   "metadata": {
    "ExecuteTime": {
     "end_time": "2022-05-13T07:12:05.185980Z",
     "start_time": "2022-05-13T07:12:05.181933Z"
    },
    "scrolled": true
   },
   "outputs": [],
   "source": [
    "taxes = 0.2"
   ]
  },
  {
   "cell_type": "markdown",
   "metadata": {},
   "source": [
    "Les valeurs sont toujours sous la forme de strings ! On ne peut pas encore effectuer de calculs.\n",
    "\n",
    "Solution : itérer sur chaque élément et appliquer les bonnes fonctions de transformation. "
   ]
  },
  {
   "cell_type": "code",
   "execution_count": 72,
   "metadata": {
    "ExecuteTime": {
     "end_time": "2022-05-13T07:13:25.285665Z",
     "start_time": "2022-05-13T07:13:25.280327Z"
    }
   },
   "outputs": [
    {
     "name": "stdout",
     "output_type": "stream",
     "text": [
      "[102.4, 300.0, 160.8, 343.20000000000005, 72.0, 420.0]\n"
     ]
    }
   ],
   "source": [
    "sales_list_split = [int(i) * (1- taxes) for i in sales_list_split]\n",
    "print(sales_list_split)"
   ]
  },
  {
   "cell_type": "code",
   "execution_count": null,
   "metadata": {
    "ExecuteTime": {
     "end_time": "2022-05-12T17:08:06.562957Z",
     "start_time": "2022-05-12T17:08:06.554422Z"
    }
   },
   "outputs": [],
   "source": []
  },
  {
   "cell_type": "code",
   "execution_count": null,
   "metadata": {
    "ExecuteTime": {
     "end_time": "2022-05-13T07:11:33.050534Z",
     "start_time": "2022-05-13T07:11:33.044627Z"
    }
   },
   "outputs": [],
   "source": []
  },
  {
   "cell_type": "code",
   "execution_count": 47,
   "metadata": {
    "ExecuteTime": {
     "end_time": "2022-05-12T17:19:37.945505Z",
     "start_time": "2022-05-12T17:19:37.935093Z"
    }
   },
   "outputs": [
    {
     "name": "stdout",
     "output_type": "stream",
     "text": [
      "[16.0, 48.800000000000004, 25.6, 56.800000000000004, 10.4, 68.8]\n"
     ]
    }
   ],
   "source": [
    "sales_list_split = [int(i) * (1- taxes) for i in sales_list_split]\n",
    "print(sales_list_split)"
   ]
  },
  {
   "cell_type": "markdown",
   "metadata": {},
   "source": [
    "L'opération inverse à `split` est `join`:"
   ]
  },
  {
   "cell_type": "code",
   "execution_count": 73,
   "metadata": {
    "ExecuteTime": {
     "end_time": "2022-05-13T07:14:13.222150Z",
     "start_time": "2022-05-13T07:14:13.214087Z"
    }
   },
   "outputs": [
    {
     "data": {
      "text/plain": [
       "'MacBook-iPad-AirPods'"
      ]
     },
     "execution_count": 73,
     "metadata": {},
     "output_type": "execute_result"
    }
   ],
   "source": [
    "models = ['MacBook', 'iPad', 'AirPods']\n",
    "\n",
    "meta_model = '-'.join(models)\n",
    "meta_model"
   ]
  },
  {
   "cell_type": "markdown",
   "metadata": {},
   "source": [
    "L'ordre de la syntaxe n'est pas intuitif mais est très important : il s'agit d'une méthode pour les str, on doit donc l'appliquer sur une chaîne de caractères, ici `'-'`."
   ]
  },
  {
   "cell_type": "code",
   "execution_count": 75,
   "metadata": {
    "ExecuteTime": {
     "end_time": "2022-05-13T07:14:58.926944Z",
     "start_time": "2022-05-13T07:14:58.918671Z"
    }
   },
   "outputs": [
    {
     "data": {
      "text/plain": [
       "'MacBook-iPad-AirPods'"
      ]
     },
     "execution_count": 75,
     "metadata": {},
     "output_type": "execute_result"
    }
   ],
   "source": [
    "# Cela renvoie une erreur si l'on essaie d'utiliser join après autre chose qu'un type str\n",
    "\"-\".join(models)"
   ]
  },
  {
   "cell_type": "markdown",
   "metadata": {},
   "source": [
    "Enfin, on pourra concaténer les chaines de caractère simplement grâce aux signes `+` et `*` :"
   ]
  },
  {
   "cell_type": "code",
   "execution_count": 50,
   "metadata": {
    "ExecuteTime": {
     "end_time": "2022-05-12T20:14:58.024179Z",
     "start_time": "2022-05-12T20:14:58.017644Z"
    },
    "scrolled": false
   },
   "outputs": [
    {
     "name": "stdout",
     "output_type": "stream",
     "text": [
      "MacBookPro\n",
      "iPadPro\n",
      "AirPodsPro\n"
     ]
    }
   ],
   "source": [
    "suffix = 'Pro'\n",
    "for model in models:\n",
    "    print(model + suffix)"
   ]
  },
  {
   "cell_type": "code",
   "execution_count": 51,
   "metadata": {
    "ExecuteTime": {
     "end_time": "2022-05-12T20:15:02.886147Z",
     "start_time": "2022-05-12T20:15:02.880235Z"
    }
   },
   "outputs": [
    {
     "name": "stdout",
     "output_type": "stream",
     "text": [
      "ProProPro\n"
     ]
    }
   ],
   "source": [
    "print(suffix * 3)"
   ]
  },
  {
   "cell_type": "code",
   "execution_count": 52,
   "metadata": {
    "ExecuteTime": {
     "end_time": "2022-05-12T20:15:04.971003Z",
     "start_time": "2022-05-12T20:15:04.963274Z"
    }
   },
   "outputs": [
    {
     "data": {
      "text/plain": [
       "2"
      ]
     },
     "execution_count": 52,
     "metadata": {},
     "output_type": "execute_result"
    }
   ],
   "source": []
  },
  {
   "cell_type": "code",
   "execution_count": 102,
   "metadata": {
    "ExecuteTime": {
     "end_time": "2022-05-13T08:35:21.152558Z",
     "start_time": "2022-05-13T08:35:21.145170Z"
    }
   },
   "outputs": [
    {
     "name": "stdout",
     "output_type": "stream",
     "text": [
      "True\n",
      "False\n",
      "False\n"
     ]
    }
   ],
   "source": [
    "games = [\"3:1\", \"2:2\", \"0:1\"]\n",
    "points = 0\n",
    "for i in games:\n",
    "    print(i[0] > i[2])\n",
    "            "
   ]
  },
  {
   "cell_type": "code",
   "execution_count": 157,
   "metadata": {
    "ExecuteTime": {
     "end_time": "2022-05-13T15:02:54.827567Z",
     "start_time": "2022-05-13T15:02:54.822342Z"
    }
   },
   "outputs": [],
   "source": [
    "from collections import Counter"
   ]
  },
  {
   "cell_type": "code",
   "execution_count": 183,
   "metadata": {
    "ExecuteTime": {
     "end_time": "2022-05-13T15:25:04.192224Z",
     "start_time": "2022-05-13T15:25:04.185442Z"
    }
   },
   "outputs": [
    {
     "name": "stdout",
     "output_type": "stream",
     "text": [
      "3\n",
      "2\n"
     ]
    }
   ],
   "source": [
    "number = -32\n",
    "\n",
    "for i in str(abs(number)):\n",
    "    print(i)"
   ]
  },
  {
   "cell_type": "code",
   "execution_count": 240,
   "metadata": {
    "ExecuteTime": {
     "end_time": "2022-05-13T15:52:43.641264Z",
     "start_time": "2022-05-13T15:52:43.634203Z"
    }
   },
   "outputs": [
    {
     "data": {
      "text/plain": [
       "'BG Danel Thib'"
      ]
     },
     "execution_count": 240,
     "metadata": {},
     "output_type": "execute_result"
    }
   ],
   "source": [
    "x = \"Thib Danel BG\"\n",
    "def reverse(st):\n",
    "    st = st.split()\n",
    "    st.reverse()\n",
    "    return ' '.join(st)\n",
    "reverse(x)"
   ]
  },
  {
   "cell_type": "code",
   "execution_count": 185,
   "metadata": {
    "ExecuteTime": {
     "end_time": "2022-05-13T15:29:46.949204Z",
     "start_time": "2022-05-13T15:29:46.943143Z"
    }
   },
   "outputs": [
    {
     "data": {
      "text/plain": [
       "False"
      ]
     },
     "execution_count": 185,
     "metadata": {},
     "output_type": "execute_result"
    }
   ],
   "source": [
    "'123R'.isnumeric()"
   ]
  },
  {
   "cell_type": "code",
   "execution_count": 284,
   "metadata": {
    "ExecuteTime": {
     "end_time": "2022-05-13T22:05:26.229587Z",
     "start_time": "2022-05-13T22:05:26.219883Z"
    }
   },
   "outputs": [
    {
     "data": {
      "text/plain": [
       "'Bike Gang Member'"
      ]
     },
     "execution_count": 284,
     "metadata": {},
     "output_type": "execute_result"
    }
   ],
   "source": [
    "param = \"Bike Gang MeMBEr\"\n",
    "param.title()"
   ]
  },
  {
   "cell_type": "code",
   "execution_count": 406,
   "metadata": {
    "ExecuteTime": {
     "end_time": "2022-05-15T15:28:37.058585Z",
     "start_time": "2022-05-15T15:28:37.049813Z"
    }
   },
   "outputs": [
    {
     "data": {
      "text/plain": [
       "Counter({'1': 2, '2': 2, '3': 1})"
      ]
     },
     "execution_count": 406,
     "metadata": {},
     "output_type": "execute_result"
    }
   ],
   "source": [
    "from collections import Counter\n",
    "x = \"12321\"\n",
    "y = \"12321\"\n",
    "Counter(x)"
   ]
  },
  {
   "cell_type": "code",
   "execution_count": 407,
   "metadata": {
    "ExecuteTime": {
     "end_time": "2022-05-15T15:57:04.244612Z",
     "start_time": "2022-05-15T15:57:04.230598Z"
    }
   },
   "outputs": [
    {
     "data": {
      "text/plain": [
       "0"
      ]
     },
     "execution_count": 407,
     "metadata": {},
     "output_type": "execute_result"
    }
   ],
   "source": [
    "0 % -1"
   ]
  },
  {
   "cell_type": "code",
   "execution_count": 428,
   "metadata": {
    "ExecuteTime": {
     "end_time": "2022-05-15T16:13:24.124670Z",
     "start_time": "2022-05-15T16:13:24.120163Z"
    }
   },
   "outputs": [
    {
     "name": "stdout",
     "output_type": "stream",
     "text": [
      "0\n"
     ]
    }
   ],
   "source": [
    "value = ord(\"a\") - 97\n",
    "print (value)"
   ]
  }
 ],
 "metadata": {
  "hide_input": false,
  "kernelspec": {
   "display_name": "Python 3 (ipykernel)",
   "language": "python",
   "name": "python3"
  },
  "language_info": {
   "codemirror_mode": {
    "name": "ipython",
    "version": 3
   },
   "file_extension": ".py",
   "mimetype": "text/x-python",
   "name": "python",
   "nbconvert_exporter": "python",
   "pygments_lexer": "ipython3",
   "version": "3.9.7"
  },
  "toc": {
   "base_numbering": 1,
   "nav_menu": {},
   "number_sections": true,
   "sideBar": true,
   "skip_h1_title": false,
   "title_cell": "Table of Contents",
   "title_sidebar": "Contents",
   "toc_cell": false,
   "toc_position": {},
   "toc_section_display": true,
   "toc_window_display": false
  }
 },
 "nbformat": 4,
 "nbformat_minor": 4
}
