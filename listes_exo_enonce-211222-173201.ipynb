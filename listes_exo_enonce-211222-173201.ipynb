{
 "cells": [
  {
   "cell_type": "markdown",
   "metadata": {},
   "source": [
    "# Manipulation de données avec Python – Exercices"
   ]
  },
  {
   "cell_type": "markdown",
   "metadata": {},
   "source": [
    "Pour tous les exercices, le niveau de difficulté est indiqué par le code suivant :\n",
    "* \\* niveau facile\n",
    "* \\** niveau intermédiaire\n",
    "* \\*** niveau difficile\n",
    "\n",
    "* **@** indique les exercices pour lesquels vous aurez besoin de chercher sur internet pour trouver des pistes de solution ou des exemples de code.\n",
    "\n",
    "_Note : Pour faciliter la navigation dans les exercices, n'hésitez pas à activer l'extension \"Table of Contents\", après avoir installé les extensions de notebook `jupyter_contrib_nbextensions` (voir PDF sur la plateforme)._"
   ]
  },
  {
   "cell_type": "markdown",
   "metadata": {},
   "source": [
    "## Listes"
   ]
  },
  {
   "cell_type": "markdown",
   "metadata": {},
   "source": [
    "### Exercice 1 - Insérer un élément dans une liste (*, @)\n",
    "\n",
    "Ecrire un programme Python pour insérer un élément à une position souhaitée dans une liste."
   ]
  },
  {
   "cell_type": "code",
   "execution_count": null,
   "metadata": {
    "ExecuteTime": {
     "end_time": "2022-05-11T08:02:20.488200Z",
     "start_time": "2022-05-11T08:02:20.485009Z"
    }
   },
   "outputs": [],
   "source": [
    "competitors = [\"Puma\", 'Under Armour', 'Adidas'] # insérer \"Reebok\" en position 2"
   ]
  },
  {
   "cell_type": "code",
   "execution_count": null,
   "metadata": {
    "ExecuteTime": {
     "end_time": "2022-05-11T08:02:40.168501Z",
     "start_time": "2022-05-11T08:02:40.162912Z"
    }
   },
   "outputs": [],
   "source": [
    "competitors.insert(1, 'Reebok')\n",
    "print(competitors)"
   ]
  },
  {
   "cell_type": "markdown",
   "metadata": {},
   "source": [
    "### Exercice 2 - Mélanger une liste  (*, @)\n",
    "\n",
    "Ecrire un programme Python pour mélanger puis afficher une liste donnée.\n",
    "\n",
    "_Indice : regarder la documentation du package `random`._"
   ]
  },
  {
   "cell_type": "code",
   "execution_count": null,
   "metadata": {
    "ExecuteTime": {
     "end_time": "2022-05-11T08:03:06.801440Z",
     "start_time": "2022-05-11T08:03:06.798009Z"
    }
   },
   "outputs": [],
   "source": [
    "color = ['Red', 'Green', 'White', 'Black', 'Pink', 'Yellow']"
   ]
  },
  {
   "cell_type": "code",
   "execution_count": null,
   "metadata": {
    "ExecuteTime": {
     "end_time": "2022-05-11T08:03:49.137488Z",
     "start_time": "2022-05-11T08:03:49.130289Z"
    }
   },
   "outputs": [],
   "source": [
    "import random\n",
    "random.shuffle(color)\n",
    "color"
   ]
  },
  {
   "cell_type": "markdown",
   "metadata": {},
   "source": [
    "### Exercice 3 - Compter les éléments d'une liste (**, @)\n",
    "\n",
    "Ecrire un programme Python pour compter la fréquence des éléments dans une liste (le nombre de fois que chaque élément apparaît).\n",
    "\n",
    "_Indice : utiliser une boucle ou regarder le package `collections`._"
   ]
  },
  {
   "cell_type": "code",
   "execution_count": 140,
   "metadata": {
    "ExecuteTime": {
     "end_time": "2022-05-12T08:22:35.249013Z",
     "start_time": "2022-05-12T08:22:35.245682Z"
    }
   },
   "outputs": [],
   "source": [
    "test_list = ['a', 'a', 'e', 'z', '']"
   ]
  },
  {
   "cell_type": "code",
   "execution_count": 141,
   "metadata": {
    "ExecuteTime": {
     "end_time": "2022-05-12T08:23:31.230677Z",
     "start_time": "2022-05-12T08:23:31.220296Z"
    }
   },
   "outputs": [
    {
     "data": {
      "text/plain": [
       "{'a': 2, 'e': 1, 'z': 1, '': 1}"
      ]
     },
     "execution_count": 141,
     "metadata": {},
     "output_type": "execute_result"
    }
   ],
   "source": [
    "compte = {}\n",
    "\n",
    "for i in test_list:\n",
    "    if i not in compte:\n",
    "        compte[i] = 1\n",
    "    else: compte[i] += 1\n",
    "compte"
   ]
  },
  {
   "cell_type": "code",
   "execution_count": 142,
   "metadata": {
    "ExecuteTime": {
     "end_time": "2022-05-12T08:24:50.104905Z",
     "start_time": "2022-05-12T08:24:50.098583Z"
    }
   },
   "outputs": [
    {
     "data": {
      "text/plain": [
       "Counter({'a': 2, 'e': 1, 'z': 1, '': 1})"
      ]
     },
     "execution_count": 142,
     "metadata": {},
     "output_type": "execute_result"
    }
   ],
   "source": [
    "from collections import Counter\n",
    "\n",
    "Counter(test_list)"
   ]
  },
  {
   "cell_type": "markdown",
   "metadata": {},
   "source": [
    "## Tuples"
   ]
  },
  {
   "cell_type": "markdown",
   "metadata": {},
   "source": [
    "### Exercice 1 - Inclusion dans un tuple (*, @)\n",
    "\n",
    "Ecrire une ligne de Python pour vérifier si un élément donné est présent dans un tuple."
   ]
  },
  {
   "cell_type": "code",
   "execution_count": 144,
   "metadata": {
    "ExecuteTime": {
     "end_time": "2022-05-12T08:25:05.420523Z",
     "start_time": "2022-05-12T08:25:05.416991Z"
    }
   },
   "outputs": [],
   "source": [
    "example_tuple = (\"bonjour\", False, \"4444\", 123456, \"sieste\")\n",
    "element_a_tester = \"bonjour\""
   ]
  },
  {
   "cell_type": "code",
   "execution_count": 145,
   "metadata": {
    "ExecuteTime": {
     "end_time": "2022-05-12T08:25:07.176724Z",
     "start_time": "2022-05-12T08:25:07.171558Z"
    }
   },
   "outputs": [
    {
     "data": {
      "text/plain": [
       "True"
      ]
     },
     "execution_count": 145,
     "metadata": {},
     "output_type": "execute_result"
    }
   ],
   "source": [
    "element_a_tester in example_tuple "
   ]
  },
  {
   "cell_type": "code",
   "execution_count": null,
   "metadata": {},
   "outputs": [],
   "source": []
  },
  {
   "cell_type": "markdown",
   "metadata": {},
   "source": [
    "### Bonus: Exercice 2 - Classer des tuples (***, @)\n",
    "\n",
    "Ecrire un programme Python pour classer la liste de tuples ci-dessous par ordre décroissant, en fonction du chiffre présent dans chaque tuple.\n",
    "\n",
    "Le résultat doit être : `[('oranges', 5), ('strawberry', 4), ('apples', 2)]`.\n",
    "\n",
    "_Indice : lire la documentation de la fonction  `sorted()`._"
   ]
  },
  {
   "cell_type": "code",
   "execution_count": 149,
   "metadata": {
    "ExecuteTime": {
     "end_time": "2022-05-12T08:32:01.694590Z",
     "start_time": "2022-05-12T08:32:01.685628Z"
    }
   },
   "outputs": [],
   "source": [
    "test_list = [('oranges', 5), ('apples', 2), ('strawberry', 4)]"
   ]
  },
  {
   "cell_type": "code",
   "execution_count": 147,
   "metadata": {
    "ExecuteTime": {
     "end_time": "2022-05-12T08:26:07.206428Z",
     "start_time": "2022-05-12T08:26:07.202996Z"
    }
   },
   "outputs": [],
   "source": []
  },
  {
   "cell_type": "code",
   "execution_count": 150,
   "metadata": {
    "ExecuteTime": {
     "end_time": "2022-05-12T08:32:03.196222Z",
     "start_time": "2022-05-12T08:32:03.186149Z"
    }
   },
   "outputs": [
    {
     "data": {
      "text/plain": [
       "[('oranges', 5), ('strawberry', 4), ('apples', 2)]"
      ]
     },
     "execution_count": 150,
     "metadata": {},
     "output_type": "execute_result"
    }
   ],
   "source": [
    "sorted(test_list, key = lambda x: x[1], reverse = True)"
   ]
  },
  {
   "cell_type": "markdown",
   "metadata": {},
   "source": [
    "## Dictionnaires"
   ]
  },
  {
   "cell_type": "markdown",
   "metadata": {},
   "source": [
    "### Exercice 1 - Concaténer des dictionnaires (*, @)\n",
    "\n",
    "Ecrire un script Python pour concaténer les dictionnaires suivants dans un nouveau dictionnaire.\n",
    "\n",
    "_Indice : utiliser une boucle._"
   ]
  },
  {
   "cell_type": "code",
   "execution_count": 244,
   "metadata": {
    "ExecuteTime": {
     "end_time": "2022-05-12T18:58:46.372909Z",
     "start_time": "2022-05-12T18:58:46.368471Z"
    }
   },
   "outputs": [],
   "source": [
    "dic1 = {1: 10, 2: 20}\n",
    "dic2 = {3: 30, 4: 40}\n",
    "dic3 = {5: 50, 6: 60}"
   ]
  },
  {
   "cell_type": "code",
   "execution_count": 172,
   "metadata": {
    "ExecuteTime": {
     "end_time": "2022-05-12T08:39:27.440551Z",
     "start_time": "2022-05-12T08:39:27.433498Z"
    }
   },
   "outputs": [
    {
     "data": {
      "text/plain": [
       "{1: 10, 2: 20, 3: 30, 4: 40, 5: 50, 6: 60}"
      ]
     },
     "execution_count": 172,
     "metadata": {},
     "output_type": "execute_result"
    }
   ],
   "source": [
    "for key, value in dic2.items():\n",
    "    dic1[key] = value\n",
    "for k, v in dic3.items():\n",
    "    dic1[k] = v\n",
    "dic1"
   ]
  },
  {
   "cell_type": "code",
   "execution_count": 246,
   "metadata": {
    "ExecuteTime": {
     "end_time": "2022-05-12T18:59:11.685537Z",
     "start_time": "2022-05-12T18:59:11.678046Z"
    }
   },
   "outputs": [
    {
     "name": "stdout",
     "output_type": "stream",
     "text": [
      "1\n",
      "2\n"
     ]
    }
   ],
   "source": [
    "for key, value in dic1.items():\n",
    "    \n",
    "\n"
   ]
  },
  {
   "cell_type": "markdown",
   "metadata": {},
   "source": [
    "### Exercice 2 – Supprimer les doublons d'un dictionaire (**)\n",
    "\n",
    "Ecrire un programme Python pour supprimer les doublons d'un dictionnaire.\n",
    "\n",
    "_Indice : Utiliser une boucle. Noter que dans le dictionnaire ci-dessous, chaque valeur est elle-même un dictionnaire._"
   ]
  },
  {
   "cell_type": "code",
   "execution_count": 173,
   "metadata": {
    "ExecuteTime": {
     "end_time": "2022-05-12T08:42:26.445412Z",
     "start_time": "2022-05-12T08:42:26.431793Z"
    },
    "code_folding": []
   },
   "outputs": [],
   "source": [
    "student_data = {'id1': \n",
    "   {'nom': ['Sarah'], \n",
    "    'classe': ['A'], \n",
    "    'matières': ['Anglais, Mathématiques, Physique']\n",
    "   },\n",
    " 'id2': \n",
    "  {'nom': ['David'], \n",
    "    'classe': ['A'], \n",
    "    'matières': ['Français, Mathématiques, Python']\n",
    "   },\n",
    " 'id3': \n",
    "    {'nom': ['Sarah'], \n",
    "    'classe': ['A'], \n",
    "    'matières': ['Anglais, Mathématiques, Physique']\n",
    "   },\n",
    " 'id4': \n",
    "   {'nom': ['Manon'], \n",
    "    'classe': ['A'], \n",
    "    'matières': ['SQL, Mathématiques, Excel']\n",
    "   },\n",
    "}"
   ]
  },
  {
   "cell_type": "code",
   "execution_count": 179,
   "metadata": {
    "ExecuteTime": {
     "end_time": "2022-05-12T08:45:32.568982Z",
     "start_time": "2022-05-12T08:45:32.558918Z"
    }
   },
   "outputs": [
    {
     "data": {
      "text/plain": [
       "{'id1': {'nom': ['Sarah'],\n",
       "  'classe': ['A'],\n",
       "  'matières': ['Anglais, Mathématiques, Physique']},\n",
       " 'id2': {'nom': ['David'],\n",
       "  'classe': ['A'],\n",
       "  'matières': ['Français, Mathématiques, Python']},\n",
       " 'id4': {'nom': ['Manon'],\n",
       "  'classe': ['A'],\n",
       "  'matières': ['SQL, Mathématiques, Excel']}}"
      ]
     },
     "execution_count": 179,
     "metadata": {},
     "output_type": "execute_result"
    }
   ],
   "source": [
    "counting = {}\n",
    "\n",
    "for key, value in student_data.items():\n",
    "    if value not in counting.values():\n",
    "        counting[key] = value\n",
    "    else: continue\n",
    "        \n",
    "counting"
   ]
  },
  {
   "cell_type": "markdown",
   "metadata": {},
   "source": [
    "### Exercice 3 - Sommer les valeurs d'un dictionnaire (**)\n",
    "\n",
    "Ecrire un programme Python pour ajouter dans chaque dictionnaire ci-dessous une nouvelle clé, correspondant à la somme des valeurs 'A' et 'B'.\n",
    "\n",
    "_Indice : Vous aurez besoin d'une boucle. Une fois la boucle testée, une bonne pratique consiste à regrouper votre code à l'intérieur d'une fonction._"
   ]
  },
  {
   "cell_type": "code",
   "execution_count": 247,
   "metadata": {
    "ExecuteTime": {
     "end_time": "2022-05-12T19:07:19.056806Z",
     "start_time": "2022-05-12T19:07:19.044256Z"
    }
   },
   "outputs": [],
   "source": [
    "student_details = [\n",
    "      {'id' : 1, 'matière' : 'coding', 'A' : 70, 'B' : 82},\n",
    "      {'id' : 2, 'matière' : 'coding', 'A' : 73, 'B' : 74},\n",
    "      {'id' : 3, 'matière' : 'coding', 'A' : 75, 'B' : 86}\n",
    "    ]"
   ]
  },
  {
   "cell_type": "code",
   "execution_count": 248,
   "metadata": {
    "ExecuteTime": {
     "end_time": "2022-05-12T19:07:20.185301Z",
     "start_time": "2022-05-12T19:07:20.177814Z"
    }
   },
   "outputs": [
    {
     "ename": "SyntaxError",
     "evalue": "invalid syntax (211303426.py, line 1)",
     "output_type": "error",
     "traceback": [
      "\u001b[0;36m  File \u001b[0;32m\"/var/folders/77/c88_28012qx0xb53kvscmnm80000gn/T/ipykernel_37564/211303426.py\"\u001b[0;36m, line \u001b[0;32m1\u001b[0m\n\u001b[0;31m    student_details = [(student['Somme'] = student['A'] + student['B']) for student in student_details])\u001b[0m\n\u001b[0m                                         ^\u001b[0m\n\u001b[0;31mSyntaxError\u001b[0m\u001b[0;31m:\u001b[0m invalid syntax\n"
     ]
    }
   ],
   "source": [
    "for "
   ]
  },
  {
   "cell_type": "markdown",
   "metadata": {},
   "source": [
    "## Strings"
   ]
  },
  {
   "cell_type": "markdown",
   "metadata": {},
   "source": [
    "### Exercice 1 - Formater un pourcentage (*, @)\n",
    "\n",
    "Ecrire une ligne de Python pour formater un nombre avec un %.\n",
    "\n",
    "_Indice : se rappeler de la syntaxe du formatage de strings._"
   ]
  },
  {
   "cell_type": "code",
   "execution_count": 184,
   "metadata": {
    "ExecuteTime": {
     "end_time": "2022-05-12T11:18:39.040681Z",
     "start_time": "2022-05-12T11:18:39.030296Z"
    },
    "code_folding": [
     3
    ]
   },
   "outputs": [],
   "source": [
    "test_x = 0.25\n",
    "test_y = -0.37"
   ]
  },
  {
   "cell_type": "code",
   "execution_count": 187,
   "metadata": {
    "ExecuteTime": {
     "end_time": "2022-05-12T11:18:58.465725Z",
     "start_time": "2022-05-12T11:18:58.459091Z"
    }
   },
   "outputs": [
    {
     "data": {
      "text/plain": [
       "'25.0%'"
      ]
     },
     "execution_count": 187,
     "metadata": {},
     "output_type": "execute_result"
    }
   ],
   "source": [
    "f'{test_x:.1%}'"
   ]
  },
  {
   "cell_type": "markdown",
   "metadata": {},
   "source": [
    "### Exercice 2 – L'Alpha et l'Omega (**, @)\n",
    "\n",
    "Ecrire un programme Python qui mette en majuscules la première et la dernière lettre de chaque mot d'une chaîne de caractères. \n",
    "\n",
    "_Indice : Il faudra utiliser plusieurs string methods._"
   ]
  },
  {
   "cell_type": "code",
   "execution_count": 205,
   "metadata": {
    "ExecuteTime": {
     "end_time": "2022-05-12T11:26:28.681130Z",
     "start_time": "2022-05-12T11:26:28.677842Z"
    },
    "code_folding": []
   },
   "outputs": [],
   "source": [
    "test_string_1 = \"portez ce vieux whisky au juge blond qui fume\"\n",
    "test_string_2 = \"the quick brown fox jumps over the lazy dog\""
   ]
  },
  {
   "cell_type": "code",
   "execution_count": 227,
   "metadata": {
    "ExecuteTime": {
     "end_time": "2022-05-12T11:31:02.402490Z",
     "start_time": "2022-05-12T11:31:02.393382Z"
    }
   },
   "outputs": [
    {
     "name": "stdout",
     "output_type": "stream",
     "text": [
      "Portez\n",
      "Ce\n",
      "Vieux\n",
      "Whisky\n",
      "Au\n",
      "Juge\n",
      "Blond\n",
      "Qui\n",
      "Fume\n"
     ]
    },
    {
     "data": {
      "text/plain": [
       "[None, None, None, None, None, None, None, None, None]"
      ]
     },
     "execution_count": 227,
     "metadata": {},
     "output_type": "execute_result"
    }
   ],
   "source": [
    "list(print(i.capitalize()) for i in test_string_1.title().split())"
   ]
  },
  {
   "cell_type": "code",
   "execution_count": 210,
   "metadata": {
    "ExecuteTime": {
     "end_time": "2022-05-12T11:28:09.942655Z",
     "start_time": "2022-05-12T11:28:09.930248Z"
    }
   },
   "outputs": [
    {
     "name": "stdout",
     "output_type": "stream",
     "text": [
      "PorteZ CE VieuX WhiskY AU JugE BlonD QuI FumE \n"
     ]
    }
   ],
   "source": [
    "texte = test_string_1.title()\n",
    "texte = texte.split()\n",
    "result = \"\"\n",
    "for i in texte:\n",
    "    result = result + i[:-1] + i[-1].upper() + \" \"\n",
    "print(result)"
   ]
  },
  {
   "cell_type": "code",
   "execution_count": 228,
   "metadata": {
    "ExecuteTime": {
     "end_time": "2022-05-12T11:31:46.330940Z",
     "start_time": "2022-05-12T11:31:46.321460Z"
    }
   },
   "outputs": [],
   "source": [
    "def UppeR(text):\n",
    "    texte = text.title()\n",
    "    texte = texte.split()\n",
    "    result = \"\"\n",
    "    for i in texte:\n",
    "        result += i[:-1] + i[-1].upper() + \" \"\n",
    "    return(result)\n",
    "    "
   ]
  },
  {
   "cell_type": "code",
   "execution_count": 229,
   "metadata": {
    "ExecuteTime": {
     "end_time": "2022-05-12T11:31:47.682752Z",
     "start_time": "2022-05-12T11:31:47.676414Z"
    }
   },
   "outputs": [
    {
     "data": {
      "text/plain": [
       "'ThE QuicK BrowN FoX JumpS OveR ThE LazY DoG '"
      ]
     },
     "execution_count": 229,
     "metadata": {},
     "output_type": "execute_result"
    }
   ],
   "source": [
    "UppeR(test_string_2)"
   ]
  },
  {
   "cell_type": "code",
   "execution_count": null,
   "metadata": {},
   "outputs": [],
   "source": []
  },
  {
   "cell_type": "markdown",
   "metadata": {},
   "source": [
    "### Bonus: Exercice 3 - Analyser un texte (**)\n",
    "\n",
    "Ecrire un script Python qui découpe un long texte en une liste de mots individuels, puis calcule la fréquence d'apparition de chaque mot.\n",
    "\n",
    "_Indice : en bonus, il est possible (mais pas obligatoire dans cet exercice) de nettoyer le texte avec d'autres string methods pour éviter les doublons._"
   ]
  },
  {
   "cell_type": "code",
   "execution_count": 90,
   "metadata": {
    "ExecuteTime": {
     "end_time": "2022-05-12T08:00:41.696628Z",
     "start_time": "2022-05-12T08:00:41.685878Z"
    }
   },
   "outputs": [],
   "source": [
    "texte = '''United States Declaration of Independence\n",
    "From Wikipedia, the free encyclopedia\n",
    "The United States Declaration of Independence is the statement\n",
    "adopted by the Second Continental Congress meeting at the Pennsylvania State\n",
    "House (Independence Hall) in Philadelphia on July 4, 1776, which announced\n",
    "that the thirteen American colonies, then at war with the Kingdom of Great\n",
    "Britain, regarded themselves as thirteen independent sovereign states, no longer\n",
    "under British rule. These states would found a new nation – the United States of\n",
    "America. John Adams was a leader in pushing for independence, which was passed\n",
    "on July 2 with no opposing vote cast. A committee of five had already drafted the\n",
    "formal declaration, to be ready when Congress voted on independence.\n",
    "\n",
    "John Adams persuaded the committee to select Thomas Jefferson to compose the original\n",
    "draft of the document, which Congress would edit to produce the final version.\n",
    "The Declaration was ultimately a formal explanation of why Congress had voted on July\n",
    "2 to declare independence from Great Britain, more than a year after the outbreak of\n",
    "the American Revolutionary War. The next day, Adams wrote to his wife Abigail: \"The\n",
    "Second Day of July 1776, will be the most memorable Epocha, in the History of America.\"\n",
    "But Independence Day is actually celebrated on July 4, the date that the Declaration of\n",
    "Independence was approved.\n",
    "\n",
    "After ratifying the text on July 4, Congress issued the Declaration of Independence in\n",
    "several forms. It was initially published as the printed Dunlap broadside that was widely\n",
    "distributed and read to the public. The source copy used for this printing has been lost,\n",
    "and may have been a copy in Thomas Jefferson's hand.[5] Jefferson's original draft, complete\n",
    "with changes made by John Adams and Benjamin Franklin, and Jefferson's notes of changes made\n",
    "by Congress, are preserved at the Library of Congress. The best-known version of the Declaration\n",
    "is a signed copy that is displayed at the National Archives in Washington, D.C., and which is\n",
    "popularly regarded as the official document. This engrossed copy was ordered by Congress on\n",
    "July 19 and signed primarily on August 2.\n",
    "\n",
    "The sources and interpretation of the Declaration have been the subject of much scholarly inquiry.\n",
    "The Declaration justified the independence of the United States by listing colonial grievances against\n",
    "King George III, and by asserting certain natural and legal rights, including a right of revolution.\n",
    "Having served its original purpose in announcing independence, references to the text of the\n",
    "Declaration were few in the following years. Abraham Lincoln made it the centerpiece of his rhetoric\n",
    "(as in the Gettysburg Address of 1863) and his policies. Since then, it has become a well-known statement\n",
    "on human rights, particularly its second sentence:\n",
    "\n",
    "We hold these truths to be self-evident, that all men are created equal, that they are endowed by their\n",
    "Creator with certain unalienable Rights, that among these are Life, Liberty and the pursuit of Happiness.\n",
    "\n",
    "This has been called \"one of the best-known sentences in the English language\", containing \"the most potent\n",
    "and consequential words in American history\". The passage came to represent a moral standard to which\n",
    "the United States should strive. This view was notably promoted by Abraham Lincoln, who considered the\n",
    "Declaration to be the foundation of his political philosophy and argued that it is a statement of principles\n",
    "through which the United States Constitution should be interpreted.\n",
    "\n",
    "The U.S. Declaration of Independence inspired many other similar documents in other countries, the first\n",
    "being the 1789 Declaration of Flanders issued during the Brabant Revolution in the Austrian Netherlands\n",
    "(modern-day Belgium). It also served as the primary model for numerous declarations of independence across\n",
    "Europe and Latin America, as well as Africa (Liberia) and Oceania (New Zealand) during the first half of the\n",
    "19th century.'''"
   ]
  },
  {
   "cell_type": "code",
   "execution_count": null,
   "metadata": {
    "ExecuteTime": {
     "end_time": "2022-05-11T13:14:56.434217Z",
     "start_time": "2022-05-11T13:14:56.430917Z"
    }
   },
   "outputs": [],
   "source": [
    "from collections import Counter"
   ]
  },
  {
   "cell_type": "code",
   "execution_count": 91,
   "metadata": {
    "ExecuteTime": {
     "end_time": "2022-05-12T08:00:43.048299Z",
     "start_time": "2022-05-12T08:00:43.020082Z"
    }
   },
   "outputs": [
    {
     "data": {
      "text/plain": [
       "{'United': 6,\n",
       " 'States': 6,\n",
       " 'Declaration': 12,\n",
       " 'of': 30,\n",
       " 'Independence': 7,\n",
       " 'From': 1,\n",
       " 'Wikipedia,': 1,\n",
       " 'the': 49,\n",
       " 'free': 1,\n",
       " 'encyclopedia': 1,\n",
       " 'The': 9,\n",
       " 'is': 6,\n",
       " 'statement': 3,\n",
       " 'adopted': 1,\n",
       " 'by': 8,\n",
       " 'Second': 2,\n",
       " 'Continental': 1,\n",
       " 'Congress': 6,\n",
       " 'meeting': 1,\n",
       " 'at': 4,\n",
       " 'Pennsylvania': 1,\n",
       " 'State': 1,\n",
       " 'House': 1,\n",
       " 'Hall': 1,\n",
       " 'in': 13,\n",
       " 'Philadelphia': 1,\n",
       " 'on': 9,\n",
       " 'July': 7,\n",
       " '4,': 3,\n",
       " '1776,': 2,\n",
       " 'which': 6,\n",
       " 'announced': 1,\n",
       " 'that': 8,\n",
       " 'thirteen': 2,\n",
       " 'American': 3,\n",
       " 'colonies,': 1,\n",
       " 'then': 1,\n",
       " 'war': 1,\n",
       " 'with': 4,\n",
       " 'Kingdom': 1,\n",
       " 'Great': 2,\n",
       " 'Britain,': 2,\n",
       " 'regarded': 2,\n",
       " 'themselves': 1,\n",
       " 'as': 7,\n",
       " 'independent': 1,\n",
       " 'sovereign': 1,\n",
       " 'states,': 1,\n",
       " 'no': 2,\n",
       " 'longer': 1,\n",
       " 'under': 1,\n",
       " 'British': 1,\n",
       " 'rule.': 1,\n",
       " 'These': 1,\n",
       " 'states': 1,\n",
       " 'would': 2,\n",
       " 'found': 1,\n",
       " 'a': 10,\n",
       " 'new': 1,\n",
       " 'nation': 1,\n",
       " '–': 1,\n",
       " 'America.': 1,\n",
       " 'John': 3,\n",
       " 'Adams': 4,\n",
       " 'was': 8,\n",
       " 'leader': 1,\n",
       " 'pushing': 1,\n",
       " 'for': 3,\n",
       " 'independence,': 2,\n",
       " 'passed': 1,\n",
       " '2': 2,\n",
       " 'opposing': 1,\n",
       " 'vote': 1,\n",
       " 'cast.': 1,\n",
       " 'A': 1,\n",
       " 'committee': 2,\n",
       " 'five': 1,\n",
       " 'had': 2,\n",
       " 'already': 1,\n",
       " 'drafted': 1,\n",
       " 'formal': 2,\n",
       " 'declaration,': 1,\n",
       " 'to': 12,\n",
       " 'be': 5,\n",
       " 'ready': 1,\n",
       " 'when': 1,\n",
       " 'voted': 2,\n",
       " 'independence.': 1,\n",
       " 'persuaded': 1,\n",
       " 'select': 1,\n",
       " 'Thomas': 2,\n",
       " 'Jefferson': 1,\n",
       " 'compose': 1,\n",
       " 'original': 3,\n",
       " 'draft': 1,\n",
       " 'document,': 1,\n",
       " 'edit': 1,\n",
       " 'produce': 1,\n",
       " 'final': 1,\n",
       " 'version.': 1,\n",
       " 'ultimately': 1,\n",
       " 'explanation': 1,\n",
       " 'why': 1,\n",
       " 'declare': 1,\n",
       " 'independence': 3,\n",
       " 'from': 1,\n",
       " 'more': 1,\n",
       " 'than': 1,\n",
       " 'year': 1,\n",
       " 'after': 1,\n",
       " 'outbreak': 1,\n",
       " 'Revolutionary': 1,\n",
       " 'War.': 1,\n",
       " 'next': 1,\n",
       " 'day,': 1,\n",
       " 'wrote': 1,\n",
       " 'his': 4,\n",
       " 'wife': 1,\n",
       " 'Abigail:': 1,\n",
       " '\"The': 1,\n",
       " 'Day': 2,\n",
       " 'will': 1,\n",
       " 'most': 2,\n",
       " 'memorable': 1,\n",
       " 'Epocha,': 1,\n",
       " 'History': 1,\n",
       " 'America.\"': 1,\n",
       " 'But': 1,\n",
       " 'actually': 1,\n",
       " 'celebrated': 1,\n",
       " 'date': 1,\n",
       " 'approved.': 1,\n",
       " 'After': 1,\n",
       " 'ratifying': 1,\n",
       " 'text': 2,\n",
       " 'issued': 2,\n",
       " 'several': 1,\n",
       " 'forms.': 1,\n",
       " 'It': 2,\n",
       " 'initially': 1,\n",
       " 'published': 1,\n",
       " 'printed': 1,\n",
       " 'Dunlap': 1,\n",
       " 'broadside': 1,\n",
       " 'widely': 1,\n",
       " 'distributed': 1,\n",
       " 'and': 15,\n",
       " 'read': 1,\n",
       " 'public.': 1,\n",
       " 'source': 1,\n",
       " 'copy': 4,\n",
       " 'used': 1,\n",
       " 'this': 1,\n",
       " 'printing': 1,\n",
       " 'has': 3,\n",
       " 'been': 4,\n",
       " 'lost,': 1,\n",
       " 'may': 1,\n",
       " 'have': 2,\n",
       " \"Jefferson's\": 3,\n",
       " 'hand.[5]': 1,\n",
       " 'draft,': 1,\n",
       " 'complete': 1,\n",
       " 'changes': 2,\n",
       " 'made': 3,\n",
       " 'Benjamin': 1,\n",
       " 'Franklin,': 1,\n",
       " 'notes': 1,\n",
       " 'Congress,': 1,\n",
       " 'are': 4,\n",
       " 'preserved': 1,\n",
       " 'Library': 1,\n",
       " 'Congress.': 1,\n",
       " 'best-known': 2,\n",
       " 'version': 1,\n",
       " 'signed': 2,\n",
       " 'displayed': 1,\n",
       " 'National': 1,\n",
       " 'Archives': 1,\n",
       " 'Washington,': 1,\n",
       " 'D.C.,': 1,\n",
       " 'popularly': 1,\n",
       " 'official': 1,\n",
       " 'document.': 1,\n",
       " 'This': 3,\n",
       " 'engrossed': 1,\n",
       " 'ordered': 1,\n",
       " '19': 1,\n",
       " 'primarily': 1,\n",
       " 'August': 1,\n",
       " '2.': 1,\n",
       " 'sources': 1,\n",
       " 'interpretation': 1,\n",
       " 'subject': 1,\n",
       " 'much': 1,\n",
       " 'scholarly': 1,\n",
       " 'inquiry.': 1,\n",
       " 'justified': 1,\n",
       " 'listing': 1,\n",
       " 'colonial': 1,\n",
       " 'grievances': 1,\n",
       " 'against': 1,\n",
       " 'King': 1,\n",
       " 'George': 1,\n",
       " 'III,': 1,\n",
       " 'asserting': 1,\n",
       " 'certain': 2,\n",
       " 'natural': 1,\n",
       " 'legal': 1,\n",
       " 'rights,': 2,\n",
       " 'including': 1,\n",
       " 'right': 1,\n",
       " 'revolution.': 1,\n",
       " 'Having': 1,\n",
       " 'served': 2,\n",
       " 'its': 2,\n",
       " 'purpose': 1,\n",
       " 'announcing': 1,\n",
       " 'references': 1,\n",
       " 'were': 1,\n",
       " 'few': 1,\n",
       " 'following': 1,\n",
       " 'years.': 1,\n",
       " 'Abraham': 2,\n",
       " 'Lincoln': 1,\n",
       " 'it': 3,\n",
       " 'centerpiece': 1,\n",
       " 'rhetoric': 1,\n",
       " 'Gettysburg': 1,\n",
       " 'Address': 1,\n",
       " '1863': 1,\n",
       " 'policies.': 1,\n",
       " 'Since': 1,\n",
       " 'then,': 1,\n",
       " 'become': 1,\n",
       " 'well-known': 1,\n",
       " 'human': 1,\n",
       " 'particularly': 1,\n",
       " 'second': 1,\n",
       " 'sentence:': 1,\n",
       " 'We': 1,\n",
       " 'hold': 1,\n",
       " 'these': 2,\n",
       " 'truths': 1,\n",
       " 'self-evident,': 1,\n",
       " 'all': 1,\n",
       " 'men': 1,\n",
       " 'created': 1,\n",
       " 'equal,': 1,\n",
       " 'they': 1,\n",
       " 'endowed': 1,\n",
       " 'their': 1,\n",
       " 'Creator': 1,\n",
       " 'unalienable': 1,\n",
       " 'Rights,': 1,\n",
       " 'among': 1,\n",
       " 'Life,': 1,\n",
       " 'Liberty': 1,\n",
       " 'pursuit': 1,\n",
       " 'Happiness.': 1,\n",
       " 'called': 1,\n",
       " '\"one': 1,\n",
       " 'sentences': 1,\n",
       " 'English': 1,\n",
       " 'language\",': 1,\n",
       " 'containing': 1,\n",
       " '\"the': 1,\n",
       " 'potent': 1,\n",
       " 'consequential': 1,\n",
       " 'words': 1,\n",
       " 'history\".': 1,\n",
       " 'passage': 1,\n",
       " 'came': 1,\n",
       " 'represent': 1,\n",
       " 'moral': 1,\n",
       " 'standard': 1,\n",
       " 'should': 2,\n",
       " 'strive.': 1,\n",
       " 'view': 1,\n",
       " 'notably': 1,\n",
       " 'promoted': 1,\n",
       " 'Lincoln,': 1,\n",
       " 'who': 1,\n",
       " 'considered': 1,\n",
       " 'foundation': 1,\n",
       " 'political': 1,\n",
       " 'philosophy': 1,\n",
       " 'argued': 1,\n",
       " 'principles': 1,\n",
       " 'through': 1,\n",
       " 'Constitution': 1,\n",
       " 'interpreted.': 1,\n",
       " 'U.S.': 1,\n",
       " 'inspired': 1,\n",
       " 'many': 1,\n",
       " 'other': 2,\n",
       " 'similar': 1,\n",
       " 'documents': 1,\n",
       " 'countries,': 1,\n",
       " 'first': 2,\n",
       " 'being': 1,\n",
       " '1789': 1,\n",
       " 'Flanders': 1,\n",
       " 'during': 2,\n",
       " 'Brabant': 1,\n",
       " 'Revolution': 1,\n",
       " 'Austrian': 1,\n",
       " 'Netherlands': 1,\n",
       " 'modern-day': 1,\n",
       " 'Belgium.': 1,\n",
       " 'also': 1,\n",
       " 'primary': 1,\n",
       " 'model': 1,\n",
       " 'numerous': 1,\n",
       " 'declarations': 1,\n",
       " 'across': 1,\n",
       " 'Europe': 1,\n",
       " 'Latin': 1,\n",
       " 'America,': 1,\n",
       " 'well': 1,\n",
       " 'Africa': 1,\n",
       " 'Liberia': 1,\n",
       " 'Oceania': 1,\n",
       " 'New': 1,\n",
       " 'Zealand': 1,\n",
       " 'half': 1,\n",
       " '19th': 1,\n",
       " 'century.': 1}"
      ]
     },
     "execution_count": 91,
     "metadata": {},
     "output_type": "execute_result"
    }
   ],
   "source": [
    "texte = texte.replace('(', '').replace(')', '')\n",
    "texte = texte.split()\n",
    "counting = {}\n",
    "\n",
    "for word in texte:\n",
    "    if word not in counting:\n",
    "        counting[word] = 1\n",
    "    else: counting[word] += 1\n",
    "counting"
   ]
  },
  {
   "cell_type": "code",
   "execution_count": 92,
   "metadata": {
    "ExecuteTime": {
     "end_time": "2022-05-12T08:00:44.573937Z",
     "start_time": "2022-05-12T08:00:44.539559Z"
    }
   },
   "outputs": [
    {
     "data": {
      "text/plain": [
       "[('the', 49),\n",
       " ('of', 30),\n",
       " ('and', 15),\n",
       " ('in', 13),\n",
       " ('Declaration', 12),\n",
       " ('to', 12),\n",
       " ('a', 10),\n",
       " ('The', 9),\n",
       " ('on', 9),\n",
       " ('by', 8),\n",
       " ('that', 8),\n",
       " ('was', 8),\n",
       " ('Independence', 7),\n",
       " ('July', 7),\n",
       " ('as', 7),\n",
       " ('United', 6),\n",
       " ('States', 6),\n",
       " ('is', 6),\n",
       " ('Congress', 6),\n",
       " ('which', 6),\n",
       " ('be', 5),\n",
       " ('at', 4),\n",
       " ('with', 4),\n",
       " ('Adams', 4),\n",
       " ('his', 4),\n",
       " ('copy', 4),\n",
       " ('been', 4),\n",
       " ('are', 4),\n",
       " ('statement', 3),\n",
       " ('4,', 3),\n",
       " ('American', 3),\n",
       " ('John', 3),\n",
       " ('for', 3),\n",
       " ('original', 3),\n",
       " ('independence', 3),\n",
       " ('has', 3),\n",
       " (\"Jefferson's\", 3),\n",
       " ('made', 3),\n",
       " ('This', 3),\n",
       " ('it', 3),\n",
       " ('Second', 2),\n",
       " ('1776,', 2),\n",
       " ('thirteen', 2),\n",
       " ('Great', 2),\n",
       " ('Britain,', 2),\n",
       " ('regarded', 2),\n",
       " ('no', 2),\n",
       " ('would', 2),\n",
       " ('independence,', 2),\n",
       " ('2', 2),\n",
       " ('committee', 2),\n",
       " ('had', 2),\n",
       " ('formal', 2),\n",
       " ('voted', 2),\n",
       " ('Thomas', 2),\n",
       " ('Day', 2),\n",
       " ('most', 2),\n",
       " ('text', 2),\n",
       " ('issued', 2),\n",
       " ('It', 2),\n",
       " ('have', 2),\n",
       " ('changes', 2),\n",
       " ('best-known', 2),\n",
       " ('signed', 2),\n",
       " ('certain', 2),\n",
       " ('rights,', 2),\n",
       " ('served', 2),\n",
       " ('its', 2),\n",
       " ('Abraham', 2),\n",
       " ('these', 2),\n",
       " ('should', 2),\n",
       " ('other', 2),\n",
       " ('first', 2),\n",
       " ('during', 2),\n",
       " ('From', 1),\n",
       " ('Wikipedia,', 1),\n",
       " ('free', 1),\n",
       " ('encyclopedia', 1),\n",
       " ('adopted', 1),\n",
       " ('Continental', 1),\n",
       " ('meeting', 1),\n",
       " ('Pennsylvania', 1),\n",
       " ('State', 1),\n",
       " ('House', 1),\n",
       " ('Hall', 1),\n",
       " ('Philadelphia', 1),\n",
       " ('announced', 1),\n",
       " ('colonies,', 1),\n",
       " ('then', 1),\n",
       " ('war', 1),\n",
       " ('Kingdom', 1),\n",
       " ('themselves', 1),\n",
       " ('independent', 1),\n",
       " ('sovereign', 1),\n",
       " ('states,', 1),\n",
       " ('longer', 1),\n",
       " ('under', 1),\n",
       " ('British', 1),\n",
       " ('rule.', 1),\n",
       " ('These', 1),\n",
       " ('states', 1),\n",
       " ('found', 1),\n",
       " ('new', 1),\n",
       " ('nation', 1),\n",
       " ('–', 1),\n",
       " ('America.', 1),\n",
       " ('leader', 1),\n",
       " ('pushing', 1),\n",
       " ('passed', 1),\n",
       " ('opposing', 1),\n",
       " ('vote', 1),\n",
       " ('cast.', 1),\n",
       " ('A', 1),\n",
       " ('five', 1),\n",
       " ('already', 1),\n",
       " ('drafted', 1),\n",
       " ('declaration,', 1),\n",
       " ('ready', 1),\n",
       " ('when', 1),\n",
       " ('independence.', 1),\n",
       " ('persuaded', 1),\n",
       " ('select', 1),\n",
       " ('Jefferson', 1),\n",
       " ('compose', 1),\n",
       " ('draft', 1),\n",
       " ('document,', 1),\n",
       " ('edit', 1),\n",
       " ('produce', 1),\n",
       " ('final', 1),\n",
       " ('version.', 1),\n",
       " ('ultimately', 1),\n",
       " ('explanation', 1),\n",
       " ('why', 1),\n",
       " ('declare', 1),\n",
       " ('from', 1),\n",
       " ('more', 1),\n",
       " ('than', 1),\n",
       " ('year', 1),\n",
       " ('after', 1),\n",
       " ('outbreak', 1),\n",
       " ('Revolutionary', 1),\n",
       " ('War.', 1),\n",
       " ('next', 1),\n",
       " ('day,', 1),\n",
       " ('wrote', 1),\n",
       " ('wife', 1),\n",
       " ('Abigail:', 1),\n",
       " ('\"The', 1),\n",
       " ('will', 1),\n",
       " ('memorable', 1),\n",
       " ('Epocha,', 1),\n",
       " ('History', 1),\n",
       " ('America.\"', 1),\n",
       " ('But', 1),\n",
       " ('actually', 1),\n",
       " ('celebrated', 1),\n",
       " ('date', 1),\n",
       " ('approved.', 1),\n",
       " ('After', 1),\n",
       " ('ratifying', 1),\n",
       " ('several', 1),\n",
       " ('forms.', 1),\n",
       " ('initially', 1),\n",
       " ('published', 1),\n",
       " ('printed', 1),\n",
       " ('Dunlap', 1),\n",
       " ('broadside', 1),\n",
       " ('widely', 1),\n",
       " ('distributed', 1),\n",
       " ('read', 1),\n",
       " ('public.', 1),\n",
       " ('source', 1),\n",
       " ('used', 1),\n",
       " ('this', 1),\n",
       " ('printing', 1),\n",
       " ('lost,', 1),\n",
       " ('may', 1),\n",
       " ('hand.[5]', 1),\n",
       " ('draft,', 1),\n",
       " ('complete', 1),\n",
       " ('Benjamin', 1),\n",
       " ('Franklin,', 1),\n",
       " ('notes', 1),\n",
       " ('Congress,', 1),\n",
       " ('preserved', 1),\n",
       " ('Library', 1),\n",
       " ('Congress.', 1),\n",
       " ('version', 1),\n",
       " ('displayed', 1),\n",
       " ('National', 1),\n",
       " ('Archives', 1),\n",
       " ('Washington,', 1),\n",
       " ('D.C.,', 1),\n",
       " ('popularly', 1),\n",
       " ('official', 1),\n",
       " ('document.', 1),\n",
       " ('engrossed', 1),\n",
       " ('ordered', 1),\n",
       " ('19', 1),\n",
       " ('primarily', 1),\n",
       " ('August', 1),\n",
       " ('2.', 1),\n",
       " ('sources', 1),\n",
       " ('interpretation', 1),\n",
       " ('subject', 1),\n",
       " ('much', 1),\n",
       " ('scholarly', 1),\n",
       " ('inquiry.', 1),\n",
       " ('justified', 1),\n",
       " ('listing', 1),\n",
       " ('colonial', 1),\n",
       " ('grievances', 1),\n",
       " ('against', 1),\n",
       " ('King', 1),\n",
       " ('George', 1),\n",
       " ('III,', 1),\n",
       " ('asserting', 1),\n",
       " ('natural', 1),\n",
       " ('legal', 1),\n",
       " ('including', 1),\n",
       " ('right', 1),\n",
       " ('revolution.', 1),\n",
       " ('Having', 1),\n",
       " ('purpose', 1),\n",
       " ('announcing', 1),\n",
       " ('references', 1),\n",
       " ('were', 1),\n",
       " ('few', 1),\n",
       " ('following', 1),\n",
       " ('years.', 1),\n",
       " ('Lincoln', 1),\n",
       " ('centerpiece', 1),\n",
       " ('rhetoric', 1),\n",
       " ('Gettysburg', 1),\n",
       " ('Address', 1),\n",
       " ('1863', 1),\n",
       " ('policies.', 1),\n",
       " ('Since', 1),\n",
       " ('then,', 1),\n",
       " ('become', 1),\n",
       " ('well-known', 1),\n",
       " ('human', 1),\n",
       " ('particularly', 1),\n",
       " ('second', 1),\n",
       " ('sentence:', 1),\n",
       " ('We', 1),\n",
       " ('hold', 1),\n",
       " ('truths', 1),\n",
       " ('self-evident,', 1),\n",
       " ('all', 1),\n",
       " ('men', 1),\n",
       " ('created', 1),\n",
       " ('equal,', 1),\n",
       " ('they', 1),\n",
       " ('endowed', 1),\n",
       " ('their', 1),\n",
       " ('Creator', 1),\n",
       " ('unalienable', 1),\n",
       " ('Rights,', 1),\n",
       " ('among', 1),\n",
       " ('Life,', 1),\n",
       " ('Liberty', 1),\n",
       " ('pursuit', 1),\n",
       " ('Happiness.', 1),\n",
       " ('called', 1),\n",
       " ('\"one', 1),\n",
       " ('sentences', 1),\n",
       " ('English', 1),\n",
       " ('language\",', 1),\n",
       " ('containing', 1),\n",
       " ('\"the', 1),\n",
       " ('potent', 1),\n",
       " ('consequential', 1),\n",
       " ('words', 1),\n",
       " ('history\".', 1),\n",
       " ('passage', 1),\n",
       " ('came', 1),\n",
       " ('represent', 1),\n",
       " ('moral', 1),\n",
       " ('standard', 1),\n",
       " ('strive.', 1),\n",
       " ('view', 1),\n",
       " ('notably', 1),\n",
       " ('promoted', 1),\n",
       " ('Lincoln,', 1),\n",
       " ('who', 1),\n",
       " ('considered', 1),\n",
       " ('foundation', 1),\n",
       " ('political', 1),\n",
       " ('philosophy', 1),\n",
       " ('argued', 1),\n",
       " ('principles', 1),\n",
       " ('through', 1),\n",
       " ('Constitution', 1),\n",
       " ('interpreted.', 1),\n",
       " ('U.S.', 1),\n",
       " ('inspired', 1),\n",
       " ('many', 1),\n",
       " ('similar', 1),\n",
       " ('documents', 1),\n",
       " ('countries,', 1),\n",
       " ('being', 1),\n",
       " ('1789', 1),\n",
       " ('Flanders', 1),\n",
       " ('Brabant', 1),\n",
       " ('Revolution', 1),\n",
       " ('Austrian', 1),\n",
       " ('Netherlands', 1),\n",
       " ('modern-day', 1),\n",
       " ('Belgium.', 1),\n",
       " ('also', 1),\n",
       " ('primary', 1),\n",
       " ('model', 1),\n",
       " ('numerous', 1),\n",
       " ('declarations', 1),\n",
       " ('across', 1),\n",
       " ('Europe', 1),\n",
       " ('Latin', 1),\n",
       " ('America,', 1),\n",
       " ('well', 1),\n",
       " ('Africa', 1),\n",
       " ('Liberia', 1),\n",
       " ('Oceania', 1),\n",
       " ('New', 1),\n",
       " ('Zealand', 1),\n",
       " ('half', 1),\n",
       " ('19th', 1),\n",
       " ('century.', 1)]"
      ]
     },
     "execution_count": 92,
     "metadata": {},
     "output_type": "execute_result"
    }
   ],
   "source": [
    "counting = counting.items()\n",
    "def sorting(tup):\n",
    "    return tup[1]\n",
    "\n",
    "for items in counting:\n",
    "    items[0].lower()\n",
    "sorted(counting, key=sorting, reverse = True)\n"
   ]
  }
 ],
 "metadata": {
  "hide_input": false,
  "kernelspec": {
   "display_name": "Python 3 (ipykernel)",
   "language": "python",
   "name": "python3"
  },
  "language_info": {
   "codemirror_mode": {
    "name": "ipython",
    "version": 3
   },
   "file_extension": ".py",
   "mimetype": "text/x-python",
   "name": "python",
   "nbconvert_exporter": "python",
   "pygments_lexer": "ipython3",
   "version": "3.9.7"
  },
  "toc": {
   "base_numbering": 1,
   "nav_menu": {},
   "number_sections": true,
   "sideBar": true,
   "skip_h1_title": false,
   "title_cell": "Table of Contents",
   "title_sidebar": "Contents",
   "toc_cell": false,
   "toc_position": {},
   "toc_section_display": true,
   "toc_window_display": true
  },
  "varInspector": {
   "cols": {
    "lenName": 16,
    "lenType": 16,
    "lenVar": 40
   },
   "kernels_config": {
    "python": {
     "delete_cmd_postfix": "",
     "delete_cmd_prefix": "del ",
     "library": "var_list.py",
     "varRefreshCmd": "print(var_dic_list())"
    },
    "r": {
     "delete_cmd_postfix": ") ",
     "delete_cmd_prefix": "rm(",
     "library": "var_list.r",
     "varRefreshCmd": "cat(var_dic_list()) "
    }
   },
   "types_to_exclude": [
    "module",
    "function",
    "builtin_function_or_method",
    "instance",
    "_Feature"
   ],
   "window_display": false
  }
 },
 "nbformat": 4,
 "nbformat_minor": 4
}
