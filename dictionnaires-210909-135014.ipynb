{
 "cells": [
  {
   "cell_type": "markdown",
   "metadata": {},
   "source": [
    "## Dictionnaires"
   ]
  },
  {
   "cell_type": "markdown",
   "metadata": {},
   "source": [
    "Les dictionnaires sont un 3ème type d'objet utilisé pour stocker des données. Ils utilisent le paradigme **clé-valeur** (**key-value**)."
   ]
  },
  {
   "cell_type": "code",
   "execution_count": 1,
   "metadata": {
    "ExecuteTime": {
     "end_time": "2022-05-11T07:28:34.889204Z",
     "start_time": "2022-05-11T07:28:34.870339Z"
    }
   },
   "outputs": [],
   "source": [
    "stores = {'Paris': 'Avenue des Champs-Elysées',\n",
    "          'Marseille': 'La Canebière',\n",
    "          'Lyon': 'Place des Terreaux'}"
   ]
  },
  {
   "cell_type": "markdown",
   "metadata": {},
   "source": [
    "On accède aux valeurs d'un `dict` par ses clés : "
   ]
  },
  {
   "cell_type": "code",
   "execution_count": 3,
   "metadata": {
    "ExecuteTime": {
     "end_time": "2022-05-11T07:28:48.019300Z",
     "start_time": "2022-05-11T07:28:48.001964Z"
    }
   },
   "outputs": [
    {
     "data": {
      "text/plain": [
       "'Avenue des Champs-Elysées'"
      ]
     },
     "execution_count": 3,
     "metadata": {},
     "output_type": "execute_result"
    }
   ],
   "source": [
    "stores['Paris']"
   ]
  },
  {
   "cell_type": "code",
   "execution_count": null,
   "metadata": {
    "ExecuteTime": {
     "end_time": "2021-07-27T13:08:44.289256Z",
     "start_time": "2021-07-27T13:08:44.257870Z"
    }
   },
   "outputs": [],
   "source": [
    "stores['Marseille']"
   ]
  },
  {
   "cell_type": "markdown",
   "metadata": {},
   "source": [
    "Notez ici que contrairement aux listes, les dictionnaires **ne sont pas ordonnés**, la position '0' n'existe donc pas. Une position correspond à un nom de clé."
   ]
  },
  {
   "cell_type": "markdown",
   "metadata": {},
   "source": [
    "Itérer sur un dictionnaire consiste à itérer sur ses clés:"
   ]
  },
  {
   "cell_type": "code",
   "execution_count": 4,
   "metadata": {
    "ExecuteTime": {
     "end_time": "2022-05-11T07:32:33.416565Z",
     "start_time": "2022-05-11T07:32:33.405363Z"
    }
   },
   "outputs": [
    {
     "name": "stdout",
     "output_type": "stream",
     "text": [
      "Paris : Avenue des Champs-Elysées\n",
      "Marseille : La Canebière\n",
      "Lyon : Place des Terreaux\n"
     ]
    }
   ],
   "source": [
    "for city in stores:\n",
    "    print(f\"{city} : {stores[city]}\")\n",
    "    \n",
    "# city correspond aux clés"
   ]
  },
  {
   "cell_type": "markdown",
   "metadata": {},
   "source": [
    "On peut extraire toutes les clés et toutes les valeurs avec les méthodes ci-dessous :"
   ]
  },
  {
   "cell_type": "code",
   "execution_count": 5,
   "metadata": {
    "ExecuteTime": {
     "end_time": "2022-05-11T07:33:45.494197Z",
     "start_time": "2022-05-11T07:33:45.488277Z"
    }
   },
   "outputs": [
    {
     "data": {
      "text/plain": [
       "['Paris', 'Marseille', 'Lyon']"
      ]
     },
     "execution_count": 5,
     "metadata": {},
     "output_type": "execute_result"
    }
   ],
   "source": [
    "list(stores.keys())"
   ]
  },
  {
   "cell_type": "code",
   "execution_count": 6,
   "metadata": {
    "ExecuteTime": {
     "end_time": "2022-05-11T07:33:47.230473Z",
     "start_time": "2022-05-11T07:33:47.223364Z"
    }
   },
   "outputs": [
    {
     "data": {
      "text/plain": [
       "['Avenue des Champs-Elysées', 'La Canebière', 'Place des Terreaux']"
      ]
     },
     "execution_count": 6,
     "metadata": {},
     "output_type": "execute_result"
    }
   ],
   "source": [
    "list(stores.values())"
   ]
  },
  {
   "cell_type": "markdown",
   "metadata": {},
   "source": [
    "Un dictionnaire est mutable, on peut donc ajouter de nouvelles paires clés/valeurs, en réassigner (modifier) certaines ou encore en supprimer :"
   ]
  },
  {
   "cell_type": "code",
   "execution_count": 7,
   "metadata": {
    "ExecuteTime": {
     "end_time": "2022-05-11T07:33:53.931817Z",
     "start_time": "2022-05-11T07:33:53.925702Z"
    }
   },
   "outputs": [
    {
     "data": {
      "text/plain": [
       "{'Paris': ['Rue Louis Blanc', 'République'],\n",
       " 'Marseille': 'La Canebière',\n",
       " 'Lyon': 'Place des Terreaux'}"
      ]
     },
     "execution_count": 7,
     "metadata": {},
     "output_type": "execute_result"
    }
   ],
   "source": [
    "stores['Paris'] = ['Rue Louis Blanc', 'République']\n",
    "stores"
   ]
  },
  {
   "cell_type": "code",
   "execution_count": 8,
   "metadata": {
    "ExecuteTime": {
     "end_time": "2022-05-11T07:34:18.087189Z",
     "start_time": "2022-05-11T07:34:18.079391Z"
    }
   },
   "outputs": [
    {
     "data": {
      "text/plain": [
       "{'Paris': ['Rue Louis Blanc', 'République'],\n",
       " 'Marseille': 'La Canebière',\n",
       " 'Lyon': 'Place des Terreaux',\n",
       " 'Nice': 'Promenade des Anglais'}"
      ]
     },
     "execution_count": 8,
     "metadata": {},
     "output_type": "execute_result"
    }
   ],
   "source": [
    "stores['Nice'] = 'Promenade des Anglais'\n",
    "stores"
   ]
  },
  {
   "cell_type": "code",
   "execution_count": 9,
   "metadata": {
    "ExecuteTime": {
     "end_time": "2022-05-11T07:34:39.946262Z",
     "start_time": "2022-05-11T07:34:39.940089Z"
    }
   },
   "outputs": [
    {
     "data": {
      "text/plain": [
       "{'Marseille': 'La Canebière',\n",
       " 'Lyon': 'Place des Terreaux',\n",
       " 'Nice': 'Promenade des Anglais'}"
      ]
     },
     "execution_count": 9,
     "metadata": {},
     "output_type": "execute_result"
    }
   ],
   "source": [
    "stores.pop('Paris')\n",
    "stores"
   ]
  },
  {
   "cell_type": "markdown",
   "metadata": {},
   "source": [
    "Noter que la méthode `pop` s'utilise ici avec une clé, et non un index, car les dictionnaires ne sont pas ordonnés !"
   ]
  },
  {
   "cell_type": "markdown",
   "metadata": {},
   "source": [
    "Enfin, pour créer un nouveau dictionnaire : "
   ]
  },
  {
   "cell_type": "code",
   "execution_count": 10,
   "metadata": {
    "ExecuteTime": {
     "end_time": "2022-05-11T07:35:05.678886Z",
     "start_time": "2022-05-11T07:35:05.673460Z"
    }
   },
   "outputs": [
    {
     "data": {
      "text/plain": [
       "{}"
      ]
     },
     "execution_count": 10,
     "metadata": {},
     "output_type": "execute_result"
    }
   ],
   "source": [
    "empty_dict = {}\n",
    "empty_dict = dict()\n",
    "empty_dict"
   ]
  }
 ],
 "metadata": {
  "hide_input": false,
  "kernelspec": {
   "display_name": "Python 3 (ipykernel)",
   "language": "python",
   "name": "python3"
  },
  "language_info": {
   "codemirror_mode": {
    "name": "ipython",
    "version": 3
   },
   "file_extension": ".py",
   "mimetype": "text/x-python",
   "name": "python",
   "nbconvert_exporter": "python",
   "pygments_lexer": "ipython3",
   "version": "3.9.7"
  },
  "toc": {
   "base_numbering": 1,
   "nav_menu": {},
   "number_sections": true,
   "sideBar": true,
   "skip_h1_title": false,
   "title_cell": "Table of Contents",
   "title_sidebar": "Contents",
   "toc_cell": false,
   "toc_position": {},
   "toc_section_display": true,
   "toc_window_display": false
  }
 },
 "nbformat": 4,
 "nbformat_minor": 4
}
